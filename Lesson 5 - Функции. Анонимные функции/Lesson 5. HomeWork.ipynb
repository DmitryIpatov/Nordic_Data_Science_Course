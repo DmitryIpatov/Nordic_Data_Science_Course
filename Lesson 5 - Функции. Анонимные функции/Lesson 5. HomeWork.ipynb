{
 "cells": [
  {
   "cell_type": "markdown",
   "metadata": {},
   "source": [
    "# Задача 1\n",
    "\n",
    "Создать функцию (через `def`), которая принимает на вход два значения - длины противоположных сторон прямоугольника. Возвращать через `return` функция должна площадь прямоугольника. Вызвать функцию с различными значениями длин сторон."
   ]
  },
  {
   "cell_type": "code",
   "execution_count": 82,
   "metadata": {},
   "outputs": [],
   "source": [
    "def calculate_square(a, b):\n",
    "    if a <= 0 or b <= 0:\n",
    "        print ('Сторона прямоугольника не может быть меньше нуля или равна нулю')\n",
    "    else:\n",
    "        return round((a * b), 2)"
   ]
  },
  {
   "cell_type": "code",
   "execution_count": 83,
   "metadata": {},
   "outputs": [
    {
     "data": {
      "text/plain": [
       "12"
      ]
     },
     "execution_count": 83,
     "metadata": {},
     "output_type": "execute_result"
    }
   ],
   "source": [
    "calculate_square(4, 3)"
   ]
  },
  {
   "cell_type": "code",
   "execution_count": 84,
   "metadata": {},
   "outputs": [
    {
     "name": "stdout",
     "output_type": "stream",
     "text": [
      "Сторона прямоугольника не может быть меньше нуля или равна нулю\n"
     ]
    }
   ],
   "source": [
    "calculate_square(4, 0)"
   ]
  },
  {
   "cell_type": "code",
   "execution_count": 85,
   "metadata": {},
   "outputs": [
    {
     "data": {
      "text/plain": [
       "12.6"
      ]
     },
     "execution_count": 85,
     "metadata": {},
     "output_type": "execute_result"
    }
   ],
   "source": [
    "calculate_square(4.2, 3)"
   ]
  },
  {
   "cell_type": "markdown",
   "metadata": {},
   "source": [
    "# Задача 2\n",
    "\n",
    "Создать функцию, принимающую на вход список, содержащий целочисленные элементы. Найдите в списке медиану. Верните значение медианы с помощью `return`. Вызвать функцию несколько раз с различными списками на вход"
   ]
  },
  {
   "cell_type": "code",
   "execution_count": 138,
   "metadata": {},
   "outputs": [],
   "source": [
    "def median(lst):\n",
    "    \n",
    "    for i in lst:\n",
    "        if type(i) != int:\n",
    "            return 'список должен содержать целые числа'\n",
    "    \n",
    "    median = 0    \n",
    "    lst.sort()\n",
    "    if len(lst)%2 == 0: \n",
    "        med_index1 = int((len(lst)) / 2) - 1\n",
    "        med_index2 = int((len(lst)) / 2)\n",
    "        median = (lst[med_index1] + lst[med_index2]) / 2\n",
    "    else:\n",
    "        med_index = int((len(lst)) / 2)\n",
    "        median = (lst[med_index])\n",
    "        \n",
    "    return median"
   ]
  },
  {
   "cell_type": "code",
   "execution_count": 143,
   "metadata": {},
   "outputs": [
    {
     "data": {
      "text/plain": [
       "'список должен содержать целые числа'"
      ]
     },
     "execution_count": 143,
     "metadata": {},
     "output_type": "execute_result"
    }
   ],
   "source": [
    "median([22,  47, 78, 12.0, 34, 58, 79])"
   ]
  },
  {
   "cell_type": "code",
   "execution_count": 140,
   "metadata": {},
   "outputs": [
    {
     "data": {
      "text/plain": [
       "3"
      ]
     },
     "execution_count": 140,
     "metadata": {},
     "output_type": "execute_result"
    }
   ],
   "source": [
    "median([3, 2, 5, 1, 4])"
   ]
  },
  {
   "cell_type": "code",
   "execution_count": 141,
   "metadata": {},
   "outputs": [
    {
     "data": {
      "text/plain": [
       "1"
      ]
     },
     "execution_count": 141,
     "metadata": {},
     "output_type": "execute_result"
    }
   ],
   "source": [
    "median([1, 1, 2])"
   ]
  },
  {
   "cell_type": "code",
   "execution_count": 142,
   "metadata": {},
   "outputs": [
    {
     "data": {
      "text/plain": [
       "1"
      ]
     },
     "execution_count": 142,
     "metadata": {},
     "output_type": "execute_result"
    }
   ],
   "source": [
    "median([0, 0, 1, 5, 1, 10, 8])"
   ]
  },
  {
   "cell_type": "markdown",
   "metadata": {},
   "source": [
    "Пример работы\n",
    "\n",
    "`median([1, 1, 2]) => 1`  \n",
    "`median([3, 2, 5, 1, 4]) => 3`  \n",
    "`median([0, 0, 1, 5, 1, 10, 8]) => 1`"
   ]
  },
  {
   "cell_type": "markdown",
   "metadata": {},
   "source": [
    "**Подсказки**  \n",
    "Можно использовать:"
   ]
  },
  {
   "cell_type": "code",
   "execution_count": 4,
   "metadata": {},
   "outputs": [
    {
     "name": "stdout",
     "output_type": "stream",
     "text": [
      "[1, 2, 3, 4, 5]\n"
     ]
    }
   ],
   "source": [
    "lst = [3, 2, 5, 1, 4]\n",
    "lst.sort()\n",
    "print(lst)"
   ]
  },
  {
   "cell_type": "markdown",
   "metadata": {},
   "source": [
    "`Медиана` - это \"середина\" выборки, т.е. в выборке должно быть одинаковое количество значений, меньше или равно и больше или равно, чем медиана. В примере [1, 1, 2] правильный ответ 1, т.к. есть еще одна 1-ца, которая меньше или равна 1-це и 2-ка, которая больше или равна 1-це."
   ]
  },
  {
   "cell_type": "markdown",
   "metadata": {},
   "source": [
    "# Задача 3\n",
    "\n",
    "Создать функцию, на вход ей передать список. Переставить соседние элементы списка местами в случае, если предшествующий элемент БОЛЬШЕ последующего. Вернуть получившийся список с помощью `return`.\n",
    "\n",
    "Пример:\n",
    "\n",
    "вход [3, 1, 2, 4, 6, 1] => результат [1, 3, 2, 4, 1, 6]\n",
    "\n",
    "**Внимание!** Может быть нечетное кол-во элементов в списке!"
   ]
  },
  {
   "cell_type": "code",
   "execution_count": 59,
   "metadata": {},
   "outputs": [],
   "source": [
    "def neighbors_replace(lst):\n",
    "    \n",
    "    import numpy as np\n",
    "    \n",
    "    if len(lst)%2 != 0:\n",
    "        lst.pop()\n",
    "\n",
    "    sections = len(lst) / 2\n",
    "    arr = np.array(lst)\n",
    "    divided_arr = np.split(arr, sections)\n",
    "    divided_arr\n",
    "\n",
    "\n",
    "    lst1 = []\n",
    "    for i in divided_arr:\n",
    "        lst1.append((list(i)))\n",
    "\n",
    "\n",
    "    # print (lst1)\n",
    "    for sublist in lst1:\n",
    "        if sublist[0] > sublist[1]:\n",
    "            sublist.reverse()\n",
    "\n",
    "\n",
    "    result = []\n",
    "   # print(lst1)\n",
    "    for i in lst1:\n",
    "        result.extend(i)\n",
    "\n",
    "    return result"
   ]
  },
  {
   "cell_type": "code",
   "execution_count": 60,
   "metadata": {},
   "outputs": [
    {
     "name": "stdout",
     "output_type": "stream",
     "text": [
      "[[3, 1], [2, 4], [6, 1]]\n",
      "[[1, 3], [2, 4], [1, 6]]\n"
     ]
    },
    {
     "data": {
      "text/plain": [
       "[1, 3, 2, 4, 1, 6]"
      ]
     },
     "execution_count": 60,
     "metadata": {},
     "output_type": "execute_result"
    }
   ],
   "source": [
    "sublist_replace([3, 1, 2, 4, 6, 1])"
   ]
  },
  {
   "cell_type": "markdown",
   "metadata": {},
   "source": [
    "# Задача 4*\n",
    "\n",
    "**Внимание!** Решение данной задачи будет принято только в рекурсивном варианте!\n",
    "\n",
    "Вам необходимо объявить функцию, принимающую на вход одно число N.\n",
    "\n",
    "Выведите все числа от 1 до N.\n",
    "\n",
    "Функция должна работать рекурсивно, функция может ничего не возвращать, а только выводить числа с помощью `print()`"
   ]
  },
  {
   "cell_type": "code",
   "execution_count": 57,
   "metadata": {},
   "outputs": [],
   "source": [
    "# def my_func(n):\n",
    "#     if n == 1:\n",
    "#         print (n)\n",
    "#     else:\n",
    "      \n",
    "            "
   ]
  },
  {
   "cell_type": "code",
   "execution_count": null,
   "metadata": {},
   "outputs": [],
   "source": []
  }
 ],
 "metadata": {
  "kernelspec": {
   "display_name": "Python 3",
   "language": "python",
   "name": "python3"
  },
  "language_info": {
   "codemirror_mode": {
    "name": "ipython",
    "version": 3
   },
   "file_extension": ".py",
   "mimetype": "text/x-python",
   "name": "python",
   "nbconvert_exporter": "python",
   "pygments_lexer": "ipython3",
   "version": "3.6.5"
  }
 },
 "nbformat": 4,
 "nbformat_minor": 2
}
