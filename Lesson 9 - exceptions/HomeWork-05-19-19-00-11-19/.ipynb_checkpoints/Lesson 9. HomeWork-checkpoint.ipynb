{
 "cells": [
  {
   "cell_type": "markdown",
   "metadata": {},
   "source": [
    "# Задача 1"
   ]
  },
  {
   "cell_type": "markdown",
   "metadata": {},
   "source": [
    "Реализовать генератор, который разворачивает объекты типа `list()`, `str()` и `tuple()`, переданные в него.\n",
    "\n",
    "Например, если передать в генератор список [3, 5, 6], то при итерировании он вернет элементы в следующем порядке: 6, 5, 4"
   ]
  },
  {
   "cell_type": "code",
   "execution_count": 1,
   "metadata": {},
   "outputs": [],
   "source": [
    "def gen(obj):\n",
    "    for i in range(1, len(obj) + 1):\n",
    "        yield obj[-i]"
   ]
  },
  {
   "cell_type": "code",
   "execution_count": 2,
   "metadata": {},
   "outputs": [
    {
     "name": "stdout",
     "output_type": "stream",
     "text": [
      "6\n",
      "5\n",
      "3\n"
     ]
    }
   ],
   "source": [
    "for i in gen([3,5,6]):\n",
    "    print(i)"
   ]
  },
  {
   "cell_type": "code",
   "execution_count": 3,
   "metadata": {},
   "outputs": [
    {
     "name": "stdout",
     "output_type": "stream",
     "text": [
      "6\n",
      "5\n",
      "3\n"
     ]
    }
   ],
   "source": [
    "for i in gen((3,5,6)):\n",
    "    print(i)"
   ]
  },
  {
   "cell_type": "code",
   "execution_count": 4,
   "metadata": {},
   "outputs": [
    {
     "name": "stdout",
     "output_type": "stream",
     "text": [
      "6\n",
      "5\n",
      "3\n"
     ]
    }
   ],
   "source": [
    "for i in gen('356'):\n",
    "    print(i)"
   ]
  },
  {
   "cell_type": "markdown",
   "metadata": {},
   "source": [
    "# Задача 2"
   ]
  },
  {
   "cell_type": "markdown",
   "metadata": {},
   "source": [
    "Вам дан двумерный массив"
   ]
  },
  {
   "cell_type": "code",
   "execution_count": 5,
   "metadata": {},
   "outputs": [],
   "source": [
    "import numpy as np"
   ]
  },
  {
   "cell_type": "code",
   "execution_count": 6,
   "metadata": {},
   "outputs": [],
   "source": [
    "a = np.array([[10, np.NaN, np.Inf, 3], [8, 10, -3, 1], \n",
    "              [1000, 0.5, 12, np.NaN], [1, 1, np.NaN, 3], \n",
    "              [0, np.Inf, 3, 3], [-1, -1, np.Inf, 10]], float)"
   ]
  },
  {
   "cell_type": "code",
   "execution_count": 7,
   "metadata": {},
   "outputs": [
    {
     "data": {
      "text/plain": [
       "array([[ 1.0e+01,      nan,      inf,  3.0e+00],\n",
       "       [ 8.0e+00,  1.0e+01, -3.0e+00,  1.0e+00],\n",
       "       [ 1.0e+03,  5.0e-01,  1.2e+01,      nan],\n",
       "       [ 1.0e+00,  1.0e+00,      nan,  3.0e+00],\n",
       "       [ 0.0e+00,      inf,  3.0e+00,  3.0e+00],\n",
       "       [-1.0e+00, -1.0e+00,      inf,  1.0e+01]])"
      ]
     },
     "execution_count": 7,
     "metadata": {},
     "output_type": "execute_result"
    }
   ],
   "source": [
    "a"
   ]
  },
  {
   "cell_type": "markdown",
   "metadata": {},
   "source": [
    "Ваша задача: \n",
    "1. С помощью встроенных в numpy средств подсчитать количество НЕ чисел (nan, inf) в каждой колонке. \n",
    "2. С помощью встроенных в numpy средств отфильтровать соответствующие колонки (где содержится хотя бы одно НЕ число).\n",
    "3. В дополнение, отфильтровать все строки, в которых содержится хотя бы одно НЕ число)."
   ]
  },
  {
   "cell_type": "code",
   "execution_count": 8,
   "metadata": {},
   "outputs": [
    {
     "name": "stdout",
     "output_type": "stream",
     "text": [
      "колонка 0: количество nan: 0, количество inf: 0\n",
      "колонка 1: количество nan: 1, количество inf: 1\n",
      "колонка 2: количество nan: 1, количество inf: 2\n",
      "колонка 3: количество nan: 1, количество inf: 0\n"
     ]
    }
   ],
   "source": [
    "for i in range(a.shape[1]):\n",
    "    column = a[:, i]\n",
    "    count_nan = np.isnan(column).sum()\n",
    "    count_inf = np.isinf(column).sum()\n",
    "    print ('колонка {}: количество nan: {}, количество inf: {}'.format(i, count_nan, count_inf))\n",
    "      "
   ]
  },
  {
   "cell_type": "code",
   "execution_count": 9,
   "metadata": {},
   "outputs": [
    {
     "name": "stdout",
     "output_type": "stream",
     "text": [
      "[[ 8. 10. -3.  1.]]\n"
     ]
    }
   ],
   "source": [
    "# В дополнение, отфильтровать все строки, в которых содержится хотя бы одно НЕ число)\n",
    "condition = np.all(~np.isnan(a), axis=1) & np.all(~np.isinf(a), axis=1)\n",
    "#print(condition)\n",
    "print(a[condition])"
   ]
  },
  {
   "cell_type": "code",
   "execution_count": 10,
   "metadata": {},
   "outputs": [
    {
     "name": "stdout",
     "output_type": "stream",
     "text": [
      "[[  10.    8. 1000.    1.    0.   -1.]]\n"
     ]
    }
   ],
   "source": [
    "# С помощью встроенных в numpy средств отфильтровать соответствующие колонки \n",
    "#(где содержится хотя бы одно НЕ число).\n",
    "x = a.transpose()\n",
    "condition_1 = np.all(~np.isnan(x), axis=1) & np.all(~np.isinf(x), axis=1)\n",
    "print(x[condition_1])\n"
   ]
  },
  {
   "cell_type": "markdown",
   "metadata": {},
   "source": [
    "# Задача 3"
   ]
  },
  {
   "cell_type": "markdown",
   "metadata": {},
   "source": [
    "В приложении `spi_matches.csv` вам предоставлены данные по футбольным матчам.  \n",
    "Вам необходимо считать файл стандартными средствами с помощью `open` или библиотеки `csv`  \n",
    "\n",
    "Загрузить ТОЛЬКО колонки с числовыми значениями в матрицу `numpy`\n",
    "Для колонок score1 и score2 (забитые голы командой хозяев и гостей) подсчитать среднее и медиану по всей выборке с помощью `numpy`. Выбор конкретной колонки так же необходимо реализовывать через средства `numpy`.\n",
    "Какая из команд забивает в среднем больше? Хозяева или гости?\n",
    "\n",
    "Отфильтровать матчи, в которых score1 == score2 (ничьи). Аналогично, подсчитать среднее и медиану кол-ва голов по выборке."
   ]
  },
  {
   "cell_type": "code",
   "execution_count": 11,
   "metadata": {},
   "outputs": [],
   "source": [
    "# import csv"
   ]
  },
  {
   "cell_type": "code",
   "execution_count": 51,
   "metadata": {},
   "outputs": [],
   "source": [
    "# with open('spi_matches.csv', 'r') as file:    \n",
    "#     matches = list(csv.reader(file))\n",
    "#     matches = np.array(matches[1:])\n",
    "    \n",
    "#date, league_id, league, team1,       team2,             spi1,  spi2,  prob1, prob2,probtie,proj_score1,proj_score2,importance1,importance2,score1,score2,xg1, xg2, nsxg1,nsxg2,adj_score1,adj_score2\n",
    "#2016-08-12,1843,French Ligue 1,Bastia,Paris Saint-Germain,51.16,85.68,0.0463,0.838, 0.1157,  0.91,      2.36,       32.4,       67.7,       0,     1,     0.97,0.63,0.43, 0.45, 0.0,       1.05\n"
   ]
  }
 ],
 "metadata": {
  "kernelspec": {
   "display_name": "Python 3",
   "language": "python",
   "name": "python3"
  },
  "language_info": {
   "codemirror_mode": {
    "name": "ipython",
    "version": 3
   },
   "file_extension": ".py",
   "mimetype": "text/x-python",
   "name": "python",
   "nbconvert_exporter": "python",
   "pygments_lexer": "ipython3",
   "version": "3.6.5"
  }
 },
 "nbformat": 4,
 "nbformat_minor": 2
}
