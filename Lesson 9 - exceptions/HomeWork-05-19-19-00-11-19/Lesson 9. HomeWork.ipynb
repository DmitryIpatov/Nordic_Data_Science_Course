{
 "cells": [
  {
   "cell_type": "markdown",
   "metadata": {},
   "source": [
    "# Задача 1"
   ]
  },
  {
   "cell_type": "markdown",
   "metadata": {},
   "source": [
    "Реализовать генератор, который разворачивает объекты типа `list()`, `str()` и `tuple()`, переданные в него.\n",
    "\n",
    "Например, если передать в генератор список [3, 5, 6], то при итерировании он вернет элементы в следующем порядке: 6, 5, 4"
   ]
  },
  {
   "cell_type": "code",
   "execution_count": 1,
   "metadata": {},
   "outputs": [],
   "source": [
    "def gen(obj):\n",
    "    for i in range(1, len(obj) + 1):\n",
    "        yield obj[-i]"
   ]
  },
  {
   "cell_type": "code",
   "execution_count": 2,
   "metadata": {},
   "outputs": [
    {
     "name": "stdout",
     "output_type": "stream",
     "text": [
      "6\n",
      "5\n",
      "3\n"
     ]
    }
   ],
   "source": [
    "for i in gen([3,5,6]):\n",
    "    print(i)"
   ]
  },
  {
   "cell_type": "code",
   "execution_count": 3,
   "metadata": {},
   "outputs": [
    {
     "name": "stdout",
     "output_type": "stream",
     "text": [
      "6\n",
      "5\n",
      "3\n"
     ]
    }
   ],
   "source": [
    "for i in gen((3,5,6)):\n",
    "    print(i)"
   ]
  },
  {
   "cell_type": "code",
   "execution_count": 4,
   "metadata": {},
   "outputs": [
    {
     "name": "stdout",
     "output_type": "stream",
     "text": [
      "6\n",
      "5\n",
      "3\n"
     ]
    }
   ],
   "source": [
    "for i in gen('356'):\n",
    "    print(i)"
   ]
  },
  {
   "cell_type": "markdown",
   "metadata": {},
   "source": [
    "# Задача 2"
   ]
  },
  {
   "cell_type": "markdown",
   "metadata": {},
   "source": [
    "Вам дан двумерный массив"
   ]
  },
  {
   "cell_type": "code",
   "execution_count": 5,
   "metadata": {},
   "outputs": [],
   "source": [
    "import numpy as np"
   ]
  },
  {
   "cell_type": "code",
   "execution_count": 6,
   "metadata": {},
   "outputs": [],
   "source": [
    "a = np.array([[10, np.NaN, np.Inf, 3], [8, 10, -3, 1], \n",
    "              [1000, 0.5, 12, np.NaN], [1, 1, np.NaN, 3], \n",
    "              [0, np.Inf, 3, 3], [-1, -1, np.Inf, 10]], float)"
   ]
  },
  {
   "cell_type": "code",
   "execution_count": 7,
   "metadata": {},
   "outputs": [
    {
     "data": {
      "text/plain": [
       "array([[ 1.0e+01,      nan,      inf,  3.0e+00],\n",
       "       [ 8.0e+00,  1.0e+01, -3.0e+00,  1.0e+00],\n",
       "       [ 1.0e+03,  5.0e-01,  1.2e+01,      nan],\n",
       "       [ 1.0e+00,  1.0e+00,      nan,  3.0e+00],\n",
       "       [ 0.0e+00,      inf,  3.0e+00,  3.0e+00],\n",
       "       [-1.0e+00, -1.0e+00,      inf,  1.0e+01]])"
      ]
     },
     "execution_count": 7,
     "metadata": {},
     "output_type": "execute_result"
    }
   ],
   "source": [
    "a"
   ]
  },
  {
   "cell_type": "markdown",
   "metadata": {},
   "source": [
    "Ваша задача: \n",
    "1. С помощью встроенных в numpy средств подсчитать количество НЕ чисел (nan, inf) в каждой колонке. \n",
    "2. С помощью встроенных в numpy средств отфильтровать соответствующие колонки (где содержится хотя бы одно НЕ число).\n",
    "3. В дополнение, отфильтровать все строки, в которых содержится хотя бы одно НЕ число)."
   ]
  },
  {
   "cell_type": "code",
   "execution_count": 8,
   "metadata": {},
   "outputs": [
    {
     "name": "stdout",
     "output_type": "stream",
     "text": [
      "колонка 0: количество nan: 0, количество inf: 0\n",
      "колонка 1: количество nan: 1, количество inf: 1\n",
      "колонка 2: количество nan: 1, количество inf: 2\n",
      "колонка 3: количество nan: 1, количество inf: 0\n"
     ]
    }
   ],
   "source": [
    "for i in range(a.shape[1]):\n",
    "    column = a[:, i]\n",
    "    count_nan = np.isnan(column).sum()\n",
    "    count_inf = np.isinf(column).sum()\n",
    "    print ('колонка {}: количество nan: {}, количество inf: {}'.format(i, count_nan, count_inf))\n",
    "      "
   ]
  },
  {
   "cell_type": "code",
   "execution_count": 9,
   "metadata": {},
   "outputs": [
    {
     "name": "stdout",
     "output_type": "stream",
     "text": [
      "[[ 8. 10. -3.  1.]]\n"
     ]
    }
   ],
   "source": [
    "# В дополнение, отфильтровать все строки, в которых содержится хотя бы одно НЕ число)\n",
    "condition = np.all(~np.isnan(a), axis=1) & np.all(~np.isinf(a), axis=1)\n",
    "#print(condition)\n",
    "print(a[condition])"
   ]
  },
  {
   "cell_type": "code",
   "execution_count": 12,
   "metadata": {},
   "outputs": [
    {
     "ename": "IndexError",
     "evalue": "boolean index did not match indexed array along dimension 0; dimension is 4 but corresponding boolean dimension is 6",
     "output_type": "error",
     "traceback": [
      "\u001b[0;31m---------------------------------------------------------------------------\u001b[0m",
      "\u001b[0;31mIndexError\u001b[0m                                Traceback (most recent call last)",
      "\u001b[0;32m<ipython-input-12-ed14cf118365>\u001b[0m in \u001b[0;36m<module>\u001b[0;34m()\u001b[0m\n\u001b[1;32m      2\u001b[0m \u001b[0;31m#(где содержится хотя бы одно НЕ число).\u001b[0m\u001b[0;34m\u001b[0m\u001b[0;34m\u001b[0m\u001b[0m\n\u001b[1;32m      3\u001b[0m \u001b[0mx\u001b[0m \u001b[0;34m=\u001b[0m \u001b[0ma\u001b[0m\u001b[0;34m.\u001b[0m\u001b[0mtranspose\u001b[0m\u001b[0;34m(\u001b[0m\u001b[0;34m)\u001b[0m\u001b[0;34m\u001b[0m\u001b[0m\n\u001b[0;32m----> 4\u001b[0;31m \u001b[0mprint\u001b[0m\u001b[0;34m(\u001b[0m\u001b[0mx\u001b[0m\u001b[0;34m[\u001b[0m\u001b[0mcondition\u001b[0m\u001b[0;34m]\u001b[0m\u001b[0;34m)\u001b[0m\u001b[0;34m\u001b[0m\u001b[0m\n\u001b[0m\u001b[1;32m      5\u001b[0m \u001b[0;31m#print(x[condition].transpose())\u001b[0m\u001b[0;34m\u001b[0m\u001b[0;34m\u001b[0m\u001b[0m\n",
      "\u001b[0;31mIndexError\u001b[0m: boolean index did not match indexed array along dimension 0; dimension is 4 but corresponding boolean dimension is 6"
     ]
    }
   ],
   "source": [
    "# С помощью встроенных в numpy средств отфильтровать соответствующие колонки \n",
    "#(где содержится хотя бы одно НЕ число).\n",
    "x = a.transpose()\n",
    "print(x[condition])\n",
    "#print(x[condition].transpose())"
   ]
  },
  {
   "cell_type": "code",
   "execution_count": null,
   "metadata": {},
   "outputs": [],
   "source": [
    "# надо разобраться с IndexError: boolean index did not match \n",
    "# indexed array along dimension 0; dimension is 6 but corresponding boolean dimension is 1\n",
    "# condition = np.all(~np.isnan(a), axis=0) & np.all(~np.isinf(a), axis=0)"
   ]
  },
  {
   "cell_type": "code",
   "execution_count": null,
   "metadata": {},
   "outputs": [],
   "source": []
  },
  {
   "cell_type": "markdown",
   "metadata": {},
   "source": [
    "# Задача 3"
   ]
  },
  {
   "cell_type": "code",
   "execution_count": null,
   "metadata": {},
   "outputs": [],
   "source": []
  },
  {
   "cell_type": "markdown",
   "metadata": {},
   "source": [
    "В приложении `spi_matches.csv` вам предоставлены данные по футбольным матчам.  \n",
    "Вам необходимо считать файл стандартными средствами с помощью `open` или библиотеки `csv`  \n",
    "\n",
    "Загрузить ТОЛЬКО колонки с числовыми значениями в матрицу `numpy`\n",
    "Для колонок score1 и score2 (забитые голы командой хозяев и гостей) подсчитать среднее и медиану по всей выборке с помощью `numpy`. Выбор конкретной колонки так же необходимо реализовывать через средства `numpy`.\n",
    "Какая из команд забивает в среднем больше? Хозяева или гости?\n",
    "\n",
    "Отфильтровать матчи, в которых score1 == score2 (ничьи). Аналогично, подсчитать среднее и медиану кол-ва голов по выборке."
   ]
  },
  {
   "cell_type": "code",
   "execution_count": 27,
   "metadata": {},
   "outputs": [],
   "source": [
    "import csv"
   ]
  },
  {
   "cell_type": "code",
   "execution_count": 32,
   "metadata": {},
   "outputs": [],
   "source": [
    "with open('spi_matches.csv', 'r') as f:\n",
    "    matches = list(csv.reader(f)) \n",
    "    matches = np.array(matches[1:])"
   ]
  },
  {
   "cell_type": "code",
   "execution_count": 33,
   "metadata": {},
   "outputs": [
    {
     "ename": "TypeError",
     "evalue": "ufunc 'isfinite' not supported for the input types, and the inputs could not be safely coerced to any supported types according to the casting rule ''safe''",
     "output_type": "error",
     "traceback": [
      "\u001b[0;31m---------------------------------------------------------------------------\u001b[0m",
      "\u001b[0;31mTypeError\u001b[0m                                 Traceback (most recent call last)",
      "\u001b[0;32m<ipython-input-33-78dd83fddb9d>\u001b[0m in \u001b[0;36m<module>\u001b[0;34m()\u001b[0m\n\u001b[1;32m      1\u001b[0m \u001b[0mmatches\u001b[0m\u001b[0;34m\u001b[0m\u001b[0m\n\u001b[0;32m----> 2\u001b[0;31m \u001b[0mnp\u001b[0m\u001b[0;34m.\u001b[0m\u001b[0misfinite\u001b[0m\u001b[0;34m(\u001b[0m\u001b[0mmatches\u001b[0m\u001b[0;34m)\u001b[0m\u001b[0;34m\u001b[0m\u001b[0m\n\u001b[0m",
      "\u001b[0;31mTypeError\u001b[0m: ufunc 'isfinite' not supported for the input types, and the inputs could not be safely coerced to any supported types according to the casting rule ''safe''"
     ]
    }
   ],
   "source": [
    "matches\n"
   ]
  },
  {
   "cell_type": "code",
   "execution_count": null,
   "metadata": {},
   "outputs": [],
   "source": []
  }
 ],
 "metadata": {
  "kernelspec": {
   "display_name": "Python 3",
   "language": "python",
   "name": "python3"
  },
  "language_info": {
   "codemirror_mode": {
    "name": "ipython",
    "version": 3
   },
   "file_extension": ".py",
   "mimetype": "text/x-python",
   "name": "python",
   "nbconvert_exporter": "python",
   "pygments_lexer": "ipython3",
   "version": "3.6.5"
  }
 },
 "nbformat": 4,
 "nbformat_minor": 2
}
