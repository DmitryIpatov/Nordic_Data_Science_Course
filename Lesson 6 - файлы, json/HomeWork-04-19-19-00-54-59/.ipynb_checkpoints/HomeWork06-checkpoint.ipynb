{
 "cells": [
  {
   "cell_type": "markdown",
   "metadata": {},
   "source": [
    "# Задача 1\n",
    "\n",
    "Вместе с данным файлом к заданию приложен файл `TechCrunchcontinentalUSA.csv`. В нем содержится информация о финансировании компаний в США.\n",
    "\n",
    "Вам нужно:\n",
    "1. Считать данный файл из python.\n",
    "2. Посчитать сумму вложенных средств для каждой компании в отдельности.\n",
    "3. Вывести ТОП-5 компаний с наибольшим финансированием.\n",
    "\n",
    "Информация о финансировании в колонке raisedAmt, информация о наименовании компании в колонке company"
   ]
  },
  {
   "cell_type": "code",
   "execution_count": 1,
   "metadata": {},
   "outputs": [],
   "source": [
    "import csv"
   ]
  },
  {
   "cell_type": "code",
   "execution_count": 91,
   "metadata": {},
   "outputs": [
    {
     "name": "stdout",
     "output_type": "stream",
     "text": [
      "{'Clickability': 3500000, 'Blurb': 12000000, 'Zooomr': 50000, 'eXpresso': 2000000, 'Fortisphere': 10000000, 'Mill River Labs': 900000, 'Box.net': 7500000, 'Adify': 27000000, 'Central Desktop': 7000000, 'Me.dium': 15000000, 'Wink': 6200000, 'RayV': 8000000, 'Zillow': 87000000, 'CastTV': 3100000, 'Visible Measures': 19300000, 'Foneshow': 1075000, 'KIT digital': 20000000, 'Ancestry.com': 33200000, 'Peerflix': 10000000, 'B-hive Networks': 7000000, 'Outspark': 15000000, 'iControl': 20500000, 'Datran Media': 60000000, 'vbs tv': 10000000, 'Akimbo': 39700000, 'uTest': 2300000, 'Spiceworks': 8000000, 'EyeJot': 1150000, 'Crunchyroll': 4050000, 'Project Playlist': 3000000, 'neoSaej': 7000000, 'eduFire': 400000, 'Dimdim': 8400000, 'iSkoot': 13200000, 'TripIt': 1000000, 'LiveOps': 50000000, 'ChannelAdvisor': 55000000, 'Zattoo': 10000000, 'AccountNow': 12750000, 'PicksPal': 3000000, 'VISUALPLANT': 500000, 'rVita': 1000000, 'Mixercast': 8600000, 'Balihoo': 5500000, 'PayPerPost': 10000000, 'Weebly': 650000, 'OrganizedWisdom': 2300000, 'PluggedIn': 2000000, 'Yelp': 31000000, 'Plastic Logic': 195700000, 'Navic Networks': 42000000, 'JibJab': 3000000, 'Nile Guide': 8000000, 'ChaCha': 16000000, 'Socializr': 1500000, 'WrapMail': 1100000, 'Mix & Meet': 400000, 'GenArts': 22400000, 'Clupedia': 1300000, 'LaunchBox': 250000, 'Chumby': 17500000, 'Cosential': 250000, 'Modern Feed': 3000000, 'The Feedroom': 12000000, 'Ripl': 4500000, 'Zannel': 10000000, 'EdgeCast': 10000000, 'Tutor': 13500000, 'Meetup': 15600000, 'PlaySpan': 6500000, 'Droplet Technology': 3500000, 'Revision3': 9000000, 'eHarmony': 113000000, 'Posterous': 15000, 'Jangl': 7000000, 'Parascale': 11370000, 'Slacker': 53500000, 'Sometrics': 1000000, 'Ask.com': 25000000, 'Presdo': 35000, 'Curse': 5000000, 'DeviceVM': 20000000, 'Terabitz': 10000000, 'LinkedIn': 80500000, 'Lumos Labs': 3400000, 'Pingg': 1300000, 'Mint': 17025000, 'Sylantro': 70500000, 'Spire': 9000000, 'WhitePages.com': 45000000, 'Vlingo': 20000000, 'JackBe': 9500000, 'Cutcaster': 150000, 'SiBEAM': 77250000, 'Batanga': 35000000, 'SilkRoad technology': 64000000, 'Mogulus': 12700000, 'Wetpaint': 39750000, '5min': 5300000, 'Gridstone Research': 10000000, 'Unisfair': 10000000, 'GizmoProject': 6000000, 'Disqus': 500000, 'Booking Angel': 100000, 'BioWizard': 1000000, 'Appirio': 11100000, 'Zango': 40000000, 'MocoSpace': 3000000, 'Vidshadow': 2000000, 'coolearth': 22000000, 'Infusionsoft': 9000000, 'SocialVibe': 4200000, 'Brightkite': 1015000, 'Ooyala': 8500000, 'Coverity': 22000000, 'Become': 25500000, 'Pixim': 32100000, 'Judys Book': 10500000, 'Yodlee': 35000000, 'A123Systems': 100000000, 'RescueTime': 20000, 'Anvato': 550000, 'Geezeo': 1200000, 'Firefly Energy': 29000000, 'Covestor': 7500000, 'MyCityFaces': 50000, 'PlayFirst': 21500000, 'SezWho': 1000000, 'ffwd': 1700000, 'Someecards': 350000, 'Earth Class Mail': 13300000, 'Sparkplay Media': 4250000, 'Three Rings': 3500000, 'Revolution Money': 50000000, 'Datapipe': 75000000, 'Zazzle': 46000000, 'Styky': 100000, 'Fora.TV': 4000000, 'SlideShare': 3000000, 'Ifbyphone': 1500000, 'Eyeblaster': 38000000, 'MFG': 44000000, 'Mashery': 2000000, 'Mefeedia': 250000, 'OnForce': 21750000, 'Newsvine': 1250000, 'Credit Karma': 750000, '23andMe': 9000000, 'Zoji': 1500000, 'Boomi': 4000000, 'MarketLive': 20000000, 'Action Engine': 58200000, 'AmericanTowns.com': 4400000, 'rPath': 25500000, '4HomeMedia': 2850000, 'Delivery Agent': 35000000, 'Labmeeting': 500000, 'Amobee': 20000000, 'Mobixell': 6000000, 'Moxsie': 1000000, 'app2you': 432000, 'Symplified': 6000000, 'Pontiflex': 2500000, 'Lending Club': 12260000, 'trueAnthem': 2000000, 'Small World Labs': 1000000, 'PayScale': 20500000, 'Shangby': 1000000, 'AdaptiveBlue': 1500000, 'Meraki': 25000000, 'Outside.in': 5400000, 'Technorati': 25520000, 'Gotuit Media': 16000000, 'Instagarage': 25000, 'CinemaNow': 11000000, 'Sense Networks': 3000000, 'FameCast': 4500000, 'Katalyst Media': 10000000, 'Bebo': 15000000, 'Piczo': 11000000, 'Filtrbox': 515000, 'Challenge Games': 4500000, 'Veotag': 750000, 'ShoutWire': 500000, 'Xobni': 4352000, 'Apprema': 800000, 'GamerDNA': 3000000, 'fatdoor': 7000000, 'Eventful': 9600000, 'Good Data': 2000000, 'YourStreet': 250000, 'divorce360': 2500000, 'Rollbase': 400000, 'Lookery': 900000, 'MOLI': 29600000, 'Bazaarvoice': 19900000, 'JotSpot': 5200000, 'Marin Software': 9250000, 'Caring.com': 6000000, 'Zimbra': 14500000, 'Greystripe': 8900000, 'Instinctiv': 750000, 'ChessPark': 1000000, 'Dreamfactory': 5800000, 'GameLayers': 500000, 'nextbio': 7000000, 'Vizu': 3900000, 'Solarflare': 26000000, 'deviantART': 3500000, 'SpaBoom': 1300000, 'Rally Software': 24850000, 'Pageflakes': 1300000, 'Undertone Networks': 40000000, 'Dizzywood': 1000000, 'CrossLoop': 3000000, 'Jobster': 52500000, 'Respectance': 1750000, 'Intent': 250000, 'Trulia': 32800000, 'GrubHub': 1100000, 'StumbleUpon': 1500000, 'mTraks': 550000, 'Tesla Motors': 145500000, 'Flixster': 7000000, 'SnapLayout': 650000, 'Entone Technologies': 24000000, 'Knewton': 2500000, 'Pluck': 15500000, 'DGP Labs': 4750000, 'Moblyng': 7230000, 'CellSpin': 1100000, 'Mevio': 38900000, 'Smalltown': 4000000, 'Coupa': 7500000, 'ShowClix': 400000, 'GoCrossCampus': 375000, 'Songbird': 8000000, 'SmartSheet': 2690000, 'x+1': 16000000, 'Pandora': 21300000, 'Xora': 15000000, 'bluepulse': 6000000, 'Minted': 2500000, 'Reality Digital': 8300000, 'Collective Intellect': 9200000, 'Boonty': 10000000, 'Infinia': 66500000, 'Myrio': 20500000, 'BlackArrow': 26750000, 'GoldSpot Media': 3000000, 'HubSpot': 17500000, 'Minekey': 3000000, 'TotalTakeout': 150000, 'OLX': 23500000, 'Lala': 9000000, 'World Vital Records': 1200000, 'Health Plan One': 6500000, 'JackPot Rewards': 16700000, 'OpenTable': 48000000, 'tubemogul': 1500000, 'FixYa': 8000000, 'Qik': 3000000, 'eSolar': 140000000, 'Docstoc': 4000000, 'Keibi Technologies': 5000000, 'SelectMinds': 5500000, 'Acinion': 21000000, 'Fifth Generation Systems': 10550000, 'StartForce': 1000000, 'Retail Convergence': 25000000, 'Numobiq': 4500000, 'TeachStreet': 2250000, 'crowdSPRING': 3000000, 'InGrid': 29700000, 'Shozu': 24000000, 'Boardwalktech': 500000, 'AdReady': 10000000, 'Qumu': 10700000, 'Answers Corporation': 45410000, 'Jajah': 28000000, 'GoingOn': 1000000, 'Motionbox': 11200000, 'Zivity': 8000000, 'Woot': 4000000, 'International Liars Poker Association': 1250000, 'Cooliris': 3000000, 'BrightDoor Systems': 200000, 'Broadband Enterprises': 10000000, 'comScore': 35000000, 'Triggit': 850000, 'BuzzDash': 1200000, 'Snapfish': 43500000, 'Buzzwire': 8000000, 'Specificmedia': 110000000, 'LoudClick': 600000, 'Intacct': 29000000, 'Infinity Box': 118000, 'Tastemakers': 1000000, 'Yield Software': 6000000, '3Jam': 4000000, 'HelioVolt': 77000000, 'Radar Networks': 18000000, 'eXelate': 4000000, 'Digital Chocolate': 21400000, 'VentureBeat': 320000, 'CleverSet': 3100000, 'SugarCRM': 41020000, 'freebase': 57500000, 'EnergyWeb Solutions': 100000, 'Zvents': 7200000, 'Wikimedia Foundation': 3000000, 'Art.com': 30000000, 'beRecruited': 1200000, 'Omnidrive': 800000, 'Tumblr': 750000, 'CHIC.TV': 500000, 'Google': 25000000, 'Wavemaker Software': 4500000, 'samfind': 20000, 'Move Networks': 91300000, 'Dilithium Networks': 61000000, 'Spoke': 20900000, 'BrightRoll': 5000000, 'Verimatrix': 13000000, 'Compete': 23000000, 'Frengo': 8000000, 'BrightQube': 200000, 'Zuora': 6500000, 'LiveMocha': 6000000, 'GridNetworks': 9500000, 'The Point': 7300000, 'TrustedID': 15000000, 'Mozilla': 2000000, 'DocuSign': 22400000, 'J Squared Media': 15000, 'Demand Media': 355000000, 'eJamming': 150000, 'Smaato': 3500000, 'Going': 5000000, 'EchoSign': 6000000, 'Rebel Monkey': 1000000, 'SwapDrive': 4650000, 'Handipoints': 800000, 'Slingpage': 2250000, 'Boston Power': 68600000, 'GenieTown': 2000000, 'Row44': 21000000, 'NeoEdge Networks': 3000000, 'Sampa': 1310000, 'mpire': 19800000, 'TrialPay': 12700000, \"Center'd\": 7000000, 'DriftToIt': 300000, 'Aggregate Knowledge': 25000000, 'Multiply': 21600000, 'Intronis': 5000000, 'MerchantCircle': 10000000, 'Daylife': 8300000, 'Pageonce': 1500000, 'Screaming Sports': 1250000, 'Retrevo': 11900000, 'Cafepress': 15500000, 'Spotplex': 450000, 'litescape': 14000000, 'Loladex': 350000, 'Wesabe': 4700000, 'Billeo': 11000000, 'Service-now.com': 7500000, 'HotPads': 2300000, 'Mixx': 3500000, 'TournEase': 3500000, 'AdMob': 15000000, 'Jingle Networks': 74400000, 'Mobissimo': 1000000, 'InMage Systems': 10000000, 'Mogad': 500000, 'Veoh': 69750000, 'PureVideo Networks': 8450000, 'GotVoice': 3000000, 'Kiptronic': 7300000, 'PeerMe': 5000000, 'Attributor': 22000000, 'Gigya': 12500000, 'Bill Me Later': 27400000, 'Edgeio': 5000000, 'iBiz Software': 250000, 'Flock': 28300000, 'Spock': 7000000, 'flurry': 3500000, 'Cloud9 Analytics': 5000000, 'Media Lantern': 250000, 'Visible Technologies': 15500000, 'Consorte Media': 7000000, 'InThrMa': 10000, 'FlowPlay': 4200000, 'Get Satisfaction': 1300000, 'UGOBE': 8000000, 'richrelevance': 4200000, 'Sphere': 3500000, 'Kongregate': 9000000, 'FriendFeed': 5000000, 'Aeria': 288000, 'Aster Data Systems': 6000000, 'Mozy': 3800000, 'Click Forensics': 15000000, 'TeleFlip': 4900000, 'Greenplum': 61000000, 'kwiry': 1000000, 'Global Grind': 4500000, 'Lehigh Technologies': 34500000, 'Peer39': 11700000, 'Invensense': 19000000, 'Brightcove': 91100000, 'PhotoCrank': 250000, 'Pivot': 13000000, 'Grid Networks': 20000000, 'MeeVee': 25000000, 'ProgrammerMeetDesigner.com': 500000, 'Perfect Market': 15600000, 'Paymo': 5000000, 'Elastra': 2600000, 'Me': 1500000, 'mediaFORGE': 1500000, '750 Industries': 1000000, 'Rupture': 3000000, 'SAVO': 10000000, 'Acquia': 7000000, 'XunLight': 22000000, 'BuddyTV': 9050000, 'Kyte': 23350000, 'Mercent Corporation': 6500000, 'TravelMuse': 3000000, 'Powerset': 12500000, 'Slide': 58000000, 'Digital Railroad': 15200000, 'Teach The People': 300000, 'Scribd': 3762000, 'MySQL': 38000000, 'Next New Networks': 23000000, 'Tagged': 23500000, 'Accertify': 4000000, 'Jott': 5400000, 'EventVue': 265000, 'GreenNote': 4200000, 'YourTrumanShow': 1300000, 'Guardian Analytics': 4500000, 'Azuki Systems': 6000000, 'Conduit': 9800000, 'Gizmoz': 12800000, 'Urban Mapping': 400000, 'Meebo': 37500000, 'Shopflick': 8000000, 'DanceJam': 4500000, 'MoGreet': 3700000, 'Jigsaw': 17950000, 'deca.tv': 5000000, 'Vudu': 21000000, 'The Auteurs': 750000, 'Codefast': 6500000, 'Glassdoor': 3000000, 'SideStep': 32000000, 'RotoHog': 6000000, 'Media6¡': 2000000, 'Bungee Labs': 8000000, 'Quattro Wireless': 18300000, 'Mumboe': 4500000, 'RevenueScience': 24000000, 'HAM-IT': 340000, 'Visible Path': 24700000, 'Mzinga': 32500000, 'Yap': 8000000, 'Fonemesh': 250000, 'SeeToo': 1000000, 'Cooking.com': 88000000, 'Grouply': 2600000, 'Spot Runner': 101000000, 'CashView': 6500000, 'Dapper': 3000000, 'Turbine': 70000000, 'Optaros': 32000000, 'RedLasso': 6500000, 'Atom Shockwave': 22900000, 'MyBuys': 12800000, 'Footnote': 8000000, 'CondoDomain': 300000, 'Eurekster': 6850000, 'Pudding Media': 8000000, 'Kaltura': 2100000, 'Kosmix': 10000000, 'Mochi Media': 14000000, 'Clarizen': 9000000, 'ImageSpan': 11000000, 'Avail Media': 42000000, 'Hyperic': 3800000, 'Snapvine': 12000000, 'Grouptivity': 2000000, 'Habit Industries': 15000, 'WeShow': 5000000, 'Visible World': 33000000, 'Clearwell Systems': 17000000, 'Brilliant Telecom': 11000000, 'Fave Media': 1600000, 'Aurora Biofuels': 20000000, 'Genius': 34100000, 'YouTube': 11500000, 'Adotube': 1230000, 'Zynga': 39000000, 'Eons': 32000000, 'Graspr': 2500000, 'Ntractive': 570000, 'MPTrax': 350000, 'OurStory': 6300000, 'Mad Mimi': 200000, 'Metacafe': 45000000, 'IGA Worldwide': 42000000, 'SimpleTuition': 11900000, 'BitTorrent': 33750000, 'Media Machines': 9400000, 'Allvoices': 4500000, 'MeetMoi': 1500000, 'ThisNext': 7500000, 'Topix': 15000000, 'gAuto': 250000, 'Cozi': 11000000, 'Social Media': 4000000, 'Photobucket': 13500000, 'Appian': 10000000, 'Lijit': 4200000, 'Entrecard': 70000, 'Ozmo Devices': 12550000, 'XAware': 9500000, 'hubbuzz': 750000, 'Mercora': 5000000, 'Cogent': 510000, 'fabrik': 51300000, 'BitPass': 13300000, 'TicketsNow': 34000000, 'Synthasite': 5000000, 'Kontera': 17300000, 'Jaxtr': 21500000, 'Smilebox': 12000000, 'mBlox': 64500000, 'Gydget': 1000000, 'FeedBurner': 8000000, 'Mimeo': 25000000, 'Gnip': 1100000, 'Social Median': 500000, 'Yodio': 850000, 'RocketOn': 5800000, 'LiveDeal': 4900000, 'Viewpoints': 5000000, 'Better World Books': 4500000, 'HEXIO': 20000, 'Pando': 31900000, 'SearchMe': 43600000, 'Kluster': 1000000, 'Limeade': 1000000, 'Anchor Intelligence': 6000000, 'Switch2Health': 200000, 'Reunion': 25000000, 'uber': 7600000, 'Pinger': 8000000, 'ZeniMax': 309900000, 'CarDomain Network': 3000000, 'YouCastr': 100000, 'Phanfare': 4500000, 'Strands': 55000000, 'madKast': 315000, 'ExpertFlyer': 30000, 'Agilis Systems': 5000000, 'hi5': 35000000, 'Phonezoo': 2060000, 'PixSense': 7400000, 'ResponseLogix': 8000000, 'Juice Wireless': 15300000, 'Sirtris Pharmaceuticals': 77000000, 'VisualCV': 2000000, 'Zinio': 7000000, 'ScanScout': 9000000, 'drop.io': 3950000, 'TeamStreamz': 80000, 'LifeLock': 37850000, 'Socialthing!': 515000, 'LiquidPlanner': 1200000, 'Trusera': 2000000, 'SodaHead': 12650000, 'hulu': 100000000, 'Funny Or Die': 15000000, 'iovation': 15000000, 'Metaweb Technologies': 42000000, 'Freewebs': 12000000, 'LicketyShip': 1500000, 'imageshack': 10000000, 'Social Gaming Network': 15000000, 'Lithium Technologies': 21000000, 'Support Space': 4250000, 'CarbonFlow': 2900000, 'HiveLive': 7800000, 'Intelliworks': 20000000, 'Federated Media': 54500000, 'SimplyHired': 16500000, 'Scintella Solutions': 10000, 'Snooth': 1300000, 'Fyreball': 1000000, 'mEgo': 3100000, 'CareFlash': 600000, 'Qwaq': 7000000, 'Cdigix': 4000000, 'Vantage Media': 70000000, 'Flypaper': 3000000, 'iPling :))': 300000, 'Crackle': 1750000, 'Vtap': 14000000, 'PayPal': 194000000, 'Healthline': 35000000, 'Multiverse': 5025000, 'utoopia': 100000, 'OverSee': 210000000, 'Danger': 108000000, 'Alerts.com': 1200000, 'Tremor Media': 19400000, 'Clickpass': 20000, 'MatchMine': 10000000, 'RockYou': 52500000, 'SkyGrid': 11000000, 'Delve Networks': 9650000, 'Limbo': 8000000, 'Jobvite': 7200000, 'Bubble Motion': 24000000, 'Tagworld': 47500000, 'Netcipia': 200000, 'Ribbit': 13000000, 'TwoFish': 5000000, 'iRise': 20000000, 'Grockit': 10300000, 'FilmLoop': 5600000, 'On Networks': 16000000, 'GarageGames': 50000000, 'Outbrain': 6000000, 'Buxfer': 315000, 'Tangler': 1500000, 'Remixation': 1000000, 'RooftopComedy': 2500000, 'TalkPlus': 5500000, 'introNetworks': 2700000, 'Blog Talk Radio': 4600000, 'Ausra': 40000000, 'Coremetrics': 91000000, 'Redfin': 20770000, 'New Relic': 3500000, 'pbwiki': 2450000, 'Conduit Labs': 5500000, 'Doostang': 3500000, 'RealSelf': 1000000, 'eEye': 24000000, 'YouSendIt': 34000000, 'Vivaty': 9400000, 'Quickoffice': 21500000, 'Xoopit': 6500000, 'Jivox': 13400000, 'Predictify': 4300000, 'SendMe': 21000000, 'TheLadders': 7250000, 'Adconion Media Group': 80000000, 'Geni': 11500000, 'Fix8': 5000000, 'SupplyFrame': 7000000, 'GreatCall': 36600000, 'Searchles': 2000000, 'Parature': 29500000, 'Paxfire': 2100000, 'SpiralFrog': 2000000, 'Gaia': 31930000, 'RoboDynamics': 600000, 'Astaro': 12900000, 'Vuze': 32000000, 'Ning': 104000000, 'Funambol': 25000000, 'Colizer': 120000, 'Jobfox': 40000000, 'Cognition Technologies': 2700000, 'Adap.tv': 10000000, 'Facebook': 495700000, 'PhoneTag': 5700000, 'Tokbox': 14000000, 'Hyphen 8': 100000, 'Ciihui': 23500000, 'TargetSpot': 8600000, 'ContextWeb': 38000000, 'ON24': 8000000, 'Neocleus': 11000000, 'CriticalMetrics': 100000, 'Teneros': 84500000, 'BlueLithium': 11500000, 'Kaboodle': 5000000, 'Pangea Media': 1000000, 'Zend Technologies': 28000000, 'Sleep.FM': 15000, 'MuseStorm': 1000000, 'Your Survival': 350000, 'Pelago': 22400000, 'Compendium Blogware': 2700000, 'V-Enable': 9750000, 'RiverWired': 1500000, 'Fynanz': 500000, 'Redux': 8150000, 'Tapulous': 1800000, 'NewsGator': 22000000, 'Glam Media': 114600000, 'GodTube': 30000000, 'Break': 21400000, 'FlickIM': 1600000, 'Zeer': 1050000, 'Digg': 11300000, 'Search to Phone': 15000, 'Swivel': 2000000, 'Eye-Fi': 5500000, 'Collarity': 7800000, 'Insider Pages': 8500000, 'SayNow': 7500000, 'DailyStrength': 4000000, 'IMVU': 1000000, 'FusionOps': 4000000, 'NeuroVigil': 250000, 'Inkling': 20000, 'Frame Media': 5000000, 'Quigo': 5000000, 'Snap Technologies': 10000000, 'MyThings': 8000000, 'YooNew': 2000000, 'InsideView': 7400000, 'Zecter': 15000, 'OrderMotion': 1400000, 'Interneer': 3200000, 'Taltopia': 800000, 'obopay': 66000000, 'VMIX Media': 21500000, 'YieldBuild': 6000000, 'ooma': 26000000, 'Leverage Software': 6000000, 'mywaves': 6000000, 'Nirvanix': 18000000, 'Revver': 12700000, 'YuMe': 9000000, 'Vitrue': 12200000, 'Waterfront Media': 43000000, 'Indeed': 5000000, 'Plaxo': 28300000, 'PodTech': 7500000, 'Estately': 450000, 'RazorGator': 48800000, 'Sharpcast': 16500000, 'Mozes': 16500000, 'HealthCentral': 50000000, 'Haute Secure': 500000, 'TurnHere': 8600000, 'TicketLeap': 2000000, 'oDesk': 29000000, 'Bunchball': 6000000, 'WebMynd': 250000, 'seesmic': 12000000, 'Socialtext': 12900000, 'GumGum': 1225000, 'M:Metrics': 7000000, 'Nanosolar': 95000000, 'Yapta': 3000000, 'Kapow Technologies': 16700000, 'PopularMedia': 12250000, 'Heavy.com': 3000000, 'Mahalo': 21000000, 'Loomia': 6000000, 'Jive Software': 15000000, 'SellPoint': 7000000, 'Fluid Entertainment': 3200000, 'Care.com': 3100000, 'Confabb': 200000, 'Viv’simo': 5660000, 'SEOMoz': 1250000, 'Farecast': 20600000, 'Giga Omni Media': 325000, 'PermissionTV': 9000000, 'Six Apart': 22600000, 'Experience Project': 3000000, 'Surf Canyon': 850000, 'OpenDNS': 2000000, 'Seeqpod': 7000000, 'Evernote': 9000000, 'MOG': 4600000, 'Coveo': 2500000, 'Votigo': 1265000, 'Affinity Internet': 85000000, 'ScribeStorm': 225000, 'PrepChamps': 1200000, 'Thoof': 1000000, 'JAD Tech Consulting': 125000, 'BuzzNet': 31000000, 'Memeo': 8100000, 'Payoneer': 8000000, 'Rubicon Project': 21000000, 'Sermo': 37500000, 'SquareTrade': 9400000, 'GoodReads': 750000, 'Ustream': 13100000, 'Info': 8400000, 'Vindicia': 5600000, 'Skyfire': 17800000, 'Bountii': 15000, 'Danal': 9500000, 'Causes': 7350000, 'QponDirect': 300000, 'Exinda': 6000000, 'Passenger': 20500000, 'ChoiceStream': 61600000, 'Wize': 4000000, 'Widgetbox': 14500000, 'Zigabid': 1000000, 'Novint': 5200000, 'Clearspring': 36000000, 'Authenticlick': 5000000, 'Platial': 3400000, 'Engine Yard': 18500000, 'WeatherBill': 12600000, 'RatePoint': 6500000, 'Quantenna': 12700000, 'Oodle': 16000000, 'PubMatic': 7000000, 'Automattic': 30600000, 'Aductions': 100000, 'Sling Media': 14500000, 'Veodia': 8300000, 'VMware': 150000000, 'AllBusiness.com': 22400000, 'Mochila': 8000000, 'GROU.PS': 1100000, 'PLYmedia': 8500000, 'Fathom Online': 6000000, 'Zing': 13000000, 'Tizra': 500000, 'JellyCloud': 6600000, 'Blowtorch': 50000000, 'Aria Systems': 4000000, 'AdBrite': 35000000, 'Friendster': 45400000, 'UpDown': 750000, 'Eventbrite': 100000, 'Kayak': 214500000, 'Heroku': 3020000, 'Loopt': 8256000, 'BountyJobs': 12000000, 'Heysan': 20000, 'Silicon Alley Insider': 900000, 'PowerReview': 21250000, 'WorkLight': 17100000, 'SnapLogic': 2500000, 'CircleUp': 3000000, 'Realius': 500000, 'GridPoint': 84000000, 'Treemo': 2550000, 'SlideRocket': 2000000, 'Trunkt': 350000, 'Aliph': 5000000, 'VirtualLogix': 16000000, 'xkoto': 7500000, 'UpTake': 4000000, 'Associated Content': 15400000, 'Thumbplay': 18000000, 'iLike': 15800000, 'Twitter': 20400000, 'Etsy': 31565000, 'Voltaix': 12500000, 'RingCentral': 24000000, 'Dogster': 1000000, 'Scanbuy': 15800000, 'SpendView': 2000000, 'Tiny Pictures': 11200000, 'Wishpot': 1000000, 'Prosper': 40000000, 'LimeLife': 18900000, 'Current Media': 15000000, 'EnterpriseDB': 37000000, 'Ideeli': 3800000, 'Hooja': 1250000, 'Gamook': 1500000, 'Carbonite': 26000000, 'Utterz': 4000000, 'Serious Business': 4000000, 'Reddit': 100000, 'Global Roaming': 30500000, 'Intense Debate': 15000, 'ChosenList.com': 373750, 'ZoomInfo': 14000000, 'Ad Infuse': 17000000, 'Gemini': 25000000, 'What They Like': 990000, 'Laszlo Systems': 20850000, 'Blist': 6500000, 'Sugar Inc': 15000000, 'TheFind': 26000000, 'Tripology': 1250000, 'Webaroo': 20000000, 'Rosum': 15000000, 'Live Gamer': 24000000, 'FortiusOne': 5450000, 'Wikia': 14000000, 'Affinity Circles': 5540000, 'BreakingPoint Systems': 15000000, 'Coghead': 11200000, 'Endeca': 55000000, 'CitizenHawk': 3000000}\n"
     ]
    }
   ],
   "source": [
    "arr = []\n",
    "with open ('TechCrunchcontinentalUSA.csv', 'r') as file:\n",
    "    reader = csv.reader(file)\n",
    "    for line in reader:\n",
    "        arr.append(line)\n",
    "arr.pop(0)\n",
    "companies = []\n",
    "for i in arr:\n",
    "    companies.append(i[1])\n",
    "   \n",
    "st = set(companies)\n",
    "dct = {}\n",
    "\n",
    "\n",
    "# Посчитать сумму вложенных средств для каждой компании в отдельности.\n",
    "\n",
    "for company in st:\n",
    "    sum = 0\n",
    "    for i in range(len(arr)):\n",
    "        if arr[i][1] == company:\n",
    "            sum = sum + int(arr[i][7])\n",
    "            dct.update({company : sum})\n",
    "print (dct)    \n",
    "\n",
    "    \n",
    "\n",
    "\n",
    "            "
   ]
  },
  {
   "cell_type": "code",
   "execution_count": 92,
   "metadata": {},
   "outputs": [
    {
     "data": {
      "text/plain": [
       "[('Facebook', 495700000),\n",
       " ('Demand Media', 355000000),\n",
       " ('ZeniMax', 309900000),\n",
       " ('Kayak', 214500000),\n",
       " ('OverSee', 210000000)]"
      ]
     },
     "execution_count": 92,
     "metadata": {},
     "output_type": "execute_result"
    }
   ],
   "source": [
    "# Вывести ТОП-5 компаний с наибольшим финансированием. \n",
    "sorted_dict = sorted(dct.items(), key=lambda item: item[1], reverse=True)\n",
    "sorted_dict[:5]"
   ]
  },
  {
   "cell_type": "markdown",
   "metadata": {},
   "source": [
    "# Задача 2\n",
    "\n",
    "В статистике есть частоиспользуемая сигмоидальная функция, которая задается как:\n",
    "\n",
    "$$sigm = \\frac{1}{1 + e^{-x}}$$\n",
    "\n",
    "Вам необходимо: написать функцию (через `def`), которая принимала бы на вход $x$, а возвращала значение указанной функции. Реализовать её нужно с **использованием библиотеки `math`.**\n",
    "\n",
    "Затем, создать цикл с итерациями от -6 до 6 (включительно!). На каждой итерации вычислить значение функции $sigm$. В качестве $x$ передавать текущее значение итератора (от -6 до 6). Записать все получившиеся значения функции в отдельный список.\n",
    "\n",
    "Вывести список на экран."
   ]
  },
  {
   "cell_type": "code",
   "execution_count": 103,
   "metadata": {},
   "outputs": [],
   "source": [
    "import math"
   ]
  },
  {
   "cell_type": "code",
   "execution_count": 104,
   "metadata": {},
   "outputs": [],
   "source": [
    "def sigm(x):\n",
    "    n = 1/(1+math.e**-x)\n",
    "    return n\n",
    "    "
   ]
  },
  {
   "cell_type": "code",
   "execution_count": 105,
   "metadata": {},
   "outputs": [
    {
     "name": "stdout",
     "output_type": "stream",
     "text": [
      "[0.002472623156634775, 0.006692850924284857, 0.017986209962091562, 0.04742587317756679, 0.11920292202211757, 0.2689414213699951, 0.5, 0.7310585786300049, 0.8807970779778823, 0.9525741268224331, 0.9820137900379085, 0.9933071490757153, 0.9975273768433653]\n"
     ]
    }
   ],
   "source": [
    "arr = []\n",
    "\n",
    "for i in range(-6,7):\n",
    "    arr.append(sigm(i))\n",
    "    \n",
    "print (arr)   "
   ]
  },
  {
   "cell_type": "code",
   "execution_count": null,
   "metadata": {},
   "outputs": [],
   "source": []
  }
 ],
 "metadata": {
  "kernelspec": {
   "display_name": "Python 3",
   "language": "python",
   "name": "python3"
  },
  "language_info": {
   "codemirror_mode": {
    "name": "ipython",
    "version": 3
   },
   "file_extension": ".py",
   "mimetype": "text/x-python",
   "name": "python",
   "nbconvert_exporter": "python",
   "pygments_lexer": "ipython3",
   "version": "3.6.5"
  }
 },
 "nbformat": 4,
 "nbformat_minor": 2
}
