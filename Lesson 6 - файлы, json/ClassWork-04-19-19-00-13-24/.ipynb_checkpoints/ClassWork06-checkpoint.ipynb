{
 "cells": [
  {
   "cell_type": "markdown",
   "metadata": {},
   "source": [
    "# Откроем файл на чтение"
   ]
  },
  {
   "cell_type": "code",
   "execution_count": 1,
   "metadata": {
    "collapsed": true
   },
   "outputs": [],
   "source": [
    "f = open('example.txt', 'r')"
   ]
  },
  {
   "cell_type": "markdown",
   "metadata": {},
   "source": [
    "# Откроем файл на запись. При этом создастся файл, если он до этого не сущестововал"
   ]
  },
  {
   "cell_type": "code",
   "execution_count": 2,
   "metadata": {
    "collapsed": true
   },
   "outputs": [],
   "source": [
    "f = open('example.txt', 'w')"
   ]
  },
  {
   "cell_type": "markdown",
   "metadata": {},
   "source": [
    "# Не забываем закрытьфайл"
   ]
  },
  {
   "cell_type": "code",
   "execution_count": 3,
   "metadata": {
    "collapsed": true
   },
   "outputs": [],
   "source": [
    "f.close()"
   ]
  },
  {
   "cell_type": "markdown",
   "metadata": {},
   "source": [
    "# Опять откроем этот же файл и запишем в него текст"
   ]
  },
  {
   "cell_type": "code",
   "execution_count": 1,
   "metadata": {
    "collapsed": true
   },
   "outputs": [],
   "source": [
    "f = open('example.txt', 'w')"
   ]
  },
  {
   "cell_type": "markdown",
   "metadata": {},
   "source": [
    "# Запись происходит с помощью метода `write()`"
   ]
  },
  {
   "cell_type": "code",
   "execution_count": 2,
   "metadata": {},
   "outputs": [
    {
     "data": {
      "text/plain": [
       "12"
      ]
     },
     "execution_count": 2,
     "metadata": {},
     "output_type": "execute_result"
    }
   ],
   "source": [
    "str_1 = 'Hello_world!'\n",
    "\n",
    "f.write(str_1)"
   ]
  },
  {
   "cell_type": "code",
   "execution_count": 6,
   "metadata": {
    "collapsed": true
   },
   "outputs": [],
   "source": [
    "f.close()"
   ]
  },
  {
   "cell_type": "markdown",
   "metadata": {},
   "source": [
    "# Прочтем записанный нами файл"
   ]
  },
  {
   "cell_type": "code",
   "execution_count": 7,
   "metadata": {
    "collapsed": true
   },
   "outputs": [],
   "source": [
    "f = open('example.txt', 'r')"
   ]
  },
  {
   "cell_type": "code",
   "execution_count": 8,
   "metadata": {},
   "outputs": [
    {
     "data": {
      "text/plain": [
       "'Hello_world!'"
      ]
     },
     "execution_count": 8,
     "metadata": {},
     "output_type": "execute_result"
    }
   ],
   "source": [
    "f.read()"
   ]
  },
  {
   "cell_type": "markdown",
   "metadata": {},
   "source": [
    "# Повторная попытка прочитать файл вернет пустую строку"
   ]
  },
  {
   "cell_type": "code",
   "execution_count": 9,
   "metadata": {},
   "outputs": [
    {
     "data": {
      "text/plain": [
       "''"
      ]
     },
     "execution_count": 9,
     "metadata": {},
     "output_type": "execute_result"
    }
   ],
   "source": [
    "f.read()"
   ]
  },
  {
   "cell_type": "markdown",
   "metadata": {},
   "source": [
    "# Посмотрим на каком индексе находится наш курсор"
   ]
  },
  {
   "cell_type": "code",
   "execution_count": 10,
   "metadata": {},
   "outputs": [
    {
     "data": {
      "text/plain": [
       "12"
      ]
     },
     "execution_count": 10,
     "metadata": {},
     "output_type": "execute_result"
    }
   ],
   "source": [
    "f.tell()"
   ]
  },
  {
   "cell_type": "markdown",
   "metadata": {},
   "source": [
    "# Переместим курсор на начало файла (нулевой индекс)"
   ]
  },
  {
   "cell_type": "code",
   "execution_count": 11,
   "metadata": {},
   "outputs": [
    {
     "data": {
      "text/plain": [
       "0"
      ]
     },
     "execution_count": 11,
     "metadata": {},
     "output_type": "execute_result"
    }
   ],
   "source": [
    "f.seek(0)"
   ]
  },
  {
   "cell_type": "markdown",
   "metadata": {},
   "source": [
    "# Теперь файл можно вновь полностью прочесть"
   ]
  },
  {
   "cell_type": "code",
   "execution_count": 12,
   "metadata": {},
   "outputs": [
    {
     "data": {
      "text/plain": [
       "'Hello_world!'"
      ]
     },
     "execution_count": 12,
     "metadata": {},
     "output_type": "execute_result"
    }
   ],
   "source": [
    "f.read()"
   ]
  },
  {
   "cell_type": "markdown",
   "metadata": {},
   "source": [
    "# Можем прочесть только первые 6 символов"
   ]
  },
  {
   "cell_type": "code",
   "execution_count": 13,
   "metadata": {},
   "outputs": [
    {
     "data": {
      "text/plain": [
       "0"
      ]
     },
     "execution_count": 13,
     "metadata": {},
     "output_type": "execute_result"
    }
   ],
   "source": [
    "f.seek(0)"
   ]
  },
  {
   "cell_type": "code",
   "execution_count": 14,
   "metadata": {},
   "outputs": [
    {
     "data": {
      "text/plain": [
       "'Hello_'"
      ]
     },
     "execution_count": 14,
     "metadata": {},
     "output_type": "execute_result"
    }
   ],
   "source": [
    "f.read(6)"
   ]
  },
  {
   "cell_type": "markdown",
   "metadata": {},
   "source": [
    "# Укзатель остановится на 6 символе"
   ]
  },
  {
   "cell_type": "code",
   "execution_count": 15,
   "metadata": {},
   "outputs": [
    {
     "data": {
      "text/plain": [
       "6"
      ]
     },
     "execution_count": 15,
     "metadata": {},
     "output_type": "execute_result"
    }
   ],
   "source": [
    "f.tell()"
   ]
  },
  {
   "cell_type": "code",
   "execution_count": 4,
   "metadata": {
    "collapsed": true
   },
   "outputs": [],
   "source": [
    "f.close()"
   ]
  },
  {
   "cell_type": "code",
   "execution_count": null,
   "metadata": {
    "collapsed": true
   },
   "outputs": [],
   "source": [
    "open()\n",
    "f.read() or f.write() or f.tell() or f.seek()\n",
    "f.close()"
   ]
  },
  {
   "cell_type": "markdown",
   "metadata": {},
   "source": [
    "# С помощью оператора with можно открывать файлы и затем не закрывать их"
   ]
  },
  {
   "cell_type": "code",
   "execution_count": 7,
   "metadata": {},
   "outputs": [],
   "source": [
    "with open('example.txt', 'w') as outf:\n",
    "    outf.write(str_1)\n",
    "    outf.write(str_1)"
   ]
  },
  {
   "cell_type": "markdown",
   "metadata": {},
   "source": [
    "# Вышеизложенный код эквивалентен следующему коду:"
   ]
  },
  {
   "cell_type": "code",
   "execution_count": 18,
   "metadata": {
    "collapsed": true
   },
   "outputs": [],
   "source": [
    "f = open('example.txt', 'w')\n",
    "f.write(str_1)\n",
    "f.write(str_1)\n",
    "f.close()"
   ]
  },
  {
   "cell_type": "markdown",
   "metadata": {},
   "source": [
    "# Можем убедиться в точ, что файл закрыт следующим примером:"
   ]
  },
  {
   "cell_type": "code",
   "execution_count": 8,
   "metadata": {},
   "outputs": [
    {
     "ename": "ValueError",
     "evalue": "I/O operation on closed file.",
     "output_type": "error",
     "traceback": [
      "\u001b[1;31m---------------------------------------------------------------------------\u001b[0m",
      "\u001b[1;31mValueError\u001b[0m                                Traceback (most recent call last)",
      "\u001b[1;32m<ipython-input-8-395e86ff6e87>\u001b[0m in \u001b[0;36m<module>\u001b[1;34m()\u001b[0m\n\u001b[0;32m      3\u001b[0m     \u001b[0mf\u001b[0m\u001b[1;33m.\u001b[0m\u001b[0mwrite\u001b[0m\u001b[1;33m(\u001b[0m\u001b[0mstr_1\u001b[0m\u001b[1;33m)\u001b[0m\u001b[1;33m\u001b[0m\u001b[0m\n\u001b[0;32m      4\u001b[0m \u001b[1;33m\u001b[0m\u001b[0m\n\u001b[1;32m----> 5\u001b[1;33m \u001b[0mf\u001b[0m\u001b[1;33m.\u001b[0m\u001b[0mread\u001b[0m\u001b[1;33m(\u001b[0m\u001b[1;33m)\u001b[0m\u001b[1;33m\u001b[0m\u001b[0m\n\u001b[0m",
      "\u001b[1;31mValueError\u001b[0m: I/O operation on closed file."
     ]
    }
   ],
   "source": [
    "with open('example.txt', 'w') as f:\n",
    "    f.write(str_1)\n",
    "    f.write(str_1)\n",
    "\n",
    "f.read()"
   ]
  },
  {
   "cell_type": "markdown",
   "metadata": {},
   "source": [
    "# Если мы будем читать из файла, которого не существует, без `with`"
   ]
  },
  {
   "cell_type": "code",
   "execution_count": 10,
   "metadata": {},
   "outputs": [
    {
     "ename": "FileNotFoundError",
     "evalue": "[Errno 2] No such file or directory: 'example1.txt'",
     "output_type": "error",
     "traceback": [
      "\u001b[1;31m---------------------------------------------------------------------------\u001b[0m",
      "\u001b[1;31mFileNotFoundError\u001b[0m                         Traceback (most recent call last)",
      "\u001b[1;32m<ipython-input-10-79bb692791aa>\u001b[0m in \u001b[0;36m<module>\u001b[1;34m()\u001b[0m\n\u001b[1;32m----> 1\u001b[1;33m \u001b[1;32mwith\u001b[0m \u001b[0mopen\u001b[0m\u001b[1;33m(\u001b[0m\u001b[1;34m'example1.txt'\u001b[0m\u001b[1;33m,\u001b[0m \u001b[1;34m'r'\u001b[0m\u001b[1;33m)\u001b[0m \u001b[1;32mas\u001b[0m \u001b[0minf\u001b[0m\u001b[1;33m:\u001b[0m\u001b[1;33m\u001b[0m\u001b[0m\n\u001b[0m\u001b[0;32m      2\u001b[0m     \u001b[0mf\u001b[0m\u001b[1;33m.\u001b[0m\u001b[0mwrite\u001b[0m\u001b[1;33m(\u001b[0m\u001b[0mstr_1\u001b[0m\u001b[1;33m)\u001b[0m\u001b[1;33m\u001b[0m\u001b[0m\n\u001b[0;32m      3\u001b[0m     \u001b[0mf\u001b[0m\u001b[1;33m.\u001b[0m\u001b[0mwrite\u001b[0m\u001b[1;33m(\u001b[0m\u001b[0mstr_1\u001b[0m\u001b[1;33m)\u001b[0m\u001b[1;33m\u001b[0m\u001b[0m\n\u001b[0;32m      4\u001b[0m \u001b[1;33m\u001b[0m\u001b[0m\n\u001b[0;32m      5\u001b[0m \u001b[1;31m# f.close()\u001b[0m\u001b[1;33m\u001b[0m\u001b[1;33m\u001b[0m\u001b[0m\n",
      "\u001b[1;31mFileNotFoundError\u001b[0m: [Errno 2] No such file or directory: 'example1.txt'"
     ]
    }
   ],
   "source": [
    "with open('example1.txt', 'r') as inf:\n",
    "    f.write(str_1)\n",
    "    f.write(str_1)\n",
    "\n",
    "# f.close()"
   ]
  },
  {
   "cell_type": "markdown",
   "metadata": {},
   "source": [
    "# Прочтем файл. Каждый раз при записи файла, содержимое файла перезаписывалось"
   ]
  },
  {
   "cell_type": "code",
   "execution_count": 12,
   "metadata": {},
   "outputs": [
    {
     "name": "stdout",
     "output_type": "stream",
     "text": [
      "Hello_world!Hello_world!\n",
      "Hello_world!!!\n"
     ]
    }
   ],
   "source": [
    "with open('example.txt', 'r') as f:\n",
    "    print(f.read())"
   ]
  },
  {
   "cell_type": "markdown",
   "metadata": {},
   "source": [
    "# Для того, чтобы содержимое не перезаписывалось, нужно использовать режим `a`"
   ]
  },
  {
   "cell_type": "code",
   "execution_count": 13,
   "metadata": {
    "collapsed": true
   },
   "outputs": [],
   "source": [
    "with open('example.txt', 'a') as f:\n",
    "    f.write(str_1)\n",
    "    f.write(str_1)"
   ]
  },
  {
   "cell_type": "code",
   "execution_count": 14,
   "metadata": {},
   "outputs": [
    {
     "name": "stdout",
     "output_type": "stream",
     "text": [
      "Hello_world!Hello_world!\n",
      "Hello_world!!!Hello_world!Hello_world!\n"
     ]
    }
   ],
   "source": [
    "with open('example.txt', 'r') as f:\n",
    "    print(f.read())"
   ]
  },
  {
   "cell_type": "code",
   "execution_count": null,
   "metadata": {
    "collapsed": true
   },
   "outputs": [],
   "source": [
    "'r' - read\n",
    "'w' - write\n",
    "'a' - append"
   ]
  },
  {
   "cell_type": "markdown",
   "metadata": {},
   "source": [
    "# Нужно явно указывать перенос строки при записи текста"
   ]
  },
  {
   "cell_type": "code",
   "execution_count": 16,
   "metadata": {
    "collapsed": true
   },
   "outputs": [],
   "source": [
    "with open('example.txt', 'a') as f:\n",
    "    f.write(str_1 + '\\n')\n",
    "    f.write(str_1 + '\\n')"
   ]
  },
  {
   "cell_type": "code",
   "execution_count": 25,
   "metadata": {},
   "outputs": [
    {
     "name": "stdout",
     "output_type": "stream",
     "text": [
      "Hello_world!\n",
      "Hello_world!\n",
      "\n"
     ]
    }
   ],
   "source": [
    "with open('example.txt', 'r') as f:\n",
    "    print(f.read())"
   ]
  },
  {
   "cell_type": "markdown",
   "metadata": {},
   "source": [
    "# Объуект файла f является итератором, который возвращает при каждой итерации новую строку"
   ]
  },
  {
   "cell_type": "code",
   "execution_count": 22,
   "metadata": {},
   "outputs": [
    {
     "name": "stdout",
     "output_type": "stream",
     "text": [
      "Hello_world!\n",
      "Hello_world!\n",
      "Hello_world!\n",
      "Hello_world!\n"
     ]
    }
   ],
   "source": [
    "with open('example.txt', 'r') as f:\n",
    "    for line in f:\n",
    "        print(line.strip())"
   ]
  },
  {
   "cell_type": "markdown",
   "metadata": {},
   "source": [
    "# Можем убрать пустые строки если передадим ф ункцию `print()` параметр `end`"
   ]
  },
  {
   "cell_type": "code",
   "execution_count": 28,
   "metadata": {},
   "outputs": [
    {
     "name": "stdout",
     "output_type": "stream",
     "text": [
      "Hello_world!\n",
      "Hello_world!\n",
      "Hello_world!\n",
      "Hello_world!\n"
     ]
    }
   ],
   "source": [
    "with open('example.txt', 'r') as f:\n",
    "    for line in f:\n",
    "        print(line, end='')"
   ]
  },
  {
   "cell_type": "markdown",
   "metadata": {},
   "source": [
    "# csv - comma separated values"
   ]
  },
  {
   "cell_type": "code",
   "execution_count": 30,
   "metadata": {
    "collapsed": true
   },
   "outputs": [],
   "source": [
    "line_1 = ['ID','Name', 'Age', 'City']\n",
    "line_2 = ['1', 'Василий', '20', 'Moscow']"
   ]
  },
  {
   "cell_type": "code",
   "execution_count": 29,
   "metadata": {},
   "outputs": [
    {
     "data": {
      "text/plain": [
       "'ID,Name,Age,City'"
      ]
     },
     "execution_count": 29,
     "metadata": {},
     "output_type": "execute_result"
    }
   ],
   "source": [
    "','.join(line_1)"
   ]
  },
  {
   "cell_type": "code",
   "execution_count": 30,
   "metadata": {},
   "outputs": [
    {
     "data": {
      "text/plain": [
       "'1,Василий,20,Moscow'"
      ]
     },
     "execution_count": 30,
     "metadata": {},
     "output_type": "execute_result"
    }
   ],
   "source": [
    "','.join(line_2)"
   ]
  },
  {
   "cell_type": "markdown",
   "metadata": {},
   "source": [
    "# Запишем данные в формате csv"
   ]
  },
  {
   "cell_type": "code",
   "execution_count": 31,
   "metadata": {
    "collapsed": true
   },
   "outputs": [],
   "source": [
    "with open('example.csv', 'w') as f:\n",
    "    f.write(','.join(line_1) + '\\n')\n",
    "    f.write(','.join(line_2) + '\\n')"
   ]
  },
  {
   "cell_type": "markdown",
   "metadata": {},
   "source": [
    "# Проверим, что всё получилось правильно"
   ]
  },
  {
   "cell_type": "code",
   "execution_count": 32,
   "metadata": {},
   "outputs": [
    {
     "name": "stdout",
     "output_type": "stream",
     "text": [
      "ID,Name,Age,City\n",
      "1,Василий,20,Moscow\n",
      "\n"
     ]
    }
   ],
   "source": [
    "with open('example.txt', 'r+') as f:\n",
    "    print(f.read())"
   ]
  },
  {
   "cell_type": "markdown",
   "metadata": {},
   "source": [
    "# Модуль csv"
   ]
  },
  {
   "cell_type": "code",
   "execution_count": 34,
   "metadata": {
    "collapsed": true
   },
   "outputs": [],
   "source": [
    "import csv"
   ]
  },
  {
   "cell_type": "code",
   "execution_count": 33,
   "metadata": {},
   "outputs": [
    {
     "name": "stdout",
     "output_type": "stream",
     "text": [
      "ID,Name,Age,City\n",
      "1,Василий,20,Moscow\n",
      "\n"
     ]
    }
   ],
   "source": [
    "with open('example.csv', 'r') as f:\n",
    "    print(f.read())\n",
    "    "
   ]
  },
  {
   "cell_type": "markdown",
   "metadata": {},
   "source": [
    "# Используем метод reader()"
   ]
  },
  {
   "cell_type": "code",
   "execution_count": 41,
   "metadata": {},
   "outputs": [
    {
     "name": "stdout",
     "output_type": "stream",
     "text": [
      "<class '_csv.reader'>\n",
      "['ID', 'Name', 'Age', 'City']\n",
      "['1', 'Василий', '20', 'Moscow']\n"
     ]
    }
   ],
   "source": [
    "with open('example.csv', 'r') as f:\n",
    "    reader = csv.reader(f)\n",
    "    # print(type(csv.reader(f)))\n",
    "    for line in reader:\n",
    "        print(line)"
   ]
  },
  {
   "cell_type": "markdown",
   "metadata": {},
   "source": [
    "# JSON - Java Scrypt Object Notation"
   ]
  },
  {
   "cell_type": "code",
   "execution_count": 42,
   "metadata": {
    "collapsed": true
   },
   "outputs": [],
   "source": [
    "dct = {\n",
    "    'ID':1, \n",
    "    'Name':'Василий', \n",
    "    'Age':20, \n",
    "    'City':'Moscow', \n",
    "    'Marks_1Q':(5, 4, 5), \n",
    "    'Marks_2Q':[5, 4, 5]\n",
    "}"
   ]
  },
  {
   "cell_type": "code",
   "execution_count": 43,
   "metadata": {},
   "outputs": [
    {
     "data": {
      "text/plain": [
       "{'Age': 20,\n",
       " 'City': 'Moscow',\n",
       " 'ID': 1,\n",
       " 'Marks_1Q': (5, 4, 5),\n",
       " 'Marks_2Q': [5, 4, 5],\n",
       " 'Name': 'Василий'}"
      ]
     },
     "execution_count": 43,
     "metadata": {},
     "output_type": "execute_result"
    }
   ],
   "source": [
    "dct"
   ]
  },
  {
   "cell_type": "markdown",
   "metadata": {},
   "source": [
    "# Модуль json"
   ]
  },
  {
   "cell_type": "code",
   "execution_count": 44,
   "metadata": {
    "collapsed": true
   },
   "outputs": [],
   "source": [
    "import json"
   ]
  },
  {
   "cell_type": "markdown",
   "metadata": {},
   "source": [
    "# Преобразуем словарь dct в формат JSON с помощью метода `dumps()`"
   ]
  },
  {
   "cell_type": "code",
   "execution_count": 45,
   "metadata": {
    "collapsed": true
   },
   "outputs": [],
   "source": [
    "dmp = json.dumps(dct)"
   ]
  },
  {
   "cell_type": "code",
   "execution_count": 47,
   "metadata": {},
   "outputs": [
    {
     "name": "stdout",
     "output_type": "stream",
     "text": [
      "{\"ID\": 1, \"Name\": \"\\u0412\\u0430\\u0441\\u0438\\u043b\\u0438\\u0439\", \"Age\": 20, \"City\": \"Moscow\", \"Marks_1Q\": [5, 4, 5], \"Marks_2Q\": [5, 4, 5]}\n"
     ]
    }
   ],
   "source": [
    "print(dmp)"
   ]
  },
  {
   "cell_type": "markdown",
   "metadata": {},
   "source": [
    "# Кирилица преобразуется в формат `Unicode`, одинарные кавычки в двойные, кортежи в списки"
   ]
  },
  {
   "cell_type": "code",
   "execution_count": 40,
   "metadata": {},
   "outputs": [
    {
     "data": {
      "text/plain": [
       "'[{\"ID\": 1, \"Name\": \"\\\\u0412\\\\u0430\\\\u0441\\\\u0438\\\\u043b\\\\u0438\\\\u0439\", \"Age\": 20, \"City\": \"Moscow\", \"Marks_1Q\": [5, 4, 5], \"Marks_2Q\": [5, 4, 5]}]'"
      ]
     },
     "execution_count": 40,
     "metadata": {},
     "output_type": "execute_result"
    }
   ],
   "source": [
    "dmp"
   ]
  },
  {
   "cell_type": "markdown",
   "metadata": {},
   "source": [
    "# Объект JSON можно сделать чеовекочитаемым с помощью параметра `indent`"
   ]
  },
  {
   "cell_type": "code",
   "execution_count": 49,
   "metadata": {},
   "outputs": [
    {
     "name": "stdout",
     "output_type": "stream",
     "text": [
      "{\n",
      "    \"ID\": 1,\n",
      "    \"Name\": \"\\u0412\\u0430\\u0441\\u0438\\u043b\\u0438\\u0439\",\n",
      "    \"Age\": 20,\n",
      "    \"City\": \"Moscow\",\n",
      "    \"Marks_1Q\": [\n",
      "        5,\n",
      "        4,\n",
      "        5\n",
      "    ],\n",
      "    \"Marks_2Q\": [\n",
      "        5,\n",
      "        4,\n",
      "        5\n",
      "    ]\n",
      "}\n"
     ]
    }
   ],
   "source": [
    "print(json.dumps(dct, indent=4))"
   ]
  },
  {
   "cell_type": "markdown",
   "metadata": {},
   "source": [
    "# Преобразуем файл в формате JSON в словарь с помощью метода `loads`"
   ]
  },
  {
   "cell_type": "code",
   "execution_count": 50,
   "metadata": {
    "collapsed": true
   },
   "outputs": [],
   "source": [
    "dct_2 = json.loads(dmp)"
   ]
  },
  {
   "cell_type": "code",
   "execution_count": 51,
   "metadata": {},
   "outputs": [
    {
     "data": {
      "text/plain": [
       "{'Age': 20,\n",
       " 'City': 'Moscow',\n",
       " 'ID': 1,\n",
       " 'Marks_1Q': [5, 4, 5],\n",
       " 'Marks_2Q': [5, 4, 5],\n",
       " 'Name': 'Василий'}"
      ]
     },
     "execution_count": 51,
     "metadata": {},
     "output_type": "execute_result"
    }
   ],
   "source": [
    "dct_2"
   ]
  },
  {
   "cell_type": "markdown",
   "metadata": {},
   "source": [
    "# XML - eXtensible Markup Language"
   ]
  },
  {
   "cell_type": "markdown",
   "metadata": {},
   "source": [
    "<xml>\n",
    "    <ID>1</ID>\n",
    "    <Name>Василий</Name>\n",
    "    <Age>20</Age>\n",
    "    <City>Moscow</City>\n",
    "    <Marks_1Q 'months'='1'>5</Marks_1Q>\n",
    "    <Marks_1Q 'months'='2'>4</Marks_1Q>\n",
    "    <Marks_1Q 'months'='3'>5</Marks_1Q>\n",
    "    <Marks_2Q 'months'='1'>5</Marks_2Q>\n",
    "    <Marks_2Q 'months'='2'>4</Marks_2Q>\n",
    "    <Marks_2Q 'months'='3'>5</Marks_2Q>\n",
    "/*    <Marks_2Q 'months'='3'>2</Marks_2Q> */\n",
    "</xml>"
   ]
  },
  {
   "cell_type": "markdown",
   "metadata": {},
   "source": [
    "# Библиотека xml"
   ]
  },
  {
   "cell_type": "code",
   "execution_count": 160,
   "metadata": {
    "collapsed": true
   },
   "outputs": [],
   "source": [
    "from xml.etree import ElementTree as ET"
   ]
  },
  {
   "cell_type": "markdown",
   "metadata": {},
   "source": [
    "# парсим документ"
   ]
  },
  {
   "cell_type": "code",
   "execution_count": 46,
   "metadata": {},
   "outputs": [
    {
     "name": "stdout",
     "output_type": "stream",
     "text": [
      "<?xml version=\"1.0\"?>\n",
      "<data>\n",
      "    <country name=\"Liechtenstein\">\n",
      "        <rank>1</rank>\n",
      "        <year>2008</year>\n",
      "        <gdppc>141100</gdppc>\n",
      "        <neighbor name=\"Austria\" direction=\"E\"/>\n",
      "        <neighbor name=\"Switzerland\" direction=\"W\"/>\n",
      "    </country>\n",
      "    <country name=\"Singapore\">\n",
      "        <rank>4</rank>\n",
      "        <year>2011</year>\n",
      "        <gdppc>59900</gdppc>\n",
      "        <neighbor name=\"Malaysia\" direction=\"N\"/>\n",
      "    </country>\n",
      "    <country name=\"Panama\">\n",
      "        <rank>68</rank>\n",
      "        <year>2011</year>\n",
      "        <gdppc>13600</gdppc>\n",
      "        <neighbor name=\"Costa Rica\" direction=\"W\"/>\n",
      "        <neighbor name=\"Colombia\" direction=\"E\"/>\n",
      "    </country>\n",
      "</data>\n",
      "\n"
     ]
    }
   ],
   "source": [
    "with open('example.xml', 'r+') as f:\n",
    "    print(f.read())"
   ]
  },
  {
   "cell_type": "markdown",
   "metadata": {},
   "source": [
    "# Создаем объект xml с помощью метода `parse()`"
   ]
  },
  {
   "cell_type": "code",
   "execution_count": 161,
   "metadata": {},
   "outputs": [
    {
     "name": "stdout",
     "output_type": "stream",
     "text": [
      "<xml.etree.ElementTree.ElementTree object at 0x0000019A5B48FDA0>\n"
     ]
    }
   ],
   "source": [
    "with open('example.xml', 'r+') as f:\n",
    "    tree = ET.parse(f)\n",
    "    print(tree)"
   ]
  },
  {
   "cell_type": "markdown",
   "metadata": {},
   "source": [
    "# С помощью метода `getroot()` получаем информацию о всех корневых тегах и их атрибутах"
   ]
  },
  {
   "cell_type": "code",
   "execution_count": 162,
   "metadata": {
    "collapsed": true
   },
   "outputs": [],
   "source": [
    "root = tree.getroot()"
   ]
  },
  {
   "cell_type": "code",
   "execution_count": 164,
   "metadata": {},
   "outputs": [
    {
     "name": "stdout",
     "output_type": "stream",
     "text": [
      "rank {}\n",
      "year {}\n",
      "gdppc {}\n",
      "neighbor {'name': 'Austria', 'direction': 'E'}\n",
      "neighbor {'name': 'Switzerland', 'direction': 'W'}\n",
      "rank {}\n",
      "year {}\n",
      "gdppc {}\n",
      "neighbor {'name': 'Malaysia', 'direction': 'N'}\n",
      "rank {}\n",
      "year {}\n",
      "gdppc {}\n",
      "neighbor {'name': 'Costa Rica', 'direction': 'W'}\n",
      "neighbor {'name': 'Colombia', 'direction': 'E'}\n"
     ]
    }
   ],
   "source": [
    "for i in root:\n",
    "    for j in i.getchildren():\n",
    "        print(j.tag, j.attrib)"
   ]
  },
  {
   "cell_type": "markdown",
   "metadata": {},
   "source": []
  },
  {
   "cell_type": "code",
   "execution_count": 56,
   "metadata": {},
   "outputs": [
    {
     "name": "stdout",
     "output_type": "stream",
     "text": [
      "{'title': 'example glossary', 'GlossDiv': {'title': 'S', 'GlossList': {'GlossEntry': {'ID': 'SGML', 'SortAs': 'SGML', 'GlossTerm': 'Standard Generalized Markup Language', 'Acronym': 'SGML', 'Abbrev': 'ISO 8879:1986', 'GlossDef': {'para': 'A meta-markup language, used to create markup languages such as DocBook.', 'GlossSeeAlso': ['GML', 'XML']}, 'GlossSee': 'markup'}}}}\n"
     ]
    }
   ],
   "source": [
    "with open('input.json', 'r') as inf:\n",
    "    dct = json.load(inf)\n",
    "    print(dct['glossary'])"
   ]
  },
  {
   "cell_type": "code",
   "execution_count": 57,
   "metadata": {},
   "outputs": [
    {
     "data": {
      "text/plain": [
       "{'Age': 20,\n",
       " 'City': 'Moscow',\n",
       " 'ID': 1,\n",
       " 'Marks_1Q': [5, 4, 5],\n",
       " 'Marks_2Q': [5, 4, 5],\n",
       " 'Name': 'Василий'}"
      ]
     },
     "execution_count": 57,
     "metadata": {},
     "output_type": "execute_result"
    }
   ],
   "source": [
    "dct_2"
   ]
  },
  {
   "cell_type": "code",
   "execution_count": 60,
   "metadata": {},
   "outputs": [],
   "source": [
    "with open('output.json', 'w') as outf:\n",
    "    json.dump(dct_2, outf)"
   ]
  },
  {
   "cell_type": "code",
   "execution_count": null,
   "metadata": {
    "collapsed": true
   },
   "outputs": [],
   "source": [
    "json.dumps() # Dict => String\n",
    "json.loads() # String => Dict\n",
    "json.dump() # Dict => filestream\n",
    "json.load() # filestream => Dict"
   ]
  },
  {
   "cell_type": "markdown",
   "metadata": {},
   "source": [
    "# Библиотека math"
   ]
  },
  {
   "cell_type": "code",
   "execution_count": 61,
   "metadata": {
    "collapsed": true
   },
   "outputs": [],
   "source": [
    "import math"
   ]
  },
  {
   "cell_type": "code",
   "execution_count": 51,
   "metadata": {},
   "outputs": [
    {
     "data": {
      "text/plain": [
       "['__doc__',\n",
       " '__loader__',\n",
       " '__name__',\n",
       " '__package__',\n",
       " '__spec__',\n",
       " 'acos',\n",
       " 'acosh',\n",
       " 'asin',\n",
       " 'asinh',\n",
       " 'atan',\n",
       " 'atan2',\n",
       " 'atanh',\n",
       " 'ceil',\n",
       " 'copysign',\n",
       " 'cos',\n",
       " 'cosh',\n",
       " 'degrees',\n",
       " 'e',\n",
       " 'erf',\n",
       " 'erfc',\n",
       " 'exp',\n",
       " 'expm1',\n",
       " 'fabs',\n",
       " 'factorial',\n",
       " 'floor',\n",
       " 'fmod',\n",
       " 'frexp',\n",
       " 'fsum',\n",
       " 'gamma',\n",
       " 'gcd',\n",
       " 'hypot',\n",
       " 'inf',\n",
       " 'isclose',\n",
       " 'isfinite',\n",
       " 'isinf',\n",
       " 'isnan',\n",
       " 'ldexp',\n",
       " 'lgamma',\n",
       " 'log',\n",
       " 'log10',\n",
       " 'log1p',\n",
       " 'log2',\n",
       " 'modf',\n",
       " 'nan',\n",
       " 'pi',\n",
       " 'pow',\n",
       " 'radians',\n",
       " 'remainder',\n",
       " 'sin',\n",
       " 'sinh',\n",
       " 'sqrt',\n",
       " 'tan',\n",
       " 'tanh',\n",
       " 'tau',\n",
       " 'trunc']"
      ]
     },
     "execution_count": 51,
     "metadata": {},
     "output_type": "execute_result"
    }
   ],
   "source": [
    "dir(math)"
   ]
  },
  {
   "cell_type": "markdown",
   "metadata": {},
   "source": [
    "# Округление вверх"
   ]
  },
  {
   "cell_type": "code",
   "execution_count": 62,
   "metadata": {},
   "outputs": [
    {
     "data": {
      "text/plain": [
       "5"
      ]
     },
     "execution_count": 62,
     "metadata": {},
     "output_type": "execute_result"
    }
   ],
   "source": [
    "math.ceil(4.001)"
   ]
  },
  {
   "cell_type": "markdown",
   "metadata": {},
   "source": [
    "# Округление вниз"
   ]
  },
  {
   "cell_type": "code",
   "execution_count": 63,
   "metadata": {},
   "outputs": [
    {
     "data": {
      "text/plain": [
       "4"
      ]
     },
     "execution_count": 63,
     "metadata": {},
     "output_type": "execute_result"
    }
   ],
   "source": [
    "math.floor(4.7)"
   ]
  },
  {
   "cell_type": "markdown",
   "metadata": {},
   "source": [
    "# Возведение в степень"
   ]
  },
  {
   "cell_type": "code",
   "execution_count": 132,
   "metadata": {},
   "outputs": [
    {
     "data": {
      "text/plain": [
       "20.085536923187668"
      ]
     },
     "execution_count": 132,
     "metadata": {},
     "output_type": "execute_result"
    }
   ],
   "source": [
    "math.exp(3)"
   ]
  },
  {
   "cell_type": "markdown",
   "metadata": {},
   "source": [
    "# Эквивалентная запись с использованием константы `e`"
   ]
  },
  {
   "cell_type": "code",
   "execution_count": 133,
   "metadata": {},
   "outputs": [
    {
     "data": {
      "text/plain": [
       "20.085536923187664"
      ]
     },
     "execution_count": 133,
     "metadata": {},
     "output_type": "execute_result"
    }
   ],
   "source": [
    "math.e ** 3"
   ]
  },
  {
   "cell_type": "markdown",
   "metadata": {},
   "source": [
    "# Наибольший общий делитель"
   ]
  },
  {
   "cell_type": "code",
   "execution_count": 135,
   "metadata": {},
   "outputs": [
    {
     "data": {
      "text/plain": [
       "5"
      ]
     },
     "execution_count": 135,
     "metadata": {},
     "output_type": "execute_result"
    }
   ],
   "source": [
    "math.gcd(10, 15)"
   ]
  },
  {
   "cell_type": "code",
   "execution_count": 66,
   "metadata": {},
   "outputs": [
    {
     "data": {
      "text/plain": [
       "3.0"
      ]
     },
     "execution_count": 66,
     "metadata": {},
     "output_type": "execute_result"
    }
   ],
   "source": [
    "math.log2(8)"
   ]
  },
  {
   "cell_type": "markdown",
   "metadata": {},
   "source": [
    "# NaN - Not a Number -> пустой элемент или нечисловой элемент"
   ]
  },
  {
   "cell_type": "code",
   "execution_count": 52,
   "metadata": {},
   "outputs": [
    {
     "data": {
      "text/plain": [
       "False"
      ]
     },
     "execution_count": 52,
     "metadata": {},
     "output_type": "execute_result"
    }
   ],
   "source": [
    "math.isnan(10)"
   ]
  },
  {
   "cell_type": "code",
   "execution_count": 53,
   "metadata": {},
   "outputs": [
    {
     "data": {
      "text/plain": [
       "False"
      ]
     },
     "execution_count": 53,
     "metadata": {},
     "output_type": "execute_result"
    }
   ],
   "source": [
    "math.isnan(1.5)"
   ]
  },
  {
   "cell_type": "code",
   "execution_count": 54,
   "metadata": {},
   "outputs": [
    {
     "data": {
      "text/plain": [
       "True"
      ]
     },
     "execution_count": 54,
     "metadata": {},
     "output_type": "execute_result"
    }
   ],
   "source": [
    "math.isnan(math.nan)"
   ]
  },
  {
   "cell_type": "markdown",
   "metadata": {},
   "source": [
    "# collections"
   ]
  },
  {
   "cell_type": "code",
   "execution_count": 55,
   "metadata": {
    "collapsed": true
   },
   "outputs": [],
   "source": [
    "import collections"
   ]
  },
  {
   "cell_type": "markdown",
   "metadata": {},
   "source": [
    "# Контейнеры в языке Python, которые мы уже прошли"
   ]
  },
  {
   "cell_type": "code",
   "execution_count": 56,
   "metadata": {},
   "outputs": [
    {
     "data": {
      "text/plain": [
       "frozenset()"
      ]
     },
     "execution_count": 56,
     "metadata": {},
     "output_type": "execute_result"
    }
   ],
   "source": [
    "list()\n",
    "tuple()\n",
    "dict()\n",
    "set()\n",
    "str()\n",
    "frozenset()"
   ]
  },
  {
   "cell_type": "code",
   "execution_count": 57,
   "metadata": {
    "collapsed": true
   },
   "outputs": [],
   "source": [
    "from collections import ChainMap"
   ]
  },
  {
   "cell_type": "code",
   "execution_count": 58,
   "metadata": {},
   "outputs": [
    {
     "data": {
      "text/plain": [
       "['_MutableMapping__marker',\n",
       " '__abstractmethods__',\n",
       " '__bool__',\n",
       " '__class__',\n",
       " '__contains__',\n",
       " '__copy__',\n",
       " '__delattr__',\n",
       " '__delitem__',\n",
       " '__dict__',\n",
       " '__dir__',\n",
       " '__doc__',\n",
       " '__eq__',\n",
       " '__format__',\n",
       " '__ge__',\n",
       " '__getattribute__',\n",
       " '__getitem__',\n",
       " '__gt__',\n",
       " '__hash__',\n",
       " '__init__',\n",
       " '__init_subclass__',\n",
       " '__iter__',\n",
       " '__le__',\n",
       " '__len__',\n",
       " '__lt__',\n",
       " '__missing__',\n",
       " '__module__',\n",
       " '__ne__',\n",
       " '__new__',\n",
       " '__reduce__',\n",
       " '__reduce_ex__',\n",
       " '__repr__',\n",
       " '__reversed__',\n",
       " '__setattr__',\n",
       " '__setitem__',\n",
       " '__sizeof__',\n",
       " '__slots__',\n",
       " '__str__',\n",
       " '__subclasshook__',\n",
       " '__weakref__',\n",
       " '_abc_impl',\n",
       " 'clear',\n",
       " 'copy',\n",
       " 'fromkeys',\n",
       " 'get',\n",
       " 'items',\n",
       " 'keys',\n",
       " 'new_child',\n",
       " 'parents',\n",
       " 'pop',\n",
       " 'popitem',\n",
       " 'setdefault',\n",
       " 'update',\n",
       " 'values']"
      ]
     },
     "execution_count": 58,
     "metadata": {},
     "output_type": "execute_result"
    }
   ],
   "source": [
    "dir(ChainMap)"
   ]
  },
  {
   "cell_type": "markdown",
   "metadata": {},
   "source": [
    "# ChainMap - создает последовательность из словарей"
   ]
  },
  {
   "cell_type": "code",
   "execution_count": 59,
   "metadata": {
    "collapsed": true
   },
   "outputs": [],
   "source": [
    "Rectangle = {\n",
    "    'x':0,\n",
    "    'y':0,\n",
    "    'width':20,\n",
    "    'height':50,\n",
    "    'color':'red'\n",
    "}"
   ]
  },
  {
   "cell_type": "code",
   "execution_count": 60,
   "metadata": {
    "collapsed": true
   },
   "outputs": [],
   "source": [
    "Circle = {\n",
    "    'x':10,\n",
    "    'y':10,\n",
    "    'radius':20,\n",
    "    'color':'blue'\n",
    "}"
   ]
  },
  {
   "cell_type": "markdown",
   "metadata": {},
   "source": [
    "# Просто сложить словари не получится"
   ]
  },
  {
   "cell_type": "code",
   "execution_count": 61,
   "metadata": {},
   "outputs": [
    {
     "ename": "TypeError",
     "evalue": "unsupported operand type(s) for +: 'dict' and 'dict'",
     "output_type": "error",
     "traceback": [
      "\u001b[1;31m---------------------------------------------------------------------------\u001b[0m",
      "\u001b[1;31mTypeError\u001b[0m                                 Traceback (most recent call last)",
      "\u001b[1;32m<ipython-input-61-7619a38f3443>\u001b[0m in \u001b[0;36m<module>\u001b[1;34m\u001b[0m\n\u001b[1;32m----> 1\u001b[1;33m \u001b[0mRectangle\u001b[0m \u001b[1;33m+\u001b[0m \u001b[0mCircle\u001b[0m\u001b[1;33m\u001b[0m\u001b[0m\n\u001b[0m",
      "\u001b[1;31mTypeError\u001b[0m: unsupported operand type(s) for +: 'dict' and 'dict'"
     ]
    }
   ],
   "source": [
    "Rectangle + Circle"
   ]
  },
  {
   "cell_type": "markdown",
   "metadata": {},
   "source": [
    "# Используем класс ChainMap"
   ]
  },
  {
   "cell_type": "code",
   "execution_count": 62,
   "metadata": {},
   "outputs": [
    {
     "data": {
      "text/plain": [
       "ChainMap({'x': 0, 'y': 0, 'width': 20, 'height': 50, 'color': 'red'}, {'x': 10, 'y': 10, 'radius': 20, 'color': 'blue'})"
      ]
     },
     "execution_count": 62,
     "metadata": {},
     "output_type": "execute_result"
    }
   ],
   "source": [
    "ChainMap(Rectangle, Circle)"
   ]
  },
  {
   "cell_type": "markdown",
   "metadata": {},
   "source": [
    "# Создадим объект `Figure`"
   ]
  },
  {
   "cell_type": "code",
   "execution_count": 63,
   "metadata": {
    "collapsed": true
   },
   "outputs": [],
   "source": [
    "Figure = ChainMap(Rectangle, Circle)"
   ]
  },
  {
   "cell_type": "markdown",
   "metadata": {},
   "source": [
    "# Получим значение ключа `color`"
   ]
  },
  {
   "cell_type": "code",
   "execution_count": 66,
   "metadata": {},
   "outputs": [
    {
     "data": {
      "text/plain": [
       "'red'"
      ]
     },
     "execution_count": 66,
     "metadata": {},
     "output_type": "execute_result"
    }
   ],
   "source": [
    "Figure['color']"
   ]
  },
  {
   "cell_type": "markdown",
   "metadata": {},
   "source": [
    "# Все значения ключей"
   ]
  },
  {
   "cell_type": "code",
   "execution_count": 67,
   "metadata": {},
   "outputs": [
    {
     "data": {
      "text/plain": [
       "(('x', 0),\n",
       " ('y', 0),\n",
       " ('radius', 20),\n",
       " ('color', 'red'),\n",
       " ('width', 20),\n",
       " ('height', 50))"
      ]
     },
     "execution_count": 67,
     "metadata": {},
     "output_type": "execute_result"
    }
   ],
   "source": [
    "tuple(Figure.items())"
   ]
  },
  {
   "cell_type": "code",
   "execution_count": 68,
   "metadata": {},
   "outputs": [
    {
     "name": "stdout",
     "output_type": "stream",
     "text": [
      "x 0\n",
      "y 0\n",
      "radius 20\n",
      "color red\n",
      "width 20\n",
      "height 50\n"
     ]
    }
   ],
   "source": [
    "for key, val in tuple(Figure.items()):\n",
    "    print(key, val)"
   ]
  },
  {
   "cell_type": "code",
   "execution_count": 69,
   "metadata": {},
   "outputs": [
    {
     "data": {
      "text/plain": [
       "['_MutableMapping__marker',\n",
       " '__abstractmethods__',\n",
       " '__bool__',\n",
       " '__class__',\n",
       " '__contains__',\n",
       " '__copy__',\n",
       " '__delattr__',\n",
       " '__delitem__',\n",
       " '__dict__',\n",
       " '__dir__',\n",
       " '__doc__',\n",
       " '__eq__',\n",
       " '__format__',\n",
       " '__ge__',\n",
       " '__getattribute__',\n",
       " '__getitem__',\n",
       " '__gt__',\n",
       " '__hash__',\n",
       " '__init__',\n",
       " '__init_subclass__',\n",
       " '__iter__',\n",
       " '__le__',\n",
       " '__len__',\n",
       " '__lt__',\n",
       " '__missing__',\n",
       " '__module__',\n",
       " '__ne__',\n",
       " '__new__',\n",
       " '__reduce__',\n",
       " '__reduce_ex__',\n",
       " '__repr__',\n",
       " '__reversed__',\n",
       " '__setattr__',\n",
       " '__setitem__',\n",
       " '__sizeof__',\n",
       " '__slots__',\n",
       " '__str__',\n",
       " '__subclasshook__',\n",
       " '__weakref__',\n",
       " '_abc_impl',\n",
       " 'clear',\n",
       " 'copy',\n",
       " 'fromkeys',\n",
       " 'get',\n",
       " 'items',\n",
       " 'keys',\n",
       " 'maps',\n",
       " 'new_child',\n",
       " 'parents',\n",
       " 'pop',\n",
       " 'popitem',\n",
       " 'setdefault',\n",
       " 'update',\n",
       " 'values']"
      ]
     },
     "execution_count": 69,
     "metadata": {},
     "output_type": "execute_result"
    }
   ],
   "source": [
    "dir(Figure)"
   ]
  },
  {
   "cell_type": "markdown",
   "metadata": {},
   "source": [
    "# Counter"
   ]
  },
  {
   "cell_type": "code",
   "execution_count": 67,
   "metadata": {
    "collapsed": true
   },
   "outputs": [],
   "source": [
    "lst = ['a', 'b', 's', 'a', 'a', 'b', 'e']"
   ]
  },
  {
   "cell_type": "code",
   "execution_count": 72,
   "metadata": {
    "collapsed": true
   },
   "outputs": [],
   "source": [
    "from collections import Counter"
   ]
  },
  {
   "cell_type": "code",
   "execution_count": 73,
   "metadata": {
    "collapsed": true
   },
   "outputs": [],
   "source": [
    "a = Counter(lst)"
   ]
  },
  {
   "cell_type": "code",
   "execution_count": 82,
   "metadata": {},
   "outputs": [
    {
     "data": {
      "text/plain": [
       "[('b', 4)]"
      ]
     },
     "execution_count": 82,
     "metadata": {},
     "output_type": "execute_result"
    }
   ],
   "source": [
    "Counter({'a': 3, 'b': 4, 'c': 2}).most_common(1)"
   ]
  },
  {
   "cell_type": "code",
   "execution_count": 78,
   "metadata": {},
   "outputs": [
    {
     "name": "stdout",
     "output_type": "stream",
     "text": [
      "[('a', 3)]\n"
     ]
    }
   ],
   "source": [
    "print(a.most_common(1))"
   ]
  },
  {
   "cell_type": "markdown",
   "metadata": {},
   "source": [
    "# Счетчик подсчитывает количество элементов"
   ]
  },
  {
   "cell_type": "code",
   "execution_count": 73,
   "metadata": {},
   "outputs": [
    {
     "name": "stdout",
     "output_type": "stream",
     "text": [
      "Counter({'a': 3, 'b': 2, 's': 1, 'e': 1})\n"
     ]
    }
   ],
   "source": [
    "print(a)"
   ]
  },
  {
   "cell_type": "markdown",
   "metadata": {},
   "source": [
    "# Можно инкрементировать значение элемента"
   ]
  },
  {
   "cell_type": "code",
   "execution_count": 83,
   "metadata": {},
   "outputs": [
    {
     "data": {
      "text/plain": [
       "Counter({'a': 3, 'b': 2, 'e': 1, 's': 1})"
      ]
     },
     "execution_count": 83,
     "metadata": {},
     "output_type": "execute_result"
    }
   ],
   "source": [
    "a"
   ]
  },
  {
   "cell_type": "code",
   "execution_count": 88,
   "metadata": {
    "collapsed": true
   },
   "outputs": [],
   "source": [
    "a.update(['v', 'vv', 'w'])"
   ]
  },
  {
   "cell_type": "code",
   "execution_count": 89,
   "metadata": {},
   "outputs": [
    {
     "name": "stdout",
     "output_type": "stream",
     "text": [
      "Counter({'a': 3, 'b': 2, 's': 2, 'v': 2, 'e': 1, 'vv': 1, 'w': 1})\n"
     ]
    }
   ],
   "source": [
    "print(a)"
   ]
  },
  {
   "cell_type": "markdown",
   "metadata": {},
   "source": [
    "# Можно передать значения в словаре"
   ]
  },
  {
   "cell_type": "code",
   "execution_count": 76,
   "metadata": {
    "collapsed": true
   },
   "outputs": [],
   "source": [
    "dct = {'a': 3, 'b': 2, 's': 2, 'e': 1}"
   ]
  },
  {
   "cell_type": "code",
   "execution_count": 77,
   "metadata": {
    "collapsed": true
   },
   "outputs": [],
   "source": [
    "b = Counter(dct)"
   ]
  },
  {
   "cell_type": "code",
   "execution_count": 78,
   "metadata": {},
   "outputs": [
    {
     "name": "stdout",
     "output_type": "stream",
     "text": [
      "Counter({'a': 3, 'b': 2, 's': 2, 'e': 1})\n"
     ]
    }
   ],
   "source": [
    "print(b)"
   ]
  },
  {
   "cell_type": "code",
   "execution_count": 79,
   "metadata": {
    "collapsed": true
   },
   "outputs": [],
   "source": [
    "b.update('b')"
   ]
  },
  {
   "cell_type": "code",
   "execution_count": 80,
   "metadata": {},
   "outputs": [
    {
     "name": "stdout",
     "output_type": "stream",
     "text": [
      "Counter({'a': 3, 'b': 3, 's': 2, 'e': 1})\n"
     ]
    }
   ],
   "source": [
    "print(b)"
   ]
  },
  {
   "cell_type": "markdown",
   "metadata": {},
   "source": [
    "# Можно передать строку"
   ]
  },
  {
   "cell_type": "code",
   "execution_count": 90,
   "metadata": {
    "collapsed": true
   },
   "outputs": [],
   "source": [
    "c = Counter('aljsg dfljas gdfjksgdajkfgjh gagasdfjg')"
   ]
  },
  {
   "cell_type": "code",
   "execution_count": 91,
   "metadata": {},
   "outputs": [
    {
     "name": "stdout",
     "output_type": "stream",
     "text": [
      "Counter({'g': 7, 'j': 6, 'a': 5, 's': 4, 'd': 4, 'f': 4, ' ': 3, 'l': 2, 'k': 2, 'h': 1})\n"
     ]
    }
   ],
   "source": [
    "print(c)"
   ]
  },
  {
   "cell_type": "code",
   "execution_count": 92,
   "metadata": {
    "collapsed": true
   },
   "outputs": [],
   "source": [
    "import re"
   ]
  },
  {
   "cell_type": "code",
   "execution_count": 103,
   "metadata": {},
   "outputs": [
    {
     "name": "stdout",
     "output_type": "stream",
     "text": [
      "[('iphone', 9), ('года', 4), ('смартфонов', 2), ('для', 2), ('конференции', 2)]\n"
     ]
    }
   ],
   "source": [
    "my_text = \"\"\"\n",
    "серия смартфонов, разработанных корпорацией Apple. Работают под управлением операционной системы iOS, представляющей собой упрощённую и оптимизированную для функционирования на мобильном устройстве версию macOS.\n",
    "Впервые iPhone был анонсирован Стивом Джобсом на конференции Macworld Expo 9 января 2007 года. Название iPhone образовано от англ. phone (телефон) добавлением буквы i; на презентации Джобс заявил, что это сокращение слова Internet (Интернет), а также сказал, что «эта буква означает для нас и другие вещи» и показал слайд со словами individual, instruct, inform, inspire («личный; обучать; сообщать; вдохновлять»)[8].\n",
    "В продажу аппарат поступил 29 июня 2007 года вместе с iPhone OS и быстро завоевал существенную часть рынка смартфонов в США. Популярность iPhone OS поддержал вышедший в продажу в сентябре того же года iPod touch, обладавший, однако, заметно урезанной функциональностью по сравнению с iPhone.\n",
    "10 июня 2008 года на конференции WWDC 2008 была представлена новая модель — iPhone 3G, более совершенная и лишённая многих аппаратных и программных недостатков предшественника, с новой версией iPhone OS 2.0, по более низкой цене с контрактом оператора в США. Также iPhone 3G стал первым iPhone, получившим русскую локализацию[9], и первым, официально продававшимся в России\n",
    "\"\"\"\n",
    "\n",
    "words = Counter(re.findall('\\w{3,}', my_text.lower()))\n",
    "print(words.most_common(5))"
   ]
  },
  {
   "cell_type": "markdown",
   "metadata": {},
   "source": [
    "# Получим значение по ключу"
   ]
  },
  {
   "cell_type": "code",
   "execution_count": 98,
   "metadata": {},
   "outputs": [
    {
     "data": {
      "text/plain": [
       "7"
      ]
     },
     "execution_count": 98,
     "metadata": {},
     "output_type": "execute_result"
    }
   ],
   "source": [
    "c['g']"
   ]
  },
  {
   "cell_type": "markdown",
   "metadata": {},
   "source": [
    "# Если ключа нет, то возвращает 0"
   ]
  },
  {
   "cell_type": "code",
   "execution_count": 99,
   "metadata": {},
   "outputs": [
    {
     "data": {
      "text/plain": [
       "0"
      ]
     },
     "execution_count": 99,
     "metadata": {},
     "output_type": "execute_result"
    }
   ],
   "source": [
    "c['gd']"
   ]
  },
  {
   "cell_type": "markdown",
   "metadata": {},
   "source": [
    "# С помощью метода `elemets()` можно получить список всех элементов"
   ]
  },
  {
   "cell_type": "code",
   "execution_count": 102,
   "metadata": {},
   "outputs": [
    {
     "data": {
      "text/plain": [
       "['серия',\n",
       " 'смартфонов',\n",
       " 'смартфонов',\n",
       " 'разработанных',\n",
       " 'корпорацией',\n",
       " 'apple',\n",
       " 'работают',\n",
       " 'под',\n",
       " 'управлением',\n",
       " 'операционной',\n",
       " 'системы',\n",
       " 'ios',\n",
       " 'представляющей',\n",
       " 'собой',\n",
       " 'упрощённую',\n",
       " 'оптимизированную',\n",
       " 'для',\n",
       " 'для',\n",
       " 'функционирования',\n",
       " 'мобильном',\n",
       " 'устройстве',\n",
       " 'версию',\n",
       " 'macos',\n",
       " 'впервые',\n",
       " 'iphone',\n",
       " 'iphone',\n",
       " 'iphone',\n",
       " 'iphone',\n",
       " 'iphone',\n",
       " 'iphone',\n",
       " 'iphone',\n",
       " 'iphone',\n",
       " 'iphone',\n",
       " 'был',\n",
       " 'анонсирован',\n",
       " 'стивом',\n",
       " 'джобсом',\n",
       " 'конференции',\n",
       " 'конференции',\n",
       " 'macworld',\n",
       " 'expo',\n",
       " 'января',\n",
       " '2007',\n",
       " '2007',\n",
       " 'года',\n",
       " 'года',\n",
       " 'года',\n",
       " 'года',\n",
       " 'название',\n",
       " 'образовано',\n",
       " 'англ',\n",
       " 'phone',\n",
       " 'телефон',\n",
       " 'добавлением',\n",
       " 'буквы',\n",
       " 'презентации',\n",
       " 'джобс',\n",
       " 'заявил',\n",
       " 'что',\n",
       " 'что',\n",
       " 'это',\n",
       " 'сокращение',\n",
       " 'слова',\n",
       " 'internet',\n",
       " 'интернет',\n",
       " 'также',\n",
       " 'также',\n",
       " 'сказал',\n",
       " 'эта',\n",
       " 'буква',\n",
       " 'означает',\n",
       " 'нас',\n",
       " 'другие',\n",
       " 'вещи',\n",
       " 'показал',\n",
       " 'слайд',\n",
       " 'словами',\n",
       " 'individual',\n",
       " 'instruct',\n",
       " 'inform',\n",
       " 'inspire',\n",
       " 'личный',\n",
       " 'обучать',\n",
       " 'сообщать',\n",
       " 'вдохновлять',\n",
       " 'продажу',\n",
       " 'продажу',\n",
       " 'аппарат',\n",
       " 'поступил',\n",
       " 'июня',\n",
       " 'июня',\n",
       " 'вместе',\n",
       " 'быстро',\n",
       " 'завоевал',\n",
       " 'существенную',\n",
       " 'часть',\n",
       " 'рынка',\n",
       " 'сша',\n",
       " 'сша',\n",
       " 'популярность',\n",
       " 'поддержал',\n",
       " 'вышедший',\n",
       " 'сентябре',\n",
       " 'того',\n",
       " 'ipod',\n",
       " 'touch',\n",
       " 'обладавший',\n",
       " 'однако',\n",
       " 'заметно',\n",
       " 'урезанной',\n",
       " 'функциональностью',\n",
       " 'сравнению',\n",
       " '2008',\n",
       " '2008',\n",
       " 'wwdc',\n",
       " 'была',\n",
       " 'представлена',\n",
       " 'новая',\n",
       " 'модель',\n",
       " 'более',\n",
       " 'более',\n",
       " 'совершенная',\n",
       " 'лишённая',\n",
       " 'многих',\n",
       " 'аппаратных',\n",
       " 'программных',\n",
       " 'недостатков',\n",
       " 'предшественника',\n",
       " 'новой',\n",
       " 'версией',\n",
       " 'низкой',\n",
       " 'цене',\n",
       " 'контрактом',\n",
       " 'оператора',\n",
       " 'стал',\n",
       " 'первым',\n",
       " 'первым',\n",
       " 'получившим',\n",
       " 'русскую',\n",
       " 'локализацию',\n",
       " 'официально',\n",
       " 'продававшимся',\n",
       " 'россии']"
      ]
     },
     "execution_count": 102,
     "metadata": {},
     "output_type": "execute_result"
    }
   ],
   "source": [
    "list(words.elements())"
   ]
  },
  {
   "cell_type": "code",
   "execution_count": 86,
   "metadata": {},
   "outputs": [
    {
     "name": "stdout",
     "output_type": "stream",
     "text": [
      "Counter({'g': 7, 'j': 6, 'a': 5, 's': 4, 'd': 4, 'f': 4, 'l': 2, 'k': 2, 'h': 1})\n"
     ]
    }
   ],
   "source": [
    "print(c)"
   ]
  },
  {
   "cell_type": "markdown",
   "metadata": {},
   "source": [
    "# Можно получить отсортированный список из пар ключ-значение, в порядке убывания значения"
   ]
  },
  {
   "cell_type": "code",
   "execution_count": 87,
   "metadata": {},
   "outputs": [
    {
     "data": {
      "text/plain": [
       "[('g', 7),\n",
       " ('j', 6),\n",
       " ('a', 5),\n",
       " ('s', 4),\n",
       " ('d', 4),\n",
       " ('f', 4),\n",
       " ('l', 2),\n",
       " ('k', 2),\n",
       " ('h', 1)]"
      ]
     },
     "execution_count": 87,
     "metadata": {},
     "output_type": "execute_result"
    }
   ],
   "source": [
    "c.most_common()"
   ]
  },
  {
   "cell_type": "code",
   "execution_count": 104,
   "metadata": {},
   "outputs": [
    {
     "name": "stdout",
     "output_type": "stream",
     "text": [
      "Ключ = iphone его значение = 9\n",
      "Ключ = года его значение = 4\n",
      "Ключ = смартфонов его значение = 2\n",
      "Ключ = для его значение = 2\n",
      "Ключ = конференции его значение = 2\n"
     ]
    }
   ],
   "source": [
    "for key, value in words.most_common(5):\n",
    "    print('Ключ =', key, 'его значение =', value)"
   ]
  },
  {
   "cell_type": "markdown",
   "metadata": {},
   "source": [
    "# Можно передать в метод `most_common` число, которое ограничит наш список"
   ]
  },
  {
   "cell_type": "code",
   "execution_count": 89,
   "metadata": {},
   "outputs": [
    {
     "name": "stdout",
     "output_type": "stream",
     "text": [
      "Ключ = g его значение = 7\n",
      "Ключ = j его значение = 6\n",
      "Ключ = a его значение = 5\n"
     ]
    }
   ],
   "source": [
    "for key, value in c.most_common(3):\n",
    "    print('Ключ =', key, 'его значение =', value)"
   ]
  },
  {
   "cell_type": "code",
   "execution_count": 90,
   "metadata": {},
   "outputs": [
    {
     "data": {
      "text/plain": [
       "Counter({'a': 3, 'b': 2, 's': 2, 'e': 1})"
      ]
     },
     "execution_count": 90,
     "metadata": {},
     "output_type": "execute_result"
    }
   ],
   "source": [
    "a"
   ]
  },
  {
   "cell_type": "code",
   "execution_count": 91,
   "metadata": {},
   "outputs": [
    {
     "data": {
      "text/plain": [
       "Counter({'a': 5,\n",
       "         'l': 2,\n",
       "         'j': 6,\n",
       "         's': 4,\n",
       "         'g': 7,\n",
       "         'd': 4,\n",
       "         'f': 4,\n",
       "         'k': 2,\n",
       "         'h': 1})"
      ]
     },
     "execution_count": 91,
     "metadata": {},
     "output_type": "execute_result"
    }
   ],
   "source": [
    "c"
   ]
  },
  {
   "cell_type": "markdown",
   "metadata": {},
   "source": [
    "# С помощью метода `subtract()` можно выесть два счетика"
   ]
  },
  {
   "cell_type": "code",
   "execution_count": 106,
   "metadata": {},
   "outputs": [],
   "source": [
    "c_words = Counter(['iphone', 'для'])"
   ]
  },
  {
   "cell_type": "code",
   "execution_count": 109,
   "metadata": {},
   "outputs": [],
   "source": [
    "words.subtract(c_words)"
   ]
  },
  {
   "cell_type": "code",
   "execution_count": 110,
   "metadata": {},
   "outputs": [
    {
     "data": {
      "text/plain": [
       "[('iphone', 7),\n",
       " ('года', 4),\n",
       " ('смартфонов', 2),\n",
       " ('конференции', 2),\n",
       " ('2007', 2)]"
      ]
     },
     "execution_count": 110,
     "metadata": {},
     "output_type": "execute_result"
    }
   ],
   "source": [
    "words.most_common(5)"
   ]
  },
  {
   "cell_type": "code",
   "execution_count": 92,
   "metadata": {
    "collapsed": true
   },
   "outputs": [],
   "source": [
    "c.subtract(a)"
   ]
  },
  {
   "cell_type": "code",
   "execution_count": 93,
   "metadata": {},
   "outputs": [
    {
     "data": {
      "text/plain": [
       "Counter({'a': 2,\n",
       "         'l': 2,\n",
       "         'j': 6,\n",
       "         's': 2,\n",
       "         'g': 7,\n",
       "         'd': 4,\n",
       "         'f': 4,\n",
       "         'k': 2,\n",
       "         'h': 1,\n",
       "         'b': -2,\n",
       "         'e': -1})"
      ]
     },
     "execution_count": 93,
     "metadata": {},
     "output_type": "execute_result"
    }
   ],
   "source": [
    "c"
   ]
  },
  {
   "cell_type": "markdown",
   "metadata": {},
   "source": [
    "# Можно также использовать привычные нам операторы `+` и `-`"
   ]
  },
  {
   "cell_type": "code",
   "execution_count": 94,
   "metadata": {},
   "outputs": [
    {
     "data": {
      "text/plain": [
       "Counter({'l': 2, 'j': 6, 'g': 7, 'd': 4, 'f': 4, 'k': 2, 'h': 1})"
      ]
     },
     "execution_count": 94,
     "metadata": {},
     "output_type": "execute_result"
    }
   ],
   "source": [
    "c - a"
   ]
  },
  {
   "cell_type": "code",
   "execution_count": 95,
   "metadata": {},
   "outputs": [
    {
     "data": {
      "text/plain": [
       "Counter({'a': 5,\n",
       "         'l': 2,\n",
       "         'j': 6,\n",
       "         's': 4,\n",
       "         'g': 7,\n",
       "         'd': 4,\n",
       "         'f': 4,\n",
       "         'k': 2,\n",
       "         'h': 1})"
      ]
     },
     "execution_count": 95,
     "metadata": {},
     "output_type": "execute_result"
    }
   ],
   "source": [
    "c + a"
   ]
  },
  {
   "cell_type": "code",
   "execution_count": 96,
   "metadata": {},
   "outputs": [
    {
     "name": "stdout",
     "output_type": "stream",
     "text": [
      "Counter({'a': 3, 'b': 2, 's': 2, 'e': 1})\n"
     ]
    }
   ],
   "source": [
    "print(a)"
   ]
  },
  {
   "cell_type": "code",
   "execution_count": 97,
   "metadata": {},
   "outputs": [
    {
     "name": "stdout",
     "output_type": "stream",
     "text": [
      "Counter({'g': 7, 'j': 6, 'd': 4, 'f': 4, 'a': 2, 'l': 2, 's': 2, 'k': 2, 'h': 1, 'e': -1, 'b': -2})\n"
     ]
    }
   ],
   "source": [
    "print(c)"
   ]
  },
  {
   "cell_type": "markdown",
   "metadata": {},
   "source": [
    "# Можно пересекать множества"
   ]
  },
  {
   "cell_type": "code",
   "execution_count": 117,
   "metadata": {},
   "outputs": [
    {
     "data": {
      "text/plain": [
       "Counter({'2007': 2,\n",
       "         '2008': 2,\n",
       "         'apple': 1,\n",
       "         'expo': 1,\n",
       "         'individual': 1,\n",
       "         'inform': 1,\n",
       "         'inspire': 1,\n",
       "         'instruct': 1,\n",
       "         'internet': 1,\n",
       "         'ios': 1,\n",
       "         'iphone': 7,\n",
       "         'ipod': 1,\n",
       "         'macos': 1,\n",
       "         'macworld': 1,\n",
       "         'phone': 1,\n",
       "         'touch': 1,\n",
       "         'wwdc': 1,\n",
       "         'англ': 1,\n",
       "         'анонсирован': 1,\n",
       "         'аппарат': 1,\n",
       "         'аппаратных': 1,\n",
       "         'более': 2,\n",
       "         'буква': 1,\n",
       "         'буквы': 1,\n",
       "         'был': 1,\n",
       "         'была': 1,\n",
       "         'быстро': 1,\n",
       "         'вдохновлять': 1,\n",
       "         'версией': 1,\n",
       "         'версию': 1,\n",
       "         'вещи': 1,\n",
       "         'вместе': 1,\n",
       "         'впервые': 1,\n",
       "         'вышедший': 1,\n",
       "         'года': 4,\n",
       "         'джобс': 1,\n",
       "         'джобсом': 1,\n",
       "         'для': 0,\n",
       "         'добавлением': 1,\n",
       "         'другие': 1,\n",
       "         'завоевал': 1,\n",
       "         'заметно': 1,\n",
       "         'заявил': 1,\n",
       "         'интернет': 1,\n",
       "         'июня': 2,\n",
       "         'контрактом': 1,\n",
       "         'конференции': 2,\n",
       "         'корпорацией': 1,\n",
       "         'личный': 1,\n",
       "         'лишённая': 1,\n",
       "         'локализацию': 1,\n",
       "         'многих': 1,\n",
       "         'мобильном': 1,\n",
       "         'модель': 1,\n",
       "         'название': 1,\n",
       "         'нас': 1,\n",
       "         'недостатков': 1,\n",
       "         'низкой': 1,\n",
       "         'новая': 1,\n",
       "         'новой': 1,\n",
       "         'обладавший': 1,\n",
       "         'образовано': 1,\n",
       "         'обучать': 1,\n",
       "         'однако': 1,\n",
       "         'означает': 1,\n",
       "         'оператора': 1,\n",
       "         'операционной': 1,\n",
       "         'оптимизированную': 1,\n",
       "         'официально': 1,\n",
       "         'первым': 2,\n",
       "         'под': 1,\n",
       "         'поддержал': 1,\n",
       "         'показал': 1,\n",
       "         'получившим': 1,\n",
       "         'популярность': 1,\n",
       "         'поступил': 1,\n",
       "         'представлена': 1,\n",
       "         'представляющей': 1,\n",
       "         'предшественника': 1,\n",
       "         'презентации': 1,\n",
       "         'программных': 1,\n",
       "         'продававшимся': 1,\n",
       "         'продажу': 2,\n",
       "         'работают': 1,\n",
       "         'разработанных': 1,\n",
       "         'россии': 1,\n",
       "         'русскую': 1,\n",
       "         'рынка': 1,\n",
       "         'сентябре': 1,\n",
       "         'серия': 1,\n",
       "         'системы': 1,\n",
       "         'сказал': 1,\n",
       "         'слайд': 1,\n",
       "         'слова': 1,\n",
       "         'словами': 1,\n",
       "         'смартфонов': 2,\n",
       "         'собой': 1,\n",
       "         'совершенная': 1,\n",
       "         'сокращение': 1,\n",
       "         'сообщать': 1,\n",
       "         'сравнению': 1,\n",
       "         'стал': 1,\n",
       "         'стивом': 1,\n",
       "         'существенную': 1,\n",
       "         'сша': 2,\n",
       "         'также': 2,\n",
       "         'телефон': 1,\n",
       "         'того': 1,\n",
       "         'управлением': 1,\n",
       "         'упрощённую': 1,\n",
       "         'урезанной': 1,\n",
       "         'устройстве': 1,\n",
       "         'функциональностью': 1,\n",
       "         'функционирования': 1,\n",
       "         'цене': 1,\n",
       "         'часть': 1,\n",
       "         'что': 2,\n",
       "         'эта': 1,\n",
       "         'это': 1,\n",
       "         'января': 1})"
      ]
     },
     "execution_count": 117,
     "metadata": {},
     "output_type": "execute_result"
    }
   ],
   "source": [
    "words"
   ]
  },
  {
   "cell_type": "code",
   "execution_count": 122,
   "metadata": {},
   "outputs": [],
   "source": [
    "words.subtract(c_words)"
   ]
  },
  {
   "cell_type": "code",
   "execution_count": 123,
   "metadata": {},
   "outputs": [
    {
     "data": {
      "text/plain": [
       "-1"
      ]
     },
     "execution_count": 123,
     "metadata": {},
     "output_type": "execute_result"
    }
   ],
   "source": [
    "words['для']"
   ]
  },
  {
   "cell_type": "code",
   "execution_count": 124,
   "metadata": {},
   "outputs": [
    {
     "data": {
      "text/plain": [
       "Counter({'iphone': 1})"
      ]
     },
     "execution_count": 124,
     "metadata": {},
     "output_type": "execute_result"
    }
   ],
   "source": [
    "words & c_words"
   ]
  },
  {
   "cell_type": "code",
   "execution_count": 98,
   "metadata": {},
   "outputs": [
    {
     "data": {
      "text/plain": [
       "Counter({'a': 2, 's': 2})"
      ]
     },
     "execution_count": 98,
     "metadata": {},
     "output_type": "execute_result"
    }
   ],
   "source": [
    "a & c"
   ]
  },
  {
   "cell_type": "code",
   "execution_count": 127,
   "metadata": {},
   "outputs": [
    {
     "data": {
      "text/plain": [
       "6"
      ]
     },
     "execution_count": 127,
     "metadata": {},
     "output_type": "execute_result"
    }
   ],
   "source": [
    "words['iphone']"
   ]
  },
  {
   "cell_type": "code",
   "execution_count": 125,
   "metadata": {},
   "outputs": [
    {
     "data": {
      "text/plain": [
       "Counter({'2007': 2,\n",
       "         '2008': 2,\n",
       "         'apple': 1,\n",
       "         'expo': 1,\n",
       "         'individual': 1,\n",
       "         'inform': 1,\n",
       "         'inspire': 1,\n",
       "         'instruct': 1,\n",
       "         'internet': 1,\n",
       "         'ios': 1,\n",
       "         'iphone': 6,\n",
       "         'ipod': 1,\n",
       "         'macos': 1,\n",
       "         'macworld': 1,\n",
       "         'phone': 1,\n",
       "         'touch': 1,\n",
       "         'wwdc': 1,\n",
       "         'англ': 1,\n",
       "         'анонсирован': 1,\n",
       "         'аппарат': 1,\n",
       "         'аппаратных': 1,\n",
       "         'более': 2,\n",
       "         'буква': 1,\n",
       "         'буквы': 1,\n",
       "         'был': 1,\n",
       "         'была': 1,\n",
       "         'быстро': 1,\n",
       "         'вдохновлять': 1,\n",
       "         'версией': 1,\n",
       "         'версию': 1,\n",
       "         'вещи': 1,\n",
       "         'вместе': 1,\n",
       "         'впервые': 1,\n",
       "         'вышедший': 1,\n",
       "         'года': 4,\n",
       "         'джобс': 1,\n",
       "         'джобсом': 1,\n",
       "         'для': 1,\n",
       "         'добавлением': 1,\n",
       "         'другие': 1,\n",
       "         'завоевал': 1,\n",
       "         'заметно': 1,\n",
       "         'заявил': 1,\n",
       "         'интернет': 1,\n",
       "         'июня': 2,\n",
       "         'контрактом': 1,\n",
       "         'конференции': 2,\n",
       "         'корпорацией': 1,\n",
       "         'личный': 1,\n",
       "         'лишённая': 1,\n",
       "         'локализацию': 1,\n",
       "         'многих': 1,\n",
       "         'мобильном': 1,\n",
       "         'модель': 1,\n",
       "         'название': 1,\n",
       "         'нас': 1,\n",
       "         'недостатков': 1,\n",
       "         'низкой': 1,\n",
       "         'новая': 1,\n",
       "         'новой': 1,\n",
       "         'обладавший': 1,\n",
       "         'образовано': 1,\n",
       "         'обучать': 1,\n",
       "         'однако': 1,\n",
       "         'означает': 1,\n",
       "         'оператора': 1,\n",
       "         'операционной': 1,\n",
       "         'оптимизированную': 1,\n",
       "         'официально': 1,\n",
       "         'первым': 2,\n",
       "         'под': 1,\n",
       "         'поддержал': 1,\n",
       "         'показал': 1,\n",
       "         'получившим': 1,\n",
       "         'популярность': 1,\n",
       "         'поступил': 1,\n",
       "         'представлена': 1,\n",
       "         'представляющей': 1,\n",
       "         'предшественника': 1,\n",
       "         'презентации': 1,\n",
       "         'программных': 1,\n",
       "         'продававшимся': 1,\n",
       "         'продажу': 2,\n",
       "         'работают': 1,\n",
       "         'разработанных': 1,\n",
       "         'россии': 1,\n",
       "         'русскую': 1,\n",
       "         'рынка': 1,\n",
       "         'сентябре': 1,\n",
       "         'серия': 1,\n",
       "         'системы': 1,\n",
       "         'сказал': 1,\n",
       "         'слайд': 1,\n",
       "         'слова': 1,\n",
       "         'словами': 1,\n",
       "         'смартфонов': 2,\n",
       "         'собой': 1,\n",
       "         'совершенная': 1,\n",
       "         'сокращение': 1,\n",
       "         'сообщать': 1,\n",
       "         'сравнению': 1,\n",
       "         'стал': 1,\n",
       "         'стивом': 1,\n",
       "         'существенную': 1,\n",
       "         'сша': 2,\n",
       "         'также': 2,\n",
       "         'телефон': 1,\n",
       "         'того': 1,\n",
       "         'управлением': 1,\n",
       "         'упрощённую': 1,\n",
       "         'урезанной': 1,\n",
       "         'устройстве': 1,\n",
       "         'функциональностью': 1,\n",
       "         'функционирования': 1,\n",
       "         'цене': 1,\n",
       "         'часть': 1,\n",
       "         'что': 2,\n",
       "         'эта': 1,\n",
       "         'это': 1,\n",
       "         'января': 1})"
      ]
     },
     "execution_count": 125,
     "metadata": {},
     "output_type": "execute_result"
    }
   ],
   "source": [
    "words | c_words"
   ]
  },
  {
   "cell_type": "markdown",
   "metadata": {},
   "source": [
    "# С помощью метода `clear()` можно очистить счетчик"
   ]
  },
  {
   "cell_type": "code",
   "execution_count": 128,
   "metadata": {
    "collapsed": true
   },
   "outputs": [],
   "source": [
    "a.clear()"
   ]
  },
  {
   "cell_type": "code",
   "execution_count": 129,
   "metadata": {},
   "outputs": [
    {
     "data": {
      "text/plain": [
       "Counter()"
      ]
     },
     "execution_count": 129,
     "metadata": {},
     "output_type": "execute_result"
    }
   ],
   "source": [
    "a"
   ]
  },
  {
   "cell_type": "code",
   "execution_count": 130,
   "metadata": {
    "collapsed": true
   },
   "outputs": [],
   "source": [
    "from collections import defaultdict"
   ]
  },
  {
   "cell_type": "code",
   "execution_count": 153,
   "metadata": {},
   "outputs": [],
   "source": [
    "ddict = defaultdict(int)"
   ]
  },
  {
   "cell_type": "code",
   "execution_count": 147,
   "metadata": {},
   "outputs": [
    {
     "data": {
      "text/plain": [
       "[]"
      ]
     },
     "execution_count": 147,
     "metadata": {},
     "output_type": "execute_result"
    }
   ],
   "source": [
    "ddict['lst']"
   ]
  },
  {
   "cell_type": "code",
   "execution_count": 154,
   "metadata": {},
   "outputs": [],
   "source": [
    "lst_2 = [('a', 2), ('b', 3), ('c', 1)]"
   ]
  },
  {
   "cell_type": "code",
   "execution_count": 155,
   "metadata": {},
   "outputs": [],
   "source": [
    "for k, v in lst_2:\n",
    "    ddict[k] = v"
   ]
  },
  {
   "cell_type": "code",
   "execution_count": 156,
   "metadata": {},
   "outputs": [
    {
     "data": {
      "text/plain": [
       "defaultdict(int, {'a': 2, 'b': 3, 'c': 1})"
      ]
     },
     "execution_count": 156,
     "metadata": {},
     "output_type": "execute_result"
    }
   ],
   "source": [
    "ddict"
   ]
  },
  {
   "cell_type": "code",
   "execution_count": 140,
   "metadata": {},
   "outputs": [],
   "source": [
    "for w in re.findall('\\w{3,}', my_text):\n",
    "    ddict[w] += 1"
   ]
  },
  {
   "cell_type": "code",
   "execution_count": 143,
   "metadata": {},
   "outputs": [],
   "source": [
    "dct = {}\n",
    "\n",
    "for w in re.findall('\\w{3,}', my_text):\n",
    "    if w in dct:\n",
    "        dct[w] += 1\n",
    "    else:\n",
    "        dct[w] = 0"
   ]
  },
  {
   "cell_type": "code",
   "execution_count": 158,
   "metadata": {},
   "outputs": [],
   "source": [
    "dct = defaultdict(int)\n",
    "\n",
    "for w in re.findall('\\w{3,}', my_text):\n",
    "    dct[w] += 1"
   ]
  },
  {
   "cell_type": "code",
   "execution_count": null,
   "metadata": {
    "collapsed": true
   },
   "outputs": [],
   "source": [
    "csv, json, math, collections"
   ]
  },
  {
   "cell_type": "code",
   "execution_count": null,
   "metadata": {
    "collapsed": true
   },
   "outputs": [],
   "source": [
    "Counter, defaultdict"
   ]
  }
 ],
 "metadata": {
  "kernelspec": {
   "display_name": "Python 3",
   "language": "python",
   "name": "python3"
  },
  "language_info": {
   "codemirror_mode": {
    "name": "ipython",
    "version": 3
   },
   "file_extension": ".py",
   "mimetype": "text/x-python",
   "name": "python",
   "nbconvert_exporter": "python",
   "pygments_lexer": "ipython3",
   "version": "3.6.5"
  }
 },
 "nbformat": 4,
 "nbformat_minor": 2
}
