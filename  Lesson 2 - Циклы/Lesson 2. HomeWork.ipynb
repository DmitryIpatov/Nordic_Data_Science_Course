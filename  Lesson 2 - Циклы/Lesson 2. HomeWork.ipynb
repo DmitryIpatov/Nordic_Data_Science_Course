{
 "cells": [
  {
   "cell_type": "markdown",
   "metadata": {},
   "source": [
    "## Задача 1\n",
    "Напишите программу, которая:\n",
    "1. Считывает числа из консоли\n",
    "2. После каждого считывания добавляет число в список lst\n",
    "3. Суммирует все числа в списке\n",
    "4. Если сумма больше 300 прекращает работу и выводит на экран сообщение \"сумма = \", \"количество элементов в списке = \""
   ]
  },
  {
   "cell_type": "code",
   "execution_count": 1,
   "metadata": {},
   "outputs": [
    {
     "name": "stdout",
     "output_type": "stream",
     "text": [
      "введите число: 5\n",
      "введите число: 299\n",
      "сумма = 304 , количество элементов в списке = 2\n"
     ]
    }
   ],
   "source": [
    "lst = []\n",
    "while sum(lst) <= 300:\n",
    "    x = int(input('введите число: '))\n",
    "    lst = lst + [x]\n",
    "print ('сумма =',sum(lst), ', количество элементов в списке =',len(lst))"
   ]
  },
  {
   "cell_type": "markdown",
   "metadata": {},
   "source": [
    "## Задача 2\n",
    "\n",
    "**Не используя** стандартные функции min() и max() реализовать:\n",
    "\n",
    "1. Завести список (размером не менее 10 элементов), заполнить его числами.\n",
    "2. Используя цикл for и if-else реализовать поиск минимального и максимального чисел в списке. \n",
    "3. Вывести минимальное и максимальное числа на экран\n",
    "\n",
    "Учесть, что числа могут быть отрицательными, повторяющимися"
   ]
  },
  {
   "cell_type": "code",
   "execution_count": 36,
   "metadata": {},
   "outputs": [
    {
     "name": "stdout",
     "output_type": "stream",
     "text": [
      "минимальное число:  -8\n",
      "максимальное число:  56\n"
     ]
    }
   ],
   "source": [
    "lst = [1, 0, -5, 3.3, 0.001, 10, 4, 56, 56, -8, 1, 5, 0]\n",
    "minimum = 0\n",
    "maximum = 0\n",
    "for i in lst:\n",
    "    if i < minimum:\n",
    "        minimum = i\n",
    "    elif i > maximum:\n",
    "        maximum = i\n",
    "print ('минимальное число: ', minimum)\n",
    "print ('максимальное число: ', maximum)"
   ]
  },
  {
   "cell_type": "markdown",
   "metadata": {},
   "source": [
    "## Задача 3\n",
    "\n",
    "1. Завести матрицу (2-мерный список) размером 3х4\n",
    "2. Преобразовать её к np.array.\n",
    "3. Найти сумму значений каждого **стобца** матрицы, вывести на экран, записать эти значения в отдельный список\n",
    "4. Используя функции `np.min` и `np.max` найти минимальную и максимальную из сумм. Вывести на экран"
   ]
  },
  {
   "cell_type": "code",
   "execution_count": 37,
   "metadata": {},
   "outputs": [
    {
     "name": "stdout",
     "output_type": "stream",
     "text": [
      "сумма столбца 1:  3.0\n",
      "сумма столбца 2:  6.0\n",
      "сумма столбца 3:  9.0\n",
      "сумма столбца 4:  7.6\n",
      "минимальная сумма:  3.0\n",
      "максимальная сумма:  9.0\n"
     ]
    }
   ],
   "source": [
    "import numpy as np\n",
    "arr = [[1,2,3,4], [1,2,3,4], [1,2,3,-0.4]]\n",
    "m = np.array(arr)\n",
    "\n",
    "s1 = 0\n",
    "s2 = 0\n",
    "s3 = 0\n",
    "s4 = 0\n",
    "for i in m:\n",
    "    s1 += (i[0])\n",
    "    s2 += (i[1])\n",
    "    s3 += (i[2])\n",
    "    s4 += (i[3])\n",
    "    \n",
    "print ('сумма столбца 1: ', s1)\n",
    "print ('сумма столбца 2: ',s2)\n",
    "print ('сумма столбца 3: ',s3)\n",
    "print ('сумма столбца 4: ',s4)\n",
    "\n",
    "sums = [s1, s2, s3, s4]\n",
    "\n",
    "print ('минимальная сумма: ', np.min(sums))\n",
    "print ('максимальная сумма: ', np.max(sums))\n"
   ]
  },
  {
   "cell_type": "code",
   "execution_count": null,
   "metadata": {},
   "outputs": [],
   "source": []
  }
 ],
 "metadata": {
  "kernelspec": {
   "display_name": "Python 3",
   "language": "python",
   "name": "python3"
  },
  "language_info": {
   "codemirror_mode": {
    "name": "ipython",
    "version": 3
   },
   "file_extension": ".py",
   "mimetype": "text/x-python",
   "name": "python",
   "nbconvert_exporter": "python",
   "pygments_lexer": "ipython3",
   "version": "3.6.5"
  }
 },
 "nbformat": 4,
 "nbformat_minor": 2
}
