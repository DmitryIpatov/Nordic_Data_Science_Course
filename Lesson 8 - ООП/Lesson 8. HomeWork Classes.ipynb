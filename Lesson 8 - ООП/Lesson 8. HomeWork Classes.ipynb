{
 "cells": [
  {
   "cell_type": "markdown",
   "metadata": {},
   "source": [
    "# Задача 1\n",
    "Задать базовый класс `BankProduct` (банковский продукт - кредит, вклад). Основными полями его будут: срок, имя, фамилия клиента, сумма (в руб.), процент.  Базовый класс должен так же уметь выводить данную информацию по продукту с помощью переопределения метода `__str__`.\n",
    "\n",
    "\n",
    "Задать два класса-наследника `Credit` (кредит), `Deposit` (вклад).  \n",
    "Данные классы будут расширять базовый полями:  \n",
    "Для класса `Credit`:\n",
    "* тип (поле класса)\n",
    "* минимальная сумма досрочного погашения\n",
    "* максимальный срок просрочки оплаты по кредиту (в днях)\n",
    "* пени за просрочку (% в день)\n",
    "\n",
    "Для класса `Deposit`:\n",
    "* тип (поле класса)\n",
    "* возможность пополнять счет\n",
    "* возможность частичного снятия со счета\n",
    "* минимальная дата, с которой можно закрыть счет\n",
    "\n",
    "Далее.\n",
    "\n",
    "Создать несколько объектов класса `Credit` и `Deposit` (по 3 на каждый класс)\n",
    "\n",
    "В цикле подсчитать сумму выданных кредитов (в руб.) и сумму депозитов на счетах в банке (в руб.). Необходимо обращаться к соответствующим полям класса."
   ]
  },
  {
   "cell_type": "code",
   "execution_count": 1,
   "metadata": {},
   "outputs": [],
   "source": [
    "class BankProduct:\n",
    "    def __init__(self, term, name, surname, summa, percent):\n",
    "        self.term = term\n",
    "        self.name = name\n",
    "        self.surname = surname\n",
    "        self.summa = summa\n",
    "        self.percent = percent\n",
    "        \n",
    "    def __str__(self):   \n",
    "        return 'Client: {} {}, Term: {}, Sum: {}, Percent: {}'.format(\n",
    "            self.name, self.surname, self.term, self.summa, self.percent)\n",
    "\n",
    "class Credit(BankProduct):\n",
    "    type = 'Credit'\n",
    "    def __init__(self, term, name, surname, summa, percent, \n",
    "                 min_early_repayment_sum, max_delay_term_days, late_fees):\n",
    "        super().__init__(term, name, surname, summa, percent)\n",
    "        self.min_early_repayment_sum = min_early_repayment_sum\n",
    "        self.max_delay_term_days = max_delay_term_days\n",
    "        self.late_fees = late_fees\n",
    "\n",
    "class Deposit(BankProduct):\n",
    "    type = 'Deposit'\n",
    "    def __init__(self, term, name, surname, summa, percent, \n",
    "                 can_add_account, can_partial_withdraw, min_date_close_account):\n",
    "        super().__init__(term, name, surname, summa, percent)\n",
    "        self.can_add_account = can_add_account\n",
    "        self.can_partial_withdraw = can_partial_withdraw\n",
    "        self.min_date_close_account = min_date_close_account\n",
    "\n",
    "       "
   ]
  },
  {
   "cell_type": "code",
   "execution_count": 2,
   "metadata": {},
   "outputs": [],
   "source": [
    "# Создать несколько объектов класса Credit и Deposit (по 3 на каждый класс)\n",
    "cr1 = Credit(12, 'ivan', 'ivanov', 500_000, 12, 250000, 10, 0.01)\n",
    "cr2 = Credit(24, 'petr', 'gusev', 1_500_000, 15.5, 100000, 10, 0.01)\n",
    "cr3 = Credit(36, 'oleg', 'pavlov', 200_000, 12.99, 250000, 10, 0.01)\n",
    "\n",
    "dep1 = Deposit(12, 'anna', 'ivanova', 300_000, 6, True, True, '2019-08-01')\n",
    "dep2 = Deposit(15, 'olga', 'volkova', 4_000_000, 5.6, 100000, 10, '2019-12-01')\n",
    "dep3 = Deposit(18, 'anna', 'zaytseva', 700_000, 4.5, 250000, 10, '2020-03-31')\n"
   ]
  },
  {
   "cell_type": "code",
   "execution_count": 3,
   "metadata": {},
   "outputs": [],
   "source": [
    "#В цикле подсчитать сумму выданных кредитов (в руб.) \n",
    "#и сумму депозитов на счетах в банке (в руб.). Необходимо обращаться к соответствующим полям класса.\n",
    "\n",
    "def product_sum(*products):\n",
    "    summa = 0\n",
    "    for product in products:\n",
    "        summa += product.summa\n",
    "    return summa"
   ]
  },
  {
   "cell_type": "code",
   "execution_count": 4,
   "metadata": {},
   "outputs": [
    {
     "name": "stdout",
     "output_type": "stream",
     "text": [
      "2200000\n"
     ]
    }
   ],
   "source": [
    "print(product_sum(cr1, cr2, cr3))"
   ]
  },
  {
   "cell_type": "code",
   "execution_count": 5,
   "metadata": {},
   "outputs": [
    {
     "name": "stdout",
     "output_type": "stream",
     "text": [
      "5000000\n"
     ]
    }
   ],
   "source": [
    "print(product_sum(dep1, dep2, dep3))"
   ]
  },
  {
   "cell_type": "markdown",
   "metadata": {},
   "source": [
    "# Задача 2\n",
    "\n",
    "Для классов `Credit` и `Deposit` реализовать методы \n",
    "\n",
    "1. подсчета финальной суммы, которую выплатит заемщик (в случае кредита) и которую получит вкладчик (в случае депозита), с учетом капитализации, если не будет досрочных погашений (в случае кредита) и пополнений/списаний (в случае депозита).\n",
    "\n",
    "2. подсчета возможности выдачи кредита данному клиенту. Необходимо передать в метод доп. параметр - зп клиента. Если ежемесячный платеж получается больше, чем 60% его зп, то отказать в выдаче кредита (вернуть `False`), иначе - `True`\n",
    "\n",
    "3. `*` подсчета финальной суммы с учетом ежемесячной капитализации, которую получит вкладчик, если по истечение половины срока депозита, снимет n-ю долю со счета (параметр n должен передаться в метод как аргумент функции)"
   ]
  },
  {
   "cell_type": "code",
   "execution_count": 43,
   "metadata": {},
   "outputs": [],
   "source": [
    "class Credit(BankProduct):\n",
    "    type = 'Credit'\n",
    "    def __init__(self, term, name, surname, summa, percent, \n",
    "                 min_early_repayment_sum, max_delay_term_days, late_fees):\n",
    "        super().__init__(term, name, surname, summa, percent)\n",
    "        self.min_early_repayment_sum = min_early_repayment_sum\n",
    "        self.max_delay_term_days = max_delay_term_days\n",
    "        self.late_fees = late_fees\n",
    "    \n",
    "    # Процентная ставка по кредиту в месяц\n",
    "    def __get_monthly_percent(self, year_percent):       \n",
    "        return (year_percent/12/100)\n",
    "\n",
    "    # Коэффициент аннуитета\n",
    "    def __get_annuity_coeff(self, term_months, year_percent):\n",
    "        mp = self.__get_monthly_percent(year_percent)       \n",
    "        return (mp * (1 + mp)**term_months) / ((1 + mp)**term_months - 1)\n",
    "       \n",
    "    # Ежемесячный аннуитетный платеж \n",
    "    def __get_monthly_payment(self, summa, annuity_coeff):\n",
    "        return annuity_coeff * summa       \n",
    "        \n",
    "    # 1. подсчет финальной суммы, которую выплатит заемщик (в случае кредита)\n",
    "    def calc_total_summa(self):\n",
    "        summa = self.summa\n",
    "        term_months = self.term\n",
    "        year_percent = self.percent       \n",
    "        return 'Общая сумма кредита: ' + str(\n",
    "            self.__get_monthly_payment(summa, self.__get_annuity_coeff(term_months, year_percent)) * term_months\n",
    "        )\n",
    "\n",
    "    #2. подсчет возможности выдачи кредита данному клиенту\n",
    "    def can_issue(self, client_salary):\n",
    "        ac = self.__get_annuity_coeff(self.term, self.percent)\n",
    "        if self.__get_monthly_payment(self.summa, ac) > client_salary*0.6:\n",
    "            return False\n",
    "        else:\n",
    "            return True\n"
   ]
  },
  {
   "cell_type": "code",
   "execution_count": 44,
   "metadata": {},
   "outputs": [
    {
     "name": "stdout",
     "output_type": "stream",
     "text": [
      "Общая сумма кредита: 1337889.0009506599\n"
     ]
    }
   ],
   "source": [
    "cr1 = Credit(36, 'ivan', 'ivanov', 1_000_000, 20, 250000, 10, 0.01)\n",
    "print(cr1.calc_total_summa())  "
   ]
  },
  {
   "cell_type": "code",
   "execution_count": 45,
   "metadata": {},
   "outputs": [
    {
     "data": {
      "text/plain": [
       "True"
      ]
     },
     "execution_count": 45,
     "metadata": {},
     "output_type": "execute_result"
    }
   ],
   "source": [
    "cr1.can_issue(100_000)"
   ]
  },
  {
   "cell_type": "code",
   "execution_count": 102,
   "metadata": {},
   "outputs": [],
   "source": [
    "class Deposit(BankProduct):\n",
    "    type = 'Deposit'\n",
    "    def __init__(self, term, name, surname, summa, percent, \n",
    "                 can_add_account, can_partial_withdraw, min_date_close_account):\n",
    "        super().__init__(term, name, surname, summa, percent)\n",
    "        self.can_add_account = can_add_account\n",
    "        self.can_partial_withdraw = can_partial_withdraw\n",
    "        self.min_date_close_account = min_date_close_account\n",
    "     \n",
    "    def calc_total_summa(self):\n",
    "        summa = self.summa\n",
    "        year_percent = self.percent\n",
    "        term_months = self.term\n",
    "        return 'Общая сумма депозита: ' + str(\n",
    "            summa * (1 + (year_percent/100/12))**term_months \n",
    "        )\n",
    "    \n",
    "    # 3. подсчет финальной суммы с учетом ежемесячной капитализации, \n",
    "    # которую получит вкладчик, если по истечение половины срока депозита, \n",
    "    # снимет n-ю долю со счета (параметр n должен передаться в метод как аргумент функции)\n",
    "    \n",
    "    def calc_total_summa_halfterm(self, n):\n",
    "        if self.can_partial_withdraw != True:\n",
    "            print ('Депозит {} не поддерживает частичное снятие'.format(self.name))\n",
    "            return None\n",
    "        \n",
    "        else:\n",
    "            summa = self.summa\n",
    "            year_percent = self.percent\n",
    "            term_months = self.term\n",
    "        \n",
    "            # сколько накопилось за половину срока\n",
    "            t = term_months/2\n",
    "            half_term_amount = summa * (1 + (year_percent/100/12))**t \n",
    "       \n",
    "            # сколько снимается с вклада\n",
    "            withdrawal_amount = half_term_amount * n \n",
    "        \n",
    "            # сколько остается на вкладе после снятия\n",
    "            remain_amount = half_term_amount - withdrawal_amount\n",
    "        \n",
    "            # продолжается накопление на оставшуюся сумму еще половину срока\n",
    "            accumulation = remain_amount * (1 + (year_percent/100/12))**t \n",
    "        \n",
    "            return accumulation    "
   ]
  },
  {
   "cell_type": "code",
   "execution_count": 103,
   "metadata": {},
   "outputs": [],
   "source": [
    "dep5 = Deposit(12, 'anna', 'ivanova', 100000, 5, True, True, '2019-08-01')"
   ]
  },
  {
   "cell_type": "code",
   "execution_count": 104,
   "metadata": {},
   "outputs": [
    {
     "name": "stdout",
     "output_type": "stream",
     "text": [
      "Общая сумма депозита: 105116.1897881733\n"
     ]
    }
   ],
   "source": [
    "print (dep5.calc_total_summa())"
   ]
  },
  {
   "cell_type": "code",
   "execution_count": 105,
   "metadata": {},
   "outputs": [
    {
     "data": {
      "text/plain": [
       "73581.33285172132"
      ]
     },
     "execution_count": 105,
     "metadata": {},
     "output_type": "execute_result"
    }
   ],
   "source": [
    "dep5.calc_total_summa_halfterm(0.3)"
   ]
  },
  {
   "cell_type": "code",
   "execution_count": 106,
   "metadata": {},
   "outputs": [],
   "source": [
    "dep6 = Deposit(12, 'anna', 'ivanova', 100000, 5, True, False, '2019-08-01')"
   ]
  },
  {
   "cell_type": "code",
   "execution_count": 107,
   "metadata": {},
   "outputs": [
    {
     "name": "stdout",
     "output_type": "stream",
     "text": [
      "Депозит anna не поддерживает частичное снятие\n"
     ]
    }
   ],
   "source": [
    "dep6.calc_total_summa_halfterm(0.3)"
   ]
  },
  {
   "cell_type": "code",
   "execution_count": null,
   "metadata": {},
   "outputs": [],
   "source": []
  }
 ],
 "metadata": {
  "kernelspec": {
   "display_name": "Python 3",
   "language": "python",
   "name": "python3"
  },
  "language_info": {
   "codemirror_mode": {
    "name": "ipython",
    "version": 3
   },
   "file_extension": ".py",
   "mimetype": "text/x-python",
   "name": "python",
   "nbconvert_exporter": "python",
   "pygments_lexer": "ipython3",
   "version": "3.6.5"
  }
 },
 "nbformat": 4,
 "nbformat_minor": 2
}
