{
 "cells": [
  {
   "cell_type": "markdown",
   "metadata": {},
   "source": [
    "# Задача 1\n",
    "Задать базовый класс `BankProduct` (банковский продукт - кредит, вклад). Основными полями его будут: срок, имя, фамилия клиента, сумма (в руб.), процент.  Базовый класс должен так же уметь выводить данную информацию по продукту с помощью переопределения метода `__str__`.\n",
    "\n",
    "\n",
    "Задать два класса-наследника `Credit` (кредит), `Deposit` (вклад).  \n",
    "Данные классы будут расширять базовый полями:  \n",
    "Для класса `Credit`:\n",
    "* тип (поле класса)\n",
    "* минимальная сумма досрочного погашения\n",
    "* максимальный срок просрочки оплаты по кредиту (в днях)\n",
    "* пени за просрочку (% в день)\n",
    "\n",
    "Для класса `Deposit`:\n",
    "* тип (поле класса)\n",
    "* возможность пополнять счет\n",
    "* возможность частичного снятия со счета\n",
    "* минимальная дата, с которой можно закрыть счет\n",
    "\n",
    "Далее.\n",
    "\n",
    "Создать несколько объектов класса `Credit` и `Deposit` (по 3 на каждый класс)\n",
    "\n",
    "В цикле подсчитать сумму выданных кредитов (в руб.) и сумму депозитов на счетах в банке (в руб.). Необходимо обращаться к соответствующим полям класса."
   ]
  },
  {
   "cell_type": "code",
   "execution_count": 113,
   "metadata": {},
   "outputs": [],
   "source": [
    "class BankProduct:\n",
    "    def __init__(self, term, name, surname, summa, percent):\n",
    "        self.term = term\n",
    "        self.name = name\n",
    "        self.surname = surname\n",
    "        self.summa = summa\n",
    "        self.percent = percent\n",
    "        \n",
    "    def __str__(self):   \n",
    "        return 'Client: {} {}, Term: {}, Sum: {}, Percent: {}'.format(\n",
    "            self.name, self.surname, self.term, self.summa, self.percent)\n",
    "\n",
    "class Credit(BankProduct):\n",
    "    type = 'Credit'\n",
    "    def __init__(self, term, name, surname, summa, percent, \n",
    "                 min_early_repayment_sum, max_delay_term_days, late_fees):\n",
    "        super().__init__(term, name, surname, summa, percent)\n",
    "        self.min_early_repayment_sum = min_early_repayment_sum\n",
    "        self.max_delay_term_days = max_delay_term_days\n",
    "        self.late_fees = late_fees\n",
    "\n",
    "class Deposit(BankProduct):\n",
    "    type = 'Deposit'\n",
    "    def __init__(self, term, name, surname, summa, percent, \n",
    "                 can_add_account, can_partial_withdraw, min_date_close_account):\n",
    "        super().__init__(term, name, surname, summa, percent)\n",
    "        self.can_add_account = can_add_account\n",
    "        self.can_partial_withdraw = can_partial_withdraw\n",
    "        self.min_date_close_account = min_date_close_account\n",
    "       "
   ]
  },
  {
   "cell_type": "code",
   "execution_count": 114,
   "metadata": {},
   "outputs": [],
   "source": [
    "cr1 = Credit(12, 'ivan', 'ivanov', 500_000, 12, 250000, 10, 0.01)\n",
    "cr2 = Credit(24, 'petr', 'gusev', 1_500_000, 15.5, 100000, 10, 0.01)\n",
    "cr3 = Credit(36, 'oleg', 'pavlov', 200_000, 12.99, 250000, 10, 0.01)\n",
    "\n",
    "dep1 = Deposit(12, 'anna', 'ivanova', 300_000, 6, True, True, '2019-08-01')\n",
    "dep2 = Deposit(15, 'olga', 'volkova', 4_000_000, 5.6, 100000, 10, '2019-12-01')\n",
    "dep3 = Deposit(18, 'anna', 'zaytseva', 700_000, 4.5, 250000, 10, '2020-03-31')\n"
   ]
  },
  {
   "cell_type": "code",
   "execution_count": 115,
   "metadata": {},
   "outputs": [],
   "source": [
    "#В цикле подсчитать сумму выданных кредитов (в руб.) \n",
    "#и сумму депозитов на счетах в банке (в руб.). Необходимо обращаться к соответствующим полям класса."
   ]
  },
  {
   "cell_type": "code",
   "execution_count": 116,
   "metadata": {},
   "outputs": [],
   "source": [
    "def product_sum(*products):\n",
    "    summa = 0\n",
    "    for product in products:\n",
    "        summa += product.summa\n",
    "    return summa\n",
    "    "
   ]
  },
  {
   "cell_type": "code",
   "execution_count": 117,
   "metadata": {},
   "outputs": [
    {
     "name": "stdout",
     "output_type": "stream",
     "text": [
      "2200000\n"
     ]
    }
   ],
   "source": [
    "print(product_sum(cr1, cr2, cr3))"
   ]
  },
  {
   "cell_type": "code",
   "execution_count": 118,
   "metadata": {},
   "outputs": [
    {
     "name": "stdout",
     "output_type": "stream",
     "text": [
      "5000000\n"
     ]
    }
   ],
   "source": [
    "print(product_sum(dep1, dep2, dep3))"
   ]
  },
  {
   "cell_type": "markdown",
   "metadata": {},
   "source": [
    "# Задача 2\n",
    "\n",
    "Для классов `Credit` и `Deposit` реализовать методы \n",
    "\n",
    "1. подсчета финальной суммы, которую выплатит заемщик (в случае кредита) и которую получит вкладчик (в случае депозита), с учетом капитализации, если не будет досрочных погашений (в случае кредита) и пополнений/списаний (в случае депозита).\n",
    "\n",
    "2. подсчета возможности выдачи кредита данному клиенту. Необходимо передать в метод доп. параметр - зп клиента. Если ежемесячный платеж получается больше, чем 60% его зп, то отказать в выдаче кредита (вернуть `False`), иначе - `True`\n",
    "\n",
    "3. `*` подсчета финальной суммы с учетом ежемесячной капитализации, которую получит вкладчик, если по истечение половины срока депозита, снимет n-ю долю со счета (параметр n должен передаться в метод как аргумент функции)"
   ]
  },
  {
   "cell_type": "code",
   "execution_count": 84,
   "metadata": {},
   "outputs": [],
   "source": [
    "# Процентная ставка по кредиту в месяц\n",
    "def get_monthly_percent(year_percent):\n",
    "    #print('monthly_percent: ', year_percent/12/100)\n",
    "    return (year_percent/12/100)\n",
    "\n",
    "# Коэффициент аннуитета\n",
    "def get_annuity_coeff(term_months, year_percent):\n",
    "    mp = get_monthly_percent(year_percent)\n",
    "    #print ('annuity_coeff: ', (mp * (1 + mp)**term_months) / ((1 + mp)**term_months - 1))\n",
    "    return (mp * (1 + mp)**term_months) / ((1 + mp)**term_months - 1)\n",
    "\n",
    "# Ежемесячный аннуитетный платеж \n",
    "def get_monthly_payment(summa, annuity_coeff):\n",
    "    #print (annuity_coeff * summa)\n",
    "    return annuity_coeff * summa\n",
    "\n",
    "def calc_total_summa(summa, term_months, year_percent):\n",
    "    return get_monthly_payment(summa, get_annuity_coeff(term_months, year_percent)) * term_months\n",
    "     \n",
    "    \n"
   ]
  },
  {
   "cell_type": "code",
   "execution_count": 85,
   "metadata": {},
   "outputs": [
    {
     "data": {
      "text/plain": [
       "1337889.0009506599"
      ]
     },
     "execution_count": 85,
     "metadata": {},
     "output_type": "execute_result"
    }
   ],
   "source": [
    "calc_total_summa(1_000_000, 36, 20)"
   ]
  },
  {
   "cell_type": "code",
   "execution_count": 122,
   "metadata": {},
   "outputs": [],
   "source": [
    "class Credit(BankProduct):\n",
    "    type = 'Credit'\n",
    "    def __init__(self, term, name, surname, summa, percent, \n",
    "                 min_early_repayment_sum, max_delay_term_days, late_fees):\n",
    "        super().__init__(term, name, surname, summa, percent)\n",
    "        self.min_early_repayment_sum = min_early_repayment_sum\n",
    "        self.max_delay_term_days = max_delay_term_days\n",
    "        self.late_fees = late_fees\n",
    "    \n",
    "    # Процентная ставка по кредиту в месяц\n",
    "    def __get_monthly_percent(year_percent):\n",
    "        #print('monthly_percent: ', year_percent/12/100)\n",
    "        return (year_percent/12/100)\n",
    "\n",
    "    # Коэффициент аннуитета\n",
    "    def __get_annuity_coeff(term_months, year_percent):\n",
    "        mp = get_monthly_percent(year_percent)\n",
    "        #print ('annuity_coeff: ', (mp * (1 + mp)**term_months) / ((1 + mp)**term_months - 1))\n",
    "        return (mp * (1 + mp)**term_months) / ((1 + mp)**term_months - 1)\n",
    "\n",
    "    # Ежемесячный аннуитетный платеж \n",
    "    def __get_monthly_payment(summa, annuity_coeff):\n",
    "        #print (annuity_coeff * summa)\n",
    "        return annuity_coeff * summa\n",
    "    \n",
    "    # общая сумма с переплатой\n",
    "    def calc_total_summa(self):\n",
    "        summa = self.summa\n",
    "        term_months = self.term\n",
    "        year_percent = self.percent\n",
    "        return get_monthly_payment(summa, get_annuity_coeff(term_months, year_percent)) * term_months"
   ]
  },
  {
   "cell_type": "code",
   "execution_count": 123,
   "metadata": {},
   "outputs": [],
   "source": [
    "cr1 = Credit(36, 'ivan', 'ivanov', 1_000_000, 20, 250000, 10, 0.01)"
   ]
  },
  {
   "cell_type": "code",
   "execution_count": 124,
   "metadata": {},
   "outputs": [
    {
     "data": {
      "text/plain": [
       "1337889.0009506599"
      ]
     },
     "execution_count": 124,
     "metadata": {},
     "output_type": "execute_result"
    }
   ],
   "source": [
    "cr1.calc_total_summa()"
   ]
  },
  {
   "cell_type": "code",
   "execution_count": 43,
   "metadata": {},
   "outputs": [
    {
     "data": {
      "text/plain": [
       "0.037367707512312255"
      ]
     },
     "execution_count": 43,
     "metadata": {},
     "output_type": "execute_result"
    }
   ],
   "source": [
    "(0.017 * (1+0.017)**36) / ((1+0.017)**36 - 1)"
   ]
  },
  {
   "cell_type": "code",
   "execution_count": null,
   "metadata": {},
   "outputs": [],
   "source": []
  },
  {
   "cell_type": "code",
   "execution_count": null,
   "metadata": {},
   "outputs": [],
   "source": [
    "Условие: сумма кредита — 1 000 000 рублей, срок — три года (36 месяцев), ставка — 20%. Погашение осуществляется аннуитетными платежами.\n",
    "\n",
    "1. Процентная ставка по кредиту в месяц = годовая процентная ставка / 12 месяцев 20%/12 месяцев/100=0,017.\n",
    "\n",
    "2. Коэффициент аннуитета = (0,017*(1+0,017)^36/((1+0,017)^36—1)=0,037184.\n",
    "\n",
    "3. Ежемесячный аннуитетный платеж = 0,037184*1 000 000 рублей = 37 184 рубля.\n",
    "\n",
    "4. Итого переплата по кредиту составила 338 623 рублей."
   ]
  },
  {
   "cell_type": "code",
   "execution_count": null,
   "metadata": {},
   "outputs": [],
   "source": []
  },
  {
   "cell_type": "code",
   "execution_count": null,
   "metadata": {},
   "outputs": [],
   "source": []
  },
  {
   "cell_type": "code",
   "execution_count": null,
   "metadata": {},
   "outputs": [],
   "source": []
  },
  {
   "cell_type": "code",
   "execution_count": null,
   "metadata": {},
   "outputs": [],
   "source": []
  }
 ],
 "metadata": {
  "kernelspec": {
   "display_name": "Python 3",
   "language": "python",
   "name": "python3"
  },
  "language_info": {
   "codemirror_mode": {
    "name": "ipython",
    "version": 3
   },
   "file_extension": ".py",
   "mimetype": "text/x-python",
   "name": "python",
   "nbconvert_exporter": "python",
   "pygments_lexer": "ipython3",
   "version": "3.6.5"
  }
 },
 "nbformat": 4,
 "nbformat_minor": 2
}
