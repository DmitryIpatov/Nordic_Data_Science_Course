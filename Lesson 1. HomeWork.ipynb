{
 "cells": [
  {
   "cell_type": "markdown",
   "metadata": {},
   "source": [
    "# Задача 1\n",
    "1. Попросить человека ввести с клавиатуры ежегодный процент по депозиту\n",
    "2. Поросить человека ввести сумму депозита\n",
    "3. Попросить человека ввести срок депозита в месяцах\n",
    "4. Рассчитать прибыль с депозита к концу указанного периода, учитывая, что проценты капитализируются ежемесячно.\n",
    "Необходимо использовать формулу сложных процентов"
   ]
  },
  {
   "cell_type": "code",
   "execution_count": 19,
   "metadata": {},
   "outputs": [
    {
     "name": "stdout",
     "output_type": "stream",
     "text": [
      "введите ежегодный процент по депозиту: 5\n",
      "введите сумму депозита: 100000\n",
      "введите срок депозита в месяцах: 12\n",
      "#### РАСЧЕТ ВКЛАДА ####\n",
      "через  12 месяцев получится:  105116.19\n",
      "прибыль:  5116.19\n"
     ]
    }
   ],
   "source": [
    "deposit_percent = float(input('введите ежегодный процент по депозиту: '))\n",
    "deposit_sum = float(input('введите сумму депозита: '))\n",
    "deposit_period_months = int(input('введите срок депозита в месяцах: '))\n",
    "\n",
    "\n",
    "total = round((deposit_sum * (1 + (deposit_percent/100)/deposit_period_months)**deposit_period_months), 2)\n",
    "profit = round((total - deposit_sum), 2)\n",
    "print ('#### РАСЧЕТ ВКЛАДА ####')\n",
    "print ('через ', deposit_period_months, 'месяцев получится: ', total)\n",
    "print ('прибыль: ',profit)"
   ]
  },
  {
   "cell_type": "markdown",
   "metadata": {},
   "source": [
    "#### Формула для вкладов с ежемесячной капитализацией\n",
    "https://investoriq.ru/banki/raschet-vklada-s-kapitalizaciej.html\n",
    "\n"
   ]
  },
  {
   "cell_type": "markdown",
   "metadata": {},
   "source": [
    "# Задача 2\n",
    "\n",
    "Дано три числа. Найти количество положительных чисел среди них (НЕ используя логические ветвления IF!), пользуясь только тем, что было изучено на занятии. Подсказка ниже"
   ]
  },
  {
   "cell_type": "code",
   "execution_count": 47,
   "metadata": {},
   "outputs": [
    {
     "data": {
      "text/plain": [
       "1"
      ]
     },
     "execution_count": 47,
     "metadata": {},
     "output_type": "execute_result"
    }
   ],
   "source": [
    "int(2 < 4)"
   ]
  },
  {
   "cell_type": "code",
   "execution_count": 46,
   "metadata": {},
   "outputs": [
    {
     "data": {
      "text/plain": [
       "0"
      ]
     },
     "execution_count": 46,
     "metadata": {},
     "output_type": "execute_result"
    }
   ],
   "source": [
    "x1 = 0\n",
    "x2 = -1\n",
    "x3 = 0\n",
    "\n",
    "check = int(0<x1) + int(0<x2) + int(0<x3)\n",
    "check"
   ]
  },
  {
   "cell_type": "markdown",
   "metadata": {},
   "source": [
    "# Задача 3\n",
    "1. Вывести уравнение прямой ``y = k * x + b``, если известны 2 точки: `(x1 = 3, y1 = 1)`, `(x2 = -1, y2 = -2)`\n",
    "2. Сделать так, чтобы можно было вводить координаты обеих точек с клавиатуры (функция input)"
   ]
  },
  {
   "cell_type": "code",
   "execution_count": 38,
   "metadata": {},
   "outputs": [
    {
     "name": "stdout",
     "output_type": "stream",
     "text": [
      "введите  x1: -2\n",
      "введите  y1: 4.3\n",
      "введите  x2: 4\n",
      "введите  y2: 0\n",
      "Уравнение прямой: y = -0.7166666666666667 x + 2.8666666666666667\n"
     ]
    }
   ],
   "source": [
    "# x1 = 2\n",
    "# y1 = 1\n",
    "# x2 = -1\n",
    "# y2 = -2\n",
    "\n",
    "# cmd+/  - блочный комментарий\n",
    "\n",
    "x1 = float(input('введите  x1: '))\n",
    "y1 = float(input('введите  y1: '))\n",
    "x2 = float(input('введите  x2: '))\n",
    "y2 = float(input('введите  y2: '))\n",
    "\n",
    "k = (y2-y1)/(x2-x1)\n",
    "b = y2 - ((y2-y1)/(x2-x1))*x2\n",
    "print ('Уравнение прямой: y =',k,'x','+',b)"
   ]
  },
  {
   "cell_type": "code",
   "execution_count": null,
   "metadata": {},
   "outputs": [],
   "source": []
  }
 ],
 "metadata": {
  "kernelspec": {
   "display_name": "Python 3",
   "language": "python",
   "name": "python3"
  },
  "language_info": {
   "codemirror_mode": {
    "name": "ipython",
    "version": 3
   },
   "file_extension": ".py",
   "mimetype": "text/x-python",
   "name": "python",
   "nbconvert_exporter": "python",
   "pygments_lexer": "ipython3",
   "version": "3.6.5"
  }
 },
 "nbformat": 4,
 "nbformat_minor": 2
}
