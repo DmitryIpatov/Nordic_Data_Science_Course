{
 "cells": [
  {
   "cell_type": "markdown",
   "metadata": {},
   "source": [
    "### Задача 1 (повторяем еще раз)\n",
    "\n",
    "Для каждого студента вывести строку:\n",
    "\"Привет!\n",
    "Меня зовут name surname.\n",
    "Мне age лет\n",
    "Мой средний балл Score.\n",
    "Я доступен по номеру num\"\n",
    "\n",
    "Используем форматирование через {} и функцию **format**!"
   ]
  },
  {
   "cell_type": "code",
   "execution_count": 87,
   "metadata": {
    "collapsed": true
   },
   "outputs": [],
   "source": [
    "group_dict = {\n",
    "    '+79999999999':{\n",
    "        'name':'Василий',\n",
    "        'surname':'Иванов',\n",
    "        'age':23,\n",
    "        'Score': 60.7\n",
    "    },\n",
    "    '+79999998888':{\n",
    "        'name':'Василий',\n",
    "        'surname':'Иванов',\n",
    "        'age':20,\n",
    "        'Score': 67.0\n",
    "    },\n",
    "    '+79999997777':{\n",
    "        'name':'Анна',\n",
    "        'surname':'Петрова',\n",
    "        'age':27,\n",
    "        'Score': 90.2\n",
    "    },\n",
    "}"
   ]
  },
  {
   "cell_type": "markdown",
   "metadata": {},
   "source": [
    "## Задача 2\n",
    "\n",
    "Вам дан текст"
   ]
  },
  {
   "cell_type": "code",
   "execution_count": 1,
   "metadata": {
    "collapsed": true
   },
   "outputs": [],
   "source": [
    "text = \"\"\"A fair number of brave souls who upgraded their SI clock oscillator have\n",
    "shared their experiences for this poll. Please send a brief message detailing\n",
    "your experiences with the procedure. Top speed attained, CPU rated speed,\n",
    "add on cards and adapters, heat sinks, hour of usage per day, floppy disk\n",
    "functionality with 800 and 1.4 m floppies are especially requested.\"\"\""
   ]
  },
  {
   "cell_type": "code",
   "execution_count": 1,
   "metadata": {},
   "outputs": [],
   "source": [
    "import re\n",
    "re.findall"
   ]
  },
  {
   "cell_type": "markdown",
   "metadata": {},
   "source": [
    "Ваша задача: \n",
    "1. Разбить его на список слов с помощью функции re.findall так, чтобы в список вошли только слова, состоящие из 3 и более символов.\n",
    "2. Объединить получившийся список воедино через символ пробел между словами. (подсказка - join)"
   ]
  },
  {
   "cell_type": "markdown",
   "metadata": {},
   "source": [
    "## Задача 3\n",
    "\n",
    "Подсчитать, какое количество раз встречается каждое слово из текста выше.\n",
    "\n",
    "Для этого:\n",
    "1. Так же разбиваем текст на слова, как в задаче 2\n",
    "2. Используем dict для хранения данных вида { \"слово\" : кол-во раз }\n",
    "\n",
    "Отдельно вывести слова, которые встречаются более 1 раза"
   ]
  },
  {
   "cell_type": "markdown",
   "metadata": {},
   "source": [
    "## Задача 4\n",
    "\n",
    "Дан набор html-тегов с вложенностями"
   ]
  },
  {
   "cell_type": "code",
   "execution_count": 2,
   "metadata": {
    "collapsed": true
   },
   "outputs": [],
   "source": [
    "html_tags = \"<title>Заголовок</title><page><article>Текст статьи</article><footer>Нижняя часть</footer>\""
   ]
  },
  {
   "cell_type": "markdown",
   "metadata": {},
   "source": [
    "Вам необходимо извлечь из данной строки список, состоящий из самих слов внутри тегов вида:"
   ]
  },
  {
   "cell_type": "code",
   "execution_count": 3,
   "metadata": {},
   "outputs": [
    {
     "data": {
      "text/plain": [
       "['Заголовок', 'Текст статьи', 'Нижняя часть']"
      ]
     },
     "execution_count": 3,
     "metadata": {},
     "output_type": "execute_result"
    }
   ],
   "source": [
    "['Заголовок', 'Текст статьи', 'Нижняя часть']"
   ]
  },
  {
   "cell_type": "markdown",
   "metadata": {},
   "source": [
    "Очень приветствуется использование регулярок. Но если совсем не получается через них, сделайте хотя бы как-то."
   ]
  }
 ],
 "metadata": {
  "kernelspec": {
   "display_name": "Python 3",
   "language": "python",
   "name": "python3"
  },
  "language_info": {
   "codemirror_mode": {
    "name": "ipython",
    "version": 3
   },
   "file_extension": ".py",
   "mimetype": "text/x-python",
   "name": "python",
   "nbconvert_exporter": "python",
   "pygments_lexer": "ipython3",
   "version": "3.6.5"
  }
 },
 "nbformat": 4,
 "nbformat_minor": 2
}
