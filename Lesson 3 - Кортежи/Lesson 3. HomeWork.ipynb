{
 "cells": [
  {
   "cell_type": "markdown",
   "metadata": {},
   "source": [
    "# Задача 1\n",
    "\n",
    "1. Найти имена, которые входят в первый список, но не входят во второй список\n",
    "2. Найти имена, которые входят во второй список, но не входят в первый список\n",
    "3. Найти имена, которые входят в оба списка\n",
    "4. Найти имена, которые не входят в оба списка"
   ]
  },
  {
   "cell_type": "code",
   "execution_count": 1,
   "metadata": {},
   "outputs": [],
   "source": [
    "list_1 = [\n",
    "    'Светлана',\n",
    "    'Мария',\n",
    "    'Игорь',\n",
    "    'Илья',\n",
    "    'Олег'\n",
    "]"
   ]
  },
  {
   "cell_type": "code",
   "execution_count": 7,
   "metadata": {},
   "outputs": [],
   "source": [
    "list_2 = [\n",
    "    'Светлана',\n",
    "    'Иван',\n",
    "    'Василиса',\n",
    "    'Олег'\n",
    "]"
   ]
  },
  {
   "cell_type": "code",
   "execution_count": 12,
   "metadata": {},
   "outputs": [
    {
     "name": "stdout",
     "output_type": "stream",
     "text": [
      "{'Илья', 'Мария', 'Игорь'}\n",
      "{'Иван', 'Василиса'}\n",
      "{'Олег', 'Светлана'}\n",
      "{'Игорь', 'Мария', 'Иван', 'Илья', 'Василиса'}\n"
     ]
    }
   ],
   "source": [
    "s1 = set(list_1)\n",
    "s2 = set(list_2)\n",
    "\n",
    "\n",
    "# 1. Найти имена, которые входят в первый список, но не входят во второй список\n",
    "print (s1.difference(s2))\n",
    "\n",
    "# 2. Найти имена, которые входят во второй список, но не входят в первый список\n",
    "print (s2.difference(s1))\n",
    "\n",
    "# 3. Найти имена, которые входят в оба списка\n",
    "print (s1.intersection(s2))\n",
    "\n",
    "# 4. Найти имена, которые не входят в оба списка\n",
    "print (s1.symmetric_difference(s2))\n",
    "\n"
   ]
  },
  {
   "cell_type": "markdown",
   "metadata": {},
   "source": [
    "## Задача 2\n",
    "\n",
    "Ниже задан словарь и заполнен значениями (это вымышленные ученики). В качестве ключей выступают номера телефонов, в качестве значений - словари с полной информацией о человеке. Необходимо сделать:\n",
    "1. Вывести ФИО всех учеников (по одному в каждой строке). Выводить через for\n",
    "2. Посчитать среднюю оценку по группе за каждый месяц (всего было 4 месяца - необходимо вывести 4 числа). Опять же, делаем из предположения, что в словаре может быть очень большое кол-во записей.\n",
    "3. Удалить ученика с самой низкой средней оценкой. Посчитать п.2 по оставшимся."
   ]
  },
  {
   "cell_type": "code",
   "execution_count": 136,
   "metadata": {},
   "outputs": [],
   "source": [
    "# Имя\n",
    "# Фамилия\n",
    "# Пол\n",
    "# Дата рождения\n",
    "# Возраст\n",
    "\n",
    "\n",
    "group = {\n",
    "    '+79291111111':{\n",
    "        'Имя':'Иван',\n",
    "        'Фамилия':'Петров',\n",
    "        'Пол':'м',\n",
    "        'Дата рождения':'01-01-1991',\n",
    "        'Возраст':23,\n",
    "        'Итоговые оценки за месяц':(60, 65, 97, 40),\n",
    "        'Итоговая контрольная':40.7,\n",
    "    },\n",
    "     '+79282222233':{\n",
    "        'Имя':'Матвей',\n",
    "        'Фамилия':'Васильев',\n",
    "        'Пол':'м',\n",
    "        'Дата рождения':'04-09-1996',\n",
    "        'Возраст':20,\n",
    "        'Итоговые оценки за месяц':(70, 75, 67, 40),\n",
    "        'Итоговая контрольная':49.6,\n",
    "    },\n",
    "     '+79264443333':{\n",
    "        'Имя':'Татьяна',\n",
    "        'Фамилия':'Фоменко',\n",
    "        'Пол':'ж',\n",
    "        'Дата рождения':'01-01-1988',\n",
    "        'Возраст':27,\n",
    "        'Итоговые оценки за месяц':(20, 43, 87, 70),\n",
    "        'Итоговая контрольная':70.2,\n",
    "    }\n",
    "}"
   ]
  },
  {
   "cell_type": "code",
   "execution_count": 137,
   "metadata": {},
   "outputs": [
    {
     "name": "stdout",
     "output_type": "stream",
     "text": [
      "Иван Петров\n",
      "Матвей Васильев\n",
      "Татьяна Фоменко\n"
     ]
    }
   ],
   "source": [
    "# 1. Вывести ФИО всех учеников (по одному в каждой строке). Выводить через for\n",
    "for k, v in group.items():\n",
    "    print (v.get('Имя'), v.get('Фамилия'))"
   ]
  },
  {
   "cell_type": "code",
   "execution_count": 138,
   "metadata": {},
   "outputs": [],
   "source": [
    "# 2. Посчитать среднюю оценку по группе за каждый месяц (всего было 4 месяца - необходимо вывести 4 числа). \n",
    "# Опять же, делаем из предположения, что в словаре может быть очень большое кол-во записей.\n",
    "\n",
    "def calculate_group_average(group):\n",
    "    arr_marks = []\n",
    "    for k, v in group.items():\n",
    "        row = list(v.get('Итоговые оценки за месяц'))\n",
    "        arr_marks.append(row)\n",
    "\n",
    "    import numpy as np\n",
    "    narr_marks = np.array(arr_marks)\n",
    "\n",
    "    print (narr_marks)\n",
    "    print (\"Средние по месяцам группы: \", (narr_marks.mean(axis=0, dtype=int)))\n",
    "\n"
   ]
  },
  {
   "cell_type": "code",
   "execution_count": 139,
   "metadata": {},
   "outputs": [
    {
     "name": "stdout",
     "output_type": "stream",
     "text": [
      "[[60 65 97 40]\n",
      " [70 75 67 40]\n",
      " [20 43 87 70]]\n",
      "Средние по месяцам группы:  [50 61 83 50]\n"
     ]
    }
   ],
   "source": [
    "calculate_group_average(group=group)"
   ]
  },
  {
   "cell_type": "code",
   "execution_count": 140,
   "metadata": {},
   "outputs": [
    {
     "data": {
      "text/plain": [
       "{'Имя': 'Татьяна',\n",
       " 'Фамилия': 'Фоменко',\n",
       " 'Пол': 'ж',\n",
       " 'Дата рождения': '01-01-1988',\n",
       " 'Возраст': 27,\n",
       " 'Итоговые оценки за месяц': (20, 43, 87, 70),\n",
       " 'Итоговая контрольная': 70.2}"
      ]
     },
     "execution_count": 140,
     "metadata": {},
     "output_type": "execute_result"
    }
   ],
   "source": [
    "# Удалить ученика с самой низкой средней оценкой. \n",
    "\n",
    "# создание массива [телефон , средняя оценка]\n",
    "arr = []\n",
    "for k, v in group.items():\n",
    "    row = (k, int(np.mean(list(v.get('Итоговые оценки за месяц')))))\n",
    "    arr.append(row)\n",
    "\n",
    "\n",
    "# перевод в словарь\n",
    "dct = {telephone: average_mark for (telephone, average_mark) in arr}\n",
    "\n",
    "\n",
    "# поиск минимальной оценка и соответствующего ключа в словаре\n",
    "mi = 100\n",
    "student = 'test'\n",
    "for telephone, average_mark in dct.items():\n",
    "    if average_mark < mi:\n",
    "        mi = average_mark\n",
    "        student = telephone\n",
    "        \n",
    "        \n",
    "# удаление из group \n",
    "group.pop(student)\n",
    "\n",
    "\n"
   ]
  },
  {
   "cell_type": "code",
   "execution_count": 141,
   "metadata": {},
   "outputs": [
    {
     "name": "stdout",
     "output_type": "stream",
     "text": [
      "[[60 65 97 40]\n",
      " [70 75 67 40]]\n",
      "Средние по месяцам группы:  [65 70 82 40]\n"
     ]
    }
   ],
   "source": [
    "# Посчитать п.2 по оставшимся.\n",
    "calculate_group_average(group=group)"
   ]
  },
  {
   "cell_type": "code",
   "execution_count": null,
   "metadata": {},
   "outputs": [],
   "source": []
  }
 ],
 "metadata": {
  "kernelspec": {
   "display_name": "Python 3",
   "language": "python",
   "name": "python3"
  },
  "language_info": {
   "codemirror_mode": {
    "name": "ipython",
    "version": 3
   },
   "file_extension": ".py",
   "mimetype": "text/x-python",
   "name": "python",
   "nbconvert_exporter": "python",
   "pygments_lexer": "ipython3",
   "version": "3.6.5"
  }
 },
 "nbformat": 4,
 "nbformat_minor": 2
}
