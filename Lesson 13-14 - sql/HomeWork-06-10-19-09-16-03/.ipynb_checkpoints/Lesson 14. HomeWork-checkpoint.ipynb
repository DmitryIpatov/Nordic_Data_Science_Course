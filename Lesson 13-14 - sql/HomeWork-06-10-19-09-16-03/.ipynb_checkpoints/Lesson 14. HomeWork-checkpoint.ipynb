{
 "cells": [
  {
   "cell_type": "markdown",
   "metadata": {},
   "source": [
    "### Внимание! Важно помнить, что к названию таблиц вам необходимо добавлять постфикс в виде первой буквы своего имени!\n",
    "\n",
    "Т.е. table_1, из первого задания, вы называете как table_1_m, table_1_d и т.."
   ]
  },
  {
   "cell_type": "markdown",
   "metadata": {},
   "source": [
    "## Задача 1\n",
    "1. Создать две таблицы и назвать их \"table_1\" и \"table_2\"\n",
    "2. Провести LEFT JOIN по ключу name\n",
    "3. Провести RIGHT JOIN по ключу name\n",
    "4. Провести INNER JOIN по ключу name\n",
    "5. Провести OUTER JOIN по ключу name\n",
    "\n",
    "В каждом случае вывести результат на печать"
   ]
  },
  {
   "cell_type": "code",
   "execution_count": null,
   "metadata": {},
   "outputs": [],
   "source": [
    "import pymysql\n",
    "db_conn = pymysql.connect(host=\"139.162.170.240\",user=\"nordic\",\n",
    "                          passwd=\"password0\",db=\"nordicDB\")\n",
    "cursor = db_conn.cursor()"
   ]
  },
  {
   "cell_type": "code",
   "execution_count": null,
   "metadata": {},
   "outputs": [],
   "source": [
    "query = \"\"\"\n",
    "    CREATE TABLE IF NOT EXISTS table_1_d (\n",
    "        name TEXT NOT NULL,\n",
    "        surname TEXT NOT NULL\n",
    "        )\n",
    "\"\"\"\n",
    "\n",
    "cursor.execute(query)\n",
    "db_conn.commit()"
   ]
  },
  {
   "cell_type": "markdown",
   "metadata": {},
   "source": [
    "Первая таблица содержит два столбца (name и surname), в которых содержатся следующие строки:"
   ]
  },
  {
   "cell_type": "raw",
   "metadata": {},
   "source": [
    "Петров; Иван\n",
    "Иванов; Иван\n",
    "Дмитриев; Юрий\n",
    "Иванов; Петр"
   ]
  },
  {
   "cell_type": "code",
   "execution_count": null,
   "metadata": {},
   "outputs": [],
   "source": [
    "records_to_insert = [ ('Петров','Иван') ,\n",
    "                     ('Иванов','Иван'), \n",
    "                     ('Дмитриев','Юрий'), \n",
    "                     ('Иванов','Петр')]\n",
    "\n",
    "query = \"\"\" INSERT INTO table_1_d (name, surname) \n",
    "                       VALUES (%s,%s) \"\"\"\n",
    "\n",
    "cursor.executemany(query, records_to_insert)"
   ]
  },
  {
   "cell_type": "markdown",
   "metadata": {},
   "source": [
    "Вторая таблица содержит два столбца (name и age), в которых содержатся следующие строки:"
   ]
  },
  {
   "cell_type": "raw",
   "metadata": {},
   "source": [
    "Иван; 19\n",
    "Илья; 5\n",
    "Юрий; 20"
   ]
  },
  {
   "cell_type": "code",
   "execution_count": null,
   "metadata": {},
   "outputs": [],
   "source": [
    "query = \"\"\"\n",
    "    CREATE TABLE IF NOT EXISTS table_2_d (\n",
    "        name TEXT NOT NULL,\n",
    "        age INT NOT NULL\n",
    "        )\n",
    "\"\"\"\n",
    "\n",
    "cursor.execute(query)\n",
    "db_conn.commit()\n",
    "\n",
    "records_to_insert = [ ('Иван',19),\n",
    "                     ('Илья',5), \n",
    "                     ('Юрий',20) \n",
    "                     ]\n",
    "\n",
    "query = \"\"\" INSERT INTO table_2_d (name, age) \n",
    "                       VALUES (%s,%s) \"\"\"\n",
    "\n",
    "cursor.executemany(query, records_to_insert)\n",
    "db_conn.commit()"
   ]
  },
  {
   "cell_type": "code",
   "execution_count": null,
   "metadata": {},
   "outputs": [],
   "source": [
    "Провести LEFT JOIN по ключу name\n",
    "Провести RIGHT JOIN по ключу name\n",
    "Провести INNER JOIN по ключу name\n",
    "Провести OUTER JOIN по ключу name"
   ]
  },
  {
   "cell_type": "code",
   "execution_count": null,
   "metadata": {},
   "outputs": [],
   "source": [
    "query = \"\"\"\n",
    "    SELECT * FROM table_1_d t1 LEFT JOIN table_2_d t2\n",
    "    ON t1.name = t2.name\n",
    "\"\"\"\n",
    "cursor.execute(query)\n",
    "cursor.fetchall()"
   ]
  },
  {
   "cell_type": "code",
   "execution_count": null,
   "metadata": {},
   "outputs": [],
   "source": [
    "query = \"\"\"\n",
    "    SELECT * FROM table_1_d t1 RIGHT JOIN table_2_d t2\n",
    "    ON t1.name = t2.name\n",
    "\"\"\"\n",
    "cursor.execute(query)\n",
    "cursor.fetchall()"
   ]
  },
  {
   "cell_type": "code",
   "execution_count": null,
   "metadata": {},
   "outputs": [],
   "source": [
    "query = \"\"\"\n",
    "    SELECT * FROM table_1_d t1 INNER JOIN table_2_d t2\n",
    "    ON t1.name = t2.name\n",
    "\"\"\"\n",
    "cursor.execute(query)\n",
    "cursor.fetchall()"
   ]
  },
  {
   "cell_type": "code",
   "execution_count": null,
   "metadata": {},
   "outputs": [],
   "source": [
    "query = \"\"\"\n",
    "    SELECT * FROM table_1_d t1 OUTER JOIN table_2_d t2\n",
    "    ON t1.name = t2.name\n",
    "\"\"\"\n",
    "cursor.execute(query)\n",
    "cursor.fetchall()"
   ]
  },
  {
   "cell_type": "markdown",
   "metadata": {},
   "source": [
    "## Задача 2"
   ]
  },
  {
   "cell_type": "markdown",
   "metadata": {},
   "source": [
    "Работаем с файлом `telecom-churn.csv`\n",
    "\n",
    "1. Необходимо записать его данные в таблицу с помощью CREATE TABLE\n",
    "\n",
    "Что считаем:"
   ]
  },
  {
   "cell_type": "code",
   "execution_count": null,
   "metadata": {},
   "outputs": [],
   "source": [
    "FILE_CSV = 'telecom-churn.csv'\n",
    "\n",
    "query = \"\"\"\n",
    "    INSERT INTO telecom_table (\n",
    "        \n",
    "    )\n",
    "    VALUES (%s, ...)\n",
    "\"\"\"\n",
    "\n",
    "with open(FILE_CSV) as f:\n",
    "    f_read = csv.reader(f)\n",
    "    for row in f_read:\n",
    "        if len(row) > 0:\n",
    "            cursor.execute(query, row)\n",
    "\n",
    "db_conn.commit()"
   ]
  },
  {
   "cell_type": "markdown",
   "metadata": {},
   "source": [
    "### Выведите кол-во уникальных значений попя `Customer service calls` (Через SQL)"
   ]
  },
  {
   "cell_type": "code",
   "execution_count": null,
   "metadata": {},
   "outputs": [],
   "source": [
    "select count(distinct customer_service_calls) from telecom_table"
   ]
  },
  {
   "cell_type": "markdown",
   "metadata": {},
   "source": [
    "### Выведите, сколько пользователей звонили какое число раз в колл-центр (Через SQL). Т.е. необходимо определить, сколько звонило 0, сколько 1, сколько 2 и т.д. (Через SQL)\n",
    "\n",
    "#### Отдельно нарисуйте гистограмму (распределение) числа звонков в колл-центр по результатам расчета (Это делаем уже в PYTHON! Предварительно нужно сохранить результат прошлого расчета)"
   ]
  },
  {
   "cell_type": "code",
   "execution_count": null,
   "metadata": {},
   "outputs": [],
   "source": [
    "select distinct customer_service_calls, count (*) from telecom_table\n",
    "group by customer_service_calls"
   ]
  },
  {
   "cell_type": "markdown",
   "metadata": {},
   "source": [
    "### Вывести тех лояльных пользователей, которые не сталкиваются с роумингом и необходимостью часто звонить в колл-центр (Через SQL)"
   ]
  },
  {
   "cell_type": "code",
   "execution_count": null,
   "metadata": {},
   "outputs": [],
   "source": []
  },
  {
   "cell_type": "markdown",
   "metadata": {},
   "source": [
    "### Посчитайте общее кол-во лояльных пользователей (через SQL)"
   ]
  },
  {
   "cell_type": "code",
   "execution_count": null,
   "metadata": {},
   "outputs": [],
   "source": []
  },
  {
   "cell_type": "markdown",
   "metadata": {},
   "source": [
    "### Результаты 2-х предыдущих запросов запишите в python-переменные (списки, кортежи, как захотите). И посчитайте долю лояльных пользователей среди тех, которые не сталкиваются с роумингом и звонками в колл-центр. (Это делаем уже средствами PYTHON!)"
   ]
  },
  {
   "cell_type": "code",
   "execution_count": null,
   "metadata": {},
   "outputs": [],
   "source": []
  }
 ],
 "metadata": {
  "kernelspec": {
   "display_name": "Python 3",
   "language": "python",
   "name": "python3"
  },
  "language_info": {
   "codemirror_mode": {
    "name": "ipython",
    "version": 3
   },
   "file_extension": ".py",
   "mimetype": "text/x-python",
   "name": "python",
   "nbconvert_exporter": "python",
   "pygments_lexer": "ipython3",
   "version": "3.6.5"
  }
 },
 "nbformat": 4,
 "nbformat_minor": 2
}
