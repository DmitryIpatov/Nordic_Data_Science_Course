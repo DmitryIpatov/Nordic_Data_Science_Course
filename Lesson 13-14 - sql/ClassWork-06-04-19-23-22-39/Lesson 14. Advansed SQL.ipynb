{
 "cells": [
  {
   "cell_type": "markdown",
   "metadata": {},
   "source": [
    "### Необходимо скачать датасет [Ириски Фишера](http://archive.ics.uci.edu/ml/datasets/Iris), который имеет следующие поля:\n",
    "\n",
    "1. `sepal length in cm`\n",
    "2. `sepal width in cm`\n",
    "3. `petal length in cm`\n",
    "4. `petal width in cm`\n",
    "5. `class_name`"
   ]
  },
  {
   "cell_type": "code",
   "execution_count": 3,
   "metadata": {
    "collapsed": true
   },
   "outputs": [],
   "source": [
    "import pymysql\n",
    "import csv"
   ]
  },
  {
   "cell_type": "code",
   "execution_count": 4,
   "metadata": {
    "collapsed": true
   },
   "outputs": [],
   "source": [
    "FILE_CSV = 'iris.data'"
   ]
  },
  {
   "cell_type": "code",
   "execution_count": 1,
   "metadata": {
    "collapsed": true
   },
   "outputs": [],
   "source": [
    "import pandas as pd"
   ]
  },
  {
   "cell_type": "code",
   "execution_count": 8,
   "metadata": {},
   "outputs": [
    {
     "data": {
      "text/plain": [
       "(150, 5)"
      ]
     },
     "execution_count": 8,
     "metadata": {},
     "output_type": "execute_result"
    }
   ],
   "source": [
    "pd.read_csv(FILE_CSV, names=[\n",
    "    'sepal length in cm', 'sepal width in cm',\n",
    "    'petal length in cm', 'petal width in cm',\n",
    "    'class_name']).shape"
   ]
  },
  {
   "cell_type": "markdown",
   "metadata": {},
   "source": [
    "### Создаем подключение к БД `nordicDB`"
   ]
  },
  {
   "cell_type": "code",
   "execution_count": 11,
   "metadata": {
    "collapsed": true
   },
   "outputs": [],
   "source": [
    "db_conn = pymysql.connect(host=\"139.162.170.240\",user=\"nordic\",\n",
    "                          passwd=\"password0\",db=\"nordicDB\")\n",
    "cursor = db_conn.cursor()"
   ]
  },
  {
   "cell_type": "markdown",
   "metadata": {},
   "source": [
    "### Создаем таблицу с первичным автоинкрементируемым ключом"
   ]
  },
  {
   "cell_type": "code",
   "execution_count": 14,
   "metadata": {},
   "outputs": [
    {
     "name": "stderr",
     "output_type": "stream",
     "text": [
      "C:\\ProgramData\\Anaconda3\\lib\\site-packages\\pymysql\\cursors.py:170: Warning: (1050, \"Table 'main_table' already exists\")\n",
      "  result = self._query(query)\n"
     ]
    }
   ],
   "source": [
    "query = \"\"\"\n",
    "    CREATE TABLE IF NOT EXISTS main_table (\n",
    "        ID INT PRIMARY KEY AUTO_INCREMENT\n",
    "        ,`sepal_length_in_cm` FLOAT NOT NULL\n",
    "        ,`sepal_width_in_cm` FLOAT NOT NULL\n",
    "        ,`petal_length_in_cm` FLOAT NOT NULL\n",
    "        ,`petal_width_in_cm` FLOAT\n",
    "        ,`class_name` TEXT NOT NULL\n",
    "    )\n",
    "\"\"\"\n",
    "\n",
    "cursor.execute(query)\n",
    "db_conn.commit()"
   ]
  },
  {
   "cell_type": "markdown",
   "metadata": {},
   "source": [
    "### Ограничения SQL"
   ]
  },
  {
   "cell_type": "raw",
   "metadata": {},
   "source": [
    "NOT NULL - гарантирует, что столбец не будет содержать значений NULL\n",
    "UNIQUE - гарантирует, что все значение в столбце будут уникальны\n",
    "PRIMARY KEY - комбинация из NOT NULL и UNIQUE\n",
    "FOREIGN KEY - уникальный идентификатор в другой таблице\n",
    "CHECK - проверяет, что значение соответствует заданному условию\n",
    "DEFAULT - устанавливает значение по умолчанию для столбца, если значение не задано\n",
    "INDEX - устанавливает индекс"
   ]
  },
  {
   "cell_type": "markdown",
   "metadata": {},
   "source": [
    "### Переносим данные из csv в db"
   ]
  },
  {
   "cell_type": "code",
   "execution_count": 19,
   "metadata": {
    "collapsed": true
   },
   "outputs": [],
   "source": [
    "query = \"\"\"\n",
    "    INSERT INTO main_table (\n",
    "        `sepal_length_in_cm`\n",
    "        ,`sepal_width_in_cm`\n",
    "        ,`petal_length_in_cm`\n",
    "        ,`petal_width_in_cm`\n",
    "        ,`class_name`\n",
    "    )\n",
    "    VALUES (%s, %s, %s, %s, %s)\n",
    "\"\"\""
   ]
  },
  {
   "cell_type": "code",
   "execution_count": 20,
   "metadata": {},
   "outputs": [
    {
     "name": "stdout",
     "output_type": "stream",
     "text": [
      "['5.1', '3.5', '1.4', '0.2', 'Iris-setosa']\n",
      "['4.9', '3.0', '1.4', '0.2', 'Iris-setosa']\n",
      "['4.7', '3.2', '1.3', '0.2', 'Iris-setosa']\n",
      "['4.6', '3.1', '1.5', '0.2', 'Iris-setosa']\n",
      "['5.0', '3.6', '1.4', '0.2', 'Iris-setosa']\n",
      "['5.4', '3.9', '1.7', '0.4', 'Iris-setosa']\n",
      "['4.6', '3.4', '1.4', '0.3', 'Iris-setosa']\n",
      "['5.0', '3.4', '1.5', '0.2', 'Iris-setosa']\n",
      "['4.4', '2.9', '1.4', '0.2', 'Iris-setosa']\n",
      "['4.9', '3.1', '1.5', '0.1', 'Iris-setosa']\n",
      "['5.4', '3.7', '1.5', '0.2', 'Iris-setosa']\n",
      "['4.8', '3.4', '1.6', '0.2', 'Iris-setosa']\n",
      "['4.8', '3.0', '1.4', '0.1', 'Iris-setosa']\n",
      "['4.3', '3.0', '1.1', '0.1', 'Iris-setosa']\n",
      "['5.8', '4.0', '1.2', '0.2', 'Iris-setosa']\n",
      "['5.7', '4.4', '1.5', '0.4', 'Iris-setosa']\n",
      "['5.4', '3.9', '1.3', '0.4', 'Iris-setosa']\n",
      "['5.1', '3.5', '1.4', '0.3', 'Iris-setosa']\n",
      "['5.7', '3.8', '1.7', '0.3', 'Iris-setosa']\n",
      "['5.1', '3.8', '1.5', '0.3', 'Iris-setosa']\n",
      "['5.4', '3.4', '1.7', '0.2', 'Iris-setosa']\n",
      "['5.1', '3.7', '1.5', '0.4', 'Iris-setosa']\n",
      "['4.6', '3.6', '1.0', '0.2', 'Iris-setosa']\n",
      "['5.1', '3.3', '1.7', '0.5', 'Iris-setosa']\n",
      "['4.8', '3.4', '1.9', '0.2', 'Iris-setosa']\n",
      "['5.0', '3.0', '1.6', '0.2', 'Iris-setosa']\n",
      "['5.0', '3.4', '1.6', '0.4', 'Iris-setosa']\n",
      "['5.2', '3.5', '1.5', '0.2', 'Iris-setosa']\n",
      "['5.2', '3.4', '1.4', '0.2', 'Iris-setosa']\n",
      "['4.7', '3.2', '1.6', '0.2', 'Iris-setosa']\n",
      "['4.8', '3.1', '1.6', '0.2', 'Iris-setosa']\n",
      "['5.4', '3.4', '1.5', '0.4', 'Iris-setosa']\n",
      "['5.2', '4.1', '1.5', '0.1', 'Iris-setosa']\n",
      "['5.5', '4.2', '1.4', '0.2', 'Iris-setosa']\n",
      "['4.9', '3.1', '1.5', '0.1', 'Iris-setosa']\n",
      "['5.0', '3.2', '1.2', '0.2', 'Iris-setosa']\n",
      "['5.5', '3.5', '1.3', '0.2', 'Iris-setosa']\n",
      "['4.9', '3.1', '1.5', '0.1', 'Iris-setosa']\n",
      "['4.4', '3.0', '1.3', '0.2', 'Iris-setosa']\n",
      "['5.1', '3.4', '1.5', '0.2', 'Iris-setosa']\n",
      "['5.0', '3.5', '1.3', '0.3', 'Iris-setosa']\n",
      "['4.5', '2.3', '1.3', '0.3', 'Iris-setosa']\n",
      "['4.4', '3.2', '1.3', '0.2', 'Iris-setosa']\n",
      "['5.0', '3.5', '1.6', '0.6', 'Iris-setosa']\n",
      "['5.1', '3.8', '1.9', '0.4', 'Iris-setosa']\n",
      "['4.8', '3.0', '1.4', '0.3', 'Iris-setosa']\n",
      "['5.1', '3.8', '1.6', '0.2', 'Iris-setosa']\n",
      "['4.6', '3.2', '1.4', '0.2', 'Iris-setosa']\n",
      "['5.3', '3.7', '1.5', '0.2', 'Iris-setosa']\n",
      "['5.0', '3.3', '1.4', '0.2', 'Iris-setosa']\n",
      "['7.0', '3.2', '4.7', '1.4', 'Iris-versicolor']\n",
      "['6.4', '3.2', '4.5', '1.5', 'Iris-versicolor']\n",
      "['6.9', '3.1', '4.9', '1.5', 'Iris-versicolor']\n",
      "['5.5', '2.3', '4.0', '1.3', 'Iris-versicolor']\n",
      "['6.5', '2.8', '4.6', '1.5', 'Iris-versicolor']\n",
      "['5.7', '2.8', '4.5', '1.3', 'Iris-versicolor']\n",
      "['6.3', '3.3', '4.7', '1.6', 'Iris-versicolor']\n",
      "['4.9', '2.4', '3.3', '1.0', 'Iris-versicolor']\n",
      "['6.6', '2.9', '4.6', '1.3', 'Iris-versicolor']\n",
      "['5.2', '2.7', '3.9', '1.4', 'Iris-versicolor']\n",
      "['5.0', '2.0', '3.5', '1.0', 'Iris-versicolor']\n",
      "['5.9', '3.0', '4.2', '1.5', 'Iris-versicolor']\n",
      "['6.0', '2.2', '4.0', '1.0', 'Iris-versicolor']\n",
      "['6.1', '2.9', '4.7', '1.4', 'Iris-versicolor']\n",
      "['5.6', '2.9', '3.6', '1.3', 'Iris-versicolor']\n",
      "['6.7', '3.1', '4.4', '1.4', 'Iris-versicolor']\n",
      "['5.6', '3.0', '4.5', '1.5', 'Iris-versicolor']\n",
      "['5.8', '2.7', '4.1', '1.0', 'Iris-versicolor']\n",
      "['6.2', '2.2', '4.5', '1.5', 'Iris-versicolor']\n",
      "['5.6', '2.5', '3.9', '1.1', 'Iris-versicolor']\n",
      "['5.9', '3.2', '4.8', '1.8', 'Iris-versicolor']\n",
      "['6.1', '2.8', '4.0', '1.3', 'Iris-versicolor']\n",
      "['6.3', '2.5', '4.9', '1.5', 'Iris-versicolor']\n",
      "['6.1', '2.8', '4.7', '1.2', 'Iris-versicolor']\n",
      "['6.4', '2.9', '4.3', '1.3', 'Iris-versicolor']\n",
      "['6.6', '3.0', '4.4', '1.4', 'Iris-versicolor']\n",
      "['6.8', '2.8', '4.8', '1.4', 'Iris-versicolor']\n",
      "['6.7', '3.0', '5.0', '1.7', 'Iris-versicolor']\n",
      "['6.0', '2.9', '4.5', '1.5', 'Iris-versicolor']\n",
      "['5.7', '2.6', '3.5', '1.0', 'Iris-versicolor']\n",
      "['5.5', '2.4', '3.8', '1.1', 'Iris-versicolor']\n",
      "['5.5', '2.4', '3.7', '1.0', 'Iris-versicolor']\n",
      "['5.8', '2.7', '3.9', '1.2', 'Iris-versicolor']\n",
      "['6.0', '2.7', '5.1', '1.6', 'Iris-versicolor']\n",
      "['5.4', '3.0', '4.5', '1.5', 'Iris-versicolor']\n",
      "['6.0', '3.4', '4.5', '1.6', 'Iris-versicolor']\n",
      "['6.7', '3.1', '4.7', '1.5', 'Iris-versicolor']\n",
      "['6.3', '2.3', '4.4', '1.3', 'Iris-versicolor']\n",
      "['5.6', '3.0', '4.1', '1.3', 'Iris-versicolor']\n",
      "['5.5', '2.5', '4.0', '1.3', 'Iris-versicolor']\n",
      "['5.5', '2.6', '4.4', '1.2', 'Iris-versicolor']\n",
      "['6.1', '3.0', '4.6', '1.4', 'Iris-versicolor']\n",
      "['5.8', '2.6', '4.0', '1.2', 'Iris-versicolor']\n",
      "['5.0', '2.3', '3.3', '1.0', 'Iris-versicolor']\n",
      "['5.6', '2.7', '4.2', '1.3', 'Iris-versicolor']\n",
      "['5.7', '3.0', '4.2', '1.2', 'Iris-versicolor']\n",
      "['5.7', '2.9', '4.2', '1.3', 'Iris-versicolor']\n",
      "['6.2', '2.9', '4.3', '1.3', 'Iris-versicolor']\n",
      "['5.1', '2.5', '3.0', '1.1', 'Iris-versicolor']\n",
      "['5.7', '2.8', '4.1', '1.3', 'Iris-versicolor']\n",
      "['6.3', '3.3', '6.0', '2.5', 'Iris-virginica']\n",
      "['5.8', '2.7', '5.1', '1.9', 'Iris-virginica']\n",
      "['7.1', '3.0', '5.9', '2.1', 'Iris-virginica']\n",
      "['6.3', '2.9', '5.6', '1.8', 'Iris-virginica']\n",
      "['6.5', '3.0', '5.8', '2.2', 'Iris-virginica']\n",
      "['7.6', '3.0', '6.6', '2.1', 'Iris-virginica']\n",
      "['4.9', '2.5', '4.5', '1.7', 'Iris-virginica']\n",
      "['7.3', '2.9', '6.3', '1.8', 'Iris-virginica']\n",
      "['6.7', '2.5', '5.8', '1.8', 'Iris-virginica']\n",
      "['7.2', '3.6', '6.1', '2.5', 'Iris-virginica']\n",
      "['6.5', '3.2', '5.1', '2.0', 'Iris-virginica']\n",
      "['6.4', '2.7', '5.3', '1.9', 'Iris-virginica']\n",
      "['6.8', '3.0', '5.5', '2.1', 'Iris-virginica']\n",
      "['5.7', '2.5', '5.0', '2.0', 'Iris-virginica']\n",
      "['5.8', '2.8', '5.1', '2.4', 'Iris-virginica']\n",
      "['6.4', '3.2', '5.3', '2.3', 'Iris-virginica']\n",
      "['6.5', '3.0', '5.5', '1.8', 'Iris-virginica']\n",
      "['7.7', '3.8', '6.7', '2.2', 'Iris-virginica']\n",
      "['7.7', '2.6', '6.9', '2.3', 'Iris-virginica']\n",
      "['6.0', '2.2', '5.0', '1.5', 'Iris-virginica']\n",
      "['6.9', '3.2', '5.7', '2.3', 'Iris-virginica']\n",
      "['5.6', '2.8', '4.9', '2.0', 'Iris-virginica']\n",
      "['7.7', '2.8', '6.7', '2.0', 'Iris-virginica']\n",
      "['6.3', '2.7', '4.9', '1.8', 'Iris-virginica']\n",
      "['6.7', '3.3', '5.7', '2.1', 'Iris-virginica']\n",
      "['7.2', '3.2', '6.0', '1.8', 'Iris-virginica']\n",
      "['6.2', '2.8', '4.8', '1.8', 'Iris-virginica']\n",
      "['6.1', '3.0', '4.9', '1.8', 'Iris-virginica']\n",
      "['6.4', '2.8', '5.6', '2.1', 'Iris-virginica']\n",
      "['7.2', '3.0', '5.8', '1.6', 'Iris-virginica']\n",
      "['7.4', '2.8', '6.1', '1.9', 'Iris-virginica']\n",
      "['7.9', '3.8', '6.4', '2.0', 'Iris-virginica']\n",
      "['6.4', '2.8', '5.6', '2.2', 'Iris-virginica']\n",
      "['6.3', '2.8', '5.1', '1.5', 'Iris-virginica']\n",
      "['6.1', '2.6', '5.6', '1.4', 'Iris-virginica']\n",
      "['7.7', '3.0', '6.1', '2.3', 'Iris-virginica']\n",
      "['6.3', '3.4', '5.6', '2.4', 'Iris-virginica']\n",
      "['6.4', '3.1', '5.5', '1.8', 'Iris-virginica']\n",
      "['6.0', '3.0', '4.8', '1.8', 'Iris-virginica']\n",
      "['6.9', '3.1', '5.4', '2.1', 'Iris-virginica']\n",
      "['6.7', '3.1', '5.6', '2.4', 'Iris-virginica']\n",
      "['6.9', '3.1', '5.1', '2.3', 'Iris-virginica']\n",
      "['5.8', '2.7', '5.1', '1.9', 'Iris-virginica']\n",
      "['6.8', '3.2', '5.9', '2.3', 'Iris-virginica']\n",
      "['6.7', '3.3', '5.7', '2.5', 'Iris-virginica']\n",
      "['6.7', '3.0', '5.2', '2.3', 'Iris-virginica']\n",
      "['6.3', '2.5', '5.0', '1.9', 'Iris-virginica']\n",
      "['6.5', '3.0', '5.2', '2.0', 'Iris-virginica']\n",
      "['6.2', '3.4', '5.4', '2.3', 'Iris-virginica']\n",
      "['5.9', '3.0', '5.1', '1.8', 'Iris-virginica']\n",
      "[]\n"
     ]
    }
   ],
   "source": [
    "with open(FILE_CSV) as f:\n",
    "    f_read = csv.reader(f)\n",
    "    for row in f_read:\n",
    "        print(row)\n",
    "        if len(row) > 0:\n",
    "            cursor.execute(query, row)\n",
    "\n",
    "db_conn.commit()"
   ]
  },
  {
   "cell_type": "markdown",
   "metadata": {},
   "source": [
    "### Смотрим как всё записали"
   ]
  },
  {
   "cell_type": "code",
   "execution_count": 15,
   "metadata": {},
   "outputs": [
    {
     "data": {
      "text/plain": [
       "((1, 5.1, 3.5, 1.4, 0.2, 'Iris-setosa'),\n",
       " (2, 4.9, 3.0, 1.4, 0.2, 'Iris-setosa'),\n",
       " (3, 4.7, 3.2, 1.3, 0.2, 'Iris-setosa'),\n",
       " (4, 4.6, 3.1, 1.5, 0.2, 'Iris-setosa'),\n",
       " (5, 5.0, 3.6, 1.4, 0.2, 'Iris-setosa'),\n",
       " (6, 5.4, 3.9, 1.7, 0.4, 'Iris-setosa'),\n",
       " (7, 4.6, 3.4, 1.4, 0.3, 'Iris-setosa'),\n",
       " (8, 5.0, 3.4, 1.5, 0.2, 'Iris-setosa'),\n",
       " (9, 4.4, 2.9, 1.4, 0.2, 'Iris-setosa'),\n",
       " (10, 4.9, 3.1, 1.5, 0.1, 'Iris-setosa'),\n",
       " (11, 5.4, 3.7, 1.5, 0.2, 'Iris-setosa'),\n",
       " (12, 4.8, 3.4, 1.6, 0.2, 'Iris-setosa'),\n",
       " (13, 4.8, 3.0, 1.4, 0.1, 'Iris-setosa'),\n",
       " (14, 4.3, 3.0, 1.1, 0.1, 'Iris-setosa'),\n",
       " (15, 5.8, 4.0, 1.2, 0.2, 'Iris-setosa'),\n",
       " (16, 5.7, 4.4, 1.5, 0.4, 'Iris-setosa'),\n",
       " (17, 5.4, 3.9, 1.3, 0.4, 'Iris-setosa'),\n",
       " (18, 5.1, 3.5, 1.4, 0.3, 'Iris-setosa'),\n",
       " (19, 5.7, 3.8, 1.7, 0.3, 'Iris-setosa'),\n",
       " (20, 5.1, 3.8, 1.5, 0.3, 'Iris-setosa'),\n",
       " (21, 5.4, 3.4, 1.7, 0.2, 'Iris-setosa'),\n",
       " (22, 5.1, 3.7, 1.5, 0.4, 'Iris-setosa'),\n",
       " (23, 4.6, 3.6, 1.0, 0.2, 'Iris-setosa'),\n",
       " (24, 5.1, 3.3, 1.7, 0.5, 'Iris-setosa'),\n",
       " (25, 4.8, 3.4, 1.9, 0.2, 'Iris-setosa'),\n",
       " (26, 5.0, 3.0, 1.6, 0.2, 'Iris-setosa'),\n",
       " (27, 5.0, 3.4, 1.6, 0.4, 'Iris-setosa'),\n",
       " (28, 5.2, 3.5, 1.5, 0.2, 'Iris-setosa'),\n",
       " (29, 5.2, 3.4, 1.4, 0.2, 'Iris-setosa'),\n",
       " (30, 4.7, 3.2, 1.6, 0.2, 'Iris-setosa'),\n",
       " (31, 4.8, 3.1, 1.6, 0.2, 'Iris-setosa'),\n",
       " (32, 5.4, 3.4, 1.5, 0.4, 'Iris-setosa'),\n",
       " (33, 5.2, 4.1, 1.5, 0.1, 'Iris-setosa'),\n",
       " (34, 5.5, 4.2, 1.4, 0.2, 'Iris-setosa'),\n",
       " (35, 4.9, 3.1, 1.5, 0.1, 'Iris-setosa'),\n",
       " (36, 5.0, 3.2, 1.2, 0.2, 'Iris-setosa'),\n",
       " (37, 5.5, 3.5, 1.3, 0.2, 'Iris-setosa'),\n",
       " (38, 4.9, 3.1, 1.5, 0.1, 'Iris-setosa'),\n",
       " (39, 4.4, 3.0, 1.3, 0.2, 'Iris-setosa'),\n",
       " (40, 5.1, 3.4, 1.5, 0.2, 'Iris-setosa'),\n",
       " (41, 5.0, 3.5, 1.3, 0.3, 'Iris-setosa'),\n",
       " (42, 4.5, 2.3, 1.3, 0.3, 'Iris-setosa'),\n",
       " (43, 4.4, 3.2, 1.3, 0.2, 'Iris-setosa'),\n",
       " (44, 5.0, 3.5, 1.6, 0.6, 'Iris-setosa'),\n",
       " (45, 5.1, 3.8, 1.9, 0.4, 'Iris-setosa'),\n",
       " (46, 4.8, 3.0, 1.4, 0.3, 'Iris-setosa'),\n",
       " (47, 5.1, 3.8, 1.6, 0.2, 'Iris-setosa'),\n",
       " (48, 4.6, 3.2, 1.4, 0.2, 'Iris-setosa'),\n",
       " (49, 5.3, 3.7, 1.5, 0.2, 'Iris-setosa'),\n",
       " (50, 5.0, 3.3, 1.4, 0.2, 'Iris-setosa'),\n",
       " (51, 7.0, 3.2, 4.7, 1.4, 'Iris-versicolor'),\n",
       " (52, 6.4, 3.2, 4.5, 1.5, 'Iris-versicolor'),\n",
       " (53, 6.9, 3.1, 4.9, 1.5, 'Iris-versicolor'),\n",
       " (54, 5.5, 2.3, 4.0, 1.3, 'Iris-versicolor'),\n",
       " (55, 6.5, 2.8, 4.6, 1.5, 'Iris-versicolor'),\n",
       " (56, 5.7, 2.8, 4.5, 1.3, 'Iris-versicolor'),\n",
       " (57, 6.3, 3.3, 4.7, 1.6, 'Iris-versicolor'),\n",
       " (58, 4.9, 2.4, 3.3, 1.0, 'Iris-versicolor'),\n",
       " (59, 6.6, 2.9, 4.6, 1.3, 'Iris-versicolor'),\n",
       " (60, 5.2, 2.7, 3.9, 1.4, 'Iris-versicolor'),\n",
       " (61, 5.0, 2.0, 3.5, 1.0, 'Iris-versicolor'),\n",
       " (62, 5.9, 3.0, 4.2, 1.5, 'Iris-versicolor'),\n",
       " (63, 6.0, 2.2, 4.0, 1.0, 'Iris-versicolor'),\n",
       " (64, 6.1, 2.9, 4.7, 1.4, 'Iris-versicolor'),\n",
       " (65, 5.6, 2.9, 3.6, 1.3, 'Iris-versicolor'),\n",
       " (66, 6.7, 3.1, 4.4, 1.4, 'Iris-versicolor'),\n",
       " (67, 5.6, 3.0, 4.5, 1.5, 'Iris-versicolor'),\n",
       " (68, 5.8, 2.7, 4.1, 1.0, 'Iris-versicolor'),\n",
       " (69, 6.2, 2.2, 4.5, 1.5, 'Iris-versicolor'),\n",
       " (70, 5.6, 2.5, 3.9, 1.1, 'Iris-versicolor'),\n",
       " (71, 5.9, 3.2, 4.8, 1.8, 'Iris-versicolor'),\n",
       " (72, 6.1, 2.8, 4.0, 1.3, 'Iris-versicolor'),\n",
       " (73, 6.3, 2.5, 4.9, 1.5, 'Iris-versicolor'),\n",
       " (74, 6.1, 2.8, 4.7, 1.2, 'Iris-versicolor'),\n",
       " (75, 6.4, 2.9, 4.3, 1.3, 'Iris-versicolor'),\n",
       " (76, 6.6, 3.0, 4.4, 1.4, 'Iris-versicolor'),\n",
       " (77, 6.8, 2.8, 4.8, 1.4, 'Iris-versicolor'),\n",
       " (78, 6.7, 3.0, 5.0, 1.7, 'Iris-versicolor'),\n",
       " (79, 6.0, 2.9, 4.5, 1.5, 'Iris-versicolor'),\n",
       " (80, 5.7, 2.6, 3.5, 1.0, 'Iris-versicolor'),\n",
       " (81, 5.5, 2.4, 3.8, 1.1, 'Iris-versicolor'),\n",
       " (82, 5.5, 2.4, 3.7, 1.0, 'Iris-versicolor'),\n",
       " (83, 5.8, 2.7, 3.9, 1.2, 'Iris-versicolor'),\n",
       " (84, 6.0, 2.7, 5.1, 1.6, 'Iris-versicolor'),\n",
       " (85, 5.4, 3.0, 4.5, 1.5, 'Iris-versicolor'),\n",
       " (86, 6.0, 3.4, 4.5, 1.6, 'Iris-versicolor'),\n",
       " (87, 6.7, 3.1, 4.7, 1.5, 'Iris-versicolor'),\n",
       " (88, 6.3, 2.3, 4.4, 1.3, 'Iris-versicolor'),\n",
       " (89, 5.6, 3.0, 4.1, 1.3, 'Iris-versicolor'),\n",
       " (90, 5.5, 2.5, 4.0, 1.3, 'Iris-versicolor'),\n",
       " (91, 5.5, 2.6, 4.4, 1.2, 'Iris-versicolor'),\n",
       " (92, 6.1, 3.0, 4.6, 1.4, 'Iris-versicolor'),\n",
       " (93, 5.8, 2.6, 4.0, 1.2, 'Iris-versicolor'),\n",
       " (94, 5.0, 2.3, 3.3, 1.0, 'Iris-versicolor'),\n",
       " (95, 5.6, 2.7, 4.2, 1.3, 'Iris-versicolor'),\n",
       " (96, 5.7, 3.0, 4.2, 1.2, 'Iris-versicolor'),\n",
       " (97, 5.7, 2.9, 4.2, 1.3, 'Iris-versicolor'),\n",
       " (98, 6.2, 2.9, 4.3, 1.3, 'Iris-versicolor'),\n",
       " (99, 5.1, 2.5, 3.0, 1.1, 'Iris-versicolor'),\n",
       " (100, 5.7, 2.8, 4.1, 1.3, 'Iris-versicolor'),\n",
       " (101, 6.3, 3.3, 6.0, 2.5, 'Iris-virginica'),\n",
       " (102, 5.8, 2.7, 5.1, 1.9, 'Iris-virginica'),\n",
       " (103, 7.1, 3.0, 5.9, 2.1, 'Iris-virginica'),\n",
       " (104, 6.3, 2.9, 5.6, 1.8, 'Iris-virginica'),\n",
       " (105, 6.5, 3.0, 5.8, 2.2, 'Iris-virginica'),\n",
       " (106, 7.6, 3.0, 6.6, 2.1, 'Iris-virginica'),\n",
       " (107, 4.9, 2.5, 4.5, 1.7, 'Iris-virginica'),\n",
       " (108, 7.3, 2.9, 6.3, 1.8, 'Iris-virginica'),\n",
       " (109, 6.7, 2.5, 5.8, 1.8, 'Iris-virginica'),\n",
       " (110, 7.2, 3.6, 6.1, 2.5, 'Iris-virginica'),\n",
       " (111, 6.5, 3.2, 5.1, 2.0, 'Iris-virginica'),\n",
       " (112, 6.4, 2.7, 5.3, 1.9, 'Iris-virginica'),\n",
       " (113, 6.8, 3.0, 5.5, 2.1, 'Iris-virginica'),\n",
       " (114, 5.7, 2.5, 5.0, 2.0, 'Iris-virginica'),\n",
       " (115, 5.8, 2.8, 5.1, 2.4, 'Iris-virginica'),\n",
       " (116, 6.4, 3.2, 5.3, 2.3, 'Iris-virginica'),\n",
       " (117, 6.5, 3.0, 5.5, 1.8, 'Iris-virginica'),\n",
       " (118, 7.7, 3.8, 6.7, 2.2, 'Iris-virginica'),\n",
       " (119, 7.7, 2.6, 6.9, 2.3, 'Iris-virginica'),\n",
       " (120, 6.0, 2.2, 5.0, 1.5, 'Iris-virginica'),\n",
       " (121, 6.9, 3.2, 5.7, 2.3, 'Iris-virginica'),\n",
       " (122, 5.6, 2.8, 4.9, 2.0, 'Iris-virginica'),\n",
       " (123, 7.7, 2.8, 6.7, 2.0, 'Iris-virginica'),\n",
       " (124, 6.3, 2.7, 4.9, 1.8, 'Iris-virginica'),\n",
       " (125, 6.7, 3.3, 5.7, 2.1, 'Iris-virginica'),\n",
       " (126, 7.2, 3.2, 6.0, 1.8, 'Iris-virginica'),\n",
       " (127, 6.2, 2.8, 4.8, 1.8, 'Iris-virginica'),\n",
       " (128, 6.1, 3.0, 4.9, 1.8, 'Iris-virginica'),\n",
       " (129, 6.4, 2.8, 5.6, 2.1, 'Iris-virginica'),\n",
       " (130, 7.2, 3.0, 5.8, 1.6, 'Iris-virginica'),\n",
       " (131, 7.4, 2.8, 6.1, 1.9, 'Iris-virginica'),\n",
       " (132, 7.9, 3.8, 6.4, 2.0, 'Iris-virginica'),\n",
       " (133, 6.4, 2.8, 5.6, 2.2, 'Iris-virginica'),\n",
       " (134, 6.3, 2.8, 5.1, 1.5, 'Iris-virginica'),\n",
       " (135, 6.1, 2.6, 5.6, 1.4, 'Iris-virginica'),\n",
       " (136, 7.7, 3.0, 6.1, 2.3, 'Iris-virginica'),\n",
       " (137, 6.3, 3.4, 5.6, 2.4, 'Iris-virginica'),\n",
       " (138, 6.4, 3.1, 5.5, 1.8, 'Iris-virginica'),\n",
       " (139, 6.0, 3.0, 4.8, 1.8, 'Iris-virginica'),\n",
       " (140, 6.9, 3.1, 5.4, 2.1, 'Iris-virginica'),\n",
       " (141, 6.7, 3.1, 5.6, 2.4, 'Iris-virginica'),\n",
       " (142, 6.9, 3.1, 5.1, 2.3, 'Iris-virginica'),\n",
       " (143, 5.8, 2.7, 5.1, 1.9, 'Iris-virginica'),\n",
       " (144, 6.8, 3.2, 5.9, 2.3, 'Iris-virginica'),\n",
       " (145, 6.7, 3.3, 5.7, 2.5, 'Iris-virginica'),\n",
       " (146, 6.7, 3.0, 5.2, 2.3, 'Iris-virginica'),\n",
       " (147, 6.3, 2.5, 5.0, 1.9, 'Iris-virginica'),\n",
       " (148, 6.5, 3.0, 5.2, 2.0, 'Iris-virginica'),\n",
       " (149, 6.2, 3.4, 5.4, 2.3, 'Iris-virginica'),\n",
       " (150, 5.9, 3.0, 5.1, 1.8, 'Iris-virginica'))"
      ]
     },
     "execution_count": 15,
     "metadata": {},
     "output_type": "execute_result"
    }
   ],
   "source": [
    "query_select_all = \"\"\"\n",
    "    SELECT * \n",
    "    FROM `main_table`\n",
    "\"\"\"\n",
    "\n",
    "cursor.execute(query_select_all)\n",
    "cursor.fetchall()"
   ]
  },
  {
   "cell_type": "markdown",
   "metadata": {},
   "source": [
    "### `COUNT()` - функция SQL, которая возвращает количество записей"
   ]
  },
  {
   "cell_type": "code",
   "execution_count": 24,
   "metadata": {},
   "outputs": [
    {
     "data": {
      "text/plain": [
       "150"
      ]
     },
     "execution_count": 24,
     "metadata": {},
     "output_type": "execute_result"
    }
   ],
   "source": [
    "query = \"\"\"\n",
    "    SELECT COUNT(ID)\n",
    "    FROM main_table\n",
    "\"\"\"\n",
    "\n",
    "cursor.execute(query)\n",
    "cursor.fetchall()[0][0]"
   ]
  },
  {
   "cell_type": "code",
   "execution_count": 22,
   "metadata": {},
   "outputs": [
    {
     "data": {
      "text/plain": [
       "int"
      ]
     },
     "execution_count": 22,
     "metadata": {},
     "output_type": "execute_result"
    }
   ],
   "source": [
    "type((150))"
   ]
  },
  {
   "cell_type": "code",
   "execution_count": 23,
   "metadata": {},
   "outputs": [
    {
     "data": {
      "text/plain": [
       "tuple"
      ]
     },
     "execution_count": 23,
     "metadata": {},
     "output_type": "execute_result"
    }
   ],
   "source": [
    "type((150,))"
   ]
  },
  {
   "cell_type": "markdown",
   "metadata": {},
   "source": [
    "### `AVG()` - функция SQL, которая возвращает среднее значение записей"
   ]
  },
  {
   "cell_type": "code",
   "execution_count": 24,
   "metadata": {},
   "outputs": [
    {
     "name": "stdout",
     "output_type": "stream",
     "text": [
      "((5.843333326975505,),)\n",
      "5.843333326975505\n"
     ]
    }
   ],
   "source": [
    "query = \"\"\"\n",
    "    SELECT AVG(`sepal_length_in_cm`)\n",
    "    FROM main_table\n",
    "\"\"\"\n",
    "\n",
    "cursor.execute(query)\n",
    "print(cursor.fetchall())\n",
    "cursor.execute(query)\n",
    "print(cursor.fetchall()[0][0])"
   ]
  },
  {
   "cell_type": "markdown",
   "metadata": {},
   "source": [
    "### `SUM()` - функция SQL, которая возвращает сумму значение записей"
   ]
  },
  {
   "cell_type": "code",
   "execution_count": 4,
   "metadata": {},
   "outputs": [
    {
     "data": {
      "text/plain": [
       "((876.4999990463257,),)"
      ]
     },
     "execution_count": 4,
     "metadata": {},
     "output_type": "execute_result"
    }
   ],
   "source": [
    "query = \"\"\"\n",
    "    SELECT SUM(sepal_length_in_cm)\n",
    "    FROM main_table\n",
    "\"\"\"\n",
    "\n",
    "cursor.execute(query)\n",
    "cursor.fetchall()"
   ]
  },
  {
   "cell_type": "markdown",
   "metadata": {},
   "source": [
    "### `MIN()` - функция SQL, которая возвращает минимальное значение записей"
   ]
  },
  {
   "cell_type": "code",
   "execution_count": 5,
   "metadata": {},
   "outputs": [
    {
     "data": {
      "text/plain": [
       "((1,),)"
      ]
     },
     "execution_count": 5,
     "metadata": {},
     "output_type": "execute_result"
    }
   ],
   "source": [
    "query = \"\"\"\n",
    "    SELECT MIN(ID)\n",
    "    FROM main_table\n",
    "\"\"\"\n",
    "\n",
    "cursor.execute(query)\n",
    "cursor.fetchall()"
   ]
  },
  {
   "cell_type": "markdown",
   "metadata": {},
   "source": [
    "### `MAX()` - функция SQL, которая возвращает максимальное значение записей"
   ]
  },
  {
   "cell_type": "code",
   "execution_count": 25,
   "metadata": {},
   "outputs": [
    {
     "data": {
      "text/plain": [
       "((150,),)"
      ]
     },
     "execution_count": 25,
     "metadata": {},
     "output_type": "execute_result"
    }
   ],
   "source": [
    "query = \"\"\"\n",
    "    SELECT MAX(ID)\n",
    "    FROM main_table\n",
    "\"\"\"\n",
    "\n",
    "cursor.execute(query)\n",
    "cursor.fetchall()"
   ]
  },
  {
   "cell_type": "markdown",
   "metadata": {},
   "source": [
    "# SELECT"
   ]
  },
  {
   "cell_type": "markdown",
   "metadata": {},
   "source": [
    "### `DISTINCT` - оператор, который выбирает уникальные записи"
   ]
  },
  {
   "cell_type": "code",
   "execution_count": 27,
   "metadata": {},
   "outputs": [
    {
     "data": {
      "text/plain": [
       "['Iris-setosa', 'Iris-versicolor', 'Iris-virginica']"
      ]
     },
     "execution_count": 27,
     "metadata": {},
     "output_type": "execute_result"
    }
   ],
   "source": [
    "query = \"\"\"\n",
    "    SELECT DISTINCT\n",
    "        class_name\n",
    "    FROM main_table\n",
    "\"\"\"\n",
    "\n",
    "cursor.execute(query)\n",
    "list(map(lambda x: x[0], cursor.fetchall()))"
   ]
  },
  {
   "cell_type": "code",
   "execution_count": null,
   "metadata": {
    "collapsed": true
   },
   "outputs": [],
   "source": [
    "lambda x: x[0]\n",
    "\n",
    "def f(x):\n",
    "    return x[0]"
   ]
  },
  {
   "cell_type": "code",
   "execution_count": 28,
   "metadata": {},
   "outputs": [
    {
     "data": {
      "text/plain": [
       "['Iris-setosa', 'Iris-versicolor', 'Iris-virginica']"
      ]
     },
     "execution_count": 28,
     "metadata": {},
     "output_type": "execute_result"
    }
   ],
   "source": [
    "cursor.execute(query)\n",
    "[row[0] for row in cursor.fetchall()]"
   ]
  },
  {
   "cell_type": "markdown",
   "metadata": {},
   "source": [
    "### Уникальные значения нескольких столбцов"
   ]
  },
  {
   "cell_type": "code",
   "execution_count": 32,
   "metadata": {
    "scrolled": true
   },
   "outputs": [
    {
     "data": {
      "text/plain": [
       "((5.1, 'Iris-setosa'),\n",
       " (4.9, 'Iris-setosa'),\n",
       " (4.7, 'Iris-setosa'),\n",
       " (4.6, 'Iris-setosa'),\n",
       " (5.0, 'Iris-setosa'),\n",
       " (5.4, 'Iris-setosa'),\n",
       " (4.4, 'Iris-setosa'),\n",
       " (4.8, 'Iris-setosa'),\n",
       " (4.3, 'Iris-setosa'),\n",
       " (5.8, 'Iris-setosa'),\n",
       " (5.7, 'Iris-setosa'),\n",
       " (5.2, 'Iris-setosa'),\n",
       " (5.5, 'Iris-setosa'),\n",
       " (4.5, 'Iris-setosa'),\n",
       " (5.3, 'Iris-setosa'),\n",
       " (7.0, 'Iris-versicolor'),\n",
       " (6.4, 'Iris-versicolor'),\n",
       " (6.9, 'Iris-versicolor'),\n",
       " (5.5, 'Iris-versicolor'),\n",
       " (6.5, 'Iris-versicolor'),\n",
       " (5.7, 'Iris-versicolor'),\n",
       " (6.3, 'Iris-versicolor'),\n",
       " (4.9, 'Iris-versicolor'),\n",
       " (6.6, 'Iris-versicolor'),\n",
       " (5.2, 'Iris-versicolor'),\n",
       " (5.0, 'Iris-versicolor'),\n",
       " (5.9, 'Iris-versicolor'),\n",
       " (6.0, 'Iris-versicolor'),\n",
       " (6.1, 'Iris-versicolor'),\n",
       " (5.6, 'Iris-versicolor'),\n",
       " (6.7, 'Iris-versicolor'),\n",
       " (5.8, 'Iris-versicolor'),\n",
       " (6.2, 'Iris-versicolor'),\n",
       " (6.8, 'Iris-versicolor'),\n",
       " (5.4, 'Iris-versicolor'),\n",
       " (5.1, 'Iris-versicolor'),\n",
       " (6.3, 'Iris-virginica'),\n",
       " (5.8, 'Iris-virginica'),\n",
       " (7.1, 'Iris-virginica'),\n",
       " (6.5, 'Iris-virginica'),\n",
       " (7.6, 'Iris-virginica'),\n",
       " (4.9, 'Iris-virginica'),\n",
       " (7.3, 'Iris-virginica'),\n",
       " (6.7, 'Iris-virginica'),\n",
       " (7.2, 'Iris-virginica'),\n",
       " (6.4, 'Iris-virginica'),\n",
       " (6.8, 'Iris-virginica'),\n",
       " (5.7, 'Iris-virginica'),\n",
       " (7.7, 'Iris-virginica'),\n",
       " (6.0, 'Iris-virginica'),\n",
       " (6.9, 'Iris-virginica'),\n",
       " (5.6, 'Iris-virginica'),\n",
       " (6.2, 'Iris-virginica'),\n",
       " (6.1, 'Iris-virginica'),\n",
       " (7.4, 'Iris-virginica'),\n",
       " (7.9, 'Iris-virginica'),\n",
       " (5.9, 'Iris-virginica'))"
      ]
     },
     "execution_count": 32,
     "metadata": {},
     "output_type": "execute_result"
    }
   ],
   "source": [
    "query = \"\"\"\n",
    "    SELECT DISTINCT sepal_length_in_cm, class_name\n",
    "    FROM main_table\n",
    "\"\"\"\n",
    "\n",
    "cursor.execute(query)\n",
    "cursor.fetchall()"
   ]
  },
  {
   "cell_type": "markdown",
   "metadata": {},
   "source": [
    "### Смотрим количество уникальных записей"
   ]
  },
  {
   "cell_type": "code",
   "execution_count": 33,
   "metadata": {},
   "outputs": [
    {
     "data": {
      "text/plain": [
       "((3,),)"
      ]
     },
     "execution_count": 33,
     "metadata": {},
     "output_type": "execute_result"
    }
   ],
   "source": [
    "query = \"\"\"\n",
    "    SELECT\n",
    "        COUNT(DISTINCT class_name)\n",
    "    FROM main_table\n",
    "\"\"\"\n",
    "\n",
    "cursor.execute(query)\n",
    "cursor.fetchall()"
   ]
  },
  {
   "cell_type": "markdown",
   "metadata": {},
   "source": [
    "### Смотрим количество уникальных записей по нескольким столбцам"
   ]
  },
  {
   "cell_type": "code",
   "execution_count": 35,
   "metadata": {},
   "outputs": [
    {
     "data": {
      "text/plain": [
       "((57,),)"
      ]
     },
     "execution_count": 35,
     "metadata": {},
     "output_type": "execute_result"
    }
   ],
   "source": [
    "query = \"\"\"\n",
    "    SELECT COUNT(*)\n",
    "    FROM (\n",
    "        SELECT DISTINCT sepal_length_in_cm, class_name\n",
    "        FROM main_table\n",
    "    ) as t\n",
    "\"\"\"\n",
    "\n",
    "cursor.execute(query)\n",
    "cursor.fetchall()"
   ]
  },
  {
   "cell_type": "markdown",
   "metadata": {},
   "source": [
    "### `WHERE` - условный оператор"
   ]
  },
  {
   "cell_type": "code",
   "execution_count": null,
   "metadata": {
    "collapsed": true
   },
   "outputs": [],
   "source": [
    "df[df.value == 5]"
   ]
  },
  {
   "cell_type": "code",
   "execution_count": 36,
   "metadata": {
    "scrolled": true
   },
   "outputs": [
    {
     "data": {
      "text/plain": [
       "((51, 7.0, 3.2, 4.7, 1.4, 'Iris-versicolor'),\n",
       " (52, 6.4, 3.2, 4.5, 1.5, 'Iris-versicolor'),\n",
       " (53, 6.9, 3.1, 4.9, 1.5, 'Iris-versicolor'),\n",
       " (54, 5.5, 2.3, 4.0, 1.3, 'Iris-versicolor'),\n",
       " (55, 6.5, 2.8, 4.6, 1.5, 'Iris-versicolor'),\n",
       " (56, 5.7, 2.8, 4.5, 1.3, 'Iris-versicolor'),\n",
       " (57, 6.3, 3.3, 4.7, 1.6, 'Iris-versicolor'),\n",
       " (58, 4.9, 2.4, 3.3, 1.0, 'Iris-versicolor'),\n",
       " (59, 6.6, 2.9, 4.6, 1.3, 'Iris-versicolor'),\n",
       " (60, 5.2, 2.7, 3.9, 1.4, 'Iris-versicolor'),\n",
       " (61, 5.0, 2.0, 3.5, 1.0, 'Iris-versicolor'),\n",
       " (62, 5.9, 3.0, 4.2, 1.5, 'Iris-versicolor'),\n",
       " (63, 6.0, 2.2, 4.0, 1.0, 'Iris-versicolor'),\n",
       " (64, 6.1, 2.9, 4.7, 1.4, 'Iris-versicolor'),\n",
       " (65, 5.6, 2.9, 3.6, 1.3, 'Iris-versicolor'),\n",
       " (66, 6.7, 3.1, 4.4, 1.4, 'Iris-versicolor'),\n",
       " (67, 5.6, 3.0, 4.5, 1.5, 'Iris-versicolor'),\n",
       " (68, 5.8, 2.7, 4.1, 1.0, 'Iris-versicolor'),\n",
       " (69, 6.2, 2.2, 4.5, 1.5, 'Iris-versicolor'),\n",
       " (70, 5.6, 2.5, 3.9, 1.1, 'Iris-versicolor'),\n",
       " (71, 5.9, 3.2, 4.8, 1.8, 'Iris-versicolor'),\n",
       " (72, 6.1, 2.8, 4.0, 1.3, 'Iris-versicolor'),\n",
       " (73, 6.3, 2.5, 4.9, 1.5, 'Iris-versicolor'),\n",
       " (74, 6.1, 2.8, 4.7, 1.2, 'Iris-versicolor'),\n",
       " (75, 6.4, 2.9, 4.3, 1.3, 'Iris-versicolor'),\n",
       " (76, 6.6, 3.0, 4.4, 1.4, 'Iris-versicolor'),\n",
       " (77, 6.8, 2.8, 4.8, 1.4, 'Iris-versicolor'),\n",
       " (78, 6.7, 3.0, 5.0, 1.7, 'Iris-versicolor'),\n",
       " (79, 6.0, 2.9, 4.5, 1.5, 'Iris-versicolor'),\n",
       " (80, 5.7, 2.6, 3.5, 1.0, 'Iris-versicolor'),\n",
       " (81, 5.5, 2.4, 3.8, 1.1, 'Iris-versicolor'),\n",
       " (82, 5.5, 2.4, 3.7, 1.0, 'Iris-versicolor'),\n",
       " (83, 5.8, 2.7, 3.9, 1.2, 'Iris-versicolor'),\n",
       " (84, 6.0, 2.7, 5.1, 1.6, 'Iris-versicolor'),\n",
       " (85, 5.4, 3.0, 4.5, 1.5, 'Iris-versicolor'),\n",
       " (86, 6.0, 3.4, 4.5, 1.6, 'Iris-versicolor'),\n",
       " (87, 6.7, 3.1, 4.7, 1.5, 'Iris-versicolor'),\n",
       " (88, 6.3, 2.3, 4.4, 1.3, 'Iris-versicolor'),\n",
       " (89, 5.6, 3.0, 4.1, 1.3, 'Iris-versicolor'),\n",
       " (90, 5.5, 2.5, 4.0, 1.3, 'Iris-versicolor'),\n",
       " (91, 5.5, 2.6, 4.4, 1.2, 'Iris-versicolor'),\n",
       " (92, 6.1, 3.0, 4.6, 1.4, 'Iris-versicolor'),\n",
       " (93, 5.8, 2.6, 4.0, 1.2, 'Iris-versicolor'),\n",
       " (94, 5.0, 2.3, 3.3, 1.0, 'Iris-versicolor'),\n",
       " (95, 5.6, 2.7, 4.2, 1.3, 'Iris-versicolor'),\n",
       " (96, 5.7, 3.0, 4.2, 1.2, 'Iris-versicolor'),\n",
       " (97, 5.7, 2.9, 4.2, 1.3, 'Iris-versicolor'),\n",
       " (98, 6.2, 2.9, 4.3, 1.3, 'Iris-versicolor'),\n",
       " (99, 5.1, 2.5, 3.0, 1.1, 'Iris-versicolor'),\n",
       " (100, 5.7, 2.8, 4.1, 1.3, 'Iris-versicolor'))"
      ]
     },
     "execution_count": 36,
     "metadata": {},
     "output_type": "execute_result"
    }
   ],
   "source": [
    "query = \"\"\"\n",
    "    SELECT *\n",
    "    FROM main_table\n",
    "    WHERE class_name = 'Iris-versicolor'\n",
    "\"\"\"\n",
    "\n",
    "cursor.execute(query)\n",
    "cursor.fetchall()"
   ]
  },
  {
   "cell_type": "markdown",
   "metadata": {},
   "source": [
    "### WHERE работает с операторами:\n",
    "    =\n",
    "    >=\n",
    "    <=\n",
    "    >\n",
    "    <\n",
    "    NOT\n",
    "    AND\n",
    "    OR\n",
    "    IS NULL\n",
    "    IS NOT NULL\n",
    "    !=\n",
    "    <>\n",
    "    IN\n",
    "    BETWEEN\n",
    "    LIKE\n",
    "    GLOB"
   ]
  },
  {
   "cell_type": "markdown",
   "metadata": {},
   "source": [
    "### `AND` - оператор \"логическое И\""
   ]
  },
  {
   "cell_type": "code",
   "execution_count": 38,
   "metadata": {},
   "outputs": [
    {
     "data": {
      "text/plain": [
       "24"
      ]
     },
     "execution_count": 38,
     "metadata": {},
     "output_type": "execute_result"
    }
   ],
   "source": [
    "query = \"\"\"\n",
    "    SELECT *\n",
    "    FROM main_table\n",
    "    WHERE \n",
    "        class_name = 'Iris-versicolor'\n",
    "        AND\n",
    "        sepal_length_in_cm >= 6\n",
    "        \n",
    "\"\"\"\n",
    "\n",
    "cursor.execute(query)\n",
    "len(cursor.fetchall())"
   ]
  },
  {
   "cell_type": "markdown",
   "metadata": {},
   "source": [
    "### Оператор можно использовать несколько раз"
   ]
  },
  {
   "cell_type": "code",
   "execution_count": 39,
   "metadata": {},
   "outputs": [
    {
     "data": {
      "text/plain": [
       "((52, 6.4, 3.2, 4.5, 1.5, 'Iris-versicolor'),\n",
       " (57, 6.3, 3.3, 4.7, 1.6, 'Iris-versicolor'),\n",
       " (63, 6.0, 2.2, 4.0, 1.0, 'Iris-versicolor'),\n",
       " (64, 6.1, 2.9, 4.7, 1.4, 'Iris-versicolor'),\n",
       " (69, 6.2, 2.2, 4.5, 1.5, 'Iris-versicolor'),\n",
       " (72, 6.1, 2.8, 4.0, 1.3, 'Iris-versicolor'),\n",
       " (73, 6.3, 2.5, 4.9, 1.5, 'Iris-versicolor'),\n",
       " (74, 6.1, 2.8, 4.7, 1.2, 'Iris-versicolor'),\n",
       " (75, 6.4, 2.9, 4.3, 1.3, 'Iris-versicolor'),\n",
       " (79, 6.0, 2.9, 4.5, 1.5, 'Iris-versicolor'),\n",
       " (84, 6.0, 2.7, 5.1, 1.6, 'Iris-versicolor'),\n",
       " (86, 6.0, 3.4, 4.5, 1.6, 'Iris-versicolor'),\n",
       " (88, 6.3, 2.3, 4.4, 1.3, 'Iris-versicolor'),\n",
       " (92, 6.1, 3.0, 4.6, 1.4, 'Iris-versicolor'),\n",
       " (98, 6.2, 2.9, 4.3, 1.3, 'Iris-versicolor'))"
      ]
     },
     "execution_count": 39,
     "metadata": {},
     "output_type": "execute_result"
    }
   ],
   "source": [
    "query = \"\"\"\n",
    "    SELECT *\n",
    "    FROM main_table\n",
    "    WHERE \n",
    "        class_name = 'Iris-versicolor'\n",
    "        AND\n",
    "        sepal_length_in_cm >= 6\n",
    "        AND\n",
    "        sepal_length_in_cm < 6.5      \n",
    "\"\"\"\n",
    "\n",
    "cursor.execute(query)\n",
    "cursor.fetchall()"
   ]
  },
  {
   "cell_type": "markdown",
   "metadata": {},
   "source": [
    "### `BETWEEN` - оператор диапазона значений"
   ]
  },
  {
   "cell_type": "code",
   "execution_count": 40,
   "metadata": {},
   "outputs": [
    {
     "data": {
      "text/plain": [
       "((57, 6.3, 3.3, 4.7, 1.6, 'Iris-versicolor'),\n",
       " (64, 6.1, 2.9, 4.7, 1.4, 'Iris-versicolor'),\n",
       " (72, 6.1, 2.8, 4.0, 1.3, 'Iris-versicolor'),\n",
       " (73, 6.3, 2.5, 4.9, 1.5, 'Iris-versicolor'),\n",
       " (74, 6.1, 2.8, 4.7, 1.2, 'Iris-versicolor'),\n",
       " (79, 6.0, 2.9, 4.5, 1.5, 'Iris-versicolor'),\n",
       " (84, 6.0, 2.7, 5.1, 1.6, 'Iris-versicolor'),\n",
       " (92, 6.1, 3.0, 4.6, 1.4, 'Iris-versicolor'),\n",
       " (98, 6.2, 2.9, 4.3, 1.3, 'Iris-versicolor'))"
      ]
     },
     "execution_count": 40,
     "metadata": {},
     "output_type": "execute_result"
    }
   ],
   "source": [
    "query = \"\"\"\n",
    "    SELECT *\n",
    "    FROM main_table\n",
    "    WHERE \n",
    "        class_name = 'Iris-versicolor'\n",
    "        AND\n",
    "        sepal_length_in_cm BETWEEN 6 AND 6.4\n",
    "--        sepal_length_in_cm >= 6\n",
    "--        AND\n",
    "--        sepal_length_in_cm < 6.5 \n",
    "        AND\n",
    "        sepal_width_in_cm BETWEEN 2.5 AND 3.3\n",
    "\"\"\"\n",
    "\n",
    "cursor.execute(query)\n",
    "cursor.fetchall()"
   ]
  },
  {
   "cell_type": "markdown",
   "metadata": {},
   "source": [
    "### `OR` - оператор \"логическое ИЛИ\""
   ]
  },
  {
   "cell_type": "code",
   "execution_count": 41,
   "metadata": {},
   "outputs": [
    {
     "data": {
      "text/plain": [
       "((73, 6.3, 2.5, 4.9, 1.5, 'Iris-versicolor'),\n",
       " (79, 6.0, 2.9, 4.5, 1.5, 'Iris-versicolor'))"
      ]
     },
     "execution_count": 41,
     "metadata": {},
     "output_type": "execute_result"
    }
   ],
   "source": [
    "query = \"\"\"\n",
    "    SELECT *\n",
    "    FROM main_table\n",
    "    WHERE \n",
    "        class_name = 'Iris-versicolor'\n",
    "        AND\n",
    "        sepal_length_in_cm BETWEEN 6 AND 6.4\n",
    "--        sepal_length_in_cm >= 6\n",
    "--        AND\n",
    "--        sepal_length_in_cm < 6.5 \n",
    "        AND\n",
    "        sepal_width_in_cm BETWEEN 2.5 AND 3.3\n",
    "        AND\n",
    "        (\n",
    "            petal_width_in_cm = 1.3\n",
    "            OR\n",
    "            petal_width_in_cm = 1.5\n",
    "            OR\n",
    "            petal_width_in_cm = 1.6\n",
    "        )     \n",
    "\"\"\"\n",
    "\n",
    "cursor.execute(query)\n",
    "cursor.fetchall()"
   ]
  },
  {
   "cell_type": "markdown",
   "metadata": {},
   "source": [
    "### `IN` - оператор вхождения в диапазон"
   ]
  },
  {
   "cell_type": "code",
   "execution_count": 42,
   "metadata": {},
   "outputs": [
    {
     "data": {
      "text/plain": [
       "((73, 6.3, 2.5, 4.9, 1.5, 'Iris-versicolor'),\n",
       " (79, 6.0, 2.9, 4.5, 1.5, 'Iris-versicolor'))"
      ]
     },
     "execution_count": 42,
     "metadata": {},
     "output_type": "execute_result"
    }
   ],
   "source": [
    "query = \"\"\"\n",
    "    SELECT *\n",
    "    FROM main_table\n",
    "    WHERE \n",
    "        class_name = 'Iris-versicolor'\n",
    "        AND\n",
    "        sepal_length_in_cm BETWEEN 6 AND 6.4\n",
    "--        sepal_length_in_cm >= 6\n",
    "--        AND\n",
    "--        sepal_length_in_cm < 6.5 \n",
    "        AND\n",
    "        sepal_width_in_cm BETWEEN 2.5 AND 3.3\n",
    "        AND\n",
    "        petal_width_in_cm IN (1.3, 1.5, 1.6)    \n",
    "\"\"\"\n",
    "\n",
    "cursor.execute(query)\n",
    "cursor.fetchall()"
   ]
  },
  {
   "cell_type": "markdown",
   "metadata": {},
   "source": [
    "### `NOT` - оператор \"логическое не\""
   ]
  },
  {
   "cell_type": "code",
   "execution_count": 43,
   "metadata": {},
   "outputs": [
    {
     "data": {
      "text/plain": [
       "((73, 6.3, 2.5, 4.9, 1.5, 'Iris-versicolor'),)"
      ]
     },
     "execution_count": 43,
     "metadata": {},
     "output_type": "execute_result"
    }
   ],
   "source": [
    "query = \"\"\"\n",
    "    SELECT *\n",
    "    FROM main_table\n",
    "    WHERE \n",
    "        class_name = 'Iris-versicolor'\n",
    "        AND\n",
    "        sepal_length_in_cm BETWEEN 6 AND 6.4\n",
    "--        sepal_length_in_cm >= 6\n",
    "--        AND\n",
    "--        sepal_length_in_cm < 6.5 \n",
    "        AND\n",
    "        sepal_width_in_cm BETWEEN 2.5 AND 3.3\n",
    "        AND\n",
    "        petal_width_in_cm IN (1.3, 1.5, 1.6)\n",
    "        AND\n",
    "        ID NOT IN (72, 79, 98) \n",
    "\"\"\"\n",
    "\n",
    "cursor.execute(query)\n",
    "cursor.fetchall()"
   ]
  },
  {
   "cell_type": "markdown",
   "metadata": {},
   "source": [
    "### `LIKE` - оператор подобности. Использует 2 знака: `%` - любое количесво знаков, `_` - один знак"
   ]
  },
  {
   "cell_type": "code",
   "execution_count": 44,
   "metadata": {},
   "outputs": [
    {
     "data": {
      "text/plain": [
       "((73, 6.3, 2.5, 4.9, 1.5, 'Iris-versicolor'),\n",
       " (79, 6.0, 2.9, 4.5, 1.5, 'Iris-versicolor'),\n",
       " (134, 6.3, 2.8, 5.1, 1.5, 'Iris-virginica'))"
      ]
     },
     "execution_count": 44,
     "metadata": {},
     "output_type": "execute_result"
    }
   ],
   "source": [
    "query = \"\"\"\n",
    "    SELECT *\n",
    "    FROM main_table\n",
    "    WHERE \n",
    "        class_name LIKE '%ris-v%'\n",
    "        AND\n",
    "        sepal_length_in_cm BETWEEN 6 AND 6.4\n",
    "        AND\n",
    "        sepal_width_in_cm BETWEEN 2.5 AND 3.3\n",
    "        AND\n",
    "        petal_width_in_cm IN (1.3, 1.5, 1.6)    \n",
    "\"\"\"\n",
    "\n",
    "cursor.execute(query)\n",
    "cursor.fetchall()"
   ]
  },
  {
   "cell_type": "code",
   "execution_count": 46,
   "metadata": {
    "collapsed": true
   },
   "outputs": [],
   "source": [
    "df = pd.read_sql(\"\"\"\n",
    "    SELECT *\n",
    "    FROM main_table\n",
    "    WHERE \n",
    "        class_name LIKE '%ris-v%'\n",
    "        AND\n",
    "        sepal_length_in_cm BETWEEN 6 AND 6.4\n",
    "        AND\n",
    "        sepal_width_in_cm BETWEEN 2.5 AND 3.3\n",
    "        AND\n",
    "        petal_width_in_cm IN (1.3, 1.5, 1.6)   \n",
    "\"\"\", db_conn)"
   ]
  },
  {
   "cell_type": "code",
   "execution_count": 47,
   "metadata": {},
   "outputs": [
    {
     "data": {
      "text/html": [
       "<div>\n",
       "<style scoped>\n",
       "    .dataframe tbody tr th:only-of-type {\n",
       "        vertical-align: middle;\n",
       "    }\n",
       "\n",
       "    .dataframe tbody tr th {\n",
       "        vertical-align: top;\n",
       "    }\n",
       "\n",
       "    .dataframe thead th {\n",
       "        text-align: right;\n",
       "    }\n",
       "</style>\n",
       "<table border=\"1\" class=\"dataframe\">\n",
       "  <thead>\n",
       "    <tr style=\"text-align: right;\">\n",
       "      <th></th>\n",
       "      <th>ID</th>\n",
       "      <th>sepal_length_in_cm</th>\n",
       "      <th>sepal_width_in_cm</th>\n",
       "      <th>petal_length_in_cm</th>\n",
       "      <th>petal_width_in_cm</th>\n",
       "      <th>class_name</th>\n",
       "    </tr>\n",
       "  </thead>\n",
       "  <tbody>\n",
       "    <tr>\n",
       "      <th>0</th>\n",
       "      <td>73</td>\n",
       "      <td>6.3</td>\n",
       "      <td>2.5</td>\n",
       "      <td>4.9</td>\n",
       "      <td>1.5</td>\n",
       "      <td>Iris-versicolor</td>\n",
       "    </tr>\n",
       "    <tr>\n",
       "      <th>1</th>\n",
       "      <td>79</td>\n",
       "      <td>6.0</td>\n",
       "      <td>2.9</td>\n",
       "      <td>4.5</td>\n",
       "      <td>1.5</td>\n",
       "      <td>Iris-versicolor</td>\n",
       "    </tr>\n",
       "    <tr>\n",
       "      <th>2</th>\n",
       "      <td>134</td>\n",
       "      <td>6.3</td>\n",
       "      <td>2.8</td>\n",
       "      <td>5.1</td>\n",
       "      <td>1.5</td>\n",
       "      <td>Iris-virginica</td>\n",
       "    </tr>\n",
       "  </tbody>\n",
       "</table>\n",
       "</div>"
      ],
      "text/plain": [
       "    ID  sepal_length_in_cm  sepal_width_in_cm  petal_length_in_cm  \\\n",
       "0   73                 6.3                2.5                 4.9   \n",
       "1   79                 6.0                2.9                 4.5   \n",
       "2  134                 6.3                2.8                 5.1   \n",
       "\n",
       "   petal_width_in_cm       class_name  \n",
       "0                1.5  Iris-versicolor  \n",
       "1                1.5  Iris-versicolor  \n",
       "2                1.5   Iris-virginica  "
      ]
     },
     "execution_count": 47,
     "metadata": {},
     "output_type": "execute_result"
    }
   ],
   "source": [
    "df"
   ]
  },
  {
   "cell_type": "code",
   "execution_count": 45,
   "metadata": {},
   "outputs": [
    {
     "data": {
      "text/plain": [
       "((73, 6.3, 2.5, 4.9, 1.5, 'Iris-versicolor'),\n",
       " (79, 6.0, 2.9, 4.5, 1.5, 'Iris-versicolor'))"
      ]
     },
     "execution_count": 45,
     "metadata": {},
     "output_type": "execute_result"
    }
   ],
   "source": [
    "query = \"\"\"\n",
    "    SELECT *\n",
    "    FROM main_table\n",
    "    WHERE \n",
    "        class_name LIKE '%ris-ve%'\n",
    "        AND\n",
    "        sepal_length_in_cm BETWEEN 6 AND 6.4\n",
    "        AND\n",
    "        sepal_width_in_cm BETWEEN 2.5 AND 3.3\n",
    "        AND\n",
    "        petal_width_in_cm IN (1.3, 1.5, 1.6)    \n",
    "\"\"\"\n",
    "\n",
    "cursor.execute(query)\n",
    "cursor.fetchall()"
   ]
  },
  {
   "cell_type": "markdown",
   "metadata": {},
   "source": [
    "### `ORDER BY` - оператор сортировки. Можно сортировать по возрастанию `ASC` и по убыванию `DESC`. По умолчанию сортирует по возрастанию"
   ]
  },
  {
   "cell_type": "code",
   "execution_count": 48,
   "metadata": {},
   "outputs": [
    {
     "data": {
      "text/plain": [
       "((73, 6.3, 2.5, 4.9, 1.5, 'Iris-versicolor'),\n",
       " (134, 6.3, 2.8, 5.1, 1.5, 'Iris-virginica'),\n",
       " (79, 6.0, 2.9, 4.5, 1.5, 'Iris-versicolor'))"
      ]
     },
     "execution_count": 48,
     "metadata": {},
     "output_type": "execute_result"
    }
   ],
   "source": [
    "query = \"\"\"\n",
    "    SELECT *\n",
    "    FROM main_table\n",
    "    WHERE \n",
    "        class_name LIKE '%ris-v%'\n",
    "        AND\n",
    "        sepal_length_in_cm BETWEEN 6 AND 6.4\n",
    "        AND\n",
    "        sepal_width_in_cm BETWEEN 2.5 AND 3.3\n",
    "        AND\n",
    "        petal_width_in_cm IN (1.3, 1.5, 1.6)    \n",
    "    ORDER BY sepal_length_in_cm DESC\n",
    "\"\"\"\n",
    "\n",
    "cursor.execute(query)\n",
    "cursor.fetchall()"
   ]
  },
  {
   "cell_type": "markdown",
   "metadata": {},
   "source": [
    "### Сортировка по двум столбцам"
   ]
  },
  {
   "cell_type": "code",
   "execution_count": 49,
   "metadata": {},
   "outputs": [
    {
     "data": {
      "text/plain": [
       "((73, 6.3, 2.5, 4.9, 1.5, 'Iris-versicolor'),\n",
       " (134, 6.3, 2.8, 5.1, 1.5, 'Iris-virginica'),\n",
       " (79, 6.0, 2.9, 4.5, 1.5, 'Iris-versicolor'))"
      ]
     },
     "execution_count": 49,
     "metadata": {},
     "output_type": "execute_result"
    }
   ],
   "source": [
    "query = \"\"\"\n",
    "    SELECT *\n",
    "    FROM main_table\n",
    "    WHERE \n",
    "        class_name LIKE '%ris-v%'\n",
    "        AND\n",
    "        sepal_length_in_cm BETWEEN 6 AND 6.4\n",
    "        AND\n",
    "        sepal_width_in_cm BETWEEN 2.5 AND 3.3\n",
    "        AND\n",
    "        petal_width_in_cm IN (1.3, 1.5, 1.6)    \n",
    "    ORDER BY \n",
    "        sepal_length_in_cm DESC\n",
    "        ,sepal_width_in_cm ASC\n",
    "\"\"\"\n",
    "\n",
    "cursor.execute(query)\n",
    "cursor.fetchall()"
   ]
  },
  {
   "cell_type": "markdown",
   "metadata": {},
   "source": [
    "### `LIMIT` - оператор ограничения количества выводимых строк"
   ]
  },
  {
   "cell_type": "code",
   "execution_count": 52,
   "metadata": {},
   "outputs": [
    {
     "data": {
      "text/plain": [
       "((73, 6.3, 2.5, 4.9, 1.5, 'Iris-versicolor'),\n",
       " (147, 6.3, 2.5, 5.0, 1.9, 'Iris-virginica'),\n",
       " (124, 6.3, 2.7, 4.9, 1.8, 'Iris-virginica'),\n",
       " (134, 6.3, 2.8, 5.1, 1.5, 'Iris-virginica'))"
      ]
     },
     "execution_count": 52,
     "metadata": {},
     "output_type": "execute_result"
    }
   ],
   "source": [
    "query = \"\"\"\n",
    "    SELECT *\n",
    "    FROM main_table\n",
    "    WHERE \n",
    "        sepal_length_in_cm BETWEEN 6 AND 6.4\n",
    "        AND\n",
    "        sepal_width_in_cm BETWEEN 2.5 AND 3.3\n",
    "    ORDER BY \n",
    "        sepal_length_in_cm DESC\n",
    "        ,sepal_width_in_cm ASC\n",
    "    LIMIT 4\n",
    "\"\"\"\n",
    "\n",
    "cursor.execute(query)\n",
    "cursor.fetchall()"
   ]
  },
  {
   "cell_type": "markdown",
   "metadata": {},
   "source": [
    "### `OFFSET` - оператор смещения выводимых строк"
   ]
  },
  {
   "cell_type": "code",
   "execution_count": 53,
   "metadata": {},
   "outputs": [
    {
     "data": {
      "text/plain": [
       "((124, 6.3, 2.7, 4.9, 1.8, 'Iris-virginica'),\n",
       " (134, 6.3, 2.8, 5.1, 1.5, 'Iris-virginica'),\n",
       " (104, 6.3, 2.9, 5.6, 1.8, 'Iris-virginica'),\n",
       " (57, 6.3, 3.3, 4.7, 1.6, 'Iris-versicolor'))"
      ]
     },
     "execution_count": 53,
     "metadata": {},
     "output_type": "execute_result"
    }
   ],
   "source": [
    "query = \"\"\"\n",
    "    SELECT *\n",
    "    FROM main_table\n",
    "    WHERE \n",
    "        sepal_length_in_cm BETWEEN 6 AND 6.4\n",
    "        AND\n",
    "        sepal_width_in_cm BETWEEN 2.5 AND 3.3\n",
    "    ORDER BY \n",
    "        sepal_length_in_cm DESC\n",
    "        ,sepal_width_in_cm ASC\n",
    "    LIMIT 4 OFFSET 2\n",
    "\"\"\"\n",
    "\n",
    "cursor.execute(query)\n",
    "cursor.fetchall()"
   ]
  },
  {
   "cell_type": "markdown",
   "metadata": {},
   "source": [
    "### `GROUP BY` - оператор группировки"
   ]
  },
  {
   "cell_type": "code",
   "execution_count": 55,
   "metadata": {},
   "outputs": [
    {
     "data": {
      "text/plain": [
       "(('Iris-setosa', 50), ('Iris-versicolor', 50), ('Iris-virginica', 50))"
      ]
     },
     "execution_count": 55,
     "metadata": {},
     "output_type": "execute_result"
    }
   ],
   "source": [
    "query = \"\"\"\n",
    "    SELECT \n",
    "        class_name\n",
    "        ,SUM(sepal_length_in_cm)\n",
    "    FROM main_table\n",
    "    GROUP BY class_name\n",
    "\"\"\"\n",
    "\n",
    "cursor.execute(query)\n",
    "cursor.fetchall()"
   ]
  },
  {
   "cell_type": "markdown",
   "metadata": {},
   "source": [
    "### `as` - Оператор алиаса (переименования столбца)"
   ]
  },
  {
   "cell_type": "code",
   "execution_count": 59,
   "metadata": {},
   "outputs": [
    {
     "data": {
      "text/plain": [
       "(('Iris-setosa', 250.30000019073486),\n",
       " ('Iris-versicolor', 296.7999987602234),\n",
       " ('Iris-virginica', 329.40000009536743))"
      ]
     },
     "execution_count": 59,
     "metadata": {},
     "output_type": "execute_result"
    }
   ],
   "source": [
    "query = \"\"\"\n",
    "    SELECT \n",
    "        class_name\n",
    "        ,SUM(sepal_length_in_cm) as sum_sepal_length\n",
    "    FROM main_table\n",
    "    GROUP BY class_name\n",
    "\"\"\"\n",
    "\n",
    "cursor.execute(query)\n",
    "cursor.fetchall()"
   ]
  },
  {
   "cell_type": "code",
   "execution_count": 61,
   "metadata": {},
   "outputs": [
    {
     "data": {
      "text/html": [
       "<div>\n",
       "<style scoped>\n",
       "    .dataframe tbody tr th:only-of-type {\n",
       "        vertical-align: middle;\n",
       "    }\n",
       "\n",
       "    .dataframe tbody tr th {\n",
       "        vertical-align: top;\n",
       "    }\n",
       "\n",
       "    .dataframe thead th {\n",
       "        text-align: right;\n",
       "    }\n",
       "</style>\n",
       "<table border=\"1\" class=\"dataframe\">\n",
       "  <thead>\n",
       "    <tr style=\"text-align: right;\">\n",
       "      <th></th>\n",
       "      <th>class_name</th>\n",
       "      <th>sum_sepal_length</th>\n",
       "    </tr>\n",
       "  </thead>\n",
       "  <tbody>\n",
       "    <tr>\n",
       "      <th>0</th>\n",
       "      <td>Iris-setosa</td>\n",
       "      <td>250.300000</td>\n",
       "    </tr>\n",
       "    <tr>\n",
       "      <th>1</th>\n",
       "      <td>Iris-versicolor</td>\n",
       "      <td>296.799999</td>\n",
       "    </tr>\n",
       "    <tr>\n",
       "      <th>2</th>\n",
       "      <td>Iris-virginica</td>\n",
       "      <td>329.400000</td>\n",
       "    </tr>\n",
       "  </tbody>\n",
       "</table>\n",
       "</div>"
      ],
      "text/plain": [
       "        class_name  sum_sepal_length\n",
       "0      Iris-setosa        250.300000\n",
       "1  Iris-versicolor        296.799999\n",
       "2   Iris-virginica        329.400000"
      ]
     },
     "execution_count": 61,
     "metadata": {},
     "output_type": "execute_result"
    }
   ],
   "source": [
    "df = pd.read_sql(query, db_conn)\n",
    "\n",
    "df"
   ]
  },
  {
   "cell_type": "code",
   "execution_count": 62,
   "metadata": {
    "collapsed": true
   },
   "outputs": [
    {
     "data": {
      "text/plain": [
       "(('Iris-setosa',\n",
       "  250.30000019073486,\n",
       "  170.900000333786,\n",
       "  73.19999980926514,\n",
       "  12.200000241398811,\n",
       "  4.3,\n",
       "  2.3,\n",
       "  1.0,\n",
       "  0.1,\n",
       "  5.8,\n",
       "  4.4,\n",
       "  1.9,\n",
       "  0.6,\n",
       "  5.006000003814697,\n",
       "  3.41800000667572,\n",
       "  1.4639999961853027,\n",
       "  0.24400000482797624,\n",
       "  50,\n",
       "  50,\n",
       "  50,\n",
       "  50),\n",
       " ('Iris-versicolor',\n",
       "  296.7999987602234,\n",
       "  138.50000047683716,\n",
       "  212.99999904632568,\n",
       "  66.29999959468842,\n",
       "  4.9,\n",
       "  2.0,\n",
       "  3.0,\n",
       "  1.0,\n",
       "  7.0,\n",
       "  3.4,\n",
       "  5.1,\n",
       "  1.8,\n",
       "  5.935999975204468,\n",
       "  2.770000009536743,\n",
       "  4.259999980926514,\n",
       "  1.3259999918937684,\n",
       "  50,\n",
       "  50,\n",
       "  50,\n",
       "  50),\n",
       " ('Iris-virginica',\n",
       "  329.40000009536743,\n",
       "  148.69999957084656,\n",
       "  277.5999994277954,\n",
       "  101.29999887943268,\n",
       "  4.9,\n",
       "  2.2,\n",
       "  4.5,\n",
       "  1.4,\n",
       "  7.9,\n",
       "  3.8,\n",
       "  6.9,\n",
       "  2.5,\n",
       "  6.588000001907349,\n",
       "  2.9739999914169313,\n",
       "  5.551999988555909,\n",
       "  2.0259999775886537,\n",
       "  50,\n",
       "  50,\n",
       "  50,\n",
       "  50))"
      ]
     },
     "execution_count": 62,
     "metadata": {},
     "output_type": "execute_result"
    }
   ],
   "source": [
    "query = \"\"\"\n",
    "    SELECT \n",
    "        class_name\n",
    "        ,SUM(sepal_length_in_cm)\n",
    "        ,SUM(sepal_width_in_cm)\n",
    "        ,SUM(petal_length_in_cm)\n",
    "        ,SUM(petal_width_in_cm)\n",
    "        ,MIN(sepal_length_in_cm)\n",
    "        ,MIN(sepal_width_in_cm)\n",
    "        ,MIN(petal_length_in_cm)\n",
    "        ,MIN(petal_width_in_cm)\n",
    "        ,MAX(sepal_length_in_cm)\n",
    "        ,MAX(sepal_width_in_cm)\n",
    "        ,MAX(petal_length_in_cm)\n",
    "        ,MAX(petal_width_in_cm)\n",
    "        ,AVG(sepal_length_in_cm)\n",
    "        ,AVG(sepal_width_in_cm)\n",
    "        ,AVG(petal_length_in_cm)\n",
    "        ,AVG(petal_width_in_cm)\n",
    "        ,COUNT(sepal_length_in_cm)\n",
    "        ,COUNT(sepal_width_in_cm)\n",
    "        ,COUNT(petal_length_in_cm)\n",
    "        ,COUNT(petal_width_in_cm)\n",
    "    FROM main_table\n",
    "    GROUP BY class_name\n",
    "\"\"\"\n",
    "\n",
    "cursor.execute(query)\n",
    "cursor.fetchall()"
   ]
  },
  {
   "cell_type": "code",
   "execution_count": 64,
   "metadata": {},
   "outputs": [
    {
     "data": {
      "text/html": [
       "<div>\n",
       "<style scoped>\n",
       "    .dataframe tbody tr th:only-of-type {\n",
       "        vertical-align: middle;\n",
       "    }\n",
       "\n",
       "    .dataframe tbody tr th {\n",
       "        vertical-align: top;\n",
       "    }\n",
       "\n",
       "    .dataframe thead th {\n",
       "        text-align: right;\n",
       "    }\n",
       "</style>\n",
       "<table border=\"1\" class=\"dataframe\">\n",
       "  <thead>\n",
       "    <tr style=\"text-align: right;\">\n",
       "      <th></th>\n",
       "      <th>0</th>\n",
       "      <th>1</th>\n",
       "      <th>2</th>\n",
       "    </tr>\n",
       "  </thead>\n",
       "  <tbody>\n",
       "    <tr>\n",
       "      <th>class_name</th>\n",
       "      <td>Iris-setosa</td>\n",
       "      <td>Iris-versicolor</td>\n",
       "      <td>Iris-virginica</td>\n",
       "    </tr>\n",
       "    <tr>\n",
       "      <th>SUM(sepal_length_in_cm)</th>\n",
       "      <td>250.3</td>\n",
       "      <td>296.8</td>\n",
       "      <td>329.4</td>\n",
       "    </tr>\n",
       "    <tr>\n",
       "      <th>SUM(sepal_width_in_cm)</th>\n",
       "      <td>170.9</td>\n",
       "      <td>138.5</td>\n",
       "      <td>148.7</td>\n",
       "    </tr>\n",
       "    <tr>\n",
       "      <th>SUM(petal_length_in_cm)</th>\n",
       "      <td>73.2</td>\n",
       "      <td>213</td>\n",
       "      <td>277.6</td>\n",
       "    </tr>\n",
       "    <tr>\n",
       "      <th>SUM(petal_width_in_cm)</th>\n",
       "      <td>12.2</td>\n",
       "      <td>66.3</td>\n",
       "      <td>101.3</td>\n",
       "    </tr>\n",
       "    <tr>\n",
       "      <th>MIN(sepal_length_in_cm)</th>\n",
       "      <td>4.3</td>\n",
       "      <td>4.9</td>\n",
       "      <td>4.9</td>\n",
       "    </tr>\n",
       "    <tr>\n",
       "      <th>MIN(sepal_width_in_cm)</th>\n",
       "      <td>2.3</td>\n",
       "      <td>2</td>\n",
       "      <td>2.2</td>\n",
       "    </tr>\n",
       "    <tr>\n",
       "      <th>MIN(petal_length_in_cm)</th>\n",
       "      <td>1</td>\n",
       "      <td>3</td>\n",
       "      <td>4.5</td>\n",
       "    </tr>\n",
       "    <tr>\n",
       "      <th>MIN(petal_width_in_cm)</th>\n",
       "      <td>0.1</td>\n",
       "      <td>1</td>\n",
       "      <td>1.4</td>\n",
       "    </tr>\n",
       "    <tr>\n",
       "      <th>MAX(sepal_length_in_cm)</th>\n",
       "      <td>5.8</td>\n",
       "      <td>7</td>\n",
       "      <td>7.9</td>\n",
       "    </tr>\n",
       "    <tr>\n",
       "      <th>MAX(sepal_width_in_cm)</th>\n",
       "      <td>4.4</td>\n",
       "      <td>3.4</td>\n",
       "      <td>3.8</td>\n",
       "    </tr>\n",
       "    <tr>\n",
       "      <th>MAX(petal_length_in_cm)</th>\n",
       "      <td>1.9</td>\n",
       "      <td>5.1</td>\n",
       "      <td>6.9</td>\n",
       "    </tr>\n",
       "    <tr>\n",
       "      <th>MAX(petal_width_in_cm)</th>\n",
       "      <td>0.6</td>\n",
       "      <td>1.8</td>\n",
       "      <td>2.5</td>\n",
       "    </tr>\n",
       "    <tr>\n",
       "      <th>AVG(sepal_length_in_cm)</th>\n",
       "      <td>5.006</td>\n",
       "      <td>5.936</td>\n",
       "      <td>6.588</td>\n",
       "    </tr>\n",
       "    <tr>\n",
       "      <th>AVG(sepal_width_in_cm)</th>\n",
       "      <td>3.418</td>\n",
       "      <td>2.77</td>\n",
       "      <td>2.974</td>\n",
       "    </tr>\n",
       "    <tr>\n",
       "      <th>AVG(petal_length_in_cm)</th>\n",
       "      <td>1.464</td>\n",
       "      <td>4.26</td>\n",
       "      <td>5.552</td>\n",
       "    </tr>\n",
       "    <tr>\n",
       "      <th>AVG(petal_width_in_cm)</th>\n",
       "      <td>0.244</td>\n",
       "      <td>1.326</td>\n",
       "      <td>2.026</td>\n",
       "    </tr>\n",
       "    <tr>\n",
       "      <th>COUNT(sepal_length_in_cm)</th>\n",
       "      <td>50</td>\n",
       "      <td>50</td>\n",
       "      <td>50</td>\n",
       "    </tr>\n",
       "    <tr>\n",
       "      <th>COUNT(sepal_width_in_cm)</th>\n",
       "      <td>50</td>\n",
       "      <td>50</td>\n",
       "      <td>50</td>\n",
       "    </tr>\n",
       "    <tr>\n",
       "      <th>COUNT(petal_length_in_cm)</th>\n",
       "      <td>50</td>\n",
       "      <td>50</td>\n",
       "      <td>50</td>\n",
       "    </tr>\n",
       "    <tr>\n",
       "      <th>COUNT(petal_width_in_cm)</th>\n",
       "      <td>50</td>\n",
       "      <td>50</td>\n",
       "      <td>50</td>\n",
       "    </tr>\n",
       "  </tbody>\n",
       "</table>\n",
       "</div>"
      ],
      "text/plain": [
       "                                     0                1               2\n",
       "class_name                 Iris-setosa  Iris-versicolor  Iris-virginica\n",
       "SUM(sepal_length_in_cm)          250.3            296.8           329.4\n",
       "SUM(sepal_width_in_cm)           170.9            138.5           148.7\n",
       "SUM(petal_length_in_cm)           73.2              213           277.6\n",
       "SUM(petal_width_in_cm)            12.2             66.3           101.3\n",
       "MIN(sepal_length_in_cm)            4.3              4.9             4.9\n",
       "MIN(sepal_width_in_cm)             2.3                2             2.2\n",
       "MIN(petal_length_in_cm)              1                3             4.5\n",
       "MIN(petal_width_in_cm)             0.1                1             1.4\n",
       "MAX(sepal_length_in_cm)            5.8                7             7.9\n",
       "MAX(sepal_width_in_cm)             4.4              3.4             3.8\n",
       "MAX(petal_length_in_cm)            1.9              5.1             6.9\n",
       "MAX(petal_width_in_cm)             0.6              1.8             2.5\n",
       "AVG(sepal_length_in_cm)          5.006            5.936           6.588\n",
       "AVG(sepal_width_in_cm)           3.418             2.77           2.974\n",
       "AVG(petal_length_in_cm)          1.464             4.26           5.552\n",
       "AVG(petal_width_in_cm)           0.244            1.326           2.026\n",
       "COUNT(sepal_length_in_cm)           50               50              50\n",
       "COUNT(sepal_width_in_cm)            50               50              50\n",
       "COUNT(petal_length_in_cm)           50               50              50\n",
       "COUNT(petal_width_in_cm)            50               50              50"
      ]
     },
     "execution_count": 64,
     "metadata": {},
     "output_type": "execute_result"
    }
   ],
   "source": [
    "df = pd.read_sql(query, db_conn)\n",
    "\n",
    "df.T"
   ]
  },
  {
   "cell_type": "markdown",
   "metadata": {},
   "source": [
    "### `HAVING` - условный оператор при группировке"
   ]
  },
  {
   "cell_type": "code",
   "execution_count": 69,
   "metadata": {},
   "outputs": [
    {
     "data": {
      "text/plain": [
       "(('Iris-setosa', 0.2, 28, 139.30000019073486),\n",
       " ('Iris-versicolor', 1.3, 13, 76.49999904632568),\n",
       " ('Iris-virginica', 1.8, 11, 70.90000009536743),\n",
       " ('Iris-versicolor', 1.5, 10, 61.90000009536743),\n",
       " ('Iris-virginica', 2.3, 8, 55.299999713897705),\n",
       " ('Iris-versicolor', 1.4, 7, 44.49999952316284),\n",
       " ('Iris-setosa', 0.4, 7, 37.09999990463257),\n",
       " ('Iris-setosa', 0.3, 7, 34.799999713897705),\n",
       " ('Iris-versicolor', 1.0, 7, 37.90000009536743),\n",
       " ('Iris-virginica', 2.0, 6, 39.89999961853027),\n",
       " ('Iris-virginica', 2.1, 6, 41.5),\n",
       " ('Iris-setosa', 0.1, 6, 29.000000476837158),\n",
       " ('Iris-versicolor', 1.2, 5, 28.90000009536743),\n",
       " ('Iris-virginica', 1.9, 5, 31.700000762939453),\n",
       " ('Iris-virginica', 2.4, 3, 18.800000190734863),\n",
       " ('Iris-virginica', 2.5, 3, 20.199999809265137),\n",
       " ('Iris-versicolor', 1.6, 3, 18.300000190734863),\n",
       " ('Iris-versicolor', 1.1, 3, 16.199999809265137),\n",
       " ('Iris-virginica', 2.2, 3, 20.59999990463257),\n",
       " ('Iris-virginica', 1.5, 2, 12.300000190734863),\n",
       " ('Iris-setosa', 0.5, 1, 5.099999904632568),\n",
       " ('Iris-versicolor', 1.8, 1, 5.900000095367432),\n",
       " ('Iris-virginica', 1.7, 1, 4.900000095367432),\n",
       " ('Iris-setosa', 0.6, 1, 5.0),\n",
       " ('Iris-versicolor', 1.7, 1, 6.699999809265137),\n",
       " ('Iris-virginica', 1.6, 1, 7.199999809265137),\n",
       " ('Iris-virginica', 1.4, 1, 6.099999904632568))"
      ]
     },
     "execution_count": 69,
     "metadata": {},
     "output_type": "execute_result"
    }
   ],
   "source": [
    "query = \"\"\"\n",
    "    SELECT \n",
    "        class_name\n",
    "        ,petal_width_in_cm\n",
    "        ,COUNT(sepal_length_in_cm) as cnt\n",
    "        ,SUM(sepal_length_in_cm)\n",
    "    FROM main_table\n",
    "    GROUP BY class_name, petal_width_in_cm\n",
    "    ORDER BY cnt DESC\n",
    "\"\"\"\n",
    "\n",
    "cursor.execute(query)\n",
    "cursor.fetchall()"
   ]
  },
  {
   "cell_type": "code",
   "execution_count": 70,
   "metadata": {},
   "outputs": [
    {
     "data": {
      "text/plain": [
       "(('Iris-setosa', 0.2, 28, 139.30000019073486),\n",
       " ('Iris-setosa', 0.4, 7, 37.09999990463257),\n",
       " ('Iris-setosa', 0.3, 7, 34.799999713897705),\n",
       " ('Iris-versicolor', 1.4, 7, 44.49999952316284),\n",
       " ('Iris-versicolor', 1.5, 10, 61.90000009536743),\n",
       " ('Iris-versicolor', 1.3, 13, 76.49999904632568),\n",
       " ('Iris-versicolor', 1.0, 7, 37.90000009536743),\n",
       " ('Iris-virginica', 1.8, 11, 70.90000009536743),\n",
       " ('Iris-virginica', 2.3, 8, 55.299999713897705))"
      ]
     },
     "execution_count": 70,
     "metadata": {},
     "output_type": "execute_result"
    }
   ],
   "source": [
    "query = \"\"\"\n",
    "    SELECT \n",
    "        class_name\n",
    "        ,petal_width_in_cm\n",
    "        ,COUNT(sepal_length_in_cm) as count_sepal_length_in_cm\n",
    "        ,SUM(sepal_length_in_cm) as sum_sepal_length_in_cm\n",
    "    FROM main_table\n",
    "    GROUP BY class_name, petal_width_in_cm\n",
    "    HAVING count_sepal_length_in_cm >= 7\n",
    "\"\"\"\n",
    "\n",
    "cursor.execute(query)\n",
    "cursor.fetchall()"
   ]
  },
  {
   "cell_type": "markdown",
   "metadata": {},
   "source": [
    "### Создаю таблицу `[sort_decod]` для кодирования сортов Ириса"
   ]
  },
  {
   "cell_type": "code",
   "execution_count": 73,
   "metadata": {},
   "outputs": [],
   "source": [
    "query = \"\"\"\n",
    "CREATE TABLE IF NOT EXISTS sort_decod (\n",
    "        `ID` INT PRIMARY KEY,\n",
    "        `NAME` TEXT\n",
    "    )\n",
    "\"\"\"\n",
    "\n",
    "cursor.execute(query)\n",
    "db_conn.commit()"
   ]
  },
  {
   "cell_type": "markdown",
   "metadata": {},
   "source": [
    "### Загружаю данные в таблицу `[sort_decod]`"
   ]
  },
  {
   "cell_type": "code",
   "execution_count": 75,
   "metadata": {
    "collapsed": true
   },
   "outputs": [],
   "source": [
    "dct = {\n",
    "    0:'Iris-setosa',\n",
    "    1:'Iris-versicolor',\n",
    "    2:'Iris-virginica'\n",
    "}\n",
    "\n",
    "query = \"\"\"\n",
    "    INSERT INTO sort_decod VALUES (%s, %s)\n",
    "\"\"\""
   ]
  },
  {
   "cell_type": "code",
   "execution_count": 76,
   "metadata": {},
   "outputs": [
    {
     "data": {
      "text/plain": [
       "dict_items([(0, 'Iris-setosa'), (1, 'Iris-versicolor'), (2, 'Iris-virginica')])"
      ]
     },
     "execution_count": 76,
     "metadata": {},
     "output_type": "execute_result"
    }
   ],
   "source": [
    "dct.items()"
   ]
  },
  {
   "cell_type": "code",
   "execution_count": 77,
   "metadata": {},
   "outputs": [],
   "source": [
    "cursor.executemany(query, dct.items())\n",
    "db_conn.commit()"
   ]
  },
  {
   "cell_type": "markdown",
   "metadata": {},
   "source": [
    "### Выгружаю все записи из таблицы `[sort_decod]`"
   ]
  },
  {
   "cell_type": "code",
   "execution_count": 28,
   "metadata": {},
   "outputs": [
    {
     "data": {
      "text/plain": [
       "((0, 'Iris-setosa'), (1, 'Iris-versicolor'), (2, 'Iris-virginica'))"
      ]
     },
     "execution_count": 28,
     "metadata": {},
     "output_type": "execute_result"
    }
   ],
   "source": [
    "query = \"\"\"\n",
    "SELECT *\n",
    "FROM sort_decod\n",
    "\"\"\"\n",
    "\n",
    "cursor.execute(query)\n",
    "cursor.fetchall()"
   ]
  },
  {
   "cell_type": "markdown",
   "metadata": {},
   "source": [
    "### Список таблиц в текущей БД"
   ]
  },
  {
   "cell_type": "code",
   "execution_count": null,
   "metadata": {
    "collapsed": true
   },
   "outputs": [],
   "source": [
    "query = \"\"\"SELECT name \n",
    "            FROM sqlite_master \n",
    "            WHERE type = \"table\" \n",
    "        \"\"\"\n",
    "\n",
    "c.execute(query)\n",
    "c.fetchall()"
   ]
  },
  {
   "cell_type": "markdown",
   "metadata": {},
   "source": [
    "### Изменяю данные в таблице `[class_name]`"
   ]
  },
  {
   "cell_type": "code",
   "execution_count": 78,
   "metadata": {
    "collapsed": true
   },
   "outputs": [],
   "source": [
    "query = \"\"\"\n",
    "    UPDATE main_table\n",
    "    SET class_name = %s\n",
    "    WHERE class_name = %s\n",
    "\"\"\""
   ]
  },
  {
   "cell_type": "code",
   "execution_count": 79,
   "metadata": {},
   "outputs": [
    {
     "data": {
      "text/plain": [
       "dict_items([(0, 'Iris-setosa'), (1, 'Iris-versicolor'), (2, 'Iris-virginica')])"
      ]
     },
     "execution_count": 79,
     "metadata": {},
     "output_type": "execute_result"
    }
   ],
   "source": [
    "dct.items()"
   ]
  },
  {
   "cell_type": "code",
   "execution_count": 80,
   "metadata": {
    "collapsed": true
   },
   "outputs": [],
   "source": [
    "cursor.executemany(query, dct.items())\n",
    "db_conn.commit()"
   ]
  },
  {
   "cell_type": "code",
   "execution_count": 84,
   "metadata": {
    "collapsed": true
   },
   "outputs": [],
   "source": [
    "query_select_all = \"\"\"\n",
    "SELECT * FROM main_table;\n",
    "\"\"\""
   ]
  },
  {
   "cell_type": "code",
   "execution_count": 85,
   "metadata": {},
   "outputs": [
    {
     "data": {
      "text/plain": [
       "((1, 5.1, 3.5, 1.4, 0.2, '0'),\n",
       " (2, 4.9, 3.0, 1.4, 0.2, '0'),\n",
       " (3, 4.7, 3.2, 1.3, 0.2, '0'),\n",
       " (4, 4.6, 3.1, 1.5, 0.2, '0'),\n",
       " (5, 5.0, 3.6, 1.4, 0.2, '0'),\n",
       " (6, 5.4, 3.9, 1.7, 0.4, '0'),\n",
       " (7, 4.6, 3.4, 1.4, 0.3, '0'),\n",
       " (8, 5.0, 3.4, 1.5, 0.2, '0'),\n",
       " (9, 4.4, 2.9, 1.4, 0.2, '0'),\n",
       " (10, 4.9, 3.1, 1.5, 0.1, '0'),\n",
       " (11, 5.4, 3.7, 1.5, 0.2, '0'),\n",
       " (12, 4.8, 3.4, 1.6, 0.2, '0'),\n",
       " (13, 4.8, 3.0, 1.4, 0.1, '0'),\n",
       " (14, 4.3, 3.0, 1.1, 0.1, '0'),\n",
       " (15, 5.8, 4.0, 1.2, 0.2, '0'),\n",
       " (16, 5.7, 4.4, 1.5, 0.4, '0'),\n",
       " (17, 5.4, 3.9, 1.3, 0.4, '0'),\n",
       " (18, 5.1, 3.5, 1.4, 0.3, '0'),\n",
       " (19, 5.7, 3.8, 1.7, 0.3, '0'),\n",
       " (20, 5.1, 3.8, 1.5, 0.3, '0'),\n",
       " (21, 5.4, 3.4, 1.7, 0.2, '0'),\n",
       " (22, 5.1, 3.7, 1.5, 0.4, '0'),\n",
       " (23, 4.6, 3.6, 1.0, 0.2, '0'),\n",
       " (24, 5.1, 3.3, 1.7, 0.5, '0'),\n",
       " (25, 4.8, 3.4, 1.9, 0.2, '0'),\n",
       " (26, 5.0, 3.0, 1.6, 0.2, '0'),\n",
       " (27, 5.0, 3.4, 1.6, 0.4, '0'),\n",
       " (28, 5.2, 3.5, 1.5, 0.2, '0'),\n",
       " (29, 5.2, 3.4, 1.4, 0.2, '0'),\n",
       " (30, 4.7, 3.2, 1.6, 0.2, '0'),\n",
       " (31, 4.8, 3.1, 1.6, 0.2, '0'),\n",
       " (32, 5.4, 3.4, 1.5, 0.4, '0'),\n",
       " (33, 5.2, 4.1, 1.5, 0.1, '0'),\n",
       " (34, 5.5, 4.2, 1.4, 0.2, '0'),\n",
       " (35, 4.9, 3.1, 1.5, 0.1, '0'),\n",
       " (36, 5.0, 3.2, 1.2, 0.2, '0'),\n",
       " (37, 5.5, 3.5, 1.3, 0.2, '0'),\n",
       " (38, 4.9, 3.1, 1.5, 0.1, '0'),\n",
       " (39, 4.4, 3.0, 1.3, 0.2, '0'),\n",
       " (40, 5.1, 3.4, 1.5, 0.2, '0'),\n",
       " (41, 5.0, 3.5, 1.3, 0.3, '0'),\n",
       " (42, 4.5, 2.3, 1.3, 0.3, '0'),\n",
       " (43, 4.4, 3.2, 1.3, 0.2, '0'),\n",
       " (44, 5.0, 3.5, 1.6, 0.6, '0'),\n",
       " (45, 5.1, 3.8, 1.9, 0.4, '0'),\n",
       " (46, 4.8, 3.0, 1.4, 0.3, '0'),\n",
       " (47, 5.1, 3.8, 1.6, 0.2, '0'),\n",
       " (48, 4.6, 3.2, 1.4, 0.2, '0'),\n",
       " (49, 5.3, 3.7, 1.5, 0.2, '0'),\n",
       " (50, 5.0, 3.3, 1.4, 0.2, '0'),\n",
       " (51, 7.0, 3.2, 4.7, 1.4, '1'),\n",
       " (52, 6.4, 3.2, 4.5, 1.5, '1'),\n",
       " (53, 6.9, 3.1, 4.9, 1.5, '1'),\n",
       " (54, 5.5, 2.3, 4.0, 1.3, '1'),\n",
       " (55, 6.5, 2.8, 4.6, 1.5, '1'),\n",
       " (56, 5.7, 2.8, 4.5, 1.3, '1'),\n",
       " (57, 6.3, 3.3, 4.7, 1.6, '1'),\n",
       " (58, 4.9, 2.4, 3.3, 1.0, '1'),\n",
       " (59, 6.6, 2.9, 4.6, 1.3, '1'),\n",
       " (60, 5.2, 2.7, 3.9, 1.4, '1'),\n",
       " (61, 5.0, 2.0, 3.5, 1.0, '1'),\n",
       " (62, 5.9, 3.0, 4.2, 1.5, '1'),\n",
       " (63, 6.0, 2.2, 4.0, 1.0, '1'),\n",
       " (64, 6.1, 2.9, 4.7, 1.4, '1'),\n",
       " (65, 5.6, 2.9, 3.6, 1.3, '1'),\n",
       " (66, 6.7, 3.1, 4.4, 1.4, '1'),\n",
       " (67, 5.6, 3.0, 4.5, 1.5, '1'),\n",
       " (68, 5.8, 2.7, 4.1, 1.0, '1'),\n",
       " (69, 6.2, 2.2, 4.5, 1.5, '1'),\n",
       " (70, 5.6, 2.5, 3.9, 1.1, '1'),\n",
       " (71, 5.9, 3.2, 4.8, 1.8, '1'),\n",
       " (72, 6.1, 2.8, 4.0, 1.3, '1'),\n",
       " (73, 6.3, 2.5, 4.9, 1.5, '1'),\n",
       " (74, 6.1, 2.8, 4.7, 1.2, '1'),\n",
       " (75, 6.4, 2.9, 4.3, 1.3, '1'),\n",
       " (76, 6.6, 3.0, 4.4, 1.4, '1'),\n",
       " (77, 6.8, 2.8, 4.8, 1.4, '1'),\n",
       " (78, 6.7, 3.0, 5.0, 1.7, '1'),\n",
       " (79, 6.0, 2.9, 4.5, 1.5, '1'),\n",
       " (80, 5.7, 2.6, 3.5, 1.0, '1'),\n",
       " (81, 5.5, 2.4, 3.8, 1.1, '1'),\n",
       " (82, 5.5, 2.4, 3.7, 1.0, '1'),\n",
       " (83, 5.8, 2.7, 3.9, 1.2, '1'),\n",
       " (84, 6.0, 2.7, 5.1, 1.6, '1'),\n",
       " (85, 5.4, 3.0, 4.5, 1.5, '1'),\n",
       " (86, 6.0, 3.4, 4.5, 1.6, '1'),\n",
       " (87, 6.7, 3.1, 4.7, 1.5, '1'),\n",
       " (88, 6.3, 2.3, 4.4, 1.3, '1'),\n",
       " (89, 5.6, 3.0, 4.1, 1.3, '1'),\n",
       " (90, 5.5, 2.5, 4.0, 1.3, '1'),\n",
       " (91, 5.5, 2.6, 4.4, 1.2, '1'),\n",
       " (92, 6.1, 3.0, 4.6, 1.4, '1'),\n",
       " (93, 5.8, 2.6, 4.0, 1.2, '1'),\n",
       " (94, 5.0, 2.3, 3.3, 1.0, '1'),\n",
       " (95, 5.6, 2.7, 4.2, 1.3, '1'),\n",
       " (96, 5.7, 3.0, 4.2, 1.2, '1'),\n",
       " (97, 5.7, 2.9, 4.2, 1.3, '1'),\n",
       " (98, 6.2, 2.9, 4.3, 1.3, '1'),\n",
       " (99, 5.1, 2.5, 3.0, 1.1, '1'),\n",
       " (100, 5.7, 2.8, 4.1, 1.3, '1'),\n",
       " (101, 6.3, 3.3, 6.0, 2.5, '2'),\n",
       " (102, 5.8, 2.7, 5.1, 1.9, '2'),\n",
       " (103, 7.1, 3.0, 5.9, 2.1, '2'),\n",
       " (104, 6.3, 2.9, 5.6, 1.8, '2'),\n",
       " (105, 6.5, 3.0, 5.8, 2.2, '2'),\n",
       " (106, 7.6, 3.0, 6.6, 2.1, '2'),\n",
       " (107, 4.9, 2.5, 4.5, 1.7, '2'),\n",
       " (108, 7.3, 2.9, 6.3, 1.8, '2'),\n",
       " (109, 6.7, 2.5, 5.8, 1.8, '2'),\n",
       " (110, 7.2, 3.6, 6.1, 2.5, '2'),\n",
       " (111, 6.5, 3.2, 5.1, 2.0, '2'),\n",
       " (112, 6.4, 2.7, 5.3, 1.9, '2'),\n",
       " (113, 6.8, 3.0, 5.5, 2.1, '2'),\n",
       " (114, 5.7, 2.5, 5.0, 2.0, '2'),\n",
       " (115, 5.8, 2.8, 5.1, 2.4, '2'),\n",
       " (116, 6.4, 3.2, 5.3, 2.3, '2'),\n",
       " (117, 6.5, 3.0, 5.5, 1.8, '2'),\n",
       " (118, 7.7, 3.8, 6.7, 2.2, '2'),\n",
       " (119, 7.7, 2.6, 6.9, 2.3, '2'),\n",
       " (120, 6.0, 2.2, 5.0, 1.5, '2'),\n",
       " (121, 6.9, 3.2, 5.7, 2.3, '2'),\n",
       " (122, 5.6, 2.8, 4.9, 2.0, '2'),\n",
       " (123, 7.7, 2.8, 6.7, 2.0, '2'),\n",
       " (124, 6.3, 2.7, 4.9, 1.8, '2'),\n",
       " (125, 6.7, 3.3, 5.7, 2.1, '2'),\n",
       " (126, 7.2, 3.2, 6.0, 1.8, '2'),\n",
       " (127, 6.2, 2.8, 4.8, 1.8, '2'),\n",
       " (128, 6.1, 3.0, 4.9, 1.8, '2'),\n",
       " (129, 6.4, 2.8, 5.6, 2.1, '2'),\n",
       " (130, 7.2, 3.0, 5.8, 1.6, '2'),\n",
       " (131, 7.4, 2.8, 6.1, 1.9, '2'),\n",
       " (132, 7.9, 3.8, 6.4, 2.0, '2'),\n",
       " (133, 6.4, 2.8, 5.6, 2.2, '2'),\n",
       " (134, 6.3, 2.8, 5.1, 1.5, '2'),\n",
       " (135, 6.1, 2.6, 5.6, 1.4, '2'),\n",
       " (136, 7.7, 3.0, 6.1, 2.3, '2'),\n",
       " (137, 6.3, 3.4, 5.6, 2.4, '2'),\n",
       " (138, 6.4, 3.1, 5.5, 1.8, '2'),\n",
       " (139, 6.0, 3.0, 4.8, 1.8, '2'),\n",
       " (140, 6.9, 3.1, 5.4, 2.1, '2'),\n",
       " (141, 6.7, 3.1, 5.6, 2.4, '2'),\n",
       " (142, 6.9, 3.1, 5.1, 2.3, '2'),\n",
       " (143, 5.8, 2.7, 5.1, 1.9, '2'),\n",
       " (144, 6.8, 3.2, 5.9, 2.3, '2'),\n",
       " (145, 6.7, 3.3, 5.7, 2.5, '2'),\n",
       " (146, 6.7, 3.0, 5.2, 2.3, '2'),\n",
       " (147, 6.3, 2.5, 5.0, 1.9, '2'),\n",
       " (148, 6.5, 3.0, 5.2, 2.0, '2'),\n",
       " (149, 6.2, 3.4, 5.4, 2.3, '2'),\n",
       " (150, 5.9, 3.0, 5.1, 1.8, '2'))"
      ]
     },
     "execution_count": 85,
     "metadata": {},
     "output_type": "execute_result"
    }
   ],
   "source": [
    "cursor.execute(query_select_all)\n",
    "cursor.fetchall()"
   ]
  },
  {
   "cell_type": "markdown",
   "metadata": {},
   "source": [
    "### `JOIN` - оператор склеивания таблиц"
   ]
  },
  {
   "cell_type": "markdown",
   "metadata": {},
   "source": [
    "### Inner Join"
   ]
  },
  {
   "attachments": {
    "image.png": {
     "image/png": "[encoded data removed]"
    }
   },
   "cell_type": "markdown",
   "metadata": {},
   "source": [
    "![image.png](attachment:image.png)"
   ]
  },
  {
   "cell_type": "markdown",
   "metadata": {},
   "source": [
    "### Left Join"
   ]
  },
  {
   "attachments": {
    "image.png": {
     "image/png": "[encoded data removed]"
    }
   },
   "cell_type": "markdown",
   "metadata": {},
   "source": [
    "![image.png](attachment:image.png)"
   ]
  },
  {
   "cell_type": "markdown",
   "metadata": {},
   "source": [
    "### FULL OUTER JOIN"
   ]
  },
  {
   "attachments": {
    "image.png": {
     "image/png": "[encoded data removed]"
    }
   },
   "cell_type": "markdown",
   "metadata": {},
   "source": [
    "![image.png](attachment:image.png)"
   ]
  },
  {
   "cell_type": "markdown",
   "metadata": {},
   "source": [
    "### CROSS JOIN - декартово произведение. Без использования оператора ON"
   ]
  },
  {
   "cell_type": "markdown",
   "metadata": {},
   "source": [
    "### `LEFT JOIN` - склеивает таблицы слева"
   ]
  },
  {
   "cell_type": "code",
   "execution_count": 35,
   "metadata": {},
   "outputs": [
    {
     "data": {
      "text/plain": [
       "((1, 5.1, 3.5, 1.4, 0.2, '0', 0, 'Iris-setosa'),\n",
       " (2, 4.9, 3.0, 1.4, 0.2, '0', 0, 'Iris-setosa'),\n",
       " (3, 4.7, 3.2, 1.3, 0.2, '0', 0, 'Iris-setosa'),\n",
       " (4, 4.6, 3.1, 1.5, 0.2, '0', 0, 'Iris-setosa'),\n",
       " (5, 5.0, 3.6, 1.4, 0.2, '0', 0, 'Iris-setosa'),\n",
       " (6, 5.4, 3.9, 1.7, 0.4, '0', 0, 'Iris-setosa'),\n",
       " (7, 4.6, 3.4, 1.4, 0.3, '0', 0, 'Iris-setosa'),\n",
       " (8, 5.0, 3.4, 1.5, 0.2, '0', 0, 'Iris-setosa'),\n",
       " (9, 4.4, 2.9, 1.4, 0.2, '0', 0, 'Iris-setosa'),\n",
       " (10, 4.9, 3.1, 1.5, 0.1, '0', 0, 'Iris-setosa'),\n",
       " (11, 5.4, 3.7, 1.5, 0.2, '0', 0, 'Iris-setosa'),\n",
       " (12, 4.8, 3.4, 1.6, 0.2, '0', 0, 'Iris-setosa'),\n",
       " (13, 4.8, 3.0, 1.4, 0.1, '0', 0, 'Iris-setosa'),\n",
       " (14, 4.3, 3.0, 1.1, 0.1, '0', 0, 'Iris-setosa'),\n",
       " (15, 5.8, 4.0, 1.2, 0.2, '0', 0, 'Iris-setosa'),\n",
       " (16, 5.7, 4.4, 1.5, 0.4, '0', 0, 'Iris-setosa'),\n",
       " (17, 5.4, 3.9, 1.3, 0.4, '0', 0, 'Iris-setosa'),\n",
       " (18, 5.1, 3.5, 1.4, 0.3, '0', 0, 'Iris-setosa'),\n",
       " (19, 5.7, 3.8, 1.7, 0.3, '0', 0, 'Iris-setosa'),\n",
       " (20, 5.1, 3.8, 1.5, 0.3, '0', 0, 'Iris-setosa'),\n",
       " (21, 5.4, 3.4, 1.7, 0.2, '0', 0, 'Iris-setosa'),\n",
       " (22, 5.1, 3.7, 1.5, 0.4, '0', 0, 'Iris-setosa'),\n",
       " (23, 4.6, 3.6, 1.0, 0.2, '0', 0, 'Iris-setosa'),\n",
       " (24, 5.1, 3.3, 1.7, 0.5, '0', 0, 'Iris-setosa'),\n",
       " (25, 4.8, 3.4, 1.9, 0.2, '0', 0, 'Iris-setosa'),\n",
       " (26, 5.0, 3.0, 1.6, 0.2, '0', 0, 'Iris-setosa'),\n",
       " (27, 5.0, 3.4, 1.6, 0.4, '0', 0, 'Iris-setosa'),\n",
       " (28, 5.2, 3.5, 1.5, 0.2, '0', 0, 'Iris-setosa'),\n",
       " (29, 5.2, 3.4, 1.4, 0.2, '0', 0, 'Iris-setosa'),\n",
       " (30, 4.7, 3.2, 1.6, 0.2, '0', 0, 'Iris-setosa'),\n",
       " (31, 4.8, 3.1, 1.6, 0.2, '0', 0, 'Iris-setosa'),\n",
       " (32, 5.4, 3.4, 1.5, 0.4, '0', 0, 'Iris-setosa'),\n",
       " (33, 5.2, 4.1, 1.5, 0.1, '0', 0, 'Iris-setosa'),\n",
       " (34, 5.5, 4.2, 1.4, 0.2, '0', 0, 'Iris-setosa'),\n",
       " (35, 4.9, 3.1, 1.5, 0.1, '0', 0, 'Iris-setosa'),\n",
       " (36, 5.0, 3.2, 1.2, 0.2, '0', 0, 'Iris-setosa'),\n",
       " (37, 5.5, 3.5, 1.3, 0.2, '0', 0, 'Iris-setosa'),\n",
       " (38, 4.9, 3.1, 1.5, 0.1, '0', 0, 'Iris-setosa'),\n",
       " (39, 4.4, 3.0, 1.3, 0.2, '0', 0, 'Iris-setosa'),\n",
       " (40, 5.1, 3.4, 1.5, 0.2, '0', 0, 'Iris-setosa'),\n",
       " (41, 5.0, 3.5, 1.3, 0.3, '0', 0, 'Iris-setosa'),\n",
       " (42, 4.5, 2.3, 1.3, 0.3, '0', 0, 'Iris-setosa'),\n",
       " (43, 4.4, 3.2, 1.3, 0.2, '0', 0, 'Iris-setosa'),\n",
       " (44, 5.0, 3.5, 1.6, 0.6, '0', 0, 'Iris-setosa'),\n",
       " (45, 5.1, 3.8, 1.9, 0.4, '0', 0, 'Iris-setosa'),\n",
       " (46, 4.8, 3.0, 1.4, 0.3, '0', 0, 'Iris-setosa'),\n",
       " (47, 5.1, 3.8, 1.6, 0.2, '0', 0, 'Iris-setosa'),\n",
       " (48, 4.6, 3.2, 1.4, 0.2, '0', 0, 'Iris-setosa'),\n",
       " (49, 5.3, 3.7, 1.5, 0.2, '0', 0, 'Iris-setosa'),\n",
       " (50, 5.0, 3.3, 1.4, 0.2, '0', 0, 'Iris-setosa'),\n",
       " (51, 7.0, 3.2, 4.7, 1.4, '1', 1, 'Iris-versicolor'),\n",
       " (52, 6.4, 3.2, 4.5, 1.5, '1', 1, 'Iris-versicolor'),\n",
       " (53, 6.9, 3.1, 4.9, 1.5, '1', 1, 'Iris-versicolor'),\n",
       " (54, 5.5, 2.3, 4.0, 1.3, '1', 1, 'Iris-versicolor'),\n",
       " (55, 6.5, 2.8, 4.6, 1.5, '1', 1, 'Iris-versicolor'),\n",
       " (56, 5.7, 2.8, 4.5, 1.3, '1', 1, 'Iris-versicolor'),\n",
       " (57, 6.3, 3.3, 4.7, 1.6, '1', 1, 'Iris-versicolor'),\n",
       " (58, 4.9, 2.4, 3.3, 1.0, '1', 1, 'Iris-versicolor'),\n",
       " (59, 6.6, 2.9, 4.6, 1.3, '1', 1, 'Iris-versicolor'),\n",
       " (60, 5.2, 2.7, 3.9, 1.4, '1', 1, 'Iris-versicolor'),\n",
       " (61, 5.0, 2.0, 3.5, 1.0, '1', 1, 'Iris-versicolor'),\n",
       " (62, 5.9, 3.0, 4.2, 1.5, '1', 1, 'Iris-versicolor'),\n",
       " (63, 6.0, 2.2, 4.0, 1.0, '1', 1, 'Iris-versicolor'),\n",
       " (64, 6.1, 2.9, 4.7, 1.4, '1', 1, 'Iris-versicolor'),\n",
       " (65, 5.6, 2.9, 3.6, 1.3, '1', 1, 'Iris-versicolor'),\n",
       " (66, 6.7, 3.1, 4.4, 1.4, '1', 1, 'Iris-versicolor'),\n",
       " (67, 5.6, 3.0, 4.5, 1.5, '1', 1, 'Iris-versicolor'),\n",
       " (68, 5.8, 2.7, 4.1, 1.0, '1', 1, 'Iris-versicolor'),\n",
       " (69, 6.2, 2.2, 4.5, 1.5, '1', 1, 'Iris-versicolor'),\n",
       " (70, 5.6, 2.5, 3.9, 1.1, '1', 1, 'Iris-versicolor'),\n",
       " (71, 5.9, 3.2, 4.8, 1.8, '1', 1, 'Iris-versicolor'),\n",
       " (72, 6.1, 2.8, 4.0, 1.3, '1', 1, 'Iris-versicolor'),\n",
       " (73, 6.3, 2.5, 4.9, 1.5, '1', 1, 'Iris-versicolor'),\n",
       " (74, 6.1, 2.8, 4.7, 1.2, '1', 1, 'Iris-versicolor'),\n",
       " (75, 6.4, 2.9, 4.3, 1.3, '1', 1, 'Iris-versicolor'),\n",
       " (76, 6.6, 3.0, 4.4, 1.4, '1', 1, 'Iris-versicolor'),\n",
       " (77, 6.8, 2.8, 4.8, 1.4, '1', 1, 'Iris-versicolor'),\n",
       " (78, 6.7, 3.0, 5.0, 1.7, '1', 1, 'Iris-versicolor'),\n",
       " (79, 6.0, 2.9, 4.5, 1.5, '1', 1, 'Iris-versicolor'),\n",
       " (80, 5.7, 2.6, 3.5, 1.0, '1', 1, 'Iris-versicolor'),\n",
       " (81, 5.5, 2.4, 3.8, 1.1, '1', 1, 'Iris-versicolor'),\n",
       " (82, 5.5, 2.4, 3.7, 1.0, '1', 1, 'Iris-versicolor'),\n",
       " (83, 5.8, 2.7, 3.9, 1.2, '1', 1, 'Iris-versicolor'),\n",
       " (84, 6.0, 2.7, 5.1, 1.6, '1', 1, 'Iris-versicolor'),\n",
       " (85, 5.4, 3.0, 4.5, 1.5, '1', 1, 'Iris-versicolor'),\n",
       " (86, 6.0, 3.4, 4.5, 1.6, '1', 1, 'Iris-versicolor'),\n",
       " (87, 6.7, 3.1, 4.7, 1.5, '1', 1, 'Iris-versicolor'),\n",
       " (88, 6.3, 2.3, 4.4, 1.3, '1', 1, 'Iris-versicolor'),\n",
       " (89, 5.6, 3.0, 4.1, 1.3, '1', 1, 'Iris-versicolor'),\n",
       " (90, 5.5, 2.5, 4.0, 1.3, '1', 1, 'Iris-versicolor'),\n",
       " (91, 5.5, 2.6, 4.4, 1.2, '1', 1, 'Iris-versicolor'),\n",
       " (92, 6.1, 3.0, 4.6, 1.4, '1', 1, 'Iris-versicolor'),\n",
       " (93, 5.8, 2.6, 4.0, 1.2, '1', 1, 'Iris-versicolor'),\n",
       " (94, 5.0, 2.3, 3.3, 1.0, '1', 1, 'Iris-versicolor'),\n",
       " (95, 5.6, 2.7, 4.2, 1.3, '1', 1, 'Iris-versicolor'),\n",
       " (96, 5.7, 3.0, 4.2, 1.2, '1', 1, 'Iris-versicolor'),\n",
       " (97, 5.7, 2.9, 4.2, 1.3, '1', 1, 'Iris-versicolor'),\n",
       " (98, 6.2, 2.9, 4.3, 1.3, '1', 1, 'Iris-versicolor'),\n",
       " (99, 5.1, 2.5, 3.0, 1.1, '1', 1, 'Iris-versicolor'),\n",
       " (100, 5.7, 2.8, 4.1, 1.3, '1', 1, 'Iris-versicolor'),\n",
       " (101, 6.3, 3.3, 6.0, 2.5, '2', 2, 'Iris-virginica'),\n",
       " (102, 5.8, 2.7, 5.1, 1.9, '2', 2, 'Iris-virginica'),\n",
       " (103, 7.1, 3.0, 5.9, 2.1, '2', 2, 'Iris-virginica'),\n",
       " (104, 6.3, 2.9, 5.6, 1.8, '2', 2, 'Iris-virginica'),\n",
       " (105, 6.5, 3.0, 5.8, 2.2, '2', 2, 'Iris-virginica'),\n",
       " (106, 7.6, 3.0, 6.6, 2.1, '2', 2, 'Iris-virginica'),\n",
       " (107, 4.9, 2.5, 4.5, 1.7, '2', 2, 'Iris-virginica'),\n",
       " (108, 7.3, 2.9, 6.3, 1.8, '2', 2, 'Iris-virginica'),\n",
       " (109, 6.7, 2.5, 5.8, 1.8, '2', 2, 'Iris-virginica'),\n",
       " (110, 7.2, 3.6, 6.1, 2.5, '2', 2, 'Iris-virginica'),\n",
       " (111, 6.5, 3.2, 5.1, 2.0, '2', 2, 'Iris-virginica'),\n",
       " (112, 6.4, 2.7, 5.3, 1.9, '2', 2, 'Iris-virginica'),\n",
       " (113, 6.8, 3.0, 5.5, 2.1, '2', 2, 'Iris-virginica'),\n",
       " (114, 5.7, 2.5, 5.0, 2.0, '2', 2, 'Iris-virginica'),\n",
       " (115, 5.8, 2.8, 5.1, 2.4, '2', 2, 'Iris-virginica'),\n",
       " (116, 6.4, 3.2, 5.3, 2.3, '2', 2, 'Iris-virginica'),\n",
       " (117, 6.5, 3.0, 5.5, 1.8, '2', 2, 'Iris-virginica'),\n",
       " (118, 7.7, 3.8, 6.7, 2.2, '2', 2, 'Iris-virginica'),\n",
       " (119, 7.7, 2.6, 6.9, 2.3, '2', 2, 'Iris-virginica'),\n",
       " (120, 6.0, 2.2, 5.0, 1.5, '2', 2, 'Iris-virginica'),\n",
       " (121, 6.9, 3.2, 5.7, 2.3, '2', 2, 'Iris-virginica'),\n",
       " (122, 5.6, 2.8, 4.9, 2.0, '2', 2, 'Iris-virginica'),\n",
       " (123, 7.7, 2.8, 6.7, 2.0, '2', 2, 'Iris-virginica'),\n",
       " (124, 6.3, 2.7, 4.9, 1.8, '2', 2, 'Iris-virginica'),\n",
       " (125, 6.7, 3.3, 5.7, 2.1, '2', 2, 'Iris-virginica'),\n",
       " (126, 7.2, 3.2, 6.0, 1.8, '2', 2, 'Iris-virginica'),\n",
       " (127, 6.2, 2.8, 4.8, 1.8, '2', 2, 'Iris-virginica'),\n",
       " (128, 6.1, 3.0, 4.9, 1.8, '2', 2, 'Iris-virginica'),\n",
       " (129, 6.4, 2.8, 5.6, 2.1, '2', 2, 'Iris-virginica'),\n",
       " (130, 7.2, 3.0, 5.8, 1.6, '2', 2, 'Iris-virginica'),\n",
       " (131, 7.4, 2.8, 6.1, 1.9, '2', 2, 'Iris-virginica'),\n",
       " (132, 7.9, 3.8, 6.4, 2.0, '2', 2, 'Iris-virginica'),\n",
       " (133, 6.4, 2.8, 5.6, 2.2, '2', 2, 'Iris-virginica'),\n",
       " (134, 6.3, 2.8, 5.1, 1.5, '2', 2, 'Iris-virginica'),\n",
       " (135, 6.1, 2.6, 5.6, 1.4, '2', 2, 'Iris-virginica'),\n",
       " (136, 7.7, 3.0, 6.1, 2.3, '2', 2, 'Iris-virginica'),\n",
       " (137, 6.3, 3.4, 5.6, 2.4, '2', 2, 'Iris-virginica'),\n",
       " (138, 6.4, 3.1, 5.5, 1.8, '2', 2, 'Iris-virginica'),\n",
       " (139, 6.0, 3.0, 4.8, 1.8, '2', 2, 'Iris-virginica'),\n",
       " (140, 6.9, 3.1, 5.4, 2.1, '2', 2, 'Iris-virginica'),\n",
       " (141, 6.7, 3.1, 5.6, 2.4, '2', 2, 'Iris-virginica'),\n",
       " (142, 6.9, 3.1, 5.1, 2.3, '2', 2, 'Iris-virginica'),\n",
       " (143, 5.8, 2.7, 5.1, 1.9, '2', 2, 'Iris-virginica'),\n",
       " (144, 6.8, 3.2, 5.9, 2.3, '2', 2, 'Iris-virginica'),\n",
       " (145, 6.7, 3.3, 5.7, 2.5, '2', 2, 'Iris-virginica'),\n",
       " (146, 6.7, 3.0, 5.2, 2.3, '2', 2, 'Iris-virginica'),\n",
       " (147, 6.3, 2.5, 5.0, 1.9, '2', 2, 'Iris-virginica'),\n",
       " (148, 6.5, 3.0, 5.2, 2.0, '2', 2, 'Iris-virginica'),\n",
       " (149, 6.2, 3.4, 5.4, 2.3, '2', 2, 'Iris-virginica'),\n",
       " (150, 5.9, 3.0, 5.1, 1.8, '2', 2, 'Iris-virginica'))"
      ]
     },
     "execution_count": 35,
     "metadata": {},
     "output_type": "execute_result"
    }
   ],
   "source": [
    "query = \"\"\"\n",
    "    SELECT *    \n",
    "    FROM main_table\n",
    "    LEFT JOIN sort_decod\n",
    "        ON main_table.class_name = sort_decod.ID\n",
    "\"\"\"\n",
    "\n",
    "cursor.execute(query)\n",
    "cursor.fetchall()"
   ]
  },
  {
   "cell_type": "markdown",
   "metadata": {},
   "source": [
    "### Алиасы можно применять и к названиям таблиц"
   ]
  },
  {
   "cell_type": "code",
   "execution_count": 37,
   "metadata": {},
   "outputs": [
    {
     "data": {
      "text/plain": [
       "((1, 5.1, 3.5, 1.4, 0.2, '0', 0, 'Iris-setosa'),\n",
       " (2, 4.9, 3.0, 1.4, 0.2, '0', 0, 'Iris-setosa'),\n",
       " (3, 4.7, 3.2, 1.3, 0.2, '0', 0, 'Iris-setosa'),\n",
       " (4, 4.6, 3.1, 1.5, 0.2, '0', 0, 'Iris-setosa'),\n",
       " (5, 5.0, 3.6, 1.4, 0.2, '0', 0, 'Iris-setosa'),\n",
       " (6, 5.4, 3.9, 1.7, 0.4, '0', 0, 'Iris-setosa'),\n",
       " (7, 4.6, 3.4, 1.4, 0.3, '0', 0, 'Iris-setosa'),\n",
       " (8, 5.0, 3.4, 1.5, 0.2, '0', 0, 'Iris-setosa'),\n",
       " (9, 4.4, 2.9, 1.4, 0.2, '0', 0, 'Iris-setosa'),\n",
       " (10, 4.9, 3.1, 1.5, 0.1, '0', 0, 'Iris-setosa'),\n",
       " (11, 5.4, 3.7, 1.5, 0.2, '0', 0, 'Iris-setosa'),\n",
       " (12, 4.8, 3.4, 1.6, 0.2, '0', 0, 'Iris-setosa'),\n",
       " (13, 4.8, 3.0, 1.4, 0.1, '0', 0, 'Iris-setosa'),\n",
       " (14, 4.3, 3.0, 1.1, 0.1, '0', 0, 'Iris-setosa'),\n",
       " (15, 5.8, 4.0, 1.2, 0.2, '0', 0, 'Iris-setosa'),\n",
       " (16, 5.7, 4.4, 1.5, 0.4, '0', 0, 'Iris-setosa'),\n",
       " (17, 5.4, 3.9, 1.3, 0.4, '0', 0, 'Iris-setosa'),\n",
       " (18, 5.1, 3.5, 1.4, 0.3, '0', 0, 'Iris-setosa'),\n",
       " (19, 5.7, 3.8, 1.7, 0.3, '0', 0, 'Iris-setosa'),\n",
       " (20, 5.1, 3.8, 1.5, 0.3, '0', 0, 'Iris-setosa'),\n",
       " (21, 5.4, 3.4, 1.7, 0.2, '0', 0, 'Iris-setosa'),\n",
       " (22, 5.1, 3.7, 1.5, 0.4, '0', 0, 'Iris-setosa'),\n",
       " (23, 4.6, 3.6, 1.0, 0.2, '0', 0, 'Iris-setosa'),\n",
       " (24, 5.1, 3.3, 1.7, 0.5, '0', 0, 'Iris-setosa'),\n",
       " (25, 4.8, 3.4, 1.9, 0.2, '0', 0, 'Iris-setosa'),\n",
       " (26, 5.0, 3.0, 1.6, 0.2, '0', 0, 'Iris-setosa'),\n",
       " (27, 5.0, 3.4, 1.6, 0.4, '0', 0, 'Iris-setosa'),\n",
       " (28, 5.2, 3.5, 1.5, 0.2, '0', 0, 'Iris-setosa'),\n",
       " (29, 5.2, 3.4, 1.4, 0.2, '0', 0, 'Iris-setosa'),\n",
       " (30, 4.7, 3.2, 1.6, 0.2, '0', 0, 'Iris-setosa'),\n",
       " (31, 4.8, 3.1, 1.6, 0.2, '0', 0, 'Iris-setosa'),\n",
       " (32, 5.4, 3.4, 1.5, 0.4, '0', 0, 'Iris-setosa'),\n",
       " (33, 5.2, 4.1, 1.5, 0.1, '0', 0, 'Iris-setosa'),\n",
       " (34, 5.5, 4.2, 1.4, 0.2, '0', 0, 'Iris-setosa'),\n",
       " (35, 4.9, 3.1, 1.5, 0.1, '0', 0, 'Iris-setosa'),\n",
       " (36, 5.0, 3.2, 1.2, 0.2, '0', 0, 'Iris-setosa'),\n",
       " (37, 5.5, 3.5, 1.3, 0.2, '0', 0, 'Iris-setosa'),\n",
       " (38, 4.9, 3.1, 1.5, 0.1, '0', 0, 'Iris-setosa'),\n",
       " (39, 4.4, 3.0, 1.3, 0.2, '0', 0, 'Iris-setosa'),\n",
       " (40, 5.1, 3.4, 1.5, 0.2, '0', 0, 'Iris-setosa'),\n",
       " (41, 5.0, 3.5, 1.3, 0.3, '0', 0, 'Iris-setosa'),\n",
       " (42, 4.5, 2.3, 1.3, 0.3, '0', 0, 'Iris-setosa'),\n",
       " (43, 4.4, 3.2, 1.3, 0.2, '0', 0, 'Iris-setosa'),\n",
       " (44, 5.0, 3.5, 1.6, 0.6, '0', 0, 'Iris-setosa'),\n",
       " (45, 5.1, 3.8, 1.9, 0.4, '0', 0, 'Iris-setosa'),\n",
       " (46, 4.8, 3.0, 1.4, 0.3, '0', 0, 'Iris-setosa'),\n",
       " (47, 5.1, 3.8, 1.6, 0.2, '0', 0, 'Iris-setosa'),\n",
       " (48, 4.6, 3.2, 1.4, 0.2, '0', 0, 'Iris-setosa'),\n",
       " (49, 5.3, 3.7, 1.5, 0.2, '0', 0, 'Iris-setosa'),\n",
       " (50, 5.0, 3.3, 1.4, 0.2, '0', 0, 'Iris-setosa'),\n",
       " (51, 7.0, 3.2, 4.7, 1.4, '1', 1, 'Iris-versicolor'),\n",
       " (52, 6.4, 3.2, 4.5, 1.5, '1', 1, 'Iris-versicolor'),\n",
       " (53, 6.9, 3.1, 4.9, 1.5, '1', 1, 'Iris-versicolor'),\n",
       " (54, 5.5, 2.3, 4.0, 1.3, '1', 1, 'Iris-versicolor'),\n",
       " (55, 6.5, 2.8, 4.6, 1.5, '1', 1, 'Iris-versicolor'),\n",
       " (56, 5.7, 2.8, 4.5, 1.3, '1', 1, 'Iris-versicolor'),\n",
       " (57, 6.3, 3.3, 4.7, 1.6, '1', 1, 'Iris-versicolor'),\n",
       " (58, 4.9, 2.4, 3.3, 1.0, '1', 1, 'Iris-versicolor'),\n",
       " (59, 6.6, 2.9, 4.6, 1.3, '1', 1, 'Iris-versicolor'),\n",
       " (60, 5.2, 2.7, 3.9, 1.4, '1', 1, 'Iris-versicolor'),\n",
       " (61, 5.0, 2.0, 3.5, 1.0, '1', 1, 'Iris-versicolor'),\n",
       " (62, 5.9, 3.0, 4.2, 1.5, '1', 1, 'Iris-versicolor'),\n",
       " (63, 6.0, 2.2, 4.0, 1.0, '1', 1, 'Iris-versicolor'),\n",
       " (64, 6.1, 2.9, 4.7, 1.4, '1', 1, 'Iris-versicolor'),\n",
       " (65, 5.6, 2.9, 3.6, 1.3, '1', 1, 'Iris-versicolor'),\n",
       " (66, 6.7, 3.1, 4.4, 1.4, '1', 1, 'Iris-versicolor'),\n",
       " (67, 5.6, 3.0, 4.5, 1.5, '1', 1, 'Iris-versicolor'),\n",
       " (68, 5.8, 2.7, 4.1, 1.0, '1', 1, 'Iris-versicolor'),\n",
       " (69, 6.2, 2.2, 4.5, 1.5, '1', 1, 'Iris-versicolor'),\n",
       " (70, 5.6, 2.5, 3.9, 1.1, '1', 1, 'Iris-versicolor'),\n",
       " (71, 5.9, 3.2, 4.8, 1.8, '1', 1, 'Iris-versicolor'),\n",
       " (72, 6.1, 2.8, 4.0, 1.3, '1', 1, 'Iris-versicolor'),\n",
       " (73, 6.3, 2.5, 4.9, 1.5, '1', 1, 'Iris-versicolor'),\n",
       " (74, 6.1, 2.8, 4.7, 1.2, '1', 1, 'Iris-versicolor'),\n",
       " (75, 6.4, 2.9, 4.3, 1.3, '1', 1, 'Iris-versicolor'),\n",
       " (76, 6.6, 3.0, 4.4, 1.4, '1', 1, 'Iris-versicolor'),\n",
       " (77, 6.8, 2.8, 4.8, 1.4, '1', 1, 'Iris-versicolor'),\n",
       " (78, 6.7, 3.0, 5.0, 1.7, '1', 1, 'Iris-versicolor'),\n",
       " (79, 6.0, 2.9, 4.5, 1.5, '1', 1, 'Iris-versicolor'),\n",
       " (80, 5.7, 2.6, 3.5, 1.0, '1', 1, 'Iris-versicolor'),\n",
       " (81, 5.5, 2.4, 3.8, 1.1, '1', 1, 'Iris-versicolor'),\n",
       " (82, 5.5, 2.4, 3.7, 1.0, '1', 1, 'Iris-versicolor'),\n",
       " (83, 5.8, 2.7, 3.9, 1.2, '1', 1, 'Iris-versicolor'),\n",
       " (84, 6.0, 2.7, 5.1, 1.6, '1', 1, 'Iris-versicolor'),\n",
       " (85, 5.4, 3.0, 4.5, 1.5, '1', 1, 'Iris-versicolor'),\n",
       " (86, 6.0, 3.4, 4.5, 1.6, '1', 1, 'Iris-versicolor'),\n",
       " (87, 6.7, 3.1, 4.7, 1.5, '1', 1, 'Iris-versicolor'),\n",
       " (88, 6.3, 2.3, 4.4, 1.3, '1', 1, 'Iris-versicolor'),\n",
       " (89, 5.6, 3.0, 4.1, 1.3, '1', 1, 'Iris-versicolor'),\n",
       " (90, 5.5, 2.5, 4.0, 1.3, '1', 1, 'Iris-versicolor'),\n",
       " (91, 5.5, 2.6, 4.4, 1.2, '1', 1, 'Iris-versicolor'),\n",
       " (92, 6.1, 3.0, 4.6, 1.4, '1', 1, 'Iris-versicolor'),\n",
       " (93, 5.8, 2.6, 4.0, 1.2, '1', 1, 'Iris-versicolor'),\n",
       " (94, 5.0, 2.3, 3.3, 1.0, '1', 1, 'Iris-versicolor'),\n",
       " (95, 5.6, 2.7, 4.2, 1.3, '1', 1, 'Iris-versicolor'),\n",
       " (96, 5.7, 3.0, 4.2, 1.2, '1', 1, 'Iris-versicolor'),\n",
       " (97, 5.7, 2.9, 4.2, 1.3, '1', 1, 'Iris-versicolor'),\n",
       " (98, 6.2, 2.9, 4.3, 1.3, '1', 1, 'Iris-versicolor'),\n",
       " (99, 5.1, 2.5, 3.0, 1.1, '1', 1, 'Iris-versicolor'),\n",
       " (100, 5.7, 2.8, 4.1, 1.3, '1', 1, 'Iris-versicolor'),\n",
       " (101, 6.3, 3.3, 6.0, 2.5, '2', 2, 'Iris-virginica'),\n",
       " (102, 5.8, 2.7, 5.1, 1.9, '2', 2, 'Iris-virginica'),\n",
       " (103, 7.1, 3.0, 5.9, 2.1, '2', 2, 'Iris-virginica'),\n",
       " (104, 6.3, 2.9, 5.6, 1.8, '2', 2, 'Iris-virginica'),\n",
       " (105, 6.5, 3.0, 5.8, 2.2, '2', 2, 'Iris-virginica'),\n",
       " (106, 7.6, 3.0, 6.6, 2.1, '2', 2, 'Iris-virginica'),\n",
       " (107, 4.9, 2.5, 4.5, 1.7, '2', 2, 'Iris-virginica'),\n",
       " (108, 7.3, 2.9, 6.3, 1.8, '2', 2, 'Iris-virginica'),\n",
       " (109, 6.7, 2.5, 5.8, 1.8, '2', 2, 'Iris-virginica'),\n",
       " (110, 7.2, 3.6, 6.1, 2.5, '2', 2, 'Iris-virginica'),\n",
       " (111, 6.5, 3.2, 5.1, 2.0, '2', 2, 'Iris-virginica'),\n",
       " (112, 6.4, 2.7, 5.3, 1.9, '2', 2, 'Iris-virginica'),\n",
       " (113, 6.8, 3.0, 5.5, 2.1, '2', 2, 'Iris-virginica'),\n",
       " (114, 5.7, 2.5, 5.0, 2.0, '2', 2, 'Iris-virginica'),\n",
       " (115, 5.8, 2.8, 5.1, 2.4, '2', 2, 'Iris-virginica'),\n",
       " (116, 6.4, 3.2, 5.3, 2.3, '2', 2, 'Iris-virginica'),\n",
       " (117, 6.5, 3.0, 5.5, 1.8, '2', 2, 'Iris-virginica'),\n",
       " (118, 7.7, 3.8, 6.7, 2.2, '2', 2, 'Iris-virginica'),\n",
       " (119, 7.7, 2.6, 6.9, 2.3, '2', 2, 'Iris-virginica'),\n",
       " (120, 6.0, 2.2, 5.0, 1.5, '2', 2, 'Iris-virginica'),\n",
       " (121, 6.9, 3.2, 5.7, 2.3, '2', 2, 'Iris-virginica'),\n",
       " (122, 5.6, 2.8, 4.9, 2.0, '2', 2, 'Iris-virginica'),\n",
       " (123, 7.7, 2.8, 6.7, 2.0, '2', 2, 'Iris-virginica'),\n",
       " (124, 6.3, 2.7, 4.9, 1.8, '2', 2, 'Iris-virginica'),\n",
       " (125, 6.7, 3.3, 5.7, 2.1, '2', 2, 'Iris-virginica'),\n",
       " (126, 7.2, 3.2, 6.0, 1.8, '2', 2, 'Iris-virginica'),\n",
       " (127, 6.2, 2.8, 4.8, 1.8, '2', 2, 'Iris-virginica'),\n",
       " (128, 6.1, 3.0, 4.9, 1.8, '2', 2, 'Iris-virginica'),\n",
       " (129, 6.4, 2.8, 5.6, 2.1, '2', 2, 'Iris-virginica'),\n",
       " (130, 7.2, 3.0, 5.8, 1.6, '2', 2, 'Iris-virginica'),\n",
       " (131, 7.4, 2.8, 6.1, 1.9, '2', 2, 'Iris-virginica'),\n",
       " (132, 7.9, 3.8, 6.4, 2.0, '2', 2, 'Iris-virginica'),\n",
       " (133, 6.4, 2.8, 5.6, 2.2, '2', 2, 'Iris-virginica'),\n",
       " (134, 6.3, 2.8, 5.1, 1.5, '2', 2, 'Iris-virginica'),\n",
       " (135, 6.1, 2.6, 5.6, 1.4, '2', 2, 'Iris-virginica'),\n",
       " (136, 7.7, 3.0, 6.1, 2.3, '2', 2, 'Iris-virginica'),\n",
       " (137, 6.3, 3.4, 5.6, 2.4, '2', 2, 'Iris-virginica'),\n",
       " (138, 6.4, 3.1, 5.5, 1.8, '2', 2, 'Iris-virginica'),\n",
       " (139, 6.0, 3.0, 4.8, 1.8, '2', 2, 'Iris-virginica'),\n",
       " (140, 6.9, 3.1, 5.4, 2.1, '2', 2, 'Iris-virginica'),\n",
       " (141, 6.7, 3.1, 5.6, 2.4, '2', 2, 'Iris-virginica'),\n",
       " (142, 6.9, 3.1, 5.1, 2.3, '2', 2, 'Iris-virginica'),\n",
       " (143, 5.8, 2.7, 5.1, 1.9, '2', 2, 'Iris-virginica'),\n",
       " (144, 6.8, 3.2, 5.9, 2.3, '2', 2, 'Iris-virginica'),\n",
       " (145, 6.7, 3.3, 5.7, 2.5, '2', 2, 'Iris-virginica'),\n",
       " (146, 6.7, 3.0, 5.2, 2.3, '2', 2, 'Iris-virginica'),\n",
       " (147, 6.3, 2.5, 5.0, 1.9, '2', 2, 'Iris-virginica'),\n",
       " (148, 6.5, 3.0, 5.2, 2.0, '2', 2, 'Iris-virginica'),\n",
       " (149, 6.2, 3.4, 5.4, 2.3, '2', 2, 'Iris-virginica'),\n",
       " (150, 5.9, 3.0, 5.1, 1.8, '2', 2, 'Iris-virginica'))"
      ]
     },
     "execution_count": 37,
     "metadata": {},
     "output_type": "execute_result"
    }
   ],
   "source": [
    "query = \"\"\"\n",
    "    SELECT *    \n",
    "    FROM main_table AS t1\n",
    "    LEFT JOIN sort_decod AS t2\n",
    "        ON t1.class_name = t2.ID\n",
    "\"\"\"\n",
    "\n",
    "cursor.execute(query)\n",
    "cursor.fetchall()"
   ]
  },
  {
   "cell_type": "markdown",
   "metadata": {},
   "source": [
    "### Выведу только те столбцы, которые мне нужны"
   ]
  },
  {
   "cell_type": "code",
   "execution_count": 86,
   "metadata": {},
   "outputs": [
    {
     "data": {
      "text/plain": [
       "((1, 5.1, 3.5, 1.4, 0.2, 'Iris-setosa'),\n",
       " (2, 4.9, 3.0, 1.4, 0.2, 'Iris-setosa'),\n",
       " (3, 4.7, 3.2, 1.3, 0.2, 'Iris-setosa'),\n",
       " (4, 4.6, 3.1, 1.5, 0.2, 'Iris-setosa'),\n",
       " (5, 5.0, 3.6, 1.4, 0.2, 'Iris-setosa'),\n",
       " (6, 5.4, 3.9, 1.7, 0.4, 'Iris-setosa'),\n",
       " (7, 4.6, 3.4, 1.4, 0.3, 'Iris-setosa'),\n",
       " (8, 5.0, 3.4, 1.5, 0.2, 'Iris-setosa'),\n",
       " (9, 4.4, 2.9, 1.4, 0.2, 'Iris-setosa'),\n",
       " (10, 4.9, 3.1, 1.5, 0.1, 'Iris-setosa'),\n",
       " (11, 5.4, 3.7, 1.5, 0.2, 'Iris-setosa'),\n",
       " (12, 4.8, 3.4, 1.6, 0.2, 'Iris-setosa'),\n",
       " (13, 4.8, 3.0, 1.4, 0.1, 'Iris-setosa'),\n",
       " (14, 4.3, 3.0, 1.1, 0.1, 'Iris-setosa'),\n",
       " (15, 5.8, 4.0, 1.2, 0.2, 'Iris-setosa'),\n",
       " (16, 5.7, 4.4, 1.5, 0.4, 'Iris-setosa'),\n",
       " (17, 5.4, 3.9, 1.3, 0.4, 'Iris-setosa'),\n",
       " (18, 5.1, 3.5, 1.4, 0.3, 'Iris-setosa'),\n",
       " (19, 5.7, 3.8, 1.7, 0.3, 'Iris-setosa'),\n",
       " (20, 5.1, 3.8, 1.5, 0.3, 'Iris-setosa'),\n",
       " (21, 5.4, 3.4, 1.7, 0.2, 'Iris-setosa'),\n",
       " (22, 5.1, 3.7, 1.5, 0.4, 'Iris-setosa'),\n",
       " (23, 4.6, 3.6, 1.0, 0.2, 'Iris-setosa'),\n",
       " (24, 5.1, 3.3, 1.7, 0.5, 'Iris-setosa'),\n",
       " (25, 4.8, 3.4, 1.9, 0.2, 'Iris-setosa'),\n",
       " (26, 5.0, 3.0, 1.6, 0.2, 'Iris-setosa'),\n",
       " (27, 5.0, 3.4, 1.6, 0.4, 'Iris-setosa'),\n",
       " (28, 5.2, 3.5, 1.5, 0.2, 'Iris-setosa'),\n",
       " (29, 5.2, 3.4, 1.4, 0.2, 'Iris-setosa'),\n",
       " (30, 4.7, 3.2, 1.6, 0.2, 'Iris-setosa'),\n",
       " (31, 4.8, 3.1, 1.6, 0.2, 'Iris-setosa'),\n",
       " (32, 5.4, 3.4, 1.5, 0.4, 'Iris-setosa'),\n",
       " (33, 5.2, 4.1, 1.5, 0.1, 'Iris-setosa'),\n",
       " (34, 5.5, 4.2, 1.4, 0.2, 'Iris-setosa'),\n",
       " (35, 4.9, 3.1, 1.5, 0.1, 'Iris-setosa'),\n",
       " (36, 5.0, 3.2, 1.2, 0.2, 'Iris-setosa'),\n",
       " (37, 5.5, 3.5, 1.3, 0.2, 'Iris-setosa'),\n",
       " (38, 4.9, 3.1, 1.5, 0.1, 'Iris-setosa'),\n",
       " (39, 4.4, 3.0, 1.3, 0.2, 'Iris-setosa'),\n",
       " (40, 5.1, 3.4, 1.5, 0.2, 'Iris-setosa'),\n",
       " (41, 5.0, 3.5, 1.3, 0.3, 'Iris-setosa'),\n",
       " (42, 4.5, 2.3, 1.3, 0.3, 'Iris-setosa'),\n",
       " (43, 4.4, 3.2, 1.3, 0.2, 'Iris-setosa'),\n",
       " (44, 5.0, 3.5, 1.6, 0.6, 'Iris-setosa'),\n",
       " (45, 5.1, 3.8, 1.9, 0.4, 'Iris-setosa'),\n",
       " (46, 4.8, 3.0, 1.4, 0.3, 'Iris-setosa'),\n",
       " (47, 5.1, 3.8, 1.6, 0.2, 'Iris-setosa'),\n",
       " (48, 4.6, 3.2, 1.4, 0.2, 'Iris-setosa'),\n",
       " (49, 5.3, 3.7, 1.5, 0.2, 'Iris-setosa'),\n",
       " (50, 5.0, 3.3, 1.4, 0.2, 'Iris-setosa'),\n",
       " (51, 7.0, 3.2, 4.7, 1.4, 'Iris-versicolor'),\n",
       " (52, 6.4, 3.2, 4.5, 1.5, 'Iris-versicolor'),\n",
       " (53, 6.9, 3.1, 4.9, 1.5, 'Iris-versicolor'),\n",
       " (54, 5.5, 2.3, 4.0, 1.3, 'Iris-versicolor'),\n",
       " (55, 6.5, 2.8, 4.6, 1.5, 'Iris-versicolor'),\n",
       " (56, 5.7, 2.8, 4.5, 1.3, 'Iris-versicolor'),\n",
       " (57, 6.3, 3.3, 4.7, 1.6, 'Iris-versicolor'),\n",
       " (58, 4.9, 2.4, 3.3, 1.0, 'Iris-versicolor'),\n",
       " (59, 6.6, 2.9, 4.6, 1.3, 'Iris-versicolor'),\n",
       " (60, 5.2, 2.7, 3.9, 1.4, 'Iris-versicolor'),\n",
       " (61, 5.0, 2.0, 3.5, 1.0, 'Iris-versicolor'),\n",
       " (62, 5.9, 3.0, 4.2, 1.5, 'Iris-versicolor'),\n",
       " (63, 6.0, 2.2, 4.0, 1.0, 'Iris-versicolor'),\n",
       " (64, 6.1, 2.9, 4.7, 1.4, 'Iris-versicolor'),\n",
       " (65, 5.6, 2.9, 3.6, 1.3, 'Iris-versicolor'),\n",
       " (66, 6.7, 3.1, 4.4, 1.4, 'Iris-versicolor'),\n",
       " (67, 5.6, 3.0, 4.5, 1.5, 'Iris-versicolor'),\n",
       " (68, 5.8, 2.7, 4.1, 1.0, 'Iris-versicolor'),\n",
       " (69, 6.2, 2.2, 4.5, 1.5, 'Iris-versicolor'),\n",
       " (70, 5.6, 2.5, 3.9, 1.1, 'Iris-versicolor'),\n",
       " (71, 5.9, 3.2, 4.8, 1.8, 'Iris-versicolor'),\n",
       " (72, 6.1, 2.8, 4.0, 1.3, 'Iris-versicolor'),\n",
       " (73, 6.3, 2.5, 4.9, 1.5, 'Iris-versicolor'),\n",
       " (74, 6.1, 2.8, 4.7, 1.2, 'Iris-versicolor'),\n",
       " (75, 6.4, 2.9, 4.3, 1.3, 'Iris-versicolor'),\n",
       " (76, 6.6, 3.0, 4.4, 1.4, 'Iris-versicolor'),\n",
       " (77, 6.8, 2.8, 4.8, 1.4, 'Iris-versicolor'),\n",
       " (78, 6.7, 3.0, 5.0, 1.7, 'Iris-versicolor'),\n",
       " (79, 6.0, 2.9, 4.5, 1.5, 'Iris-versicolor'),\n",
       " (80, 5.7, 2.6, 3.5, 1.0, 'Iris-versicolor'),\n",
       " (81, 5.5, 2.4, 3.8, 1.1, 'Iris-versicolor'),\n",
       " (82, 5.5, 2.4, 3.7, 1.0, 'Iris-versicolor'),\n",
       " (83, 5.8, 2.7, 3.9, 1.2, 'Iris-versicolor'),\n",
       " (84, 6.0, 2.7, 5.1, 1.6, 'Iris-versicolor'),\n",
       " (85, 5.4, 3.0, 4.5, 1.5, 'Iris-versicolor'),\n",
       " (86, 6.0, 3.4, 4.5, 1.6, 'Iris-versicolor'),\n",
       " (87, 6.7, 3.1, 4.7, 1.5, 'Iris-versicolor'),\n",
       " (88, 6.3, 2.3, 4.4, 1.3, 'Iris-versicolor'),\n",
       " (89, 5.6, 3.0, 4.1, 1.3, 'Iris-versicolor'),\n",
       " (90, 5.5, 2.5, 4.0, 1.3, 'Iris-versicolor'),\n",
       " (91, 5.5, 2.6, 4.4, 1.2, 'Iris-versicolor'),\n",
       " (92, 6.1, 3.0, 4.6, 1.4, 'Iris-versicolor'),\n",
       " (93, 5.8, 2.6, 4.0, 1.2, 'Iris-versicolor'),\n",
       " (94, 5.0, 2.3, 3.3, 1.0, 'Iris-versicolor'),\n",
       " (95, 5.6, 2.7, 4.2, 1.3, 'Iris-versicolor'),\n",
       " (96, 5.7, 3.0, 4.2, 1.2, 'Iris-versicolor'),\n",
       " (97, 5.7, 2.9, 4.2, 1.3, 'Iris-versicolor'),\n",
       " (98, 6.2, 2.9, 4.3, 1.3, 'Iris-versicolor'),\n",
       " (99, 5.1, 2.5, 3.0, 1.1, 'Iris-versicolor'),\n",
       " (100, 5.7, 2.8, 4.1, 1.3, 'Iris-versicolor'),\n",
       " (101, 6.3, 3.3, 6.0, 2.5, 'Iris-virginica'),\n",
       " (102, 5.8, 2.7, 5.1, 1.9, 'Iris-virginica'),\n",
       " (103, 7.1, 3.0, 5.9, 2.1, 'Iris-virginica'),\n",
       " (104, 6.3, 2.9, 5.6, 1.8, 'Iris-virginica'),\n",
       " (105, 6.5, 3.0, 5.8, 2.2, 'Iris-virginica'),\n",
       " (106, 7.6, 3.0, 6.6, 2.1, 'Iris-virginica'),\n",
       " (107, 4.9, 2.5, 4.5, 1.7, 'Iris-virginica'),\n",
       " (108, 7.3, 2.9, 6.3, 1.8, 'Iris-virginica'),\n",
       " (109, 6.7, 2.5, 5.8, 1.8, 'Iris-virginica'),\n",
       " (110, 7.2, 3.6, 6.1, 2.5, 'Iris-virginica'),\n",
       " (111, 6.5, 3.2, 5.1, 2.0, 'Iris-virginica'),\n",
       " (112, 6.4, 2.7, 5.3, 1.9, 'Iris-virginica'),\n",
       " (113, 6.8, 3.0, 5.5, 2.1, 'Iris-virginica'),\n",
       " (114, 5.7, 2.5, 5.0, 2.0, 'Iris-virginica'),\n",
       " (115, 5.8, 2.8, 5.1, 2.4, 'Iris-virginica'),\n",
       " (116, 6.4, 3.2, 5.3, 2.3, 'Iris-virginica'),\n",
       " (117, 6.5, 3.0, 5.5, 1.8, 'Iris-virginica'),\n",
       " (118, 7.7, 3.8, 6.7, 2.2, 'Iris-virginica'),\n",
       " (119, 7.7, 2.6, 6.9, 2.3, 'Iris-virginica'),\n",
       " (120, 6.0, 2.2, 5.0, 1.5, 'Iris-virginica'),\n",
       " (121, 6.9, 3.2, 5.7, 2.3, 'Iris-virginica'),\n",
       " (122, 5.6, 2.8, 4.9, 2.0, 'Iris-virginica'),\n",
       " (123, 7.7, 2.8, 6.7, 2.0, 'Iris-virginica'),\n",
       " (124, 6.3, 2.7, 4.9, 1.8, 'Iris-virginica'),\n",
       " (125, 6.7, 3.3, 5.7, 2.1, 'Iris-virginica'),\n",
       " (126, 7.2, 3.2, 6.0, 1.8, 'Iris-virginica'),\n",
       " (127, 6.2, 2.8, 4.8, 1.8, 'Iris-virginica'),\n",
       " (128, 6.1, 3.0, 4.9, 1.8, 'Iris-virginica'),\n",
       " (129, 6.4, 2.8, 5.6, 2.1, 'Iris-virginica'),\n",
       " (130, 7.2, 3.0, 5.8, 1.6, 'Iris-virginica'),\n",
       " (131, 7.4, 2.8, 6.1, 1.9, 'Iris-virginica'),\n",
       " (132, 7.9, 3.8, 6.4, 2.0, 'Iris-virginica'),\n",
       " (133, 6.4, 2.8, 5.6, 2.2, 'Iris-virginica'),\n",
       " (134, 6.3, 2.8, 5.1, 1.5, 'Iris-virginica'),\n",
       " (135, 6.1, 2.6, 5.6, 1.4, 'Iris-virginica'),\n",
       " (136, 7.7, 3.0, 6.1, 2.3, 'Iris-virginica'),\n",
       " (137, 6.3, 3.4, 5.6, 2.4, 'Iris-virginica'),\n",
       " (138, 6.4, 3.1, 5.5, 1.8, 'Iris-virginica'),\n",
       " (139, 6.0, 3.0, 4.8, 1.8, 'Iris-virginica'),\n",
       " (140, 6.9, 3.1, 5.4, 2.1, 'Iris-virginica'),\n",
       " (141, 6.7, 3.1, 5.6, 2.4, 'Iris-virginica'),\n",
       " (142, 6.9, 3.1, 5.1, 2.3, 'Iris-virginica'),\n",
       " (143, 5.8, 2.7, 5.1, 1.9, 'Iris-virginica'),\n",
       " (144, 6.8, 3.2, 5.9, 2.3, 'Iris-virginica'),\n",
       " (145, 6.7, 3.3, 5.7, 2.5, 'Iris-virginica'),\n",
       " (146, 6.7, 3.0, 5.2, 2.3, 'Iris-virginica'),\n",
       " (147, 6.3, 2.5, 5.0, 1.9, 'Iris-virginica'),\n",
       " (148, 6.5, 3.0, 5.2, 2.0, 'Iris-virginica'),\n",
       " (149, 6.2, 3.4, 5.4, 2.3, 'Iris-virginica'),\n",
       " (150, 5.9, 3.0, 5.1, 1.8, 'Iris-virginica'))"
      ]
     },
     "execution_count": 86,
     "metadata": {},
     "output_type": "execute_result"
    }
   ],
   "source": [
    "query = \"\"\"\n",
    "    SELECT \n",
    "        t1.ID\n",
    "        ,t1.sepal_length_in_cm\n",
    "        ,t1.sepal_width_in_cm\n",
    "        ,t1.petal_length_in_cm\n",
    "        ,t1.petal_width_in_cm\n",
    "        ,t2.name\n",
    "    FROM main_table as t1\n",
    "    LEFT JOIN sort_decod as t2\n",
    "        ON t1.class_name = t2.ID\n",
    "\"\"\"\n",
    "\n",
    "cursor.execute(query)\n",
    "cursor.fetchall()"
   ]
  },
  {
   "cell_type": "markdown",
   "metadata": {},
   "source": [
    "### Полный набор операторов для выражения `SELECT`"
   ]
  },
  {
   "cell_type": "raw",
   "metadata": {},
   "source": [
    "SELECT DISTINCT column_list \n",
    "FROM table_list\n",
    "    JOIN table ON join_condition\n",
    "WHERE row_filter\n",
    "ORDER BY column1 ASC|DESC, column2 ASC|DESC, ...\n",
    "LIMIT count OFFSET offset\n",
    "GROUP BY column_1, column_2, ...\n",
    "HAVING group_filter"
   ]
  },
  {
   "cell_type": "markdown",
   "metadata": {},
   "source": [
    "## `ALTER TABLE` - оператор изменения таблицы"
   ]
  },
  {
   "cell_type": "markdown",
   "metadata": {},
   "source": [
    "### `ADD` - добавляет столбец"
   ]
  },
  {
   "cell_type": "code",
   "execution_count": 87,
   "metadata": {},
   "outputs": [
    {
     "data": {
      "text/plain": [
       "()"
      ]
     },
     "execution_count": 87,
     "metadata": {},
     "output_type": "execute_result"
    }
   ],
   "source": [
    "query = \"\"\"\n",
    "        ALTER TABLE main_table\n",
    "        ADD NEW_COL INT\n",
    "\"\"\"\n",
    "\n",
    "cursor.execute(query)\n",
    "cursor.fetchall()"
   ]
  },
  {
   "cell_type": "code",
   "execution_count": 88,
   "metadata": {},
   "outputs": [
    {
     "data": {
      "text/plain": [
       "((1, 5.1, 3.5, 1.4, 0.2, '0', None),\n",
       " (2, 4.9, 3.0, 1.4, 0.2, '0', None),\n",
       " (3, 4.7, 3.2, 1.3, 0.2, '0', None),\n",
       " (4, 4.6, 3.1, 1.5, 0.2, '0', None),\n",
       " (5, 5.0, 3.6, 1.4, 0.2, '0', None),\n",
       " (6, 5.4, 3.9, 1.7, 0.4, '0', None),\n",
       " (7, 4.6, 3.4, 1.4, 0.3, '0', None),\n",
       " (8, 5.0, 3.4, 1.5, 0.2, '0', None),\n",
       " (9, 4.4, 2.9, 1.4, 0.2, '0', None),\n",
       " (10, 4.9, 3.1, 1.5, 0.1, '0', None),\n",
       " (11, 5.4, 3.7, 1.5, 0.2, '0', None),\n",
       " (12, 4.8, 3.4, 1.6, 0.2, '0', None),\n",
       " (13, 4.8, 3.0, 1.4, 0.1, '0', None),\n",
       " (14, 4.3, 3.0, 1.1, 0.1, '0', None),\n",
       " (15, 5.8, 4.0, 1.2, 0.2, '0', None),\n",
       " (16, 5.7, 4.4, 1.5, 0.4, '0', None),\n",
       " (17, 5.4, 3.9, 1.3, 0.4, '0', None),\n",
       " (18, 5.1, 3.5, 1.4, 0.3, '0', None),\n",
       " (19, 5.7, 3.8, 1.7, 0.3, '0', None),\n",
       " (20, 5.1, 3.8, 1.5, 0.3, '0', None),\n",
       " (21, 5.4, 3.4, 1.7, 0.2, '0', None),\n",
       " (22, 5.1, 3.7, 1.5, 0.4, '0', None),\n",
       " (23, 4.6, 3.6, 1.0, 0.2, '0', None),\n",
       " (24, 5.1, 3.3, 1.7, 0.5, '0', None),\n",
       " (25, 4.8, 3.4, 1.9, 0.2, '0', None),\n",
       " (26, 5.0, 3.0, 1.6, 0.2, '0', None),\n",
       " (27, 5.0, 3.4, 1.6, 0.4, '0', None),\n",
       " (28, 5.2, 3.5, 1.5, 0.2, '0', None),\n",
       " (29, 5.2, 3.4, 1.4, 0.2, '0', None),\n",
       " (30, 4.7, 3.2, 1.6, 0.2, '0', None),\n",
       " (31, 4.8, 3.1, 1.6, 0.2, '0', None),\n",
       " (32, 5.4, 3.4, 1.5, 0.4, '0', None),\n",
       " (33, 5.2, 4.1, 1.5, 0.1, '0', None),\n",
       " (34, 5.5, 4.2, 1.4, 0.2, '0', None),\n",
       " (35, 4.9, 3.1, 1.5, 0.1, '0', None),\n",
       " (36, 5.0, 3.2, 1.2, 0.2, '0', None),\n",
       " (37, 5.5, 3.5, 1.3, 0.2, '0', None),\n",
       " (38, 4.9, 3.1, 1.5, 0.1, '0', None),\n",
       " (39, 4.4, 3.0, 1.3, 0.2, '0', None),\n",
       " (40, 5.1, 3.4, 1.5, 0.2, '0', None),\n",
       " (41, 5.0, 3.5, 1.3, 0.3, '0', None),\n",
       " (42, 4.5, 2.3, 1.3, 0.3, '0', None),\n",
       " (43, 4.4, 3.2, 1.3, 0.2, '0', None),\n",
       " (44, 5.0, 3.5, 1.6, 0.6, '0', None),\n",
       " (45, 5.1, 3.8, 1.9, 0.4, '0', None),\n",
       " (46, 4.8, 3.0, 1.4, 0.3, '0', None),\n",
       " (47, 5.1, 3.8, 1.6, 0.2, '0', None),\n",
       " (48, 4.6, 3.2, 1.4, 0.2, '0', None),\n",
       " (49, 5.3, 3.7, 1.5, 0.2, '0', None),\n",
       " (50, 5.0, 3.3, 1.4, 0.2, '0', None),\n",
       " (51, 7.0, 3.2, 4.7, 1.4, '1', None),\n",
       " (52, 6.4, 3.2, 4.5, 1.5, '1', None),\n",
       " (53, 6.9, 3.1, 4.9, 1.5, '1', None),\n",
       " (54, 5.5, 2.3, 4.0, 1.3, '1', None),\n",
       " (55, 6.5, 2.8, 4.6, 1.5, '1', None),\n",
       " (56, 5.7, 2.8, 4.5, 1.3, '1', None),\n",
       " (57, 6.3, 3.3, 4.7, 1.6, '1', None),\n",
       " (58, 4.9, 2.4, 3.3, 1.0, '1', None),\n",
       " (59, 6.6, 2.9, 4.6, 1.3, '1', None),\n",
       " (60, 5.2, 2.7, 3.9, 1.4, '1', None),\n",
       " (61, 5.0, 2.0, 3.5, 1.0, '1', None),\n",
       " (62, 5.9, 3.0, 4.2, 1.5, '1', None),\n",
       " (63, 6.0, 2.2, 4.0, 1.0, '1', None),\n",
       " (64, 6.1, 2.9, 4.7, 1.4, '1', None),\n",
       " (65, 5.6, 2.9, 3.6, 1.3, '1', None),\n",
       " (66, 6.7, 3.1, 4.4, 1.4, '1', None),\n",
       " (67, 5.6, 3.0, 4.5, 1.5, '1', None),\n",
       " (68, 5.8, 2.7, 4.1, 1.0, '1', None),\n",
       " (69, 6.2, 2.2, 4.5, 1.5, '1', None),\n",
       " (70, 5.6, 2.5, 3.9, 1.1, '1', None),\n",
       " (71, 5.9, 3.2, 4.8, 1.8, '1', None),\n",
       " (72, 6.1, 2.8, 4.0, 1.3, '1', None),\n",
       " (73, 6.3, 2.5, 4.9, 1.5, '1', None),\n",
       " (74, 6.1, 2.8, 4.7, 1.2, '1', None),\n",
       " (75, 6.4, 2.9, 4.3, 1.3, '1', None),\n",
       " (76, 6.6, 3.0, 4.4, 1.4, '1', None),\n",
       " (77, 6.8, 2.8, 4.8, 1.4, '1', None),\n",
       " (78, 6.7, 3.0, 5.0, 1.7, '1', None),\n",
       " (79, 6.0, 2.9, 4.5, 1.5, '1', None),\n",
       " (80, 5.7, 2.6, 3.5, 1.0, '1', None),\n",
       " (81, 5.5, 2.4, 3.8, 1.1, '1', None),\n",
       " (82, 5.5, 2.4, 3.7, 1.0, '1', None),\n",
       " (83, 5.8, 2.7, 3.9, 1.2, '1', None),\n",
       " (84, 6.0, 2.7, 5.1, 1.6, '1', None),\n",
       " (85, 5.4, 3.0, 4.5, 1.5, '1', None),\n",
       " (86, 6.0, 3.4, 4.5, 1.6, '1', None),\n",
       " (87, 6.7, 3.1, 4.7, 1.5, '1', None),\n",
       " (88, 6.3, 2.3, 4.4, 1.3, '1', None),\n",
       " (89, 5.6, 3.0, 4.1, 1.3, '1', None),\n",
       " (90, 5.5, 2.5, 4.0, 1.3, '1', None),\n",
       " (91, 5.5, 2.6, 4.4, 1.2, '1', None),\n",
       " (92, 6.1, 3.0, 4.6, 1.4, '1', None),\n",
       " (93, 5.8, 2.6, 4.0, 1.2, '1', None),\n",
       " (94, 5.0, 2.3, 3.3, 1.0, '1', None),\n",
       " (95, 5.6, 2.7, 4.2, 1.3, '1', None),\n",
       " (96, 5.7, 3.0, 4.2, 1.2, '1', None),\n",
       " (97, 5.7, 2.9, 4.2, 1.3, '1', None),\n",
       " (98, 6.2, 2.9, 4.3, 1.3, '1', None),\n",
       " (99, 5.1, 2.5, 3.0, 1.1, '1', None),\n",
       " (100, 5.7, 2.8, 4.1, 1.3, '1', None),\n",
       " (101, 6.3, 3.3, 6.0, 2.5, '2', None),\n",
       " (102, 5.8, 2.7, 5.1, 1.9, '2', None),\n",
       " (103, 7.1, 3.0, 5.9, 2.1, '2', None),\n",
       " (104, 6.3, 2.9, 5.6, 1.8, '2', None),\n",
       " (105, 6.5, 3.0, 5.8, 2.2, '2', None),\n",
       " (106, 7.6, 3.0, 6.6, 2.1, '2', None),\n",
       " (107, 4.9, 2.5, 4.5, 1.7, '2', None),\n",
       " (108, 7.3, 2.9, 6.3, 1.8, '2', None),\n",
       " (109, 6.7, 2.5, 5.8, 1.8, '2', None),\n",
       " (110, 7.2, 3.6, 6.1, 2.5, '2', None),\n",
       " (111, 6.5, 3.2, 5.1, 2.0, '2', None),\n",
       " (112, 6.4, 2.7, 5.3, 1.9, '2', None),\n",
       " (113, 6.8, 3.0, 5.5, 2.1, '2', None),\n",
       " (114, 5.7, 2.5, 5.0, 2.0, '2', None),\n",
       " (115, 5.8, 2.8, 5.1, 2.4, '2', None),\n",
       " (116, 6.4, 3.2, 5.3, 2.3, '2', None),\n",
       " (117, 6.5, 3.0, 5.5, 1.8, '2', None),\n",
       " (118, 7.7, 3.8, 6.7, 2.2, '2', None),\n",
       " (119, 7.7, 2.6, 6.9, 2.3, '2', None),\n",
       " (120, 6.0, 2.2, 5.0, 1.5, '2', None),\n",
       " (121, 6.9, 3.2, 5.7, 2.3, '2', None),\n",
       " (122, 5.6, 2.8, 4.9, 2.0, '2', None),\n",
       " (123, 7.7, 2.8, 6.7, 2.0, '2', None),\n",
       " (124, 6.3, 2.7, 4.9, 1.8, '2', None),\n",
       " (125, 6.7, 3.3, 5.7, 2.1, '2', None),\n",
       " (126, 7.2, 3.2, 6.0, 1.8, '2', None),\n",
       " (127, 6.2, 2.8, 4.8, 1.8, '2', None),\n",
       " (128, 6.1, 3.0, 4.9, 1.8, '2', None),\n",
       " (129, 6.4, 2.8, 5.6, 2.1, '2', None),\n",
       " (130, 7.2, 3.0, 5.8, 1.6, '2', None),\n",
       " (131, 7.4, 2.8, 6.1, 1.9, '2', None),\n",
       " (132, 7.9, 3.8, 6.4, 2.0, '2', None),\n",
       " (133, 6.4, 2.8, 5.6, 2.2, '2', None),\n",
       " (134, 6.3, 2.8, 5.1, 1.5, '2', None),\n",
       " (135, 6.1, 2.6, 5.6, 1.4, '2', None),\n",
       " (136, 7.7, 3.0, 6.1, 2.3, '2', None),\n",
       " (137, 6.3, 3.4, 5.6, 2.4, '2', None),\n",
       " (138, 6.4, 3.1, 5.5, 1.8, '2', None),\n",
       " (139, 6.0, 3.0, 4.8, 1.8, '2', None),\n",
       " (140, 6.9, 3.1, 5.4, 2.1, '2', None),\n",
       " (141, 6.7, 3.1, 5.6, 2.4, '2', None),\n",
       " (142, 6.9, 3.1, 5.1, 2.3, '2', None),\n",
       " (143, 5.8, 2.7, 5.1, 1.9, '2', None),\n",
       " (144, 6.8, 3.2, 5.9, 2.3, '2', None),\n",
       " (145, 6.7, 3.3, 5.7, 2.5, '2', None),\n",
       " (146, 6.7, 3.0, 5.2, 2.3, '2', None),\n",
       " (147, 6.3, 2.5, 5.0, 1.9, '2', None),\n",
       " (148, 6.5, 3.0, 5.2, 2.0, '2', None),\n",
       " (149, 6.2, 3.4, 5.4, 2.3, '2', None),\n",
       " (150, 5.9, 3.0, 5.1, 1.8, '2', None))"
      ]
     },
     "execution_count": 88,
     "metadata": {},
     "output_type": "execute_result"
    }
   ],
   "source": [
    "cursor.execute(query_select_all)\n",
    "cursor.fetchall()"
   ]
  },
  {
   "cell_type": "markdown",
   "metadata": {},
   "source": [
    "### `NULL` - тип, который не содержит данных"
   ]
  },
  {
   "cell_type": "code",
   "execution_count": 41,
   "metadata": {},
   "outputs": [
    {
     "data": {
      "text/plain": [
       "((1, 5.1, 3.5, 1.4, 0.2, '0', None),\n",
       " (2, 4.9, 3.0, 1.4, 0.2, '0', None),\n",
       " (3, 4.7, 3.2, 1.3, 0.2, '0', None),\n",
       " (4, 4.6, 3.1, 1.5, 0.2, '0', None),\n",
       " (5, 5.0, 3.6, 1.4, 0.2, '0', None),\n",
       " (6, 5.4, 3.9, 1.7, 0.4, '0', None),\n",
       " (7, 4.6, 3.4, 1.4, 0.3, '0', None),\n",
       " (8, 5.0, 3.4, 1.5, 0.2, '0', None),\n",
       " (9, 4.4, 2.9, 1.4, 0.2, '0', None),\n",
       " (10, 4.9, 3.1, 1.5, 0.1, '0', None),\n",
       " (11, 5.4, 3.7, 1.5, 0.2, '0', None),\n",
       " (12, 4.8, 3.4, 1.6, 0.2, '0', None),\n",
       " (13, 4.8, 3.0, 1.4, 0.1, '0', None),\n",
       " (14, 4.3, 3.0, 1.1, 0.1, '0', None),\n",
       " (15, 5.8, 4.0, 1.2, 0.2, '0', None),\n",
       " (16, 5.7, 4.4, 1.5, 0.4, '0', None),\n",
       " (17, 5.4, 3.9, 1.3, 0.4, '0', None),\n",
       " (18, 5.1, 3.5, 1.4, 0.3, '0', None),\n",
       " (19, 5.7, 3.8, 1.7, 0.3, '0', None),\n",
       " (20, 5.1, 3.8, 1.5, 0.3, '0', None),\n",
       " (21, 5.4, 3.4, 1.7, 0.2, '0', None),\n",
       " (22, 5.1, 3.7, 1.5, 0.4, '0', None),\n",
       " (23, 4.6, 3.6, 1.0, 0.2, '0', None),\n",
       " (24, 5.1, 3.3, 1.7, 0.5, '0', None),\n",
       " (25, 4.8, 3.4, 1.9, 0.2, '0', None),\n",
       " (26, 5.0, 3.0, 1.6, 0.2, '0', None),\n",
       " (27, 5.0, 3.4, 1.6, 0.4, '0', None),\n",
       " (28, 5.2, 3.5, 1.5, 0.2, '0', None),\n",
       " (29, 5.2, 3.4, 1.4, 0.2, '0', None),\n",
       " (30, 4.7, 3.2, 1.6, 0.2, '0', None),\n",
       " (31, 4.8, 3.1, 1.6, 0.2, '0', None),\n",
       " (32, 5.4, 3.4, 1.5, 0.4, '0', None),\n",
       " (33, 5.2, 4.1, 1.5, 0.1, '0', None),\n",
       " (34, 5.5, 4.2, 1.4, 0.2, '0', None),\n",
       " (35, 4.9, 3.1, 1.5, 0.1, '0', None),\n",
       " (36, 5.0, 3.2, 1.2, 0.2, '0', None),\n",
       " (37, 5.5, 3.5, 1.3, 0.2, '0', None),\n",
       " (38, 4.9, 3.1, 1.5, 0.1, '0', None),\n",
       " (39, 4.4, 3.0, 1.3, 0.2, '0', None),\n",
       " (40, 5.1, 3.4, 1.5, 0.2, '0', None),\n",
       " (41, 5.0, 3.5, 1.3, 0.3, '0', None),\n",
       " (42, 4.5, 2.3, 1.3, 0.3, '0', None),\n",
       " (43, 4.4, 3.2, 1.3, 0.2, '0', None),\n",
       " (44, 5.0, 3.5, 1.6, 0.6, '0', None),\n",
       " (45, 5.1, 3.8, 1.9, 0.4, '0', None),\n",
       " (46, 4.8, 3.0, 1.4, 0.3, '0', None),\n",
       " (47, 5.1, 3.8, 1.6, 0.2, '0', None),\n",
       " (48, 4.6, 3.2, 1.4, 0.2, '0', None),\n",
       " (49, 5.3, 3.7, 1.5, 0.2, '0', None),\n",
       " (50, 5.0, 3.3, 1.4, 0.2, '0', None),\n",
       " (51, 7.0, 3.2, 4.7, 1.4, '1', None),\n",
       " (52, 6.4, 3.2, 4.5, 1.5, '1', None),\n",
       " (53, 6.9, 3.1, 4.9, 1.5, '1', None),\n",
       " (54, 5.5, 2.3, 4.0, 1.3, '1', None),\n",
       " (55, 6.5, 2.8, 4.6, 1.5, '1', None),\n",
       " (56, 5.7, 2.8, 4.5, 1.3, '1', None),\n",
       " (57, 6.3, 3.3, 4.7, 1.6, '1', None),\n",
       " (58, 4.9, 2.4, 3.3, 1.0, '1', None),\n",
       " (59, 6.6, 2.9, 4.6, 1.3, '1', None),\n",
       " (60, 5.2, 2.7, 3.9, 1.4, '1', None),\n",
       " (61, 5.0, 2.0, 3.5, 1.0, '1', None),\n",
       " (62, 5.9, 3.0, 4.2, 1.5, '1', None),\n",
       " (63, 6.0, 2.2, 4.0, 1.0, '1', None),\n",
       " (64, 6.1, 2.9, 4.7, 1.4, '1', None),\n",
       " (65, 5.6, 2.9, 3.6, 1.3, '1', None),\n",
       " (66, 6.7, 3.1, 4.4, 1.4, '1', None),\n",
       " (67, 5.6, 3.0, 4.5, 1.5, '1', None),\n",
       " (68, 5.8, 2.7, 4.1, 1.0, '1', None),\n",
       " (69, 6.2, 2.2, 4.5, 1.5, '1', None),\n",
       " (70, 5.6, 2.5, 3.9, 1.1, '1', None),\n",
       " (71, 5.9, 3.2, 4.8, 1.8, '1', None),\n",
       " (72, 6.1, 2.8, 4.0, 1.3, '1', None),\n",
       " (73, 6.3, 2.5, 4.9, 1.5, '1', None),\n",
       " (74, 6.1, 2.8, 4.7, 1.2, '1', None),\n",
       " (75, 6.4, 2.9, 4.3, 1.3, '1', None),\n",
       " (76, 6.6, 3.0, 4.4, 1.4, '1', None),\n",
       " (77, 6.8, 2.8, 4.8, 1.4, '1', None),\n",
       " (78, 6.7, 3.0, 5.0, 1.7, '1', None),\n",
       " (79, 6.0, 2.9, 4.5, 1.5, '1', None),\n",
       " (80, 5.7, 2.6, 3.5, 1.0, '1', None),\n",
       " (81, 5.5, 2.4, 3.8, 1.1, '1', None),\n",
       " (82, 5.5, 2.4, 3.7, 1.0, '1', None),\n",
       " (83, 5.8, 2.7, 3.9, 1.2, '1', None),\n",
       " (84, 6.0, 2.7, 5.1, 1.6, '1', None),\n",
       " (85, 5.4, 3.0, 4.5, 1.5, '1', None),\n",
       " (86, 6.0, 3.4, 4.5, 1.6, '1', None),\n",
       " (87, 6.7, 3.1, 4.7, 1.5, '1', None),\n",
       " (88, 6.3, 2.3, 4.4, 1.3, '1', None),\n",
       " (89, 5.6, 3.0, 4.1, 1.3, '1', None),\n",
       " (90, 5.5, 2.5, 4.0, 1.3, '1', None),\n",
       " (91, 5.5, 2.6, 4.4, 1.2, '1', None),\n",
       " (92, 6.1, 3.0, 4.6, 1.4, '1', None),\n",
       " (93, 5.8, 2.6, 4.0, 1.2, '1', None),\n",
       " (94, 5.0, 2.3, 3.3, 1.0, '1', None),\n",
       " (95, 5.6, 2.7, 4.2, 1.3, '1', None),\n",
       " (96, 5.7, 3.0, 4.2, 1.2, '1', None),\n",
       " (97, 5.7, 2.9, 4.2, 1.3, '1', None),\n",
       " (98, 6.2, 2.9, 4.3, 1.3, '1', None),\n",
       " (99, 5.1, 2.5, 3.0, 1.1, '1', None),\n",
       " (100, 5.7, 2.8, 4.1, 1.3, '1', None),\n",
       " (101, 6.3, 3.3, 6.0, 2.5, '2', None),\n",
       " (102, 5.8, 2.7, 5.1, 1.9, '2', None),\n",
       " (103, 7.1, 3.0, 5.9, 2.1, '2', None),\n",
       " (104, 6.3, 2.9, 5.6, 1.8, '2', None),\n",
       " (105, 6.5, 3.0, 5.8, 2.2, '2', None),\n",
       " (106, 7.6, 3.0, 6.6, 2.1, '2', None),\n",
       " (107, 4.9, 2.5, 4.5, 1.7, '2', None),\n",
       " (108, 7.3, 2.9, 6.3, 1.8, '2', None),\n",
       " (109, 6.7, 2.5, 5.8, 1.8, '2', None),\n",
       " (110, 7.2, 3.6, 6.1, 2.5, '2', None),\n",
       " (111, 6.5, 3.2, 5.1, 2.0, '2', None),\n",
       " (112, 6.4, 2.7, 5.3, 1.9, '2', None),\n",
       " (113, 6.8, 3.0, 5.5, 2.1, '2', None),\n",
       " (114, 5.7, 2.5, 5.0, 2.0, '2', None),\n",
       " (115, 5.8, 2.8, 5.1, 2.4, '2', None),\n",
       " (116, 6.4, 3.2, 5.3, 2.3, '2', None),\n",
       " (117, 6.5, 3.0, 5.5, 1.8, '2', None),\n",
       " (118, 7.7, 3.8, 6.7, 2.2, '2', None),\n",
       " (119, 7.7, 2.6, 6.9, 2.3, '2', None),\n",
       " (120, 6.0, 2.2, 5.0, 1.5, '2', None),\n",
       " (121, 6.9, 3.2, 5.7, 2.3, '2', None),\n",
       " (122, 5.6, 2.8, 4.9, 2.0, '2', None),\n",
       " (123, 7.7, 2.8, 6.7, 2.0, '2', None),\n",
       " (124, 6.3, 2.7, 4.9, 1.8, '2', None),\n",
       " (125, 6.7, 3.3, 5.7, 2.1, '2', None),\n",
       " (126, 7.2, 3.2, 6.0, 1.8, '2', None),\n",
       " (127, 6.2, 2.8, 4.8, 1.8, '2', None),\n",
       " (128, 6.1, 3.0, 4.9, 1.8, '2', None),\n",
       " (129, 6.4, 2.8, 5.6, 2.1, '2', None),\n",
       " (130, 7.2, 3.0, 5.8, 1.6, '2', None),\n",
       " (131, 7.4, 2.8, 6.1, 1.9, '2', None),\n",
       " (132, 7.9, 3.8, 6.4, 2.0, '2', None),\n",
       " (133, 6.4, 2.8, 5.6, 2.2, '2', None),\n",
       " (134, 6.3, 2.8, 5.1, 1.5, '2', None),\n",
       " (135, 6.1, 2.6, 5.6, 1.4, '2', None),\n",
       " (136, 7.7, 3.0, 6.1, 2.3, '2', None),\n",
       " (137, 6.3, 3.4, 5.6, 2.4, '2', None),\n",
       " (138, 6.4, 3.1, 5.5, 1.8, '2', None),\n",
       " (139, 6.0, 3.0, 4.8, 1.8, '2', None),\n",
       " (140, 6.9, 3.1, 5.4, 2.1, '2', None),\n",
       " (141, 6.7, 3.1, 5.6, 2.4, '2', None),\n",
       " (142, 6.9, 3.1, 5.1, 2.3, '2', None),\n",
       " (143, 5.8, 2.7, 5.1, 1.9, '2', None),\n",
       " (144, 6.8, 3.2, 5.9, 2.3, '2', None),\n",
       " (145, 6.7, 3.3, 5.7, 2.5, '2', None),\n",
       " (146, 6.7, 3.0, 5.2, 2.3, '2', None),\n",
       " (147, 6.3, 2.5, 5.0, 1.9, '2', None),\n",
       " (148, 6.5, 3.0, 5.2, 2.0, '2', None),\n",
       " (149, 6.2, 3.4, 5.4, 2.3, '2', None),\n",
       " (150, 5.9, 3.0, 5.1, 1.8, '2', None))"
      ]
     },
     "execution_count": 41,
     "metadata": {},
     "output_type": "execute_result"
    }
   ],
   "source": [
    "query = \"\"\"\n",
    "        SELECT *\n",
    "        FROM main_table\n",
    "        WHERE NEW_COL IS NULL\n",
    "\"\"\"\n",
    "\n",
    "cursor.execute(query)\n",
    "cursor.fetchall()"
   ]
  },
  {
   "cell_type": "markdown",
   "metadata": {},
   "source": [
    "### Так нельзя"
   ]
  },
  {
   "cell_type": "code",
   "execution_count": 89,
   "metadata": {},
   "outputs": [
    {
     "data": {
      "text/plain": [
       "()"
      ]
     },
     "execution_count": 89,
     "metadata": {},
     "output_type": "execute_result"
    }
   ],
   "source": [
    "query = \"\"\"\n",
    "        SELECT *\n",
    "        FROM main_table\n",
    "        WHERE NEW_COL = NULL\n",
    "\"\"\"\n",
    "\n",
    "cursor.execute(query)\n",
    "cursor.fetchall()"
   ]
  },
  {
   "cell_type": "code",
   "execution_count": 90,
   "metadata": {},
   "outputs": [
    {
     "data": {
      "text/plain": [
       "()"
      ]
     },
     "execution_count": 90,
     "metadata": {},
     "output_type": "execute_result"
    }
   ],
   "source": [
    "query = \"\"\"\n",
    "        SELECT *\n",
    "        FROM main_table\n",
    "        WHERE NEW_COL IS NOT NULL\n",
    "\"\"\"\n",
    "\n",
    "cursor.execute(query)\n",
    "cursor.fetchall()"
   ]
  },
  {
   "cell_type": "markdown",
   "metadata": {},
   "source": [
    "### `DROP` - удаляет столбец"
   ]
  },
  {
   "cell_type": "markdown",
   "metadata": {},
   "source": [
    "SQLITE, в отличии от других СУБД, не поддерживает удаление столбцов"
   ]
  },
  {
   "cell_type": "code",
   "execution_count": 91,
   "metadata": {},
   "outputs": [
    {
     "data": {
      "text/plain": [
       "()"
      ]
     },
     "execution_count": 91,
     "metadata": {},
     "output_type": "execute_result"
    }
   ],
   "source": [
    "query = \"\"\"\n",
    "            ALTER TABLE main_table\n",
    "            DROP COLUMN NEW_COL\n",
    "        \"\"\"\n",
    "\n",
    "cursor.execute(query)\n",
    "cursor.fetchall()"
   ]
  },
  {
   "cell_type": "code",
   "execution_count": 92,
   "metadata": {},
   "outputs": [
    {
     "data": {
      "text/plain": [
       "((1, 5.1, 3.5, 1.4, 0.2, '0'),\n",
       " (2, 4.9, 3.0, 1.4, 0.2, '0'),\n",
       " (3, 4.7, 3.2, 1.3, 0.2, '0'),\n",
       " (4, 4.6, 3.1, 1.5, 0.2, '0'),\n",
       " (5, 5.0, 3.6, 1.4, 0.2, '0'),\n",
       " (6, 5.4, 3.9, 1.7, 0.4, '0'),\n",
       " (7, 4.6, 3.4, 1.4, 0.3, '0'),\n",
       " (8, 5.0, 3.4, 1.5, 0.2, '0'),\n",
       " (9, 4.4, 2.9, 1.4, 0.2, '0'),\n",
       " (10, 4.9, 3.1, 1.5, 0.1, '0'),\n",
       " (11, 5.4, 3.7, 1.5, 0.2, '0'),\n",
       " (12, 4.8, 3.4, 1.6, 0.2, '0'),\n",
       " (13, 4.8, 3.0, 1.4, 0.1, '0'),\n",
       " (14, 4.3, 3.0, 1.1, 0.1, '0'),\n",
       " (15, 5.8, 4.0, 1.2, 0.2, '0'),\n",
       " (16, 5.7, 4.4, 1.5, 0.4, '0'),\n",
       " (17, 5.4, 3.9, 1.3, 0.4, '0'),\n",
       " (18, 5.1, 3.5, 1.4, 0.3, '0'),\n",
       " (19, 5.7, 3.8, 1.7, 0.3, '0'),\n",
       " (20, 5.1, 3.8, 1.5, 0.3, '0'),\n",
       " (21, 5.4, 3.4, 1.7, 0.2, '0'),\n",
       " (22, 5.1, 3.7, 1.5, 0.4, '0'),\n",
       " (23, 4.6, 3.6, 1.0, 0.2, '0'),\n",
       " (24, 5.1, 3.3, 1.7, 0.5, '0'),\n",
       " (25, 4.8, 3.4, 1.9, 0.2, '0'),\n",
       " (26, 5.0, 3.0, 1.6, 0.2, '0'),\n",
       " (27, 5.0, 3.4, 1.6, 0.4, '0'),\n",
       " (28, 5.2, 3.5, 1.5, 0.2, '0'),\n",
       " (29, 5.2, 3.4, 1.4, 0.2, '0'),\n",
       " (30, 4.7, 3.2, 1.6, 0.2, '0'),\n",
       " (31, 4.8, 3.1, 1.6, 0.2, '0'),\n",
       " (32, 5.4, 3.4, 1.5, 0.4, '0'),\n",
       " (33, 5.2, 4.1, 1.5, 0.1, '0'),\n",
       " (34, 5.5, 4.2, 1.4, 0.2, '0'),\n",
       " (35, 4.9, 3.1, 1.5, 0.1, '0'),\n",
       " (36, 5.0, 3.2, 1.2, 0.2, '0'),\n",
       " (37, 5.5, 3.5, 1.3, 0.2, '0'),\n",
       " (38, 4.9, 3.1, 1.5, 0.1, '0'),\n",
       " (39, 4.4, 3.0, 1.3, 0.2, '0'),\n",
       " (40, 5.1, 3.4, 1.5, 0.2, '0'),\n",
       " (41, 5.0, 3.5, 1.3, 0.3, '0'),\n",
       " (42, 4.5, 2.3, 1.3, 0.3, '0'),\n",
       " (43, 4.4, 3.2, 1.3, 0.2, '0'),\n",
       " (44, 5.0, 3.5, 1.6, 0.6, '0'),\n",
       " (45, 5.1, 3.8, 1.9, 0.4, '0'),\n",
       " (46, 4.8, 3.0, 1.4, 0.3, '0'),\n",
       " (47, 5.1, 3.8, 1.6, 0.2, '0'),\n",
       " (48, 4.6, 3.2, 1.4, 0.2, '0'),\n",
       " (49, 5.3, 3.7, 1.5, 0.2, '0'),\n",
       " (50, 5.0, 3.3, 1.4, 0.2, '0'),\n",
       " (51, 7.0, 3.2, 4.7, 1.4, '1'),\n",
       " (52, 6.4, 3.2, 4.5, 1.5, '1'),\n",
       " (53, 6.9, 3.1, 4.9, 1.5, '1'),\n",
       " (54, 5.5, 2.3, 4.0, 1.3, '1'),\n",
       " (55, 6.5, 2.8, 4.6, 1.5, '1'),\n",
       " (56, 5.7, 2.8, 4.5, 1.3, '1'),\n",
       " (57, 6.3, 3.3, 4.7, 1.6, '1'),\n",
       " (58, 4.9, 2.4, 3.3, 1.0, '1'),\n",
       " (59, 6.6, 2.9, 4.6, 1.3, '1'),\n",
       " (60, 5.2, 2.7, 3.9, 1.4, '1'),\n",
       " (61, 5.0, 2.0, 3.5, 1.0, '1'),\n",
       " (62, 5.9, 3.0, 4.2, 1.5, '1'),\n",
       " (63, 6.0, 2.2, 4.0, 1.0, '1'),\n",
       " (64, 6.1, 2.9, 4.7, 1.4, '1'),\n",
       " (65, 5.6, 2.9, 3.6, 1.3, '1'),\n",
       " (66, 6.7, 3.1, 4.4, 1.4, '1'),\n",
       " (67, 5.6, 3.0, 4.5, 1.5, '1'),\n",
       " (68, 5.8, 2.7, 4.1, 1.0, '1'),\n",
       " (69, 6.2, 2.2, 4.5, 1.5, '1'),\n",
       " (70, 5.6, 2.5, 3.9, 1.1, '1'),\n",
       " (71, 5.9, 3.2, 4.8, 1.8, '1'),\n",
       " (72, 6.1, 2.8, 4.0, 1.3, '1'),\n",
       " (73, 6.3, 2.5, 4.9, 1.5, '1'),\n",
       " (74, 6.1, 2.8, 4.7, 1.2, '1'),\n",
       " (75, 6.4, 2.9, 4.3, 1.3, '1'),\n",
       " (76, 6.6, 3.0, 4.4, 1.4, '1'),\n",
       " (77, 6.8, 2.8, 4.8, 1.4, '1'),\n",
       " (78, 6.7, 3.0, 5.0, 1.7, '1'),\n",
       " (79, 6.0, 2.9, 4.5, 1.5, '1'),\n",
       " (80, 5.7, 2.6, 3.5, 1.0, '1'),\n",
       " (81, 5.5, 2.4, 3.8, 1.1, '1'),\n",
       " (82, 5.5, 2.4, 3.7, 1.0, '1'),\n",
       " (83, 5.8, 2.7, 3.9, 1.2, '1'),\n",
       " (84, 6.0, 2.7, 5.1, 1.6, '1'),\n",
       " (85, 5.4, 3.0, 4.5, 1.5, '1'),\n",
       " (86, 6.0, 3.4, 4.5, 1.6, '1'),\n",
       " (87, 6.7, 3.1, 4.7, 1.5, '1'),\n",
       " (88, 6.3, 2.3, 4.4, 1.3, '1'),\n",
       " (89, 5.6, 3.0, 4.1, 1.3, '1'),\n",
       " (90, 5.5, 2.5, 4.0, 1.3, '1'),\n",
       " (91, 5.5, 2.6, 4.4, 1.2, '1'),\n",
       " (92, 6.1, 3.0, 4.6, 1.4, '1'),\n",
       " (93, 5.8, 2.6, 4.0, 1.2, '1'),\n",
       " (94, 5.0, 2.3, 3.3, 1.0, '1'),\n",
       " (95, 5.6, 2.7, 4.2, 1.3, '1'),\n",
       " (96, 5.7, 3.0, 4.2, 1.2, '1'),\n",
       " (97, 5.7, 2.9, 4.2, 1.3, '1'),\n",
       " (98, 6.2, 2.9, 4.3, 1.3, '1'),\n",
       " (99, 5.1, 2.5, 3.0, 1.1, '1'),\n",
       " (100, 5.7, 2.8, 4.1, 1.3, '1'),\n",
       " (101, 6.3, 3.3, 6.0, 2.5, '2'),\n",
       " (102, 5.8, 2.7, 5.1, 1.9, '2'),\n",
       " (103, 7.1, 3.0, 5.9, 2.1, '2'),\n",
       " (104, 6.3, 2.9, 5.6, 1.8, '2'),\n",
       " (105, 6.5, 3.0, 5.8, 2.2, '2'),\n",
       " (106, 7.6, 3.0, 6.6, 2.1, '2'),\n",
       " (107, 4.9, 2.5, 4.5, 1.7, '2'),\n",
       " (108, 7.3, 2.9, 6.3, 1.8, '2'),\n",
       " (109, 6.7, 2.5, 5.8, 1.8, '2'),\n",
       " (110, 7.2, 3.6, 6.1, 2.5, '2'),\n",
       " (111, 6.5, 3.2, 5.1, 2.0, '2'),\n",
       " (112, 6.4, 2.7, 5.3, 1.9, '2'),\n",
       " (113, 6.8, 3.0, 5.5, 2.1, '2'),\n",
       " (114, 5.7, 2.5, 5.0, 2.0, '2'),\n",
       " (115, 5.8, 2.8, 5.1, 2.4, '2'),\n",
       " (116, 6.4, 3.2, 5.3, 2.3, '2'),\n",
       " (117, 6.5, 3.0, 5.5, 1.8, '2'),\n",
       " (118, 7.7, 3.8, 6.7, 2.2, '2'),\n",
       " (119, 7.7, 2.6, 6.9, 2.3, '2'),\n",
       " (120, 6.0, 2.2, 5.0, 1.5, '2'),\n",
       " (121, 6.9, 3.2, 5.7, 2.3, '2'),\n",
       " (122, 5.6, 2.8, 4.9, 2.0, '2'),\n",
       " (123, 7.7, 2.8, 6.7, 2.0, '2'),\n",
       " (124, 6.3, 2.7, 4.9, 1.8, '2'),\n",
       " (125, 6.7, 3.3, 5.7, 2.1, '2'),\n",
       " (126, 7.2, 3.2, 6.0, 1.8, '2'),\n",
       " (127, 6.2, 2.8, 4.8, 1.8, '2'),\n",
       " (128, 6.1, 3.0, 4.9, 1.8, '2'),\n",
       " (129, 6.4, 2.8, 5.6, 2.1, '2'),\n",
       " (130, 7.2, 3.0, 5.8, 1.6, '2'),\n",
       " (131, 7.4, 2.8, 6.1, 1.9, '2'),\n",
       " (132, 7.9, 3.8, 6.4, 2.0, '2'),\n",
       " (133, 6.4, 2.8, 5.6, 2.2, '2'),\n",
       " (134, 6.3, 2.8, 5.1, 1.5, '2'),\n",
       " (135, 6.1, 2.6, 5.6, 1.4, '2'),\n",
       " (136, 7.7, 3.0, 6.1, 2.3, '2'),\n",
       " (137, 6.3, 3.4, 5.6, 2.4, '2'),\n",
       " (138, 6.4, 3.1, 5.5, 1.8, '2'),\n",
       " (139, 6.0, 3.0, 4.8, 1.8, '2'),\n",
       " (140, 6.9, 3.1, 5.4, 2.1, '2'),\n",
       " (141, 6.7, 3.1, 5.6, 2.4, '2'),\n",
       " (142, 6.9, 3.1, 5.1, 2.3, '2'),\n",
       " (143, 5.8, 2.7, 5.1, 1.9, '2'),\n",
       " (144, 6.8, 3.2, 5.9, 2.3, '2'),\n",
       " (145, 6.7, 3.3, 5.7, 2.5, '2'),\n",
       " (146, 6.7, 3.0, 5.2, 2.3, '2'),\n",
       " (147, 6.3, 2.5, 5.0, 1.9, '2'),\n",
       " (148, 6.5, 3.0, 5.2, 2.0, '2'),\n",
       " (149, 6.2, 3.4, 5.4, 2.3, '2'),\n",
       " (150, 5.9, 3.0, 5.1, 1.8, '2'))"
      ]
     },
     "execution_count": 92,
     "metadata": {},
     "output_type": "execute_result"
    }
   ],
   "source": [
    "cursor.execute(query_select_all)\n",
    "cursor.fetchall()"
   ]
  },
  {
   "cell_type": "markdown",
   "metadata": {},
   "source": [
    "### `ALTER COLUMN` - изменяет столбец"
   ]
  },
  {
   "cell_type": "code",
   "execution_count": 47,
   "metadata": {},
   "outputs": [
    {
     "data": {
      "text/plain": [
       "()"
      ]
     },
     "execution_count": 47,
     "metadata": {},
     "output_type": "execute_result"
    }
   ],
   "source": [
    "query = \"\"\"\n",
    "            ALTER TABLE main_table\n",
    "            MODIFY class_name INT\n",
    "        \"\"\"\n",
    "\n",
    "cursor.execute(query)\n",
    "cursor.fetchall()"
   ]
  },
  {
   "cell_type": "code",
   "execution_count": 48,
   "metadata": {},
   "outputs": [
    {
     "data": {
      "text/plain": [
       "((1, 5.1, 3.5, 1.4, 0.2, 0),\n",
       " (2, 4.9, 3.0, 1.4, 0.2, 0),\n",
       " (3, 4.7, 3.2, 1.3, 0.2, 0),\n",
       " (4, 4.6, 3.1, 1.5, 0.2, 0),\n",
       " (5, 5.0, 3.6, 1.4, 0.2, 0),\n",
       " (6, 5.4, 3.9, 1.7, 0.4, 0),\n",
       " (7, 4.6, 3.4, 1.4, 0.3, 0),\n",
       " (8, 5.0, 3.4, 1.5, 0.2, 0),\n",
       " (9, 4.4, 2.9, 1.4, 0.2, 0),\n",
       " (10, 4.9, 3.1, 1.5, 0.1, 0),\n",
       " (11, 5.4, 3.7, 1.5, 0.2, 0),\n",
       " (12, 4.8, 3.4, 1.6, 0.2, 0),\n",
       " (13, 4.8, 3.0, 1.4, 0.1, 0),\n",
       " (14, 4.3, 3.0, 1.1, 0.1, 0),\n",
       " (15, 5.8, 4.0, 1.2, 0.2, 0),\n",
       " (16, 5.7, 4.4, 1.5, 0.4, 0),\n",
       " (17, 5.4, 3.9, 1.3, 0.4, 0),\n",
       " (18, 5.1, 3.5, 1.4, 0.3, 0),\n",
       " (19, 5.7, 3.8, 1.7, 0.3, 0),\n",
       " (20, 5.1, 3.8, 1.5, 0.3, 0),\n",
       " (21, 5.4, 3.4, 1.7, 0.2, 0),\n",
       " (22, 5.1, 3.7, 1.5, 0.4, 0),\n",
       " (23, 4.6, 3.6, 1.0, 0.2, 0),\n",
       " (24, 5.1, 3.3, 1.7, 0.5, 0),\n",
       " (25, 4.8, 3.4, 1.9, 0.2, 0),\n",
       " (26, 5.0, 3.0, 1.6, 0.2, 0),\n",
       " (27, 5.0, 3.4, 1.6, 0.4, 0),\n",
       " (28, 5.2, 3.5, 1.5, 0.2, 0),\n",
       " (29, 5.2, 3.4, 1.4, 0.2, 0),\n",
       " (30, 4.7, 3.2, 1.6, 0.2, 0),\n",
       " (31, 4.8, 3.1, 1.6, 0.2, 0),\n",
       " (32, 5.4, 3.4, 1.5, 0.4, 0),\n",
       " (33, 5.2, 4.1, 1.5, 0.1, 0),\n",
       " (34, 5.5, 4.2, 1.4, 0.2, 0),\n",
       " (35, 4.9, 3.1, 1.5, 0.1, 0),\n",
       " (36, 5.0, 3.2, 1.2, 0.2, 0),\n",
       " (37, 5.5, 3.5, 1.3, 0.2, 0),\n",
       " (38, 4.9, 3.1, 1.5, 0.1, 0),\n",
       " (39, 4.4, 3.0, 1.3, 0.2, 0),\n",
       " (40, 5.1, 3.4, 1.5, 0.2, 0),\n",
       " (41, 5.0, 3.5, 1.3, 0.3, 0),\n",
       " (42, 4.5, 2.3, 1.3, 0.3, 0),\n",
       " (43, 4.4, 3.2, 1.3, 0.2, 0),\n",
       " (44, 5.0, 3.5, 1.6, 0.6, 0),\n",
       " (45, 5.1, 3.8, 1.9, 0.4, 0),\n",
       " (46, 4.8, 3.0, 1.4, 0.3, 0),\n",
       " (47, 5.1, 3.8, 1.6, 0.2, 0),\n",
       " (48, 4.6, 3.2, 1.4, 0.2, 0),\n",
       " (49, 5.3, 3.7, 1.5, 0.2, 0),\n",
       " (50, 5.0, 3.3, 1.4, 0.2, 0),\n",
       " (51, 7.0, 3.2, 4.7, 1.4, 1),\n",
       " (52, 6.4, 3.2, 4.5, 1.5, 1),\n",
       " (53, 6.9, 3.1, 4.9, 1.5, 1),\n",
       " (54, 5.5, 2.3, 4.0, 1.3, 1),\n",
       " (55, 6.5, 2.8, 4.6, 1.5, 1),\n",
       " (56, 5.7, 2.8, 4.5, 1.3, 1),\n",
       " (57, 6.3, 3.3, 4.7, 1.6, 1),\n",
       " (58, 4.9, 2.4, 3.3, 1.0, 1),\n",
       " (59, 6.6, 2.9, 4.6, 1.3, 1),\n",
       " (60, 5.2, 2.7, 3.9, 1.4, 1),\n",
       " (61, 5.0, 2.0, 3.5, 1.0, 1),\n",
       " (62, 5.9, 3.0, 4.2, 1.5, 1),\n",
       " (63, 6.0, 2.2, 4.0, 1.0, 1),\n",
       " (64, 6.1, 2.9, 4.7, 1.4, 1),\n",
       " (65, 5.6, 2.9, 3.6, 1.3, 1),\n",
       " (66, 6.7, 3.1, 4.4, 1.4, 1),\n",
       " (67, 5.6, 3.0, 4.5, 1.5, 1),\n",
       " (68, 5.8, 2.7, 4.1, 1.0, 1),\n",
       " (69, 6.2, 2.2, 4.5, 1.5, 1),\n",
       " (70, 5.6, 2.5, 3.9, 1.1, 1),\n",
       " (71, 5.9, 3.2, 4.8, 1.8, 1),\n",
       " (72, 6.1, 2.8, 4.0, 1.3, 1),\n",
       " (73, 6.3, 2.5, 4.9, 1.5, 1),\n",
       " (74, 6.1, 2.8, 4.7, 1.2, 1),\n",
       " (75, 6.4, 2.9, 4.3, 1.3, 1),\n",
       " (76, 6.6, 3.0, 4.4, 1.4, 1),\n",
       " (77, 6.8, 2.8, 4.8, 1.4, 1),\n",
       " (78, 6.7, 3.0, 5.0, 1.7, 1),\n",
       " (79, 6.0, 2.9, 4.5, 1.5, 1),\n",
       " (80, 5.7, 2.6, 3.5, 1.0, 1),\n",
       " (81, 5.5, 2.4, 3.8, 1.1, 1),\n",
       " (82, 5.5, 2.4, 3.7, 1.0, 1),\n",
       " (83, 5.8, 2.7, 3.9, 1.2, 1),\n",
       " (84, 6.0, 2.7, 5.1, 1.6, 1),\n",
       " (85, 5.4, 3.0, 4.5, 1.5, 1),\n",
       " (86, 6.0, 3.4, 4.5, 1.6, 1),\n",
       " (87, 6.7, 3.1, 4.7, 1.5, 1),\n",
       " (88, 6.3, 2.3, 4.4, 1.3, 1),\n",
       " (89, 5.6, 3.0, 4.1, 1.3, 1),\n",
       " (90, 5.5, 2.5, 4.0, 1.3, 1),\n",
       " (91, 5.5, 2.6, 4.4, 1.2, 1),\n",
       " (92, 6.1, 3.0, 4.6, 1.4, 1),\n",
       " (93, 5.8, 2.6, 4.0, 1.2, 1),\n",
       " (94, 5.0, 2.3, 3.3, 1.0, 1),\n",
       " (95, 5.6, 2.7, 4.2, 1.3, 1),\n",
       " (96, 5.7, 3.0, 4.2, 1.2, 1),\n",
       " (97, 5.7, 2.9, 4.2, 1.3, 1),\n",
       " (98, 6.2, 2.9, 4.3, 1.3, 1),\n",
       " (99, 5.1, 2.5, 3.0, 1.1, 1),\n",
       " (100, 5.7, 2.8, 4.1, 1.3, 1),\n",
       " (101, 6.3, 3.3, 6.0, 2.5, 2),\n",
       " (102, 5.8, 2.7, 5.1, 1.9, 2),\n",
       " (103, 7.1, 3.0, 5.9, 2.1, 2),\n",
       " (104, 6.3, 2.9, 5.6, 1.8, 2),\n",
       " (105, 6.5, 3.0, 5.8, 2.2, 2),\n",
       " (106, 7.6, 3.0, 6.6, 2.1, 2),\n",
       " (107, 4.9, 2.5, 4.5, 1.7, 2),\n",
       " (108, 7.3, 2.9, 6.3, 1.8, 2),\n",
       " (109, 6.7, 2.5, 5.8, 1.8, 2),\n",
       " (110, 7.2, 3.6, 6.1, 2.5, 2),\n",
       " (111, 6.5, 3.2, 5.1, 2.0, 2),\n",
       " (112, 6.4, 2.7, 5.3, 1.9, 2),\n",
       " (113, 6.8, 3.0, 5.5, 2.1, 2),\n",
       " (114, 5.7, 2.5, 5.0, 2.0, 2),\n",
       " (115, 5.8, 2.8, 5.1, 2.4, 2),\n",
       " (116, 6.4, 3.2, 5.3, 2.3, 2),\n",
       " (117, 6.5, 3.0, 5.5, 1.8, 2),\n",
       " (118, 7.7, 3.8, 6.7, 2.2, 2),\n",
       " (119, 7.7, 2.6, 6.9, 2.3, 2),\n",
       " (120, 6.0, 2.2, 5.0, 1.5, 2),\n",
       " (121, 6.9, 3.2, 5.7, 2.3, 2),\n",
       " (122, 5.6, 2.8, 4.9, 2.0, 2),\n",
       " (123, 7.7, 2.8, 6.7, 2.0, 2),\n",
       " (124, 6.3, 2.7, 4.9, 1.8, 2),\n",
       " (125, 6.7, 3.3, 5.7, 2.1, 2),\n",
       " (126, 7.2, 3.2, 6.0, 1.8, 2),\n",
       " (127, 6.2, 2.8, 4.8, 1.8, 2),\n",
       " (128, 6.1, 3.0, 4.9, 1.8, 2),\n",
       " (129, 6.4, 2.8, 5.6, 2.1, 2),\n",
       " (130, 7.2, 3.0, 5.8, 1.6, 2),\n",
       " (131, 7.4, 2.8, 6.1, 1.9, 2),\n",
       " (132, 7.9, 3.8, 6.4, 2.0, 2),\n",
       " (133, 6.4, 2.8, 5.6, 2.2, 2),\n",
       " (134, 6.3, 2.8, 5.1, 1.5, 2),\n",
       " (135, 6.1, 2.6, 5.6, 1.4, 2),\n",
       " (136, 7.7, 3.0, 6.1, 2.3, 2),\n",
       " (137, 6.3, 3.4, 5.6, 2.4, 2),\n",
       " (138, 6.4, 3.1, 5.5, 1.8, 2),\n",
       " (139, 6.0, 3.0, 4.8, 1.8, 2),\n",
       " (140, 6.9, 3.1, 5.4, 2.1, 2),\n",
       " (141, 6.7, 3.1, 5.6, 2.4, 2),\n",
       " (142, 6.9, 3.1, 5.1, 2.3, 2),\n",
       " (143, 5.8, 2.7, 5.1, 1.9, 2),\n",
       " (144, 6.8, 3.2, 5.9, 2.3, 2),\n",
       " (145, 6.7, 3.3, 5.7, 2.5, 2),\n",
       " (146, 6.7, 3.0, 5.2, 2.3, 2),\n",
       " (147, 6.3, 2.5, 5.0, 1.9, 2),\n",
       " (148, 6.5, 3.0, 5.2, 2.0, 2),\n",
       " (149, 6.2, 3.4, 5.4, 2.3, 2),\n",
       " (150, 5.9, 3.0, 5.1, 1.8, 2))"
      ]
     },
     "execution_count": 48,
     "metadata": {},
     "output_type": "execute_result"
    }
   ],
   "source": [
    "cursor.execute(query_select_all)\n",
    "cursor.fetchall()"
   ]
  },
  {
   "cell_type": "markdown",
   "metadata": {},
   "source": [
    "### `DROP TABLE` - удаляет таблицу"
   ]
  },
  {
   "cell_type": "code",
   "execution_count": 93,
   "metadata": {},
   "outputs": [
    {
     "data": {
      "text/plain": [
       "()"
      ]
     },
     "execution_count": 93,
     "metadata": {},
     "output_type": "execute_result"
    }
   ],
   "source": [
    "query = \"\"\"\n",
    "            DROP TABLE main_table;\n",
    "        \"\"\"\n",
    "\n",
    "cursor.execute(query)\n",
    "cursor.fetchall()"
   ]
  },
  {
   "cell_type": "markdown",
   "metadata": {},
   "source": [
    "### Нельзя удалить несуществующую таблицу"
   ]
  },
  {
   "cell_type": "code",
   "execution_count": 94,
   "metadata": {
    "scrolled": true
   },
   "outputs": [
    {
     "ename": "InternalError",
     "evalue": "(1051, \"Unknown table 'nordicDB.main_table'\")",
     "output_type": "error",
     "traceback": [
      "\u001b[1;31m---------------------------------------------------------------------------\u001b[0m",
      "\u001b[1;31mInternalError\u001b[0m                             Traceback (most recent call last)",
      "\u001b[1;32m<ipython-input-94-8da64d5520db>\u001b[0m in \u001b[0;36m<module>\u001b[1;34m()\u001b[0m\n\u001b[0;32m      3\u001b[0m         \"\"\"\n\u001b[0;32m      4\u001b[0m \u001b[1;33m\u001b[0m\u001b[0m\n\u001b[1;32m----> 5\u001b[1;33m \u001b[0mcursor\u001b[0m\u001b[1;33m.\u001b[0m\u001b[0mexecute\u001b[0m\u001b[1;33m(\u001b[0m\u001b[0mquery\u001b[0m\u001b[1;33m)\u001b[0m\u001b[1;33m\u001b[0m\u001b[0m\n\u001b[0m\u001b[0;32m      6\u001b[0m \u001b[0mcursor\u001b[0m\u001b[1;33m.\u001b[0m\u001b[0mfetchall\u001b[0m\u001b[1;33m(\u001b[0m\u001b[1;33m)\u001b[0m\u001b[1;33m\u001b[0m\u001b[0m\n",
      "\u001b[1;32mC:\\ProgramData\\Anaconda3\\lib\\site-packages\\pymysql\\cursors.py\u001b[0m in \u001b[0;36mexecute\u001b[1;34m(self, query, args)\u001b[0m\n\u001b[0;32m    168\u001b[0m         \u001b[0mquery\u001b[0m \u001b[1;33m=\u001b[0m \u001b[0mself\u001b[0m\u001b[1;33m.\u001b[0m\u001b[0mmogrify\u001b[0m\u001b[1;33m(\u001b[0m\u001b[0mquery\u001b[0m\u001b[1;33m,\u001b[0m \u001b[0margs\u001b[0m\u001b[1;33m)\u001b[0m\u001b[1;33m\u001b[0m\u001b[0m\n\u001b[0;32m    169\u001b[0m \u001b[1;33m\u001b[0m\u001b[0m\n\u001b[1;32m--> 170\u001b[1;33m         \u001b[0mresult\u001b[0m \u001b[1;33m=\u001b[0m \u001b[0mself\u001b[0m\u001b[1;33m.\u001b[0m\u001b[0m_query\u001b[0m\u001b[1;33m(\u001b[0m\u001b[0mquery\u001b[0m\u001b[1;33m)\u001b[0m\u001b[1;33m\u001b[0m\u001b[0m\n\u001b[0m\u001b[0;32m    171\u001b[0m         \u001b[0mself\u001b[0m\u001b[1;33m.\u001b[0m\u001b[0m_executed\u001b[0m \u001b[1;33m=\u001b[0m \u001b[0mquery\u001b[0m\u001b[1;33m\u001b[0m\u001b[0m\n\u001b[0;32m    172\u001b[0m         \u001b[1;32mreturn\u001b[0m \u001b[0mresult\u001b[0m\u001b[1;33m\u001b[0m\u001b[0m\n",
      "\u001b[1;32mC:\\ProgramData\\Anaconda3\\lib\\site-packages\\pymysql\\cursors.py\u001b[0m in \u001b[0;36m_query\u001b[1;34m(self, q)\u001b[0m\n\u001b[0;32m    326\u001b[0m         \u001b[0mself\u001b[0m\u001b[1;33m.\u001b[0m\u001b[0m_last_executed\u001b[0m \u001b[1;33m=\u001b[0m \u001b[0mq\u001b[0m\u001b[1;33m\u001b[0m\u001b[0m\n\u001b[0;32m    327\u001b[0m         \u001b[0mself\u001b[0m\u001b[1;33m.\u001b[0m\u001b[0m_clear_result\u001b[0m\u001b[1;33m(\u001b[0m\u001b[1;33m)\u001b[0m\u001b[1;33m\u001b[0m\u001b[0m\n\u001b[1;32m--> 328\u001b[1;33m         \u001b[0mconn\u001b[0m\u001b[1;33m.\u001b[0m\u001b[0mquery\u001b[0m\u001b[1;33m(\u001b[0m\u001b[0mq\u001b[0m\u001b[1;33m)\u001b[0m\u001b[1;33m\u001b[0m\u001b[0m\n\u001b[0m\u001b[0;32m    329\u001b[0m         \u001b[0mself\u001b[0m\u001b[1;33m.\u001b[0m\u001b[0m_do_get_result\u001b[0m\u001b[1;33m(\u001b[0m\u001b[1;33m)\u001b[0m\u001b[1;33m\u001b[0m\u001b[0m\n\u001b[0;32m    330\u001b[0m         \u001b[1;32mreturn\u001b[0m \u001b[0mself\u001b[0m\u001b[1;33m.\u001b[0m\u001b[0mrowcount\u001b[0m\u001b[1;33m\u001b[0m\u001b[0m\n",
      "\u001b[1;32mC:\\ProgramData\\Anaconda3\\lib\\site-packages\\pymysql\\connections.py\u001b[0m in \u001b[0;36mquery\u001b[1;34m(self, sql, unbuffered)\u001b[0m\n\u001b[0;32m    515\u001b[0m                 \u001b[0msql\u001b[0m \u001b[1;33m=\u001b[0m \u001b[0msql\u001b[0m\u001b[1;33m.\u001b[0m\u001b[0mencode\u001b[0m\u001b[1;33m(\u001b[0m\u001b[0mself\u001b[0m\u001b[1;33m.\u001b[0m\u001b[0mencoding\u001b[0m\u001b[1;33m,\u001b[0m \u001b[1;34m'surrogateescape'\u001b[0m\u001b[1;33m)\u001b[0m\u001b[1;33m\u001b[0m\u001b[0m\n\u001b[0;32m    516\u001b[0m         \u001b[0mself\u001b[0m\u001b[1;33m.\u001b[0m\u001b[0m_execute_command\u001b[0m\u001b[1;33m(\u001b[0m\u001b[0mCOMMAND\u001b[0m\u001b[1;33m.\u001b[0m\u001b[0mCOM_QUERY\u001b[0m\u001b[1;33m,\u001b[0m \u001b[0msql\u001b[0m\u001b[1;33m)\u001b[0m\u001b[1;33m\u001b[0m\u001b[0m\n\u001b[1;32m--> 517\u001b[1;33m         \u001b[0mself\u001b[0m\u001b[1;33m.\u001b[0m\u001b[0m_affected_rows\u001b[0m \u001b[1;33m=\u001b[0m \u001b[0mself\u001b[0m\u001b[1;33m.\u001b[0m\u001b[0m_read_query_result\u001b[0m\u001b[1;33m(\u001b[0m\u001b[0munbuffered\u001b[0m\u001b[1;33m=\u001b[0m\u001b[0munbuffered\u001b[0m\u001b[1;33m)\u001b[0m\u001b[1;33m\u001b[0m\u001b[0m\n\u001b[0m\u001b[0;32m    518\u001b[0m         \u001b[1;32mreturn\u001b[0m \u001b[0mself\u001b[0m\u001b[1;33m.\u001b[0m\u001b[0m_affected_rows\u001b[0m\u001b[1;33m\u001b[0m\u001b[0m\n\u001b[0;32m    519\u001b[0m \u001b[1;33m\u001b[0m\u001b[0m\n",
      "\u001b[1;32mC:\\ProgramData\\Anaconda3\\lib\\site-packages\\pymysql\\connections.py\u001b[0m in \u001b[0;36m_read_query_result\u001b[1;34m(self, unbuffered)\u001b[0m\n\u001b[0;32m    730\u001b[0m         \u001b[1;32melse\u001b[0m\u001b[1;33m:\u001b[0m\u001b[1;33m\u001b[0m\u001b[0m\n\u001b[0;32m    731\u001b[0m             \u001b[0mresult\u001b[0m \u001b[1;33m=\u001b[0m \u001b[0mMySQLResult\u001b[0m\u001b[1;33m(\u001b[0m\u001b[0mself\u001b[0m\u001b[1;33m)\u001b[0m\u001b[1;33m\u001b[0m\u001b[0m\n\u001b[1;32m--> 732\u001b[1;33m             \u001b[0mresult\u001b[0m\u001b[1;33m.\u001b[0m\u001b[0mread\u001b[0m\u001b[1;33m(\u001b[0m\u001b[1;33m)\u001b[0m\u001b[1;33m\u001b[0m\u001b[0m\n\u001b[0m\u001b[0;32m    733\u001b[0m         \u001b[0mself\u001b[0m\u001b[1;33m.\u001b[0m\u001b[0m_result\u001b[0m \u001b[1;33m=\u001b[0m \u001b[0mresult\u001b[0m\u001b[1;33m\u001b[0m\u001b[0m\n\u001b[0;32m    734\u001b[0m         \u001b[1;32mif\u001b[0m \u001b[0mresult\u001b[0m\u001b[1;33m.\u001b[0m\u001b[0mserver_status\u001b[0m \u001b[1;32mis\u001b[0m \u001b[1;32mnot\u001b[0m \u001b[1;32mNone\u001b[0m\u001b[1;33m:\u001b[0m\u001b[1;33m\u001b[0m\u001b[0m\n",
      "\u001b[1;32mC:\\ProgramData\\Anaconda3\\lib\\site-packages\\pymysql\\connections.py\u001b[0m in \u001b[0;36mread\u001b[1;34m(self)\u001b[0m\n\u001b[0;32m   1073\u001b[0m     \u001b[1;32mdef\u001b[0m \u001b[0mread\u001b[0m\u001b[1;33m(\u001b[0m\u001b[0mself\u001b[0m\u001b[1;33m)\u001b[0m\u001b[1;33m:\u001b[0m\u001b[1;33m\u001b[0m\u001b[0m\n\u001b[0;32m   1074\u001b[0m         \u001b[1;32mtry\u001b[0m\u001b[1;33m:\u001b[0m\u001b[1;33m\u001b[0m\u001b[0m\n\u001b[1;32m-> 1075\u001b[1;33m             \u001b[0mfirst_packet\u001b[0m \u001b[1;33m=\u001b[0m \u001b[0mself\u001b[0m\u001b[1;33m.\u001b[0m\u001b[0mconnection\u001b[0m\u001b[1;33m.\u001b[0m\u001b[0m_read_packet\u001b[0m\u001b[1;33m(\u001b[0m\u001b[1;33m)\u001b[0m\u001b[1;33m\u001b[0m\u001b[0m\n\u001b[0m\u001b[0;32m   1076\u001b[0m \u001b[1;33m\u001b[0m\u001b[0m\n\u001b[0;32m   1077\u001b[0m             \u001b[1;32mif\u001b[0m \u001b[0mfirst_packet\u001b[0m\u001b[1;33m.\u001b[0m\u001b[0mis_ok_packet\u001b[0m\u001b[1;33m(\u001b[0m\u001b[1;33m)\u001b[0m\u001b[1;33m:\u001b[0m\u001b[1;33m\u001b[0m\u001b[0m\n",
      "\u001b[1;32mC:\\ProgramData\\Anaconda3\\lib\\site-packages\\pymysql\\connections.py\u001b[0m in \u001b[0;36m_read_packet\u001b[1;34m(self, packet_type)\u001b[0m\n\u001b[0;32m    682\u001b[0m \u001b[1;33m\u001b[0m\u001b[0m\n\u001b[0;32m    683\u001b[0m         \u001b[0mpacket\u001b[0m \u001b[1;33m=\u001b[0m \u001b[0mpacket_type\u001b[0m\u001b[1;33m(\u001b[0m\u001b[0mbuff\u001b[0m\u001b[1;33m,\u001b[0m \u001b[0mself\u001b[0m\u001b[1;33m.\u001b[0m\u001b[0mencoding\u001b[0m\u001b[1;33m)\u001b[0m\u001b[1;33m\u001b[0m\u001b[0m\n\u001b[1;32m--> 684\u001b[1;33m         \u001b[0mpacket\u001b[0m\u001b[1;33m.\u001b[0m\u001b[0mcheck_error\u001b[0m\u001b[1;33m(\u001b[0m\u001b[1;33m)\u001b[0m\u001b[1;33m\u001b[0m\u001b[0m\n\u001b[0m\u001b[0;32m    685\u001b[0m         \u001b[1;32mreturn\u001b[0m \u001b[0mpacket\u001b[0m\u001b[1;33m\u001b[0m\u001b[0m\n\u001b[0;32m    686\u001b[0m \u001b[1;33m\u001b[0m\u001b[0m\n",
      "\u001b[1;32mC:\\ProgramData\\Anaconda3\\lib\\site-packages\\pymysql\\protocol.py\u001b[0m in \u001b[0;36mcheck_error\u001b[1;34m(self)\u001b[0m\n\u001b[0;32m    218\u001b[0m             \u001b[0merrno\u001b[0m \u001b[1;33m=\u001b[0m \u001b[0mself\u001b[0m\u001b[1;33m.\u001b[0m\u001b[0mread_uint16\u001b[0m\u001b[1;33m(\u001b[0m\u001b[1;33m)\u001b[0m\u001b[1;33m\u001b[0m\u001b[0m\n\u001b[0;32m    219\u001b[0m             \u001b[1;32mif\u001b[0m \u001b[0mDEBUG\u001b[0m\u001b[1;33m:\u001b[0m \u001b[0mprint\u001b[0m\u001b[1;33m(\u001b[0m\u001b[1;34m\"errno =\"\u001b[0m\u001b[1;33m,\u001b[0m \u001b[0merrno\u001b[0m\u001b[1;33m)\u001b[0m\u001b[1;33m\u001b[0m\u001b[0m\n\u001b[1;32m--> 220\u001b[1;33m             \u001b[0merr\u001b[0m\u001b[1;33m.\u001b[0m\u001b[0mraise_mysql_exception\u001b[0m\u001b[1;33m(\u001b[0m\u001b[0mself\u001b[0m\u001b[1;33m.\u001b[0m\u001b[0m_data\u001b[0m\u001b[1;33m)\u001b[0m\u001b[1;33m\u001b[0m\u001b[0m\n\u001b[0m\u001b[0;32m    221\u001b[0m \u001b[1;33m\u001b[0m\u001b[0m\n\u001b[0;32m    222\u001b[0m     \u001b[1;32mdef\u001b[0m \u001b[0mdump\u001b[0m\u001b[1;33m(\u001b[0m\u001b[0mself\u001b[0m\u001b[1;33m)\u001b[0m\u001b[1;33m:\u001b[0m\u001b[1;33m\u001b[0m\u001b[0m\n",
      "\u001b[1;32mC:\\ProgramData\\Anaconda3\\lib\\site-packages\\pymysql\\err.py\u001b[0m in \u001b[0;36mraise_mysql_exception\u001b[1;34m(data)\u001b[0m\n\u001b[0;32m    107\u001b[0m         \u001b[0merrval\u001b[0m \u001b[1;33m=\u001b[0m \u001b[0mdata\u001b[0m\u001b[1;33m[\u001b[0m\u001b[1;36m3\u001b[0m\u001b[1;33m:\u001b[0m\u001b[1;33m]\u001b[0m\u001b[1;33m.\u001b[0m\u001b[0mdecode\u001b[0m\u001b[1;33m(\u001b[0m\u001b[1;34m'utf-8'\u001b[0m\u001b[1;33m,\u001b[0m \u001b[1;34m'replace'\u001b[0m\u001b[1;33m)\u001b[0m\u001b[1;33m\u001b[0m\u001b[0m\n\u001b[0;32m    108\u001b[0m     \u001b[0merrorclass\u001b[0m \u001b[1;33m=\u001b[0m \u001b[0merror_map\u001b[0m\u001b[1;33m.\u001b[0m\u001b[0mget\u001b[0m\u001b[1;33m(\u001b[0m\u001b[0merrno\u001b[0m\u001b[1;33m,\u001b[0m \u001b[0mInternalError\u001b[0m\u001b[1;33m)\u001b[0m\u001b[1;33m\u001b[0m\u001b[0m\n\u001b[1;32m--> 109\u001b[1;33m     \u001b[1;32mraise\u001b[0m \u001b[0merrorclass\u001b[0m\u001b[1;33m(\u001b[0m\u001b[0merrno\u001b[0m\u001b[1;33m,\u001b[0m \u001b[0merrval\u001b[0m\u001b[1;33m)\u001b[0m\u001b[1;33m\u001b[0m\u001b[0m\n\u001b[0m",
      "\u001b[1;31mInternalError\u001b[0m: (1051, \"Unknown table 'nordicDB.main_table'\")"
     ]
    }
   ],
   "source": [
    "query = \"\"\"\n",
    "            DROP TABLE main_table\n",
    "        \"\"\"\n",
    "\n",
    "cursor.execute(query)\n",
    "cursor.fetchall()"
   ]
  },
  {
   "cell_type": "markdown",
   "metadata": {},
   "source": [
    "### Для избежания ошибки применяется следующее выражение"
   ]
  },
  {
   "cell_type": "code",
   "execution_count": 51,
   "metadata": {},
   "outputs": [
    {
     "name": "stderr",
     "output_type": "stream",
     "text": [
      "C:\\ProgramData\\Anaconda3\\lib\\site-packages\\pymysql\\cursors.py:170: Warning: (1051, \"Unknown table 'nordicDB.main_table'\")\n",
      "  result = self._query(query)\n"
     ]
    },
    {
     "data": {
      "text/plain": [
       "()"
      ]
     },
     "execution_count": 51,
     "metadata": {},
     "output_type": "execute_result"
    }
   ],
   "source": [
    "query = \"\"\"\n",
    "            DROP TABLE IF EXISTS main_table\n",
    "        \"\"\"\n",
    "\n",
    "cursor.execute(query)\n",
    "cursor.fetchall()"
   ]
  },
  {
   "cell_type": "markdown",
   "metadata": {},
   "source": [
    "### `TRUNCATE TABLE` - так же удаляет таблицу вместе с данными"
   ]
  },
  {
   "cell_type": "code",
   "execution_count": 95,
   "metadata": {},
   "outputs": [
    {
     "data": {
      "text/plain": [
       "()"
      ]
     },
     "execution_count": 95,
     "metadata": {},
     "output_type": "execute_result"
    }
   ],
   "source": [
    "query = \"\"\"\n",
    "            TRUNCATE TABLE sort_decod\n",
    "        \"\"\"\n",
    "\n",
    "cursor.execute(query)\n",
    "cursor.fetchall()"
   ]
  },
  {
   "cell_type": "code",
   "execution_count": 96,
   "metadata": {
    "scrolled": true
   },
   "outputs": [
    {
     "ename": "ProgrammingError",
     "evalue": "(1146, \"Table 'nordicDB.sort_decode' doesn't exist\")",
     "output_type": "error",
     "traceback": [
      "\u001b[1;31m---------------------------------------------------------------------------\u001b[0m",
      "\u001b[1;31mProgrammingError\u001b[0m                          Traceback (most recent call last)",
      "\u001b[1;32m<ipython-input-96-cfbf6a7b9338>\u001b[0m in \u001b[0;36m<module>\u001b[1;34m()\u001b[0m\n\u001b[1;32m----> 1\u001b[1;33m \u001b[0mcursor\u001b[0m\u001b[1;33m.\u001b[0m\u001b[0mexecute\u001b[0m\u001b[1;33m(\u001b[0m\u001b[1;34m\"SELECT * FROM sort_decode\"\u001b[0m\u001b[1;33m)\u001b[0m\u001b[1;33m\u001b[0m\u001b[0m\n\u001b[0m\u001b[0;32m      2\u001b[0m \u001b[0mcursor\u001b[0m\u001b[1;33m.\u001b[0m\u001b[0mfetchall\u001b[0m\u001b[1;33m(\u001b[0m\u001b[1;33m)\u001b[0m\u001b[1;33m\u001b[0m\u001b[0m\n",
      "\u001b[1;32mC:\\ProgramData\\Anaconda3\\lib\\site-packages\\pymysql\\cursors.py\u001b[0m in \u001b[0;36mexecute\u001b[1;34m(self, query, args)\u001b[0m\n\u001b[0;32m    168\u001b[0m         \u001b[0mquery\u001b[0m \u001b[1;33m=\u001b[0m \u001b[0mself\u001b[0m\u001b[1;33m.\u001b[0m\u001b[0mmogrify\u001b[0m\u001b[1;33m(\u001b[0m\u001b[0mquery\u001b[0m\u001b[1;33m,\u001b[0m \u001b[0margs\u001b[0m\u001b[1;33m)\u001b[0m\u001b[1;33m\u001b[0m\u001b[0m\n\u001b[0;32m    169\u001b[0m \u001b[1;33m\u001b[0m\u001b[0m\n\u001b[1;32m--> 170\u001b[1;33m         \u001b[0mresult\u001b[0m \u001b[1;33m=\u001b[0m \u001b[0mself\u001b[0m\u001b[1;33m.\u001b[0m\u001b[0m_query\u001b[0m\u001b[1;33m(\u001b[0m\u001b[0mquery\u001b[0m\u001b[1;33m)\u001b[0m\u001b[1;33m\u001b[0m\u001b[0m\n\u001b[0m\u001b[0;32m    171\u001b[0m         \u001b[0mself\u001b[0m\u001b[1;33m.\u001b[0m\u001b[0m_executed\u001b[0m \u001b[1;33m=\u001b[0m \u001b[0mquery\u001b[0m\u001b[1;33m\u001b[0m\u001b[0m\n\u001b[0;32m    172\u001b[0m         \u001b[1;32mreturn\u001b[0m \u001b[0mresult\u001b[0m\u001b[1;33m\u001b[0m\u001b[0m\n",
      "\u001b[1;32mC:\\ProgramData\\Anaconda3\\lib\\site-packages\\pymysql\\cursors.py\u001b[0m in \u001b[0;36m_query\u001b[1;34m(self, q)\u001b[0m\n\u001b[0;32m    326\u001b[0m         \u001b[0mself\u001b[0m\u001b[1;33m.\u001b[0m\u001b[0m_last_executed\u001b[0m \u001b[1;33m=\u001b[0m \u001b[0mq\u001b[0m\u001b[1;33m\u001b[0m\u001b[0m\n\u001b[0;32m    327\u001b[0m         \u001b[0mself\u001b[0m\u001b[1;33m.\u001b[0m\u001b[0m_clear_result\u001b[0m\u001b[1;33m(\u001b[0m\u001b[1;33m)\u001b[0m\u001b[1;33m\u001b[0m\u001b[0m\n\u001b[1;32m--> 328\u001b[1;33m         \u001b[0mconn\u001b[0m\u001b[1;33m.\u001b[0m\u001b[0mquery\u001b[0m\u001b[1;33m(\u001b[0m\u001b[0mq\u001b[0m\u001b[1;33m)\u001b[0m\u001b[1;33m\u001b[0m\u001b[0m\n\u001b[0m\u001b[0;32m    329\u001b[0m         \u001b[0mself\u001b[0m\u001b[1;33m.\u001b[0m\u001b[0m_do_get_result\u001b[0m\u001b[1;33m(\u001b[0m\u001b[1;33m)\u001b[0m\u001b[1;33m\u001b[0m\u001b[0m\n\u001b[0;32m    330\u001b[0m         \u001b[1;32mreturn\u001b[0m \u001b[0mself\u001b[0m\u001b[1;33m.\u001b[0m\u001b[0mrowcount\u001b[0m\u001b[1;33m\u001b[0m\u001b[0m\n",
      "\u001b[1;32mC:\\ProgramData\\Anaconda3\\lib\\site-packages\\pymysql\\connections.py\u001b[0m in \u001b[0;36mquery\u001b[1;34m(self, sql, unbuffered)\u001b[0m\n\u001b[0;32m    515\u001b[0m                 \u001b[0msql\u001b[0m \u001b[1;33m=\u001b[0m \u001b[0msql\u001b[0m\u001b[1;33m.\u001b[0m\u001b[0mencode\u001b[0m\u001b[1;33m(\u001b[0m\u001b[0mself\u001b[0m\u001b[1;33m.\u001b[0m\u001b[0mencoding\u001b[0m\u001b[1;33m,\u001b[0m \u001b[1;34m'surrogateescape'\u001b[0m\u001b[1;33m)\u001b[0m\u001b[1;33m\u001b[0m\u001b[0m\n\u001b[0;32m    516\u001b[0m         \u001b[0mself\u001b[0m\u001b[1;33m.\u001b[0m\u001b[0m_execute_command\u001b[0m\u001b[1;33m(\u001b[0m\u001b[0mCOMMAND\u001b[0m\u001b[1;33m.\u001b[0m\u001b[0mCOM_QUERY\u001b[0m\u001b[1;33m,\u001b[0m \u001b[0msql\u001b[0m\u001b[1;33m)\u001b[0m\u001b[1;33m\u001b[0m\u001b[0m\n\u001b[1;32m--> 517\u001b[1;33m         \u001b[0mself\u001b[0m\u001b[1;33m.\u001b[0m\u001b[0m_affected_rows\u001b[0m \u001b[1;33m=\u001b[0m \u001b[0mself\u001b[0m\u001b[1;33m.\u001b[0m\u001b[0m_read_query_result\u001b[0m\u001b[1;33m(\u001b[0m\u001b[0munbuffered\u001b[0m\u001b[1;33m=\u001b[0m\u001b[0munbuffered\u001b[0m\u001b[1;33m)\u001b[0m\u001b[1;33m\u001b[0m\u001b[0m\n\u001b[0m\u001b[0;32m    518\u001b[0m         \u001b[1;32mreturn\u001b[0m \u001b[0mself\u001b[0m\u001b[1;33m.\u001b[0m\u001b[0m_affected_rows\u001b[0m\u001b[1;33m\u001b[0m\u001b[0m\n\u001b[0;32m    519\u001b[0m \u001b[1;33m\u001b[0m\u001b[0m\n",
      "\u001b[1;32mC:\\ProgramData\\Anaconda3\\lib\\site-packages\\pymysql\\connections.py\u001b[0m in \u001b[0;36m_read_query_result\u001b[1;34m(self, unbuffered)\u001b[0m\n\u001b[0;32m    730\u001b[0m         \u001b[1;32melse\u001b[0m\u001b[1;33m:\u001b[0m\u001b[1;33m\u001b[0m\u001b[0m\n\u001b[0;32m    731\u001b[0m             \u001b[0mresult\u001b[0m \u001b[1;33m=\u001b[0m \u001b[0mMySQLResult\u001b[0m\u001b[1;33m(\u001b[0m\u001b[0mself\u001b[0m\u001b[1;33m)\u001b[0m\u001b[1;33m\u001b[0m\u001b[0m\n\u001b[1;32m--> 732\u001b[1;33m             \u001b[0mresult\u001b[0m\u001b[1;33m.\u001b[0m\u001b[0mread\u001b[0m\u001b[1;33m(\u001b[0m\u001b[1;33m)\u001b[0m\u001b[1;33m\u001b[0m\u001b[0m\n\u001b[0m\u001b[0;32m    733\u001b[0m         \u001b[0mself\u001b[0m\u001b[1;33m.\u001b[0m\u001b[0m_result\u001b[0m \u001b[1;33m=\u001b[0m \u001b[0mresult\u001b[0m\u001b[1;33m\u001b[0m\u001b[0m\n\u001b[0;32m    734\u001b[0m         \u001b[1;32mif\u001b[0m \u001b[0mresult\u001b[0m\u001b[1;33m.\u001b[0m\u001b[0mserver_status\u001b[0m \u001b[1;32mis\u001b[0m \u001b[1;32mnot\u001b[0m \u001b[1;32mNone\u001b[0m\u001b[1;33m:\u001b[0m\u001b[1;33m\u001b[0m\u001b[0m\n",
      "\u001b[1;32mC:\\ProgramData\\Anaconda3\\lib\\site-packages\\pymysql\\connections.py\u001b[0m in \u001b[0;36mread\u001b[1;34m(self)\u001b[0m\n\u001b[0;32m   1073\u001b[0m     \u001b[1;32mdef\u001b[0m \u001b[0mread\u001b[0m\u001b[1;33m(\u001b[0m\u001b[0mself\u001b[0m\u001b[1;33m)\u001b[0m\u001b[1;33m:\u001b[0m\u001b[1;33m\u001b[0m\u001b[0m\n\u001b[0;32m   1074\u001b[0m         \u001b[1;32mtry\u001b[0m\u001b[1;33m:\u001b[0m\u001b[1;33m\u001b[0m\u001b[0m\n\u001b[1;32m-> 1075\u001b[1;33m             \u001b[0mfirst_packet\u001b[0m \u001b[1;33m=\u001b[0m \u001b[0mself\u001b[0m\u001b[1;33m.\u001b[0m\u001b[0mconnection\u001b[0m\u001b[1;33m.\u001b[0m\u001b[0m_read_packet\u001b[0m\u001b[1;33m(\u001b[0m\u001b[1;33m)\u001b[0m\u001b[1;33m\u001b[0m\u001b[0m\n\u001b[0m\u001b[0;32m   1076\u001b[0m \u001b[1;33m\u001b[0m\u001b[0m\n\u001b[0;32m   1077\u001b[0m             \u001b[1;32mif\u001b[0m \u001b[0mfirst_packet\u001b[0m\u001b[1;33m.\u001b[0m\u001b[0mis_ok_packet\u001b[0m\u001b[1;33m(\u001b[0m\u001b[1;33m)\u001b[0m\u001b[1;33m:\u001b[0m\u001b[1;33m\u001b[0m\u001b[0m\n",
      "\u001b[1;32mC:\\ProgramData\\Anaconda3\\lib\\site-packages\\pymysql\\connections.py\u001b[0m in \u001b[0;36m_read_packet\u001b[1;34m(self, packet_type)\u001b[0m\n\u001b[0;32m    682\u001b[0m \u001b[1;33m\u001b[0m\u001b[0m\n\u001b[0;32m    683\u001b[0m         \u001b[0mpacket\u001b[0m \u001b[1;33m=\u001b[0m \u001b[0mpacket_type\u001b[0m\u001b[1;33m(\u001b[0m\u001b[0mbuff\u001b[0m\u001b[1;33m,\u001b[0m \u001b[0mself\u001b[0m\u001b[1;33m.\u001b[0m\u001b[0mencoding\u001b[0m\u001b[1;33m)\u001b[0m\u001b[1;33m\u001b[0m\u001b[0m\n\u001b[1;32m--> 684\u001b[1;33m         \u001b[0mpacket\u001b[0m\u001b[1;33m.\u001b[0m\u001b[0mcheck_error\u001b[0m\u001b[1;33m(\u001b[0m\u001b[1;33m)\u001b[0m\u001b[1;33m\u001b[0m\u001b[0m\n\u001b[0m\u001b[0;32m    685\u001b[0m         \u001b[1;32mreturn\u001b[0m \u001b[0mpacket\u001b[0m\u001b[1;33m\u001b[0m\u001b[0m\n\u001b[0;32m    686\u001b[0m \u001b[1;33m\u001b[0m\u001b[0m\n",
      "\u001b[1;32mC:\\ProgramData\\Anaconda3\\lib\\site-packages\\pymysql\\protocol.py\u001b[0m in \u001b[0;36mcheck_error\u001b[1;34m(self)\u001b[0m\n\u001b[0;32m    218\u001b[0m             \u001b[0merrno\u001b[0m \u001b[1;33m=\u001b[0m \u001b[0mself\u001b[0m\u001b[1;33m.\u001b[0m\u001b[0mread_uint16\u001b[0m\u001b[1;33m(\u001b[0m\u001b[1;33m)\u001b[0m\u001b[1;33m\u001b[0m\u001b[0m\n\u001b[0;32m    219\u001b[0m             \u001b[1;32mif\u001b[0m \u001b[0mDEBUG\u001b[0m\u001b[1;33m:\u001b[0m \u001b[0mprint\u001b[0m\u001b[1;33m(\u001b[0m\u001b[1;34m\"errno =\"\u001b[0m\u001b[1;33m,\u001b[0m \u001b[0merrno\u001b[0m\u001b[1;33m)\u001b[0m\u001b[1;33m\u001b[0m\u001b[0m\n\u001b[1;32m--> 220\u001b[1;33m             \u001b[0merr\u001b[0m\u001b[1;33m.\u001b[0m\u001b[0mraise_mysql_exception\u001b[0m\u001b[1;33m(\u001b[0m\u001b[0mself\u001b[0m\u001b[1;33m.\u001b[0m\u001b[0m_data\u001b[0m\u001b[1;33m)\u001b[0m\u001b[1;33m\u001b[0m\u001b[0m\n\u001b[0m\u001b[0;32m    221\u001b[0m \u001b[1;33m\u001b[0m\u001b[0m\n\u001b[0;32m    222\u001b[0m     \u001b[1;32mdef\u001b[0m \u001b[0mdump\u001b[0m\u001b[1;33m(\u001b[0m\u001b[0mself\u001b[0m\u001b[1;33m)\u001b[0m\u001b[1;33m:\u001b[0m\u001b[1;33m\u001b[0m\u001b[0m\n",
      "\u001b[1;32mC:\\ProgramData\\Anaconda3\\lib\\site-packages\\pymysql\\err.py\u001b[0m in \u001b[0;36mraise_mysql_exception\u001b[1;34m(data)\u001b[0m\n\u001b[0;32m    107\u001b[0m         \u001b[0merrval\u001b[0m \u001b[1;33m=\u001b[0m \u001b[0mdata\u001b[0m\u001b[1;33m[\u001b[0m\u001b[1;36m3\u001b[0m\u001b[1;33m:\u001b[0m\u001b[1;33m]\u001b[0m\u001b[1;33m.\u001b[0m\u001b[0mdecode\u001b[0m\u001b[1;33m(\u001b[0m\u001b[1;34m'utf-8'\u001b[0m\u001b[1;33m,\u001b[0m \u001b[1;34m'replace'\u001b[0m\u001b[1;33m)\u001b[0m\u001b[1;33m\u001b[0m\u001b[0m\n\u001b[0;32m    108\u001b[0m     \u001b[0merrorclass\u001b[0m \u001b[1;33m=\u001b[0m \u001b[0merror_map\u001b[0m\u001b[1;33m.\u001b[0m\u001b[0mget\u001b[0m\u001b[1;33m(\u001b[0m\u001b[0merrno\u001b[0m\u001b[1;33m,\u001b[0m \u001b[0mInternalError\u001b[0m\u001b[1;33m)\u001b[0m\u001b[1;33m\u001b[0m\u001b[0m\n\u001b[1;32m--> 109\u001b[1;33m     \u001b[1;32mraise\u001b[0m \u001b[0merrorclass\u001b[0m\u001b[1;33m(\u001b[0m\u001b[0merrno\u001b[0m\u001b[1;33m,\u001b[0m \u001b[0merrval\u001b[0m\u001b[1;33m)\u001b[0m\u001b[1;33m\u001b[0m\u001b[0m\n\u001b[0m",
      "\u001b[1;31mProgrammingError\u001b[0m: (1146, \"Table 'nordicDB.sort_decode' doesn't exist\")"
     ]
    }
   ],
   "source": [
    "cursor.execute(\"SELECT * FROM sort_decode\")\n",
    "cursor.fetchall()"
   ]
  },
  {
   "cell_type": "markdown",
   "metadata": {},
   "source": [
    "### `CREATE DATABASE` - создает БД"
   ]
  },
  {
   "cell_type": "code",
   "execution_count": 97,
   "metadata": {
    "scrolled": true
   },
   "outputs": [
    {
     "ename": "OperationalError",
     "evalue": "(1044, \"Access denied for user 'nordic'@'%' to database 'new_mysql'\")",
     "output_type": "error",
     "traceback": [
      "\u001b[1;31m---------------------------------------------------------------------------\u001b[0m",
      "\u001b[1;31mOperationalError\u001b[0m                          Traceback (most recent call last)",
      "\u001b[1;32m<ipython-input-97-8305ad332d76>\u001b[0m in \u001b[0;36m<module>\u001b[1;34m()\u001b[0m\n\u001b[0;32m      3\u001b[0m         \"\"\"\n\u001b[0;32m      4\u001b[0m \u001b[1;33m\u001b[0m\u001b[0m\n\u001b[1;32m----> 5\u001b[1;33m \u001b[0mcursor\u001b[0m\u001b[1;33m.\u001b[0m\u001b[0mexecute\u001b[0m\u001b[1;33m(\u001b[0m\u001b[0mquery\u001b[0m\u001b[1;33m)\u001b[0m\u001b[1;33m\u001b[0m\u001b[0m\n\u001b[0m\u001b[0;32m      6\u001b[0m \u001b[0mcursor\u001b[0m\u001b[1;33m.\u001b[0m\u001b[0mfetchall\u001b[0m\u001b[1;33m(\u001b[0m\u001b[1;33m)\u001b[0m\u001b[1;33m\u001b[0m\u001b[0m\n",
      "\u001b[1;32mC:\\ProgramData\\Anaconda3\\lib\\site-packages\\pymysql\\cursors.py\u001b[0m in \u001b[0;36mexecute\u001b[1;34m(self, query, args)\u001b[0m\n\u001b[0;32m    168\u001b[0m         \u001b[0mquery\u001b[0m \u001b[1;33m=\u001b[0m \u001b[0mself\u001b[0m\u001b[1;33m.\u001b[0m\u001b[0mmogrify\u001b[0m\u001b[1;33m(\u001b[0m\u001b[0mquery\u001b[0m\u001b[1;33m,\u001b[0m \u001b[0margs\u001b[0m\u001b[1;33m)\u001b[0m\u001b[1;33m\u001b[0m\u001b[0m\n\u001b[0;32m    169\u001b[0m \u001b[1;33m\u001b[0m\u001b[0m\n\u001b[1;32m--> 170\u001b[1;33m         \u001b[0mresult\u001b[0m \u001b[1;33m=\u001b[0m \u001b[0mself\u001b[0m\u001b[1;33m.\u001b[0m\u001b[0m_query\u001b[0m\u001b[1;33m(\u001b[0m\u001b[0mquery\u001b[0m\u001b[1;33m)\u001b[0m\u001b[1;33m\u001b[0m\u001b[0m\n\u001b[0m\u001b[0;32m    171\u001b[0m         \u001b[0mself\u001b[0m\u001b[1;33m.\u001b[0m\u001b[0m_executed\u001b[0m \u001b[1;33m=\u001b[0m \u001b[0mquery\u001b[0m\u001b[1;33m\u001b[0m\u001b[0m\n\u001b[0;32m    172\u001b[0m         \u001b[1;32mreturn\u001b[0m \u001b[0mresult\u001b[0m\u001b[1;33m\u001b[0m\u001b[0m\n",
      "\u001b[1;32mC:\\ProgramData\\Anaconda3\\lib\\site-packages\\pymysql\\cursors.py\u001b[0m in \u001b[0;36m_query\u001b[1;34m(self, q)\u001b[0m\n\u001b[0;32m    326\u001b[0m         \u001b[0mself\u001b[0m\u001b[1;33m.\u001b[0m\u001b[0m_last_executed\u001b[0m \u001b[1;33m=\u001b[0m \u001b[0mq\u001b[0m\u001b[1;33m\u001b[0m\u001b[0m\n\u001b[0;32m    327\u001b[0m         \u001b[0mself\u001b[0m\u001b[1;33m.\u001b[0m\u001b[0m_clear_result\u001b[0m\u001b[1;33m(\u001b[0m\u001b[1;33m)\u001b[0m\u001b[1;33m\u001b[0m\u001b[0m\n\u001b[1;32m--> 328\u001b[1;33m         \u001b[0mconn\u001b[0m\u001b[1;33m.\u001b[0m\u001b[0mquery\u001b[0m\u001b[1;33m(\u001b[0m\u001b[0mq\u001b[0m\u001b[1;33m)\u001b[0m\u001b[1;33m\u001b[0m\u001b[0m\n\u001b[0m\u001b[0;32m    329\u001b[0m         \u001b[0mself\u001b[0m\u001b[1;33m.\u001b[0m\u001b[0m_do_get_result\u001b[0m\u001b[1;33m(\u001b[0m\u001b[1;33m)\u001b[0m\u001b[1;33m\u001b[0m\u001b[0m\n\u001b[0;32m    330\u001b[0m         \u001b[1;32mreturn\u001b[0m \u001b[0mself\u001b[0m\u001b[1;33m.\u001b[0m\u001b[0mrowcount\u001b[0m\u001b[1;33m\u001b[0m\u001b[0m\n",
      "\u001b[1;32mC:\\ProgramData\\Anaconda3\\lib\\site-packages\\pymysql\\connections.py\u001b[0m in \u001b[0;36mquery\u001b[1;34m(self, sql, unbuffered)\u001b[0m\n\u001b[0;32m    515\u001b[0m                 \u001b[0msql\u001b[0m \u001b[1;33m=\u001b[0m \u001b[0msql\u001b[0m\u001b[1;33m.\u001b[0m\u001b[0mencode\u001b[0m\u001b[1;33m(\u001b[0m\u001b[0mself\u001b[0m\u001b[1;33m.\u001b[0m\u001b[0mencoding\u001b[0m\u001b[1;33m,\u001b[0m \u001b[1;34m'surrogateescape'\u001b[0m\u001b[1;33m)\u001b[0m\u001b[1;33m\u001b[0m\u001b[0m\n\u001b[0;32m    516\u001b[0m         \u001b[0mself\u001b[0m\u001b[1;33m.\u001b[0m\u001b[0m_execute_command\u001b[0m\u001b[1;33m(\u001b[0m\u001b[0mCOMMAND\u001b[0m\u001b[1;33m.\u001b[0m\u001b[0mCOM_QUERY\u001b[0m\u001b[1;33m,\u001b[0m \u001b[0msql\u001b[0m\u001b[1;33m)\u001b[0m\u001b[1;33m\u001b[0m\u001b[0m\n\u001b[1;32m--> 517\u001b[1;33m         \u001b[0mself\u001b[0m\u001b[1;33m.\u001b[0m\u001b[0m_affected_rows\u001b[0m \u001b[1;33m=\u001b[0m \u001b[0mself\u001b[0m\u001b[1;33m.\u001b[0m\u001b[0m_read_query_result\u001b[0m\u001b[1;33m(\u001b[0m\u001b[0munbuffered\u001b[0m\u001b[1;33m=\u001b[0m\u001b[0munbuffered\u001b[0m\u001b[1;33m)\u001b[0m\u001b[1;33m\u001b[0m\u001b[0m\n\u001b[0m\u001b[0;32m    518\u001b[0m         \u001b[1;32mreturn\u001b[0m \u001b[0mself\u001b[0m\u001b[1;33m.\u001b[0m\u001b[0m_affected_rows\u001b[0m\u001b[1;33m\u001b[0m\u001b[0m\n\u001b[0;32m    519\u001b[0m \u001b[1;33m\u001b[0m\u001b[0m\n",
      "\u001b[1;32mC:\\ProgramData\\Anaconda3\\lib\\site-packages\\pymysql\\connections.py\u001b[0m in \u001b[0;36m_read_query_result\u001b[1;34m(self, unbuffered)\u001b[0m\n\u001b[0;32m    730\u001b[0m         \u001b[1;32melse\u001b[0m\u001b[1;33m:\u001b[0m\u001b[1;33m\u001b[0m\u001b[0m\n\u001b[0;32m    731\u001b[0m             \u001b[0mresult\u001b[0m \u001b[1;33m=\u001b[0m \u001b[0mMySQLResult\u001b[0m\u001b[1;33m(\u001b[0m\u001b[0mself\u001b[0m\u001b[1;33m)\u001b[0m\u001b[1;33m\u001b[0m\u001b[0m\n\u001b[1;32m--> 732\u001b[1;33m             \u001b[0mresult\u001b[0m\u001b[1;33m.\u001b[0m\u001b[0mread\u001b[0m\u001b[1;33m(\u001b[0m\u001b[1;33m)\u001b[0m\u001b[1;33m\u001b[0m\u001b[0m\n\u001b[0m\u001b[0;32m    733\u001b[0m         \u001b[0mself\u001b[0m\u001b[1;33m.\u001b[0m\u001b[0m_result\u001b[0m \u001b[1;33m=\u001b[0m \u001b[0mresult\u001b[0m\u001b[1;33m\u001b[0m\u001b[0m\n\u001b[0;32m    734\u001b[0m         \u001b[1;32mif\u001b[0m \u001b[0mresult\u001b[0m\u001b[1;33m.\u001b[0m\u001b[0mserver_status\u001b[0m \u001b[1;32mis\u001b[0m \u001b[1;32mnot\u001b[0m \u001b[1;32mNone\u001b[0m\u001b[1;33m:\u001b[0m\u001b[1;33m\u001b[0m\u001b[0m\n",
      "\u001b[1;32mC:\\ProgramData\\Anaconda3\\lib\\site-packages\\pymysql\\connections.py\u001b[0m in \u001b[0;36mread\u001b[1;34m(self)\u001b[0m\n\u001b[0;32m   1073\u001b[0m     \u001b[1;32mdef\u001b[0m \u001b[0mread\u001b[0m\u001b[1;33m(\u001b[0m\u001b[0mself\u001b[0m\u001b[1;33m)\u001b[0m\u001b[1;33m:\u001b[0m\u001b[1;33m\u001b[0m\u001b[0m\n\u001b[0;32m   1074\u001b[0m         \u001b[1;32mtry\u001b[0m\u001b[1;33m:\u001b[0m\u001b[1;33m\u001b[0m\u001b[0m\n\u001b[1;32m-> 1075\u001b[1;33m             \u001b[0mfirst_packet\u001b[0m \u001b[1;33m=\u001b[0m \u001b[0mself\u001b[0m\u001b[1;33m.\u001b[0m\u001b[0mconnection\u001b[0m\u001b[1;33m.\u001b[0m\u001b[0m_read_packet\u001b[0m\u001b[1;33m(\u001b[0m\u001b[1;33m)\u001b[0m\u001b[1;33m\u001b[0m\u001b[0m\n\u001b[0m\u001b[0;32m   1076\u001b[0m \u001b[1;33m\u001b[0m\u001b[0m\n\u001b[0;32m   1077\u001b[0m             \u001b[1;32mif\u001b[0m \u001b[0mfirst_packet\u001b[0m\u001b[1;33m.\u001b[0m\u001b[0mis_ok_packet\u001b[0m\u001b[1;33m(\u001b[0m\u001b[1;33m)\u001b[0m\u001b[1;33m:\u001b[0m\u001b[1;33m\u001b[0m\u001b[0m\n",
      "\u001b[1;32mC:\\ProgramData\\Anaconda3\\lib\\site-packages\\pymysql\\connections.py\u001b[0m in \u001b[0;36m_read_packet\u001b[1;34m(self, packet_type)\u001b[0m\n\u001b[0;32m    682\u001b[0m \u001b[1;33m\u001b[0m\u001b[0m\n\u001b[0;32m    683\u001b[0m         \u001b[0mpacket\u001b[0m \u001b[1;33m=\u001b[0m \u001b[0mpacket_type\u001b[0m\u001b[1;33m(\u001b[0m\u001b[0mbuff\u001b[0m\u001b[1;33m,\u001b[0m \u001b[0mself\u001b[0m\u001b[1;33m.\u001b[0m\u001b[0mencoding\u001b[0m\u001b[1;33m)\u001b[0m\u001b[1;33m\u001b[0m\u001b[0m\n\u001b[1;32m--> 684\u001b[1;33m         \u001b[0mpacket\u001b[0m\u001b[1;33m.\u001b[0m\u001b[0mcheck_error\u001b[0m\u001b[1;33m(\u001b[0m\u001b[1;33m)\u001b[0m\u001b[1;33m\u001b[0m\u001b[0m\n\u001b[0m\u001b[0;32m    685\u001b[0m         \u001b[1;32mreturn\u001b[0m \u001b[0mpacket\u001b[0m\u001b[1;33m\u001b[0m\u001b[0m\n\u001b[0;32m    686\u001b[0m \u001b[1;33m\u001b[0m\u001b[0m\n",
      "\u001b[1;32mC:\\ProgramData\\Anaconda3\\lib\\site-packages\\pymysql\\protocol.py\u001b[0m in \u001b[0;36mcheck_error\u001b[1;34m(self)\u001b[0m\n\u001b[0;32m    218\u001b[0m             \u001b[0merrno\u001b[0m \u001b[1;33m=\u001b[0m \u001b[0mself\u001b[0m\u001b[1;33m.\u001b[0m\u001b[0mread_uint16\u001b[0m\u001b[1;33m(\u001b[0m\u001b[1;33m)\u001b[0m\u001b[1;33m\u001b[0m\u001b[0m\n\u001b[0;32m    219\u001b[0m             \u001b[1;32mif\u001b[0m \u001b[0mDEBUG\u001b[0m\u001b[1;33m:\u001b[0m \u001b[0mprint\u001b[0m\u001b[1;33m(\u001b[0m\u001b[1;34m\"errno =\"\u001b[0m\u001b[1;33m,\u001b[0m \u001b[0merrno\u001b[0m\u001b[1;33m)\u001b[0m\u001b[1;33m\u001b[0m\u001b[0m\n\u001b[1;32m--> 220\u001b[1;33m             \u001b[0merr\u001b[0m\u001b[1;33m.\u001b[0m\u001b[0mraise_mysql_exception\u001b[0m\u001b[1;33m(\u001b[0m\u001b[0mself\u001b[0m\u001b[1;33m.\u001b[0m\u001b[0m_data\u001b[0m\u001b[1;33m)\u001b[0m\u001b[1;33m\u001b[0m\u001b[0m\n\u001b[0m\u001b[0;32m    221\u001b[0m \u001b[1;33m\u001b[0m\u001b[0m\n\u001b[0;32m    222\u001b[0m     \u001b[1;32mdef\u001b[0m \u001b[0mdump\u001b[0m\u001b[1;33m(\u001b[0m\u001b[0mself\u001b[0m\u001b[1;33m)\u001b[0m\u001b[1;33m:\u001b[0m\u001b[1;33m\u001b[0m\u001b[0m\n",
      "\u001b[1;32mC:\\ProgramData\\Anaconda3\\lib\\site-packages\\pymysql\\err.py\u001b[0m in \u001b[0;36mraise_mysql_exception\u001b[1;34m(data)\u001b[0m\n\u001b[0;32m    107\u001b[0m         \u001b[0merrval\u001b[0m \u001b[1;33m=\u001b[0m \u001b[0mdata\u001b[0m\u001b[1;33m[\u001b[0m\u001b[1;36m3\u001b[0m\u001b[1;33m:\u001b[0m\u001b[1;33m]\u001b[0m\u001b[1;33m.\u001b[0m\u001b[0mdecode\u001b[0m\u001b[1;33m(\u001b[0m\u001b[1;34m'utf-8'\u001b[0m\u001b[1;33m,\u001b[0m \u001b[1;34m'replace'\u001b[0m\u001b[1;33m)\u001b[0m\u001b[1;33m\u001b[0m\u001b[0m\n\u001b[0;32m    108\u001b[0m     \u001b[0merrorclass\u001b[0m \u001b[1;33m=\u001b[0m \u001b[0merror_map\u001b[0m\u001b[1;33m.\u001b[0m\u001b[0mget\u001b[0m\u001b[1;33m(\u001b[0m\u001b[0merrno\u001b[0m\u001b[1;33m,\u001b[0m \u001b[0mInternalError\u001b[0m\u001b[1;33m)\u001b[0m\u001b[1;33m\u001b[0m\u001b[0m\n\u001b[1;32m--> 109\u001b[1;33m     \u001b[1;32mraise\u001b[0m \u001b[0merrorclass\u001b[0m\u001b[1;33m(\u001b[0m\u001b[0merrno\u001b[0m\u001b[1;33m,\u001b[0m \u001b[0merrval\u001b[0m\u001b[1;33m)\u001b[0m\u001b[1;33m\u001b[0m\u001b[0m\n\u001b[0m",
      "\u001b[1;31mOperationalError\u001b[0m: (1044, \"Access denied for user 'nordic'@'%' to database 'new_mysql'\")"
     ]
    }
   ],
   "source": [
    "query = \"\"\"\n",
    "            CREATE DATABASE new_mysql\n",
    "        \"\"\"\n",
    "\n",
    "cursor.execute(query)\n",
    "cursor.fetchall()"
   ]
  },
  {
   "cell_type": "markdown",
   "metadata": {},
   "source": [
    "### `DROP DATABASE` - удаляет БД"
   ]
  },
  {
   "cell_type": "code",
   "execution_count": null,
   "metadata": {
    "collapsed": true
   },
   "outputs": [],
   "source": [
    "query = \"\"\"\n",
    "            DROP DATABASE new_mysql\n",
    "        \"\"\"\n",
    "\n",
    "cursor.execute(query)\n",
    "cursor.fetchall()"
   ]
  },
  {
   "cell_type": "code",
   "execution_count": 98,
   "metadata": {
    "collapsed": true
   },
   "outputs": [],
   "source": [
    "cursor.close()\n",
    "db_conn.close()"
   ]
  }
 ],
 "metadata": {
  "kernelspec": {
   "display_name": "Python 3",
   "language": "python",
   "name": "python3"
  },
  "language_info": {
   "codemirror_mode": {
    "name": "ipython",
    "version": 3
   },
   "file_extension": ".py",
   "mimetype": "text/x-python",
   "name": "python",
   "nbconvert_exporter": "python",
   "pygments_lexer": "ipython3",
   "version": "3.6.5"
  }
 },
 "nbformat": 4,
 "nbformat_minor": 2
}
