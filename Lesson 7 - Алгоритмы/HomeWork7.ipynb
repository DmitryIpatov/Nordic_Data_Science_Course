{
 "cells": [
  {
   "cell_type": "markdown",
   "metadata": {},
   "source": [
    "## Задача 1\n",
    "\n",
    "Вам дан список. Предполагается, что в этом списке значения отсортированы в порядке возрастания и образуют геометрическую прогрессию.\n",
    "\n",
    "**Геометри́ческая прогре́ссия** — последовательность чисел (членов прогрессии), в которой каждое последующее число, начиная со второго, получается из предыдущего умножением его на определённое число. \n",
    "\n",
    "Ваша задача:\n",
    "1. Проверить, действительно ли последовательность в списке удовлетворяет условиям геометрической прогрессии (если нет - сразу вывести \"NO\")\n",
    "2. Если это геометрическая прогрессия (см. пункт 1), то считаем и выводим её сумму (вывести: \"SUM = X\"). Сумму необходимо сосчитать БЕЗ циклов (for, while) и БЕЗ использования встроенной функции sum()!\n",
    "\n",
    "Сумма геометрической прогрессии считается по формуле:\n",
    "$$\\frac{b_1 * (1 - q^n)}{(1 - q)}$$\n",
    "\n",
    "где $b_1$ - первый член прогрессии, $q$ - множитель прогрессии, $n$ - количество элементов в последовательности.\n",
    "\n",
    "Примеры:  \n",
    "`[1, 2, 4, 8, 16] => SUM = 31`  \n",
    "`[1, 1, 2, 3, 5, 8, 13] => NO`  \n",
    "`[2, 6, 18, 54] => SUM = 80`"
   ]
  },
  {
   "cell_type": "code",
   "execution_count": 63,
   "metadata": {},
   "outputs": [],
   "source": [
    "# множитель прогрессии\n",
    "def get_multiplier(lst):\n",
    "    return lst[1]/lst[0]\n",
    "\n",
    "# Сумма геометрической прогрессии\n",
    "def get_progression_sum(lst):\n",
    "    q = get_multiplier(lst)\n",
    "    if q == 1:\n",
    "        result = 'NO'\n",
    "    else:\n",
    "        result = (lst[0] * (1 - q**len(lst)))/(1 - q)\n",
    "    return result\n",
    "    \n",
    "\n",
    "def is_progression(lst):\n",
    "    progression_sum = 0\n",
    "    if 0 in lst:\n",
    "        #print ('found zero')\n",
    "        result = 'NO'\n",
    "    else:\n",
    "        multiplier = get_multiplier(lst)\n",
    "        for i in range(len(lst) - 1): #борьба с index out of range\n",
    "                if multiplier != lst[i+1]/lst[i]:\n",
    "                    result = 'NO'\n",
    "                    break\n",
    "                else:\n",
    "                    result = 'SUM = ' + str(get_progression_sum(lst))\n",
    "    return result           \n",
    "                "
   ]
  },
  {
   "cell_type": "code",
   "execution_count": 64,
   "metadata": {},
   "outputs": [
    {
     "data": {
      "text/plain": [
       "'SUM = 31.0'"
      ]
     },
     "execution_count": 64,
     "metadata": {},
     "output_type": "execute_result"
    }
   ],
   "source": [
    "is_progression([1, 2, 4, 8, 16])"
   ]
  },
  {
   "cell_type": "code",
   "execution_count": 65,
   "metadata": {},
   "outputs": [
    {
     "data": {
      "text/plain": [
       "'NO'"
      ]
     },
     "execution_count": 65,
     "metadata": {},
     "output_type": "execute_result"
    }
   ],
   "source": [
    "is_progression([1, 1, 2, 3, 5, 8, 13])"
   ]
  },
  {
   "cell_type": "code",
   "execution_count": 66,
   "metadata": {},
   "outputs": [
    {
     "data": {
      "text/plain": [
       "'SUM = 80.0'"
      ]
     },
     "execution_count": 66,
     "metadata": {},
     "output_type": "execute_result"
    }
   ],
   "source": [
    "is_progression([2, 6, 18, 54])"
   ]
  },
  {
   "cell_type": "code",
   "execution_count": null,
   "metadata": {},
   "outputs": [],
   "source": []
  },
  {
   "cell_type": "markdown",
   "metadata": {},
   "source": [
    "## Задача 2\n",
    "\n",
    "Найти наибольший общий делитель двух чисел A и B, не используя библиотечных функций.\n",
    "\n",
    "Наибольшим общим делителем называется наибольшее число, на которое делятся одновременно и А и В без остатка.\n",
    "\n",
    "Примеры:  \n",
    "`4 9 => НОД: 1`  \n",
    "`4 8 => НОД: 2`  \n",
    "`81 54 => НОД: 27`  \n",
    "`150 625 => НОД: 25`"
   ]
  },
  {
   "cell_type": "code",
   "execution_count": 100,
   "metadata": {},
   "outputs": [],
   "source": [
    "#a, b = 81, 54\n",
    "\n",
    "\n",
    "#\n",
    "def get_nod(a, b):\n",
    "    \n",
    "    nod = 0\n",
    "    # все числа, на которые можно поделить a\n",
    "    arr_a = []\n",
    "    for i in range(1, a+1):\n",
    "        if a%i == 0:\n",
    "            arr_a.append(i)\n",
    "    print (arr_a)\n",
    "    \n",
    "    # все числа, на которые можно поделить b\n",
    "    arr_b = []\n",
    "    for i in range(1, b+1):\n",
    "        if b%i == 0:\n",
    "            arr_b.append(i)\n",
    "    print (arr_b)\n",
    "    \n",
    "    if len(arr_b) >= len(arr_a):\n",
    "        arr_b.reverse()\n",
    "        for i in arr_b:\n",
    "            if i in arr_a:\n",
    "                nod = i\n",
    "                break\n",
    "    else:\n",
    "        arr_a.reverse()\n",
    "        for i in arr_a:\n",
    "            if i in arr_b:\n",
    "                nod = i\n",
    "                break\n",
    "                \n",
    "    return nod\n"
   ]
  },
  {
   "cell_type": "code",
   "execution_count": 101,
   "metadata": {},
   "outputs": [
    {
     "name": "stdout",
     "output_type": "stream",
     "text": [
      "[1, 2, 4]\n",
      "[1, 3, 9]\n"
     ]
    },
    {
     "data": {
      "text/plain": [
       "1"
      ]
     },
     "execution_count": 101,
     "metadata": {},
     "output_type": "execute_result"
    }
   ],
   "source": [
    "get_nod(4, 9)"
   ]
  },
  {
   "cell_type": "code",
   "execution_count": 102,
   "metadata": {},
   "outputs": [
    {
     "name": "stdout",
     "output_type": "stream",
     "text": [
      "[1, 2, 4]\n",
      "[1, 2, 4, 8]\n"
     ]
    },
    {
     "data": {
      "text/plain": [
       "4"
      ]
     },
     "execution_count": 102,
     "metadata": {},
     "output_type": "execute_result"
    }
   ],
   "source": [
    "get_nod(4, 8)"
   ]
  },
  {
   "cell_type": "code",
   "execution_count": 103,
   "metadata": {},
   "outputs": [
    {
     "name": "stdout",
     "output_type": "stream",
     "text": [
      "[1, 3, 9, 27, 81]\n",
      "[1, 2, 3, 6, 9, 18, 27, 54]\n"
     ]
    },
    {
     "data": {
      "text/plain": [
       "27"
      ]
     },
     "execution_count": 103,
     "metadata": {},
     "output_type": "execute_result"
    }
   ],
   "source": [
    "get_nod(81, 54)"
   ]
  },
  {
   "cell_type": "code",
   "execution_count": 104,
   "metadata": {},
   "outputs": [
    {
     "name": "stdout",
     "output_type": "stream",
     "text": [
      "[1, 2, 3, 5, 6, 10, 15, 25, 30, 50, 75, 150]\n",
      "[1, 5, 25, 125, 625]\n"
     ]
    },
    {
     "data": {
      "text/plain": [
       "25"
      ]
     },
     "execution_count": 104,
     "metadata": {},
     "output_type": "execute_result"
    }
   ],
   "source": [
    "get_nod(150, 625)"
   ]
  },
  {
   "cell_type": "markdown",
   "metadata": {},
   "source": [
    "## Задача 3*\n",
    "\n",
    "Последовательность называется убывающей, если каждое последующее число в ней не больше предыдущего. Вам дана последовательность, которая является ПОЧТИ убывающей, т.е. условию не соответствует одно или более чисел.\n",
    "\n",
    "Ваша задача, определить, можно ли путем всего лишь одной перестановки чисел превратить данную последовательность в убывающую, или нет. Если можно, просто вывести YES, если нельзя, то NO.\n",
    "\n",
    "Примеры:  \n",
    "`[10, 9, 8, 7, 5, 6, 4, 3, 2, 1] => YES` (Можно переставить 5 и 6 местами и получить убывающую последовательность)  \n",
    "`[2, 6, 6, 5, 8, 1] => YES` (Можно переставить 2 и 8 местами и получить убывающую последовательность)  \n",
    "`[1, 2, 3, 2, 1] => NO` (Тут требуется более 1 перестановки)"
   ]
  },
  {
   "cell_type": "code",
   "execution_count": null,
   "metadata": {},
   "outputs": [],
   "source": []
  }
 ],
 "metadata": {
  "kernelspec": {
   "display_name": "Python 3",
   "language": "python",
   "name": "python3"
  },
  "language_info": {
   "codemirror_mode": {
    "name": "ipython",
    "version": 3
   },
   "file_extension": ".py",
   "mimetype": "text/x-python",
   "name": "python",
   "nbconvert_exporter": "python",
   "pygments_lexer": "ipython3",
   "version": "3.6.5"
  }
 },
 "nbformat": 4,
 "nbformat_minor": 2
}
